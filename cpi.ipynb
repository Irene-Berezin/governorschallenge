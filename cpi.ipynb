{
 "cells": [
  {
   "cell_type": "code",
   "execution_count": 1,
   "id": "7450c07b",
   "metadata": {
    "vscode": {
     "languageId": "r"
    }
   },
   "outputs": [
    {
     "name": "stderr",
     "output_type": "stream",
     "text": [
      "── \u001b[1mAttaching core tidyverse packages\u001b[22m ──────────────────────── tidyverse 2.0.0 ──\n",
      "\u001b[32m✔\u001b[39m \u001b[34mdplyr    \u001b[39m 1.1.4     \u001b[32m✔\u001b[39m \u001b[34mreadr    \u001b[39m 2.1.5\n",
      "\u001b[32m✔\u001b[39m \u001b[34mforcats  \u001b[39m 1.0.0     \u001b[32m✔\u001b[39m \u001b[34mstringr  \u001b[39m 1.5.1\n",
      "\u001b[32m✔\u001b[39m \u001b[34mggplot2  \u001b[39m 3.5.2     \u001b[32m✔\u001b[39m \u001b[34mtibble   \u001b[39m 3.3.0\n",
      "\u001b[32m✔\u001b[39m \u001b[34mlubridate\u001b[39m 1.9.4     \u001b[32m✔\u001b[39m \u001b[34mtidyr    \u001b[39m 1.3.1\n",
      "\u001b[32m✔\u001b[39m \u001b[34mpurrr    \u001b[39m 1.1.0     \n",
      "── \u001b[1mConflicts\u001b[22m ────────────────────────────────────────── tidyverse_conflicts() ──\n",
      "\u001b[31m✖\u001b[39m \u001b[34mdplyr\u001b[39m::\u001b[32mfilter()\u001b[39m masks \u001b[34mstats\u001b[39m::filter()\n",
      "\u001b[31m✖\u001b[39m \u001b[34mdplyr\u001b[39m::\u001b[32mlag()\u001b[39m    masks \u001b[34mstats\u001b[39m::lag()\n",
      "\u001b[36mℹ\u001b[39m Use the conflicted package (\u001b[3m\u001b[34m<http://conflicted.r-lib.org/>\u001b[39m\u001b[23m) to force all conflicts to become errors\n",
      "\n",
      "Attaching package: 'vroom'\n",
      "\n",
      "\n",
      "The following objects are masked from 'package:readr':\n",
      "\n",
      "    as.col_spec, col_character, col_date, col_datetime, col_double,\n",
      "    col_factor, col_guess, col_integer, col_logical, col_number,\n",
      "    col_skip, col_time, cols, cols_condense, cols_only, date_names,\n",
      "    date_names_lang, date_names_langs, default_locale, fwf_cols,\n",
      "    fwf_empty, fwf_positions, fwf_widths, locale, output_column,\n",
      "    problems, spec\n",
      "\n",
      "\n",
      "Registered S3 method overwritten by 'quantmod':\n",
      "  method            from\n",
      "  as.zoo.data.frame zoo \n",
      "\n",
      "Loading required package: zoo\n",
      "\n",
      "\n",
      "Attaching package: 'zoo'\n",
      "\n",
      "\n",
      "The following objects are masked from 'package:base':\n",
      "\n",
      "    as.Date, as.Date.numeric\n",
      "\n",
      "\n",
      "Loading required package: sandwich\n",
      "\n",
      "\n",
      "Attaching package: 'strucchange'\n",
      "\n",
      "\n",
      "The following object is masked from 'package:stringr':\n",
      "\n",
      "    boundary\n",
      "\n",
      "\n"
     ]
    }
   ],
   "source": [
    "library(tidyverse)\n",
    "library(cansim)\n",
    "library(readr)\n",
    "library(vroom)\n",
    "library(lubridate)\n",
    "library(tseries)\n",
    "library(strucchange)\n"
   ]
  },
  {
   "cell_type": "code",
   "execution_count": 6,
   "id": "2d1f1f5b",
   "metadata": {
    "vscode": {
     "languageId": "r"
    }
   },
   "outputs": [
    {
     "name": "stderr",
     "output_type": "stream",
     "text": [
      "Reading CANSIM NDM vectors from temporary cache\n",
      "\n"
     ]
    }
   ],
   "source": [
    "cpi_vec <- get_cansim_vector_for_latest_periods(\"v41690914\", periods = 300)\n",
    "\n",
    "cpi_vec_adj <- cpi_vec|>\n",
    "select(\"Date\", \"VALUE\")|>\n",
    " mutate(\n",
    "    # Get the CPI value from 12 months ago\n",
    "    cpi_previous_year = lag(VALUE, 12),\n",
    "    # Calculate the percentage change\n",
    "    cpi_change = ((VALUE  / cpi_previous_year) - 1) * 100\n",
    "  )\n"
   ]
  },
  {
   "cell_type": "code",
   "execution_count": 11,
   "id": "1553ea6c",
   "metadata": {
    "vscode": {
     "languageId": "r"
    }
   },
   "outputs": [
    {
     "name": "stdout",
     "output_type": "stream",
     "text": [
      "\u001b[90m# A tibble: 99 × 4\u001b[39m\n",
      "   quarter VALUE cpi_previous_quarter delta_cpi\n",
      "     \u001b[3m\u001b[90m<dbl>\u001b[39m\u001b[23m \u001b[3m\u001b[90m<dbl>\u001b[39m\u001b[23m                \u001b[3m\u001b[90m<dbl>\u001b[39m\u001b[23m     \u001b[3m\u001b[90m<dbl>\u001b[39m\u001b[23m\n",
      "\u001b[90m 1\u001b[39m   \u001b[4m2\u001b[24m000.  96.7                 95.7    1.07  \n",
      "\u001b[90m 2\u001b[39m   \u001b[4m2\u001b[24m001.  96.9                 96.7    0.241 \n",
      "\u001b[90m 3\u001b[39m   \u001b[4m2\u001b[24m001.  98.2                 96.9    1.30  \n",
      "\u001b[90m 4\u001b[39m   \u001b[4m2\u001b[24m001.  98.2                 98.2    0.033\u001b[4m9\u001b[24m\n",
      "\u001b[90m 5\u001b[39m   \u001b[4m2\u001b[24m001.  97.7                 98.2   -\u001b[31m0\u001b[39m\u001b[31m.\u001b[39m\u001b[31m510\u001b[39m \n",
      "\u001b[90m 6\u001b[39m   \u001b[4m2\u001b[24m002.  98.4                 97.7    0.714 \n",
      "\u001b[90m 7\u001b[39m   \u001b[4m2\u001b[24m002.  99.5                 98.4    1.08  \n",
      "\u001b[90m 8\u001b[39m   \u001b[4m2\u001b[24m002. 101.                  99.5    1.10  \n",
      "\u001b[90m 9\u001b[39m   \u001b[4m2\u001b[24m002. 101.                 101.     0.858 \n",
      "\u001b[90m10\u001b[39m   \u001b[4m2\u001b[24m003. 103.                 101.     1.27  \n",
      "\u001b[90m# ℹ 89 more rows\u001b[39m\n"
     ]
    },
    {
     "data": {
      "image/png": "[encoded data removed]",
      "text/plain": [
       "plot without title"
      ]
     },
     "metadata": {
      "image/png": {
       "height": 420,
       "width": 420
      }
     },
     "output_type": "display_data"
    }
   ],
   "source": [
    "cpi_quarterly_stationary <- cpi_vec |>\n",
    "  select(Date, VALUE) |>\n",
    "  mutate(quarter = quarter(Date, with_year = TRUE)) |>\n",
    "  group_by(quarter) |>\n",
    "  summarise(VALUE = mean(VALUE, na.rm = TRUE)) |>\n",
    "  ungroup() |>\n",
    "  mutate(\n",
    "    cpi_previous_quarter = lag(VALUE, 1),\n",
    "    delta_cpi = (log(VALUE) - log(cpi_previous_quarter)) * 100\n",
    "  )|>\n",
    "drop_na()\n",
    "\n",
    "print(cpi_quarterly_stationary)\n",
    "\n",
    "ggplot(cpi_quarterly_stationary , aes(x = quarter, y = delta_cpi)) +\n",
    "  geom_line() +\n",
    "  labs(\n",
    "    title = \"cpi pct change\",\n",
    "    x = \"Date\",\n",
    "    y = \"percentage_change\",\n",
    "  ) +\n",
    "  theme_minimal()\n",
    "\n"
   ]
  },
  {
   "cell_type": "code",
   "execution_count": 9,
   "id": "3c5aab97",
   "metadata": {
    "vscode": {
     "languageId": "r"
    }
   },
   "outputs": [],
   "source": [
    "ts_data <- na.omit(cpi_quarterly_stationary$delta_cpi)"
   ]
  },
  {
   "cell_type": "code",
   "execution_count": 15,
   "id": "45b0cecd",
   "metadata": {
    "vscode": {
     "languageId": "r"
    }
   },
   "outputs": [
    {
     "data": {
      "text/plain": [
       "\n",
       "\t Optimal (m+1)-segment partition: \n",
       "\n",
       "Call:\n",
       "breakpoints.formula(formula = y ~ x)\n",
       "\n",
       "Breakpoints at observation number:\n",
       "                      \n",
       "m = 1               79\n",
       "m = 2      31       79\n",
       "m = 3      32 47    79\n",
       "m = 4   14 32 47    79\n",
       "m = 5   14 32 47 61 79\n",
       "\n",
       "Corresponding to breakdates:\n",
       "                                                                               \n",
       "m = 1                                                                          \n",
       "m = 2                     0.316326530612245                                    \n",
       "m = 3                     0.326530612244898 0.479591836734694                  \n",
       "m = 4   0.142857142857143 0.326530612244898 0.479591836734694                  \n",
       "m = 5   0.142857142857143 0.326530612244898 0.479591836734694 0.622448979591837\n",
       "                         \n",
       "m = 1   0.806122448979592\n",
       "m = 2   0.806122448979592\n",
       "m = 3   0.806122448979592\n",
       "m = 4   0.806122448979592\n",
       "m = 5   0.806122448979592\n",
       "\n",
       "Fit:\n",
       "                                             \n",
       "m   0      1      2      3      4      5     \n",
       "RSS  22.07  18.66  17.78  17.41  17.25  17.21\n",
       "BIC 145.75 143.09 152.10 163.80 176.66 190.20"
      ]
     },
     "metadata": {},
     "output_type": "display_data"
    },
    {
     "data": {
      "image/png": "[encoded data removed]",
      "text/plain": [
       "Plot with title \"BIC and Residual Sum of Squares\""
      ]
     },
     "metadata": {
      "image/png": {
       "height": 420,
       "width": 420
      }
     },
     "output_type": "display_data"
    }
   ],
   "source": [
    "y <- ts_data[-1]\n",
    "\n",
    "# 2. Create the independent variable 'x' (all values except the last)\n",
    "# This is now the one-period lag of y\n",
    "x <- ts_data[-length(ts_data)]\n",
    "\n",
    "# Now 'y' and 'x' are perfectly aligned, and we can test for a break\n",
    "# in the regression of y on x.\n",
    "bp_test <- breakpoints(y ~ x)\n",
    "\n",
    "# The rest is the same\n",
    "summary(bp_test)\n",
    "plot(bp_test)"
   ]
  },
  {
   "cell_type": "code",
   "execution_count": 16,
   "id": "7878c893",
   "metadata": {
    "vscode": {
     "languageId": "r"
    }
   },
   "outputs": [
    {
     "name": "stdout",
     "output_type": "stream",
     "text": [
      "\u001b[90m# A tibble: 1 × 4\u001b[39m\n",
      "  quarter VALUE cpi_previous_quarter delta_cpi\n",
      "    \u001b[3m\u001b[90m<dbl>\u001b[39m\u001b[23m \u001b[3m\u001b[90m<dbl>\u001b[39m\u001b[23m                \u001b[3m\u001b[90m<dbl>\u001b[39m\u001b[23m     \u001b[3m\u001b[90m<dbl>\u001b[39m\u001b[23m\n",
      "\u001b[90m1\u001b[39m   \u001b[4m2\u001b[24m020.  137.                 137.     0.170\n"
     ]
    }
   ],
   "source": [
    "break_observation <- cpi_quarterly_stationary[79, ]\n",
    "\n",
    "print(break_observation)"
   ]
  },
  {
   "cell_type": "code",
   "execution_count": 17,
   "id": "d7371bea",
   "metadata": {
    "vscode": {
     "languageId": "r"
    }
   },
   "outputs": [],
   "source": [
    "pre_break_data <- cpi_quarterly_stationary[1:79, ]\n",
    "post_break_data <- cpi_quarterly_stationary[80:nrow(cpi_quarterly_stationary), ]"
   ]
  },
  {
   "cell_type": "code",
   "execution_count": 18,
   "id": "b2f67479",
   "metadata": {
    "vscode": {
     "languageId": "r"
    }
   },
   "outputs": [
    {
     "name": "stderr",
     "output_type": "stream",
     "text": [
      "Warning message in adf.test(na.omit(pre_break_data$delta_cpi)):\n",
      "\"p-value smaller than printed p-value\"\n"
     ]
    },
    {
     "data": {
      "text/plain": [
       "\n",
       "\tAugmented Dickey-Fuller Test\n",
       "\n",
       "data:  na.omit(pre_break_data$delta_cpi)\n",
       "Dickey-Fuller = -4.4332, Lag order = 4, p-value = 0.01\n",
       "alternative hypothesis: stationary\n"
      ]
     },
     "metadata": {},
     "output_type": "display_data"
    },
    {
     "data": {
      "text/plain": [
       "\n",
       "\tAugmented Dickey-Fuller Test\n",
       "\n",
       "data:  na.omit(post_break_data$delta_cpi)\n",
       "Dickey-Fuller = -2.071, Lag order = 2, p-value = 0.5454\n",
       "alternative hypothesis: stationary\n"
      ]
     },
     "metadata": {},
     "output_type": "display_data"
    }
   ],
   "source": [
    "library(tseries)\n",
    "\n",
    "# Test the pre-break period\n",
    "adf.test(na.omit(pre_break_data$delta_cpi))\n",
    "\n",
    "# Test the post-break period\n",
    "adf.test(na.omit(post_break_data$delta_cpi))"
   ]
  },
  {
   "cell_type": "code",
   "execution_count": 13,
   "id": "84ba7707",
   "metadata": {
    "vscode": {
     "languageId": "r"
    }
   },
   "outputs": [
    {
     "name": "stderr",
     "output_type": "stream",
     "text": [
      "Loading required package: MASS\n",
      "\n",
      "\n",
      "Attaching package: 'MASS'\n",
      "\n",
      "\n",
      "The following object is masked from 'package:dplyr':\n",
      "\n",
      "    select\n",
      "\n",
      "\n",
      "Loading required package: urca\n",
      "\n",
      "Loading required package: lmtest\n",
      "\n"
     ]
    }
   ],
   "source": [
    "\n",
    "library(vars)"
   ]
  },
  {
   "cell_type": "code",
   "execution_count": 33,
   "id": "711d1a71",
   "metadata": {
    "vscode": {
     "languageId": "r"
    }
   },
   "outputs": [
    {
     "name": "stdout",
     "output_type": "stream",
     "text": [
      "\u001b[90m# A tibble: 99 × 4\u001b[39m\n",
      "   quarter VALUE cpi_previous_quarter delta_cpi\n",
      "     \u001b[3m\u001b[90m<dbl>\u001b[39m\u001b[23m \u001b[3m\u001b[90m<dbl>\u001b[39m\u001b[23m                \u001b[3m\u001b[90m<dbl>\u001b[39m\u001b[23m     \u001b[3m\u001b[90m<dbl>\u001b[39m\u001b[23m\n",
      "\u001b[90m 1\u001b[39m   \u001b[4m2\u001b[24m000.  96.7                 95.7    1.07  \n",
      "\u001b[90m 2\u001b[39m   \u001b[4m2\u001b[24m001.  96.9                 96.7    0.241 \n",
      "\u001b[90m 3\u001b[39m   \u001b[4m2\u001b[24m001.  98.2                 96.9    1.30  \n",
      "\u001b[90m 4\u001b[39m   \u001b[4m2\u001b[24m001.  98.2                 98.2    0.033\u001b[4m9\u001b[24m\n",
      "\u001b[90m 5\u001b[39m   \u001b[4m2\u001b[24m001.  97.7                 98.2   -\u001b[31m0\u001b[39m\u001b[31m.\u001b[39m\u001b[31m510\u001b[39m \n",
      "\u001b[90m 6\u001b[39m   \u001b[4m2\u001b[24m002.  98.4                 97.7    0.714 \n",
      "\u001b[90m 7\u001b[39m   \u001b[4m2\u001b[24m002.  99.5                 98.4    1.08  \n",
      "\u001b[90m 8\u001b[39m   \u001b[4m2\u001b[24m002. 101.                  99.5    1.10  \n",
      "\u001b[90m 9\u001b[39m   \u001b[4m2\u001b[24m002. 101.                 101.     0.858 \n",
      "\u001b[90m10\u001b[39m   \u001b[4m2\u001b[24m003. 103.                 101.     1.27  \n",
      "\u001b[90m# ℹ 89 more rows\u001b[39m\n"
     ]
    }
   ],
   "source": [
    "print(cpi_quarterly_stationary)"
   ]
  },
  {
   "cell_type": "code",
   "execution_count": 34,
   "id": "4ba60534",
   "metadata": {
    "vscode": {
     "languageId": "r"
    }
   },
   "outputs": [],
   "source": [
    "library(dplyr)"
   ]
  },
  {
   "cell_type": "code",
   "execution_count": 36,
   "id": "33951a78",
   "metadata": {
    "vscode": {
     "languageId": "r"
    }
   },
   "outputs": [],
   "source": [
    "cpi_quarterly_stationary_var <- cpi_quarterly_stationary |>\n",
    "  dplyr::select(delta_cpi)"
   ]
  },
  {
   "cell_type": "code",
   "execution_count": 39,
   "id": "ee081b73",
   "metadata": {
    "vscode": {
     "languageId": "r"
    }
   },
   "outputs": [
    {
     "name": "stdout",
     "output_type": "stream",
     "text": [
      "AIC(n)  HQ(n)  SC(n) FPE(n) \n",
      "     9      1      1      9 \n"
     ]
    }
   ],
   "source": [
    "lag_selection <- VARselect(cpi_quarterly_stationary_var, lag.max = 10, type = \"const\")\n",
    "\n",
    "# Print the results\n",
    "print(lag_selection$selection)"
   ]
  },
  {
   "cell_type": "code",
   "execution_count": 46,
   "id": "fbe65db5",
   "metadata": {
    "vscode": {
     "languageId": "r"
    }
   },
   "outputs": [
    {
     "data": {
      "text/plain": [
       "             Length Class  Mode     \n",
       "order         1     -none- numeric  \n",
       "ar            9     -none- numeric  \n",
       "var.pred      1     -none- numeric  \n",
       "x.mean        1     -none- numeric  \n",
       "aic          20     -none- numeric  \n",
       "n.used        1     -none- numeric  \n",
       "n.obs         1     -none- numeric  \n",
       "order.max     1     -none- numeric  \n",
       "partialacf   19     -none- numeric  \n",
       "resid        99     -none- numeric  \n",
       "method        1     -none- character\n",
       "series        1     -none- character\n",
       "frequency     1     -none- numeric  \n",
       "call          4     -none- call     \n",
       "asy.var.coef 81     -none- numeric  "
      ]
     },
     "metadata": {},
     "output_type": "display_data"
    }
   ],
   "source": [
    "ar_model <- ar(cpi_quarterly_stationary_var, p = 9, type = \"const\")\n",
    "\n",
    "# Print a summary of the model's results\n",
    "summary(ar_model)"
   ]
  },
  {
   "cell_type": "code",
   "execution_count": 43,
   "id": "6ce49416",
   "metadata": {
    "vscode": {
     "languageId": "r"
    }
   },
   "outputs": [
    {
     "name": "stdout",
     "output_type": "stream",
     "text": [
      "package 'FinTS' successfully unpacked and MD5 sums checked\n",
      "\n",
      "The downloaded binary packages are in\n",
      "\tC:\\Users\\Irene\\AppData\\Local\\Temp\\Rtmpo5jsJb\\downloaded_packages\n"
     ]
    }
   ],
   "source": [
    "install.packages(\"FinTS\")\n",
    "library(FinTS)"
   ]
  },
  {
   "cell_type": "code",
   "execution_count": 47,
   "id": "4ee39a4d",
   "metadata": {
    "vscode": {
     "languageId": "r"
    }
   },
   "outputs": [],
   "source": [
    "model_residuals <- residuals(ar_model)"
   ]
  },
  {
   "cell_type": "code",
   "execution_count": 51,
   "id": "03acffda",
   "metadata": {
    "vscode": {
     "languageId": "r"
    }
   },
   "outputs": [
    {
     "name": "stdout",
     "output_type": "stream",
     "text": [
      "[1] 90\n"
     ]
    }
   ],
   "source": [
    "\n",
    "model_residuals <- na.omit(ar_model$resid)\n",
    "\n",
    "# Check the length\n",
    "print(length(model_residuals))"
   ]
  },
  {
   "cell_type": "code",
   "execution_count": 54,
   "id": "c35749b4",
   "metadata": {
    "vscode": {
     "languageId": "r"
    }
   },
   "outputs": [
    {
     "name": "stdout",
     "output_type": "stream",
     "text": [
      "\n",
      "\tARCH LM-test; Null hypothesis: no ARCH effects\n",
      "\n",
      "data:  model_residuals\n",
      "Chi-squared = 7.7627, df = 12, p-value = 0.8034\n",
      "\n"
     ]
    }
   ],
   "source": [
    "library(FinTS)\n",
    "\n",
    "# Run the test with a smaller number of lags\n",
    "# For example, if you have 20 residuals, a lag of 4 is reasonable.\n",
    "arch_test_result <- ArchTest(model_residuals, lags = 12)\n",
    "\n",
    "# Print the results\n",
    "print(arch_test_result)"
   ]
  }
 ],
 "metadata": {
  "kernelspec": {
   "display_name": "R",
   "language": "R",
   "name": "ir"
  },
  "language_info": {
   "codemirror_mode": "r",
   "file_extension": ".r",
   "mimetype": "text/x-r-source",
   "name": "R",
   "pygments_lexer": "r",
   "version": "4.4.3"
  }
 },
 "nbformat": 4,
 "nbformat_minor": 5
}

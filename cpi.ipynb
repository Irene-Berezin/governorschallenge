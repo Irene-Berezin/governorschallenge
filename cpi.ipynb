{
 "cells": [
  {
   "cell_type": "code",
   "execution_count": 2,
   "id": "7450c07b",
   "metadata": {
    "vscode": {
     "languageId": "r"
    }
   },
   "outputs": [
    {
     "name": "stderr",
     "output_type": "stream",
     "text": [
      "Loading required package: zoo\n",
      "\n",
      "\n",
      "Attaching package: 'zoo'\n",
      "\n",
      "\n",
      "The following objects are masked from 'package:base':\n",
      "\n",
      "    as.Date, as.Date.numeric\n",
      "\n",
      "\n",
      "Loading required package: sandwich\n",
      "\n",
      "\n",
      "Attaching package: 'strucchange'\n",
      "\n",
      "\n",
      "The following object is masked from 'package:stringr':\n",
      "\n",
      "    boundary\n",
      "\n",
      "\n"
     ]
    }
   ],
   "source": [
    "library(tidyverse)\n",
    "library(cansim)\n",
    "library(readr)\n",
    "library(vroom)\n",
    "library(lubridate)\n",
    "library(tseries)\n",
    "library(strucchange)\n"
   ]
  },
  {
   "cell_type": "code",
   "execution_count": null,
   "id": "2d1f1f5b",
   "metadata": {
    "vscode": {
     "languageId": "r"
    }
   },
   "outputs": [
    {
     "name": "stderr",
     "output_type": "stream",
     "text": [
      "Accessing CANSIM NDM vectors from Statistics Canada\n",
      "\n"
     ]
    },
    {
     "name": "stdout",
     "output_type": "stream",
     "text": [
      "\u001b[90m# A tibble: 100 × 4\u001b[39m\n",
      "   quarter VALUE cpi_previous_quarter delta_cpi\n",
      "     \u001b[3m\u001b[90m<dbl>\u001b[39m\u001b[23m \u001b[3m\u001b[90m<dbl>\u001b[39m\u001b[23m                \u001b[3m\u001b[90m<dbl>\u001b[39m\u001b[23m     \u001b[3m\u001b[90m<dbl>\u001b[39m\u001b[23m\n",
      "\u001b[90m 1\u001b[39m   \u001b[4m2\u001b[24m000.  95.7                 \u001b[31mNA\u001b[39m     \u001b[31mNA\u001b[39m     \n",
      "\u001b[90m 2\u001b[39m   \u001b[4m2\u001b[24m000.  96.7                 95.7    1.07  \n",
      "\u001b[90m 3\u001b[39m   \u001b[4m2\u001b[24m001.  96.9                 96.7    0.241 \n",
      "\u001b[90m 4\u001b[39m   \u001b[4m2\u001b[24m001.  98.2                 96.9    1.30  \n",
      "\u001b[90m 5\u001b[39m   \u001b[4m2\u001b[24m001.  98.2                 98.2    0.033\u001b[4m9\u001b[24m\n",
      "\u001b[90m 6\u001b[39m   \u001b[4m2\u001b[24m001.  97.7                 98.2   -\u001b[31m0\u001b[39m\u001b[31m.\u001b[39m\u001b[31m510\u001b[39m \n",
      "\u001b[90m 7\u001b[39m   \u001b[4m2\u001b[24m002.  98.4                 97.7    0.714 \n",
      "\u001b[90m 8\u001b[39m   \u001b[4m2\u001b[24m002.  99.5                 98.4    1.08  \n",
      "\u001b[90m 9\u001b[39m   \u001b[4m2\u001b[24m002. 101.                  99.5    1.10  \n",
      "\u001b[90m10\u001b[39m   \u001b[4m2\u001b[24m002. 101.                 101.     0.858 \n",
      "\u001b[90m# ℹ 90 more rows\u001b[39m\n"
     ]
    },
    {
     "name": "stderr",
     "output_type": "stream",
     "text": [
      "Warning message:\n",
      "\"\u001b[1m\u001b[22mRemoved 1 row containing missing values or values outside the scale range\n",
      "(`geom_line()`).\"\n"
     ]
    },
    {
     "ename": "ERROR",
     "evalue": "Error: object 'cpi_quarterly_adj' not found\n",
     "output_type": "error",
     "traceback": [
      "Error: object 'cpi_quarterly_adj' not found\nTraceback:\n",
      "1. NCOL(x)",
      "2. na.omit(cpi_quarterly_adj$cpi_change)",
      "3. .handleSimpleError(function (cnd) \n . {\n .     watcher$capture_plot_and_output()\n .     cnd <- sanitize_call(cnd)\n .     watcher$push(cnd)\n .     switch(on_error, continue = invokeRestart(\"eval_continue\"), \n .         stop = invokeRestart(\"eval_stop\"), error = NULL)\n . }, \"object 'cpi_quarterly_adj' not found\", base::quote(eval(expr, \n .     envir)))"
     ]
    },
    {
     "data": {
      "image/png": "[encoded data removed]",
      "text/plain": [
       "plot without title"
      ]
     },
     "metadata": {
      "image/png": {
       "height": 420,
       "width": 420
      }
     },
     "output_type": "display_data"
    }
   ],
   "source": [
    "cpi_vec <- get_cansim_vector_for_latest_periods(\"v41690914\", periods = 300)\n",
    "\n",
    "cpi_vec_adj <- cpi_vec|>\n",
    "select(\"Date\", \"VALUE\")|>\n",
    " mutate(\n",
    "    # Get the CPI value from 12 months ago\n",
    "    cpi_previous_year = lag(VALUE, 12),\n",
    "    # Calculate the percentage change\n",
    "    cpi_change = ((VALUE  / cpi_previous_year) - 1) * 100\n",
    "  )\n",
    "\n",
    "cpi_quarterly_stationary <- cpi_vec |>\n",
    "  select(Date, VALUE) |>\n",
    "  mutate(quarter = quarter(Date, with_year = TRUE)) |>\n",
    "  group_by(quarter) |>\n",
    "  summarise(VALUE = mean(VALUE, na.rm = TRUE)) |>\n",
    "  ungroup() |>\n",
    "  mutate(\n",
    "    cpi_previous_quarter = lag(VALUE, 1),\n",
    "    delta_cpi = (log(VALUE) - log(cpi_previous_quarter)) * 100\n",
    "  )|>\n",
    "\n",
    "print(cpi_quarterly_stationary)\n",
    "\n",
    "ggplot(cpi_quarterly_stationary, aes(x = quarter, y = delta_cpi)) +\n",
    "  geom_line() +\n",
    "  labs(\n",
    "    title = \"cpi pct change\",\n",
    "    x = \"Date\",\n",
    "    y = \"percentage_change\",\n",
    "  ) +\n",
    "  theme_minimal()\n",
    "\n",
    "\n",
    "adf_result <- adf.test(na.omit(cpi_quarterly_adj$cpi_change))\n",
    "\n",
    "# Print the results\n",
    "print(adf_result)"
   ]
  },
  {
   "cell_type": "code",
   "execution_count": 9,
   "id": "3c5aab97",
   "metadata": {
    "vscode": {
     "languageId": "r"
    }
   },
   "outputs": [],
   "source": [
    "ts_data <- na.omit(cpi_quarterly_stationary$delta_cpi)"
   ]
  },
  {
   "cell_type": "code",
   "execution_count": 15,
   "id": "45b0cecd",
   "metadata": {
    "vscode": {
     "languageId": "r"
    }
   },
   "outputs": [
    {
     "data": {
      "text/plain": [
       "\n",
       "\t Optimal (m+1)-segment partition: \n",
       "\n",
       "Call:\n",
       "breakpoints.formula(formula = y ~ x)\n",
       "\n",
       "Breakpoints at observation number:\n",
       "                      \n",
       "m = 1               79\n",
       "m = 2      31       79\n",
       "m = 3      32 47    79\n",
       "m = 4   14 32 47    79\n",
       "m = 5   14 32 47 61 79\n",
       "\n",
       "Corresponding to breakdates:\n",
       "                                                                               \n",
       "m = 1                                                                          \n",
       "m = 2                     0.316326530612245                                    \n",
       "m = 3                     0.326530612244898 0.479591836734694                  \n",
       "m = 4   0.142857142857143 0.326530612244898 0.479591836734694                  \n",
       "m = 5   0.142857142857143 0.326530612244898 0.479591836734694 0.622448979591837\n",
       "                         \n",
       "m = 1   0.806122448979592\n",
       "m = 2   0.806122448979592\n",
       "m = 3   0.806122448979592\n",
       "m = 4   0.806122448979592\n",
       "m = 5   0.806122448979592\n",
       "\n",
       "Fit:\n",
       "                                             \n",
       "m   0      1      2      3      4      5     \n",
       "RSS  22.07  18.66  17.78  17.41  17.25  17.21\n",
       "BIC 145.75 143.09 152.10 163.80 176.66 190.20"
      ]
     },
     "metadata": {},
     "output_type": "display_data"
    },
    {
     "data": {
      "image/png": "[encoded data removed]",
      "text/plain": [
       "Plot with title \"BIC and Residual Sum of Squares\""
      ]
     },
     "metadata": {
      "image/png": {
       "height": 420,
       "width": 420
      }
     },
     "output_type": "display_data"
    }
   ],
   "source": [
    "y <- ts_data[-1]\n",
    "\n",
    "# 2. Create the independent variable 'x' (all values except the last)\n",
    "# This is now the one-period lag of y\n",
    "x <- ts_data[-length(ts_data)]\n",
    "\n",
    "# Now 'y' and 'x' are perfectly aligned, and we can test for a break\n",
    "# in the regression of y on x.\n",
    "bp_test <- breakpoints(y ~ x)\n",
    "\n",
    "# The rest is the same\n",
    "summary(bp_test)\n",
    "plot(bp_test)"
   ]
  },
  {
   "cell_type": "code",
   "execution_count": 16,
   "id": "7878c893",
   "metadata": {
    "vscode": {
     "languageId": "r"
    }
   },
   "outputs": [
    {
     "name": "stdout",
     "output_type": "stream",
     "text": [
      "\u001b[90m# A tibble: 1 × 4\u001b[39m\n",
      "  quarter VALUE cpi_previous_quarter delta_cpi\n",
      "    \u001b[3m\u001b[90m<dbl>\u001b[39m\u001b[23m \u001b[3m\u001b[90m<dbl>\u001b[39m\u001b[23m                \u001b[3m\u001b[90m<dbl>\u001b[39m\u001b[23m     \u001b[3m\u001b[90m<dbl>\u001b[39m\u001b[23m\n",
      "\u001b[90m1\u001b[39m   \u001b[4m2\u001b[24m020.  137.                 137.     0.170\n"
     ]
    }
   ],
   "source": [
    "break_observation <- cpi_quarterly_stationary[79, ]\n",
    "\n",
    "print(break_observation)"
   ]
  },
  {
   "cell_type": "code",
   "execution_count": 17,
   "id": "d7371bea",
   "metadata": {
    "vscode": {
     "languageId": "r"
    }
   },
   "outputs": [],
   "source": [
    "pre_break_data <- cpi_quarterly_stationary[1:79, ]\n",
    "post_break_data <- cpi_quarterly_stationary[80:nrow(cpi_quarterly_stationary), ]"
   ]
  },
  {
   "cell_type": "code",
   "execution_count": 18,
   "id": "b2f67479",
   "metadata": {
    "vscode": {
     "languageId": "r"
    }
   },
   "outputs": [
    {
     "name": "stderr",
     "output_type": "stream",
     "text": [
      "Warning message in adf.test(na.omit(pre_break_data$delta_cpi)):\n",
      "\"p-value smaller than printed p-value\"\n"
     ]
    },
    {
     "data": {
      "text/plain": [
       "\n",
       "\tAugmented Dickey-Fuller Test\n",
       "\n",
       "data:  na.omit(pre_break_data$delta_cpi)\n",
       "Dickey-Fuller = -4.4332, Lag order = 4, p-value = 0.01\n",
       "alternative hypothesis: stationary\n"
      ]
     },
     "metadata": {},
     "output_type": "display_data"
    },
    {
     "data": {
      "text/plain": [
       "\n",
       "\tAugmented Dickey-Fuller Test\n",
       "\n",
       "data:  na.omit(post_break_data$delta_cpi)\n",
       "Dickey-Fuller = -2.071, Lag order = 2, p-value = 0.5454\n",
       "alternative hypothesis: stationary\n"
      ]
     },
     "metadata": {},
     "output_type": "display_data"
    }
   ],
   "source": [
    "library(tseries)\n",
    "\n",
    "# Test the pre-break period\n",
    "adf.test(na.omit(pre_break_data$delta_cpi))\n",
    "\n",
    "# Test the post-break period\n",
    "adf.test(na.omit(post_break_data$delta_cpi))"
   ]
  },
  {
   "cell_type": "code",
   "execution_count": 19,
   "id": "84ba7707",
   "metadata": {
    "vscode": {
     "languageId": "r"
    }
   },
   "outputs": [
    {
     "name": "stderr",
     "output_type": "stream",
     "text": [
      "also installing the dependencies 'urca', 'lmtest'\n",
      "\n",
      "\n"
     ]
    },
    {
     "name": "stdout",
     "output_type": "stream",
     "text": [
      "package 'urca' successfully unpacked and MD5 sums checked\n",
      "package 'lmtest' successfully unpacked and MD5 sums checked\n",
      "package 'vars' successfully unpacked and MD5 sums checked\n",
      "\n",
      "The downloaded binary packages are in\n",
      "\tC:\\Users\\Irene\\AppData\\Local\\Temp\\RtmpArMKgX\\downloaded_packages\n"
     ]
    },
    {
     "name": "stderr",
     "output_type": "stream",
     "text": [
      "Loading required package: MASS\n",
      "\n",
      "\n",
      "Attaching package: 'MASS'\n",
      "\n",
      "\n",
      "The following object is masked from 'package:dplyr':\n",
      "\n",
      "    select\n",
      "\n",
      "\n",
      "Loading required package: urca\n",
      "\n",
      "Loading required package: lmtest\n",
      "\n"
     ]
    }
   ],
   "source": [
    "install.packages(\"vars\")\n",
    "library(vars)"
   ]
  },
  {
   "cell_type": "code",
   "execution_count": 20,
   "id": "ee081b73",
   "metadata": {
    "vscode": {
     "languageId": "r"
    }
   },
   "outputs": [
    {
     "ename": "ERROR",
     "evalue": "Error in VARselect(cpi_quarterly_stationary, lag.max = 8, type = \"const\"): \nNAs in y.\n\n",
     "output_type": "error",
     "traceback": [
      "Error in VARselect(cpi_quarterly_stationary, lag.max = 8, type = \"const\"): \nNAs in y.\n\nTraceback:\n",
      "1. stop(\"\\nNAs in y.\\n\")",
      "2. .handleSimpleError(function (cnd) \n . {\n .     watcher$capture_plot_and_output()\n .     cnd <- sanitize_call(cnd)\n .     watcher$push(cnd)\n .     switch(on_error, continue = invokeRestart(\"eval_continue\"), \n .         stop = invokeRestart(\"eval_stop\"), error = NULL)\n . }, \"\\nNAs in y.\\n\", base::quote(VARselect(cpi_quarterly_stationary, \n .     lag.max = 8, type = \"const\")))"
     ]
    }
   ],
   "source": [
    "lag_selection <- VARselect(cpi_quarterly_stationary, lag.max = 8, type = \"const\")\n",
    "\n",
    "# Print the results\n",
    "print(lag_selection$selection)"
   ]
  }
 ],
 "metadata": {
  "kernelspec": {
   "display_name": "R",
   "language": "R",
   "name": "ir"
  },
  "language_info": {
   "codemirror_mode": "r",
   "file_extension": ".r",
   "mimetype": "text/x-r-source",
   "name": "R",
   "pygments_lexer": "r",
   "version": "4.4.3"
  }
 },
 "nbformat": 4,
 "nbformat_minor": 5
}

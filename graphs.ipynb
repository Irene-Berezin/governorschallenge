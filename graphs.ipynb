{
 "cells": [
  {
   "cell_type": "code",
   "execution_count": 75,
   "id": "6aebbc6d",
   "metadata": {
    "vscode": {
     "languageId": "r"
    }
   },
   "outputs": [],
   "source": [
    "library(tidyverse)\n",
    "library(cansim)\n",
    "library(readr)\n",
    "library(vroom)\n",
    "library(lubridate)\n",
    "library(tseries)\n",
    "library(strucchange)\n",
    "library(purrr) \n",
    "library(vars)\n",
    "library(fredr)\n",
    "\n",
    "# Load libraries\n",
    "library(tidyverse)\n",
    "library(strucchange)\n",
    "library(lubridate)"
   ]
  },
  {
   "cell_type": "code",
   "execution_count": 76,
   "id": "e4c6b17f",
   "metadata": {
    "vscode": {
     "languageId": "r"
    }
   },
   "outputs": [
    {
     "name": "stderr",
     "output_type": "stream",
     "text": [
      "Accessing CANSIM NDM vectors from Statistics Canada\n",
      "\n"
     ]
    }
   ],
   "source": [
    "cpi_vec <- get_cansim_vector_for_latest_periods(\"v41690973\", periods = 300, refresh = TRUE) # CHANGE IN CPI"
   ]
  },
  {
   "cell_type": "code",
   "execution_count": 77,
   "id": "7bea7ab2",
   "metadata": {
    "vscode": {
     "languageId": "r"
    }
   },
   "outputs": [],
   "source": [
    "cpi_monthly <- cpi_vec |>\n",
    "  dplyr::select(Date, VALUE) |>\n",
    "  dplyr::mutate(month = Date) |>\n",
    "  dplyr::arrange(month) |> # Good practice to sort by date before lagging\n",
    "  dplyr::mutate(delta_cpi = (VALUE / dplyr::lag(VALUE, 12) - 1)*100)|>\n",
    "  dplyr::select(month, delta_cpi) |>\n",
    "  tidyr::drop_na()"
   ]
  },
  {
   "cell_type": "code",
   "execution_count": 78,
   "id": "7ee767b1",
   "metadata": {
    "vscode": {
     "languageId": "r"
    }
   },
   "outputs": [
    {
     "data": {
      "image/png": "[encoded data removed]",
      "text/plain": [
       "plot without title"
      ]
     },
     "metadata": {
      "image/png": {
       "height": 420,
       "width": 420
      }
     },
     "output_type": "display_data"
    }
   ],
   "source": [
    "# Load necessary libraries (strucchange is no longer needed for this plot)\n",
    "library(tidyverse)\n",
    "library(lubridate)\n",
    "\n",
    "# --- 1. Manually define the start and end dates for the COVID period ---\n",
    "covid_start_date <- as.Date(\"2020-03-01\")\n",
    "covid_end_date   <- as.Date(\"2022-10-01\")\n",
    "\n",
    "\n",
    "# --- 2. Create the Plot ---\n",
    "\n",
    "ggplot(cpi_monthly, aes(x = month)) +\n",
    "  # Add the shaded red rectangle for the COVID period\n",
    "  geom_rect(aes(xmin = covid_start_date, xmax = covid_end_date, ymin = -Inf, ymax = Inf),\n",
    "            fill = \"#fabdb9\",\n",
    "            alpha = 0.9, color=NA) + \n",
    "            \n",
    "  # Plot the historical data line\n",
    "  geom_line(aes(y = delta_cpi), color = \"black\", linewidth = 0.5, na.rm = TRUE) +\n",
    "  \n",
    "  # Add vertical dashed lines for the start and end of the period\n",
    "  geom_vline(xintercept = as.numeric(covid_start_date), \n",
    "             linetype = \"dashed\", \n",
    "             color = \"firebrick\") +\n",
    "  geom_vline(xintercept = as.numeric(covid_end_date), \n",
    "             linetype = \"dashed\", \n",
    "             color = \"firebrick\") +\n",
    "             \n",
    "  # Apply labels and titles\n",
    "  labs(\n",
    "    title = \"Historical CPI (YoY %)\",\n",
    "    subtitle = \"Calculated using the All-Items category from Total CPI. COVID period highlighted in red.\",\n",
    "    x = \"Year\",\n",
    "    y = \"Year-over-Year % Change\",\n",
    "    caption = \"Source: Statistics Canada\"\n",
    "  ) +\n",
    "  \n",
    "  # Customize the x-axis date format\n",
    "  scale_x_date(\n",
    "    date_breaks = \"2 years\", \n",
    "    date_labels = \"%Y\"\n",
    "  ) +\n",
    "  \n",
    "  # Apply the same clean theme\n",
    "  theme_minimal(base_size = 14) +\n",
    "  theme(\n",
    "    plot.title = element_text(face = \"bold\", size = 18),\n",
    "    plot.subtitle = element_text(size = 12, margin = margin(b = 20)),\n",
    "    panel.grid.minor = element_blank(),\n",
    "    panel.grid.major.x = element_blank(),\n",
    "    axis.line.x = element_line(color=\"grey80\"),\n",
    "    axis.ticks.x = element_line(color=\"grey80\")\n",
    "  )"
   ]
  },
  {
   "cell_type": "code",
   "execution_count": 79,
   "id": "beb79c2f",
   "metadata": {
    "vscode": {
     "languageId": "r"
    }
   },
   "outputs": [
    {
     "name": "stdout",
     "output_type": "stream",
     "text": [
      "\u001b[90m# A tibble: 1 × 2\u001b[39m\n",
      "  month      delta_cpi\n",
      "  \u001b[3m\u001b[90m<date>\u001b[39m\u001b[23m         \u001b[3m\u001b[90m<dbl>\u001b[39m\u001b[23m\n",
      "\u001b[90m1\u001b[39m 2025-07-01      1.73\n"
     ]
    }
   ],
   "source": [
    "last_row <- tail(cpi_monthly, n = 1)\n",
    "print(last_row)"
   ]
  },
  {
   "cell_type": "code",
   "execution_count": 80,
   "id": "2bd4db52",
   "metadata": {
    "vscode": {
     "languageId": "r"
    }
   },
   "outputs": [],
   "source": [
    "ggsave(\n",
    "  \"cpi_plot_covid.png\", # The filename for the saved plot               # The plot object to save\n",
    "  width = 25,              # Width in inches\n",
    "  height = 10,              # Height in inches\n",
    "  dpi = 300                # Dots per inch (resolution)\n",
    ")"
   ]
  },
  {
   "cell_type": "code",
   "execution_count": 81,
   "id": "08c4b231",
   "metadata": {
    "vscode": {
     "languageId": "r"
    }
   },
   "outputs": [
    {
     "name": "stderr",
     "output_type": "stream",
     "text": [
      "Accessing CANSIM NDM vectors from Statistics Canada\n",
      "\n",
      "Accessing CANSIM NDM vectors from Statistics Canada\n",
      "\n"
     ]
    }
   ],
   "source": [
    "start_date <- \"2000-01-01\"\n",
    "\n",
    "\n",
    "unemp_vec <- get_cansim_vector_for_latest_periods('v2062815', periods = 500, refresh = TRUE) # UNEMPLOYMENT RATE\n",
    "gdp_vec <- get_cansim_vector_for_latest_periods(\"v65201210\", periods = 300, refresh = TRUE)\n",
    "\n",
    "gdp_monthly <- gdp_vec |>\n",
    "  dplyr::select(Date, VALUE) |>\n",
    "  # Create a 'month' column and filter\n",
    "  dplyr::mutate(month = lubridate::floor_date(Date, \"month\")) |>\n",
    "  dplyr::filter(month >= start_date) |>\n",
    "  # Calculate month-over-month percent change\n",
    "  dplyr::mutate(\n",
    "    delta_gdp = (log(VALUE) - log(dplyr::lag(VALUE, 1))) * 100\n",
    "  ) |>\n",
    "  dplyr::select(month, delta_gdp) |>\n",
    "  tidyr::drop_na()\n",
    "\n",
    "unemp_monthly <- unemp_vec |>\n",
    "  dplyr::select(Date, VALUE) |>\n",
    "  dplyr::mutate(month = lubridate::floor_date(Date, \"month\")) |>\n",
    "  dplyr::filter(month >= start_date) |>\n",
    "  # Using the unemployment rate level directly\n",
    "  dplyr::mutate(\n",
    "    delta_unemp = VALUE\n",
    "  ) |>\n",
    "  dplyr::select(month, delta_unemp) |>\n",
    "  tidyr::drop_na()"
   ]
  },
  {
   "cell_type": "code",
   "execution_count": 113,
   "id": "53929a31",
   "metadata": {
    "vscode": {
     "languageId": "r"
    }
   },
   "outputs": [
    {
     "data": {
      "image/png": "[encoded data removed]",
      "text/plain": [
       "plot without title"
      ]
     },
     "metadata": {
      "image/png": {
       "height": 420,
       "width": 420
      }
     },
     "output_type": "display_data"
    }
   ],
   "source": [
    "# Load libraries if you haven't already\n",
    "library(tidyverse)\n",
    "library(lubridate)\n",
    "\n",
    "# --- 1. Combine the two data frames ---\n",
    "# Join the two datasets by their common 'month' column\n",
    "combined_data <- inner_join(gdp_monthly, unemp_monthly, by = \"month\")\n",
    "\n",
    "# --- 2. Reshape the data from 'wide' to 'long' format for ggplot ---\n",
    "# This is the standard \"tidy\" approach for plotting multiple series\n",
    "combined_long <- combined_data %>%\n",
    "  pivot_longer(\n",
    "    cols = c(delta_gdp, delta_unemp), \n",
    "    names_to = \"series\", \n",
    "    values_to = \"value\"\n",
    "  )\n",
    "\n",
    "# --- 3. Create the Plot ---\n",
    "ggplot(combined_long, aes(x = month, y = value, color = series, linetype = series)) +\n",
    "\n",
    "  geom_rect(aes(xmin = covid_start_date, xmax = covid_end_date, ymin = -Inf, ymax = Inf),\n",
    "            fill = \"#fabdb9\",\n",
    "            alpha = 0.9, color=NA) + \n",
    "            \n",
    "  \n",
    "  # Plot the historical data lines\n",
    "  geom_line(linewidth = 0.8, na.rm = TRUE) +\n",
    "\n",
    "    # Add vertical dashed lines for the start and end of the period\n",
    "  geom_vline(xintercept = as.numeric(covid_start_date), \n",
    "             linetype = \"dashed\", \n",
    "             color = \"firebrick\") +\n",
    "  geom_vline(xintercept = as.numeric(covid_end_date), \n",
    "             linetype = \"dashed\", \n",
    "             color = \"firebrick\") +\n",
    "\n",
    "  \n",
    "  # --- 4. Manually set the colors and line types for each series ---\n",
    "  scale_color_manual(\n",
    "    name = \"Series\", # Legend title\n",
    "    labels = c(delta_gdp = \"GDP (MoM log-%)\", delta_unemp = \"Unemployment Rate (%)\"),\n",
    "    values = c(delta_gdp = \"firebrick\", delta_unemp = \"black\")\n",
    "  ) +\n",
    "  scale_linetype_manual(\n",
    "    name = \"Series\", # Legend title\n",
    "    labels = c(delta_gdp = \"GDP (MoM log-%)\", delta_unemp = \"Unemployment Rate (%)\"),\n",
    "    values = c(delta_gdp = \"solid\", delta_unemp = \"solid\") # \"solid\" is a straight line\n",
    "  ) +\n",
    "  \n",
    "  # 5. Add a horizontal line at y=0 for reference\n",
    "  geom_hline(yintercept = 0, linetype = \"dotted\", color = \"grey50\") +\n",
    "  \n",
    "  # 6. Apply labels and titles\n",
    "  labs(\n",
    "    title = \"Monthly GDP Growth vs. Unemployment Rate in Canada\",\n",
    "    subtitle = \"Unemployment in %-change and GDP in log-%-change. COVID period highlighted in red.\",\n",
    "    x = \"Year\",\n",
    "    y = \"Value (%)\",\n",
    "    caption = \"Source: Statistics Canada\"\n",
    "  ) +\n",
    "  \n",
    "  # 7. Customize the x-axis date format\n",
    "  scale_x_date(\n",
    "    date_breaks = \"3 years\", \n",
    "    date_labels = \"%Y\",\n",
    "    expand = c(0.01, 0.01) # Reduce padding at the ends\n",
    "  ) +\n",
    "  \n",
    "  # 8. Apply the same clean theme as your other plots\n",
    "  theme_minimal(base_size = 14) +\n",
    "  theme(\n",
    "    plot.title = element_text(face = \"bold\", size = 18),\n",
    "    plot.subtitle = element_text(size = 12, margin = margin(b = 20)),\n",
    "    panel.grid.minor = element_blank(),\n",
    "    panel.grid.major.x = element_blank(),\n",
    "    axis.line.x = element_line(color=\"grey80\"),\n",
    "    axis.ticks.x = element_line(color=\"grey80\"),\n",
    "    legend.position = \"bottom\", # Move legend to the bottom\n",
    "    legend.title = element_blank() # Hide the legend title\n",
    "  )"
   ]
  },
  {
   "cell_type": "code",
   "execution_count": 115,
   "id": "f528b4a4",
   "metadata": {
    "vscode": {
     "languageId": "r"
    }
   },
   "outputs": [],
   "source": [
    "ggsave(\n",
    "  \"gdp_v_unemp_covid.png\", # The filename for the saved plot               # The plot object to save\n",
    "  width = 10,              # Width in inches\n",
    "  height = 5,              # Height in inches\n",
    "  dpi = 300                # Dots per inch (resolution)\n",
    ")"
   ]
  },
  {
   "cell_type": "code",
   "execution_count": 84,
   "id": "e2b477ff",
   "metadata": {
    "vscode": {
     "languageId": "r"
    }
   },
   "outputs": [
    {
     "name": "stderr",
     "output_type": "stream",
     "text": [
      "Reading CANSIM NDM vectors from temporary cache\n",
      "\n",
      "Reading CANSIM NDM vectors from temporary cache\n",
      "\n"
     ]
    }
   ],
   "source": [
    "monthly_real_return_bond <- get_cansim_vector_for_latest_periods('v122553',periods = 500)\n",
    "monthly_convetional_bond <- get_cansim_vector_for_latest_periods('v122543',periods = 500)\n",
    "monthly_real_return_bond <- monthly_real_return_bond|>\n",
    "dplyr::select(Date, VALUE)\n",
    "\n",
    "monthly_convetional_bond <- monthly_convetional_bond|>\n",
    "dplyr::select(Date, VALUE)\n",
    "\n",
    "break_even_df <- monthly_convetional_bond |>\n",
    "  inner_join(monthly_real_return_bond, by = \"Date\", suffix = c(\"_conventional\", \"_real_return\")) |>\n",
    "  mutate(break_even_inflation_rate = VALUE_conventional - VALUE_real_return) |>\n",
    "  dplyr::select(Date, break_even_inflation_rate)"
   ]
  },
  {
   "cell_type": "code",
   "execution_count": 116,
   "id": "33def3b9",
   "metadata": {
    "vscode": {
     "languageId": "r"
    }
   },
   "outputs": [
    {
     "data": {
      "image/png": "[encoded data removed]",
      "text/plain": [
       "plot without title"
      ]
     },
     "metadata": {
      "image/png": {
       "height": 420,
       "width": 420
      }
     },
     "output_type": "display_data"
    }
   ],
   "source": [
    "# Load libraries if you haven't already\n",
    "library(tidyverse)\n",
    "library(lubridate)\n",
    "\n",
    "# --- 1. Combine all three data frames for plotting ---\n",
    "# Rename the VALUE columns before joining for clarity\n",
    "conventional_renamed <- monthly_convetional_bond %>% \n",
    "  rename(conventional_yield = VALUE)\n",
    "real_return_renamed <- monthly_real_return_bond %>% \n",
    "  rename(real_return_yield = VALUE)\n",
    "\n",
    "# Join all three series into one data frame\n",
    "combined_bonds <- break_even_df %>%\n",
    "  inner_join(conventional_renamed, by = \"Date\") %>%\n",
    "  inner_join(real_return_renamed, by = \"Date\")\n",
    "\n",
    "# --- 2. Reshape the data from 'wide' to 'long' format ---\n",
    "bonds_long <- combined_bonds %>%\n",
    "  pivot_longer(\n",
    "    cols = -Date, # Pivot all columns except for the Date column\n",
    "    names_to = \"series\",\n",
    "    values_to = \"value\"\n",
    "  )\n",
    "\n",
    "# --- 3. Create the Plot ---\n",
    "ggplot(bonds_long, aes(x = Date, y = value, color = series)) +\n",
    "  \n",
    "  # Plot the historical data lines\n",
    "  geom_line(linewidth = 0.8, na.rm = TRUE) +\n",
    "  \n",
    "  # --- 4. Manually set the colors and labels for each series ---\n",
    "  scale_color_manual(\n",
    "    name = \"Series\", # Legend title\n",
    "    labels = c(\n",
    "      break_even_inflation_rate = \"Break-Even Inflation Rate\", \n",
    "      conventional_yield = \"Conventional Bond Yield\", \n",
    "      real_return_yield = \"Real Return Bond Yield\"\n",
    "    ),\n",
    "    values = c(\n",
    "      break_even_inflation_rate = \"firebrick\", \n",
    "      conventional_yield = \"navy\", \n",
    "      real_return_yield = \"skyblue\"\n",
    "    )\n",
    "  ) +\n",
    "  \n",
    "  # 5. Add a horizontal line at y=0 for reference\n",
    "  geom_hline(yintercept = 0, linetype = \"dotted\", color = \"grey50\") +\n",
    "  \n",
    "  # 6. Apply labels and titles\n",
    "  labs(\n",
    "    title = \"Canadian Bond Yields and Break-Even Inflation Rate\",\n",
    "    subtitle = \"The spread between conventional and real return bonds reflects inflation expectations\",\n",
    "    x = \"Year\",\n",
    "    y = \"Yield / Rate (%)\",\n",
    "    caption = \"Source: Statistics Canada\"\n",
    "  ) +\n",
    "  \n",
    "  # 7. Customize the x-axis date format\n",
    "  # 7. Customize the x-axis date format and set limits\n",
    "  scale_x_date(\n",
    "    date_breaks = \"5 years\", \n",
    "    date_labels = \"%Y\",\n",
    "    expand = c(0.01, 0.01),\n",
    "    limits = c(as.Date(\"2000-01-01\"), NA) # Add this line\n",
    "  ) +\n",
    "\n",
    "  # Add this layer to control the y-axis\n",
    "  scale_y_continuous(\n",
    "    limits = c(-2, 8),  # Set the lower and upper bounds of the axis\n",
    "    breaks = seq(-2, 8, by = 2) # Create tick marks every 2 points from -2 to 8\n",
    "  ) +\n",
    "  # 8. Apply the same clean theme\n",
    "  theme_minimal(base_size = 14) +\n",
    "  theme(\n",
    "    plot.title = element_text(face = \"bold\", size = 18),\n",
    "    plot.subtitle = element_text(size = 12, margin = margin(b = 20)),\n",
    "    panel.grid.minor = element_blank(),\n",
    "    panel.grid.major.x = element_blank(),\n",
    "    axis.line.x = element_line(color=\"grey80\"),\n",
    "    axis.ticks.x = element_line(color=\"grey80\"),\n",
    "    legend.position = \"bottom\",\n",
    "    legend.title = element_blank()\n",
    "  )"
   ]
  },
  {
   "cell_type": "code",
   "execution_count": 117,
   "id": "c0ae493a",
   "metadata": {
    "vscode": {
     "languageId": "r"
    }
   },
   "outputs": [],
   "source": [
    "ggsave(\n",
    "  \"break_even.png\", # The filename for the saved plot               # The plot object to save\n",
    "  width = 10,              # Width in inches\n",
    "  height = 5,              # Height in inches\n",
    "  dpi = 300                # Dots per inch (resolution)\n",
    ")"
   ]
  },
  {
   "cell_type": "code",
   "execution_count": 87,
   "id": "af84eeff",
   "metadata": {
    "vscode": {
     "languageId": "r"
    }
   },
   "outputs": [
    {
     "name": "stderr",
     "output_type": "stream",
     "text": [
      "\u001b[1mRows: \u001b[22m\u001b[34m589\u001b[39m \u001b[1mColumns: \u001b[22m\u001b[34m4\u001b[39m\n",
      "\u001b[36m──\u001b[39m \u001b[1mColumn specification\u001b[22m \u001b[36m────────────────────────────────────────────────────────\u001b[39m\n",
      "\u001b[1mDelimiter:\u001b[22m \",\"\n",
      "\u001b[31mchr\u001b[39m (1): Data_Type\n",
      "\u001b[32mdbl\u001b[39m (2): Year, Month\n",
      "\u001b[32mnum\u001b[39m (1): Calculated_Duties\n",
      "\n",
      "\u001b[36mℹ\u001b[39m Use `spec()` to retrieve the full column specification for this data.\n",
      "\u001b[36mℹ\u001b[39m Specify the column types or set `show_col_types = FALSE` to quiet this message.\n"
     ]
    },
    {
     "name": "stdout",
     "output_type": "stream",
     "text": [
      "Rows: 294\n",
      "Columns: 2\n",
      "$ Date  \u001b[3m\u001b[90m<date>\u001b[39m\u001b[23m 2001-01-01\u001b[90m, \u001b[39m2001-02-01\u001b[90m, \u001b[39m2001-03-01\u001b[90m, \u001b[39m2001-04-01\u001b[90m, \u001b[39m2001-05-01\u001b[90m, \u001b[39m200…\n",
      "$ VALUE \u001b[3m\u001b[90m<dbl>\u001b[39m\u001b[23m 7920740\u001b[90m, \u001b[39m6297447\u001b[90m, \u001b[39m7184865\u001b[90m, \u001b[39m13280139\u001b[90m, \u001b[39m4676052\u001b[90m, \u001b[39m5389742\u001b[90m, \u001b[39m5402475\u001b[90m, \u001b[39m…\n",
      "Rows: 294\n",
      "Columns: 2\n",
      "$ Date  \u001b[3m\u001b[90m<date>\u001b[39m\u001b[23m 2001-01-01\u001b[90m, \u001b[39m2001-02-01\u001b[90m, \u001b[39m2001-03-01\u001b[90m, \u001b[39m2001-04-01\u001b[90m, \u001b[39m2001-05-01\u001b[90m, \u001b[39m200…\n",
      "$ VALUE \u001b[3m\u001b[90m<dbl>\u001b[39m\u001b[23m 19531777331\u001b[90m, \u001b[39m17868333074\u001b[90m, \u001b[39m19770282802\u001b[90m, \u001b[39m19053810254\u001b[90m, \u001b[39m20119959107\u001b[90m,\u001b[39m…\n"
     ]
    }
   ],
   "source": [
    "all_tarrif_data <- read_csv(\"C:/Users/Irene/governorschallenge/DataWeb-Query-ExportNew.csv\")\n",
    "\n",
    "Calculated_Duties <- all_tarrif_data|>\n",
    "filter(Data_Type == \"Calculated Duties\")|>\n",
    "dplyr::select(Year, Month, Calculated_Duties)|>\n",
    "rename(VALUE = Calculated_Duties)|>\n",
    "mutate(\n",
    "    Date = ymd(paste(Year, Month, \"01\", sep = \"-\")),\n",
    "    VALUE = as.numeric(VALUE)\n",
    "  ) |>\n",
    "  dplyr::select(Date, VALUE)|>\n",
    "  arrange(Date)|>\n",
    "  glimpse()\n",
    "\n",
    "general_customs_value <- all_tarrif_data|>\n",
    "filter(Data_Type == \"Customs Value\")|>\n",
    "dplyr::select(Year, Month, Calculated_Duties)|>\n",
    "rename(VALUE = Calculated_Duties)|>\n",
    "mutate(\n",
    "    Date = ymd(paste(Year, Month, \"01\", sep = \"-\")),\n",
    "    VALUE = as.numeric(VALUE)\n",
    "  ) |>\n",
    "  dplyr::select(Date, VALUE)|>\n",
    "  arrange(Date)|>\n",
    "  glimpse()\n",
    "\n",
    "\n",
    "\n",
    "tarrif_rate_df <- inner_join(\n",
    "  Calculated_Duties , \n",
    "  general_customs_value, \n",
    "  by = \"Date\",\n",
    "  suffix = c(\"_duties\", \"_value\")\n",
    ") |>\n",
    "  \n",
    "  # 2. Calculate the approximate tariff rate using the two VALUE columns\n",
    "  mutate(\n",
    "    Approximate_Rate = (VALUE_duties / VALUE_value) * 100\n",
    "  ) |>\n",
    "  rename(month = Date)|>\n",
    "  # 3. Keep only the columns you need for your VAR model\n",
    "  dplyr::select(month, Approximate_Rate)"
   ]
  },
  {
   "cell_type": "code",
   "execution_count": 88,
   "id": "a3c783b8",
   "metadata": {
    "vscode": {
     "languageId": "r"
    }
   },
   "outputs": [],
   "source": [
    "fredr_set_key('b43b23bac4c602369428a1a4316f23d4')"
   ]
  },
  {
   "cell_type": "code",
   "execution_count": 89,
   "id": "82b91891",
   "metadata": {
    "vscode": {
     "languageId": "r"
    }
   },
   "outputs": [],
   "source": [
    "exc_rate <- fredr(\n",
    "  series_id = \"DEXCAUS\",\n",
    "  observation_start = as.Date(\"1990-01-01\"),\n",
    "  observation_end = as.Date(\"2025-08-01\"),\n",
    "  frequency = \"m\", # monthly\n",
    "  units = \"chg\" # change over previous value\n",
    ")\n",
    "\n",
    "\n",
    "exc_monthly <- exc_rate |>\n",
    "rename(month = date)|>\n",
    "rename(delta_exc = value)|>\n",
    "dplyr::select(month, delta_exc)|>\n",
    "tidyr::drop_na()\n"
   ]
  },
  {
   "cell_type": "code",
   "execution_count": 90,
   "id": "5a927d99",
   "metadata": {
    "vscode": {
     "languageId": "r"
    }
   },
   "outputs": [
    {
     "data": {
      "image/png": "[encoded data removed]",
      "text/plain": [
       "plot without title"
      ]
     },
     "metadata": {
      "image/png": {
       "height": 420,
       "width": 420
      }
     },
     "output_type": "display_data"
    }
   ],
   "source": [
    "# Load libraries if you haven't already\n",
    "library(tidyverse)\n",
    "library(lubridate)\n",
    "\n",
    "# --- 1. Combine the two data frames ---\n",
    "# Join the two datasets by their common 'month' column\n",
    "combined_rates <- inner_join(tarrif_rate_df, exc_monthly, by = \"month\")\n",
    "\n",
    "# --- 2. Reshape the data from 'wide' to 'long' format for ggplot ---\n",
    "rates_long <- combined_rates %>%\n",
    "  pivot_longer(\n",
    "    cols = c(Approximate_Rate, delta_exc), \n",
    "    names_to = \"series\", \n",
    "    values_to = \"value\"\n",
    "  )\n",
    "\n",
    "# --- 3. Create the Plot ---\n",
    "ggplot(rates_long, aes(x = month, y = value, color = series)) +\n",
    "  \n",
    "  # Plot the historical data lines\n",
    "  geom_line(linewidth = 0.8, na.rm = TRUE) +\n",
    "  \n",
    "  # --- 4. Manually set the colors for each series ---\n",
    "  scale_color_manual(\n",
    "    name = \"Series\", # Legend title\n",
    "    labels = c(Approximate_Rate = \"Effective Tariff Rate (%)\", delta_exc = \"Exchange Rate (MoM %)\"),\n",
    "    values = c(Approximate_Rate = \"darkslateblue\", delta_exc = \"coral\")\n",
    "  ) +\n",
    "  \n",
    "  # 5. Add a horizontal line at y=0 for reference\n",
    "  geom_hline(yintercept = 0, linetype = \"dotted\", color = \"grey50\") +\n",
    "  \n",
    "  # 6. Apply labels and titles\n",
    "  labs(\n",
    "    title = \"Canadian Effective Tariff Rate vs. Exchange Rate Change\",\n",
    "    subtitle = \"Comparing external trade cost factors for the Canadian economy\",\n",
    "    x = \"Year\",\n",
    "    y = \"Rate / Percent Change\",\n",
    "    caption = \"Source: Statistics Canada, FRED\"\n",
    "  ) +\n",
    "  \n",
    "  # 7. Customize the x-axis date format\n",
    "  scale_x_date(\n",
    "    date_breaks = \"5 years\", \n",
    "    date_labels = \"%Y\",\n",
    "    expand = c(0.01, 0.01) # Reduce padding at the ends\n",
    "  ) +\n",
    "  \n",
    "  # 8. Apply the same clean theme as your other plots\n",
    "  theme_minimal(base_size = 14) +\n",
    "  theme(\n",
    "    plot.title = element_text(face = \"bold\", size = 18),\n",
    "    plot.subtitle = element_text(size = 12, margin = margin(b = 20)),\n",
    "    panel.grid.minor = element_blank(),\n",
    "    panel.grid.major.x = element_blank(),\n",
    "    axis.line.x = element_line(color=\"grey80\"),\n",
    "    axis.ticks.x = element_line(color=\"grey80\"),\n",
    "    legend.position = \"bottom\", # Move legend to the bottom\n",
    "    legend.title = element_blank() # Hide the legend title\n",
    "  )"
   ]
  },
  {
   "cell_type": "code",
   "execution_count": 94,
   "id": "f1a36171",
   "metadata": {
    "vscode": {
     "languageId": "r"
    }
   },
   "outputs": [
    {
     "data": {
      "image/png": "[encoded data removed]",
      "text/plain": [
       "plot without title"
      ]
     },
     "metadata": {
      "image/png": {
       "height": 420,
       "width": 420
      }
     },
     "output_type": "display_data"
    }
   ],
   "source": [
    "# Load libraries if you haven't already\n",
    "library(tidyverse)\n",
    "library(lubridate)\n",
    "\n",
    "# --- Create the Plot ---\n",
    "# This code now directly uses your 'tarrif_rate_df' data frame\n",
    "\n",
    "ggplot(tarrif_rate_df, aes(x = month, y = Approximate_Rate)) +\n",
    "  \n",
    "  # Plot the historical data line with the color set directly\n",
    "  geom_line(color = \"darkslateblue\", linewidth = 0.8, na.rm = TRUE) +\n",
    "  \n",
    "  # Add a horizontal line at y=0 for reference\n",
    "  geom_hline(yintercept = 0, linetype = \"dotted\", color = \"grey50\") +\n",
    "  \n",
    "  # Apply updated labels and titles for a single series\n",
    "  labs(\n",
    "    title = \"Canadian Effective Tariff Rate\",\n",
    "    subtitle = \"Calculated as import charges as a percentage of customs value\",\n",
    "    x = \"Year\",\n",
    "    y = \"Rate (%)\",\n",
    "    caption = \"Source: Statistics Canada\"\n",
    "  ) +\n",
    "  \n",
    "  # Customize the x-axis date format\n",
    "  scale_x_date(\n",
    "    date_breaks = \"5 years\", \n",
    "    date_labels = \"%Y\",\n",
    "    expand = c(0.01, 0.01) # Reduce padding at the ends\n",
    "  ) +\n",
    "  \n",
    "  # Apply the same clean theme as your other plots\n",
    "  theme_minimal(base_size = 14) +\n",
    "  theme(\n",
    "    plot.title = element_text(face = \"bold\", size = 18),\n",
    "    plot.subtitle = element_text(size = 12, margin = margin(b = 20)),\n",
    "    panel.grid.minor = element_blank(),\n",
    "    panel.grid.major.x = element_blank(),\n",
    "    axis.line.x = element_line(color=\"grey80\"),\n",
    "    axis.ticks.x = element_line(color=\"grey80\"),\n",
    "    legend.position = \"none\" # Remove the legend as it's no longer needed\n",
    "  )"
   ]
  },
  {
   "cell_type": "code",
   "execution_count": 99,
   "id": "b9faf5f0",
   "metadata": {
    "vscode": {
     "languageId": "r"
    }
   },
   "outputs": [
    {
     "data": {
      "image/png": "[encoded data removed]",
      "text/plain": [
       "plot without title"
      ]
     },
     "metadata": {
      "image/png": {
       "height": 420,
       "width": 420
      }
     },
     "output_type": "display_data"
    }
   ],
   "source": [
    "library(tidyverse)\n",
    "library(lubridate)\n",
    "\n",
    "# --- 1. Create a data frame for the events to annotate ---\n",
    "events_df <- tibble(\n",
    "  date = as.Date(c(\"2018-07-01\", \"2025-03-04\")),\n",
    "  label = c(\n",
    "    \"2018 Steel/Aluminum Retaliation\",\n",
    "    \"2025 U.S./Canada Tariffs\"\n",
    "  )\n",
    ")\n",
    "\n",
    "# --- 2. Create the Plot using your exact code and adding the event layers ---\n",
    "# This code uses your 'tarrif_rate_df' data frame\n",
    "ggplot(tarrif_rate_df, aes(x = month, y = Approximate_Rate)) +\n",
    "  \n",
    "  # Your original plot layers\n",
    "  geom_line(color = \"darkslateblue\", linewidth = 0.8, na.rm = TRUE) +\n",
    "  geom_hline(yintercept = 0, linetype = \"dotted\", color = \"grey50\") +\n",
    "  \n",
    "  # --- ADDED THESE LAYERS FOR THE RED LINES AND TEXT ---\n",
    "  geom_vline(\n",
    "    data = events_df,\n",
    "    aes(xintercept = date),\n",
    "    color = \"firebrick\",\n",
    "    linetype = \"dashed\"\n",
    "  ) +\n",
    "  geom_text(\n",
    "    data = events_df,\n",
    "    aes(x = date, label = label),\n",
    "    y = 3.8,          # Y-position for the labels\n",
    "    hjust = -0.05,      # Nudge text to the right of the line\n",
    "    color = \"firebrick\",\n",
    "    size = 4\n",
    "  ) +\n",
    "  # --------------------------------------------------------\n",
    "  \n",
    "  # Your original labs and theme\n",
    "  labs(\n",
    "    title = \"Canadian Effective Tariff Rate\",\n",
    "    subtitle = \"With notable tariff implementations marked\",\n",
    "    x = \"Year\",\n",
    "    y = \"Rate (%)\",\n",
    "    caption = \"Source: Statistics Canada\"\n",
    "  ) +\n",
    "  \n",
    "  scale_x_date(\n",
    "    date_breaks = \"5 years\", \n",
    "    date_labels = \"%Y\",\n",
    "    expand = c(0.01, 0.01)\n",
    "  ) +\n",
    "  \n",
    "  # Added a y-axis limit to make space for the labels\n",
    "  scale_y_continuous(limits = c(NA, 4.2)) +\n",
    "  \n",
    "  theme_minimal(base_size = 14) +\n",
    "  theme(\n",
    "    plot.title = element_text(face = \"bold\", size = 18),\n",
    "    plot.subtitle = element_text(size = 12, margin = margin(b = 20)),\n",
    "    panel.grid.minor = element_blank(),\n",
    "    panel.grid.major.x = element_blank(),\n",
    "    axis.line.x = element_line(color=\"grey80\"),\n",
    "    axis.ticks.x = element_line(color=\"grey80\"),\n",
    "    legend.position = \"none\"\n",
    "  )"
   ]
  },
  {
   "cell_type": "code",
   "execution_count": null,
   "id": "b84f9e51",
   "metadata": {
    "vscode": {
     "languageId": "r"
    }
   },
   "outputs": [
    {
     "data": {
      "image/png": "[encoded data removed]",
      "text/plain": [
       "plot without title"
      ]
     },
     "metadata": {
      "image/png": {
       "height": 420,
       "width": 420
      }
     },
     "output_type": "display_data"
    }
   ],
   "source": [
    "library(tidyverse)\n",
    "library(lubridate)\n",
    "\n",
    "# --- 1. Create a data frame for the events to annotate ---\n",
    "events_df <- tibble(\n",
    "  date = as.Date(c(\"2018-06-01\", \"2025-02-04\")),\n",
    "  label = c(\n",
    "    \"2018 Steel/Aluminum Retaliation\",\n",
    "    \"2025 U.S./Canada Tariffs\"\n",
    "  )\n",
    ")\n",
    "\n",
    "# --- 2. Create the Plot with Vertical Annotations ---\n",
    "# This code uses your 'tarrif_rate_df' data frame\n",
    "ggplot(tarrif_rate_df, aes(x = month, y = Approximate_Rate)) +\n",
    "  \n",
    "  # Your original plot layers\n",
    "  geom_line(color = \"black\", linewidth = 0.8, na.rm = TRUE) +\n",
    "  geom_hline(yintercept = 0, linetype = \"dotted\", color = \"grey50\") +\n",
    "  \n",
    "  # --- ADDED THESE LAYERS FOR THE RED LINES AND TEXT ---\n",
    "  geom_vline(\n",
    "    data = events_df,\n",
    "    aes(xintercept = date),\n",
    "    color = \"firebrick\",\n",
    "    linetype = \"dashed\"\n",
    "  ) +\n",
    "  # Text layer is now modified for vertical alignment\n",
    "  geom_text(\n",
    "    data = events_df,\n",
    "    aes(x = date, label = label),\n",
    "    y = 1.2,          # Sets the y-position for the bottom of the text\n",
    "    angle = 90,       # Rotates the text 90 degrees\n",
    "    hjust = 0,        # Aligns the bottom of the text to the y-position\n",
    "    vjust = -0.4,     # Nudges the text to the right of the line\n",
    "    color = \"firebrick\",\n",
    "    size = 4\n",
    "  ) +\n",
    "  # --------------------------------------------------------\n",
    "  \n",
    "  # Your original labs and theme\n",
    "  labs(\n",
    "    title = \"Canadian Effective Tariff Rate\",\n",
    "    subtitle = \"With notable tariff implementations marked\",\n",
    "    x = \"Year\",\n",
    "    y = \"Rate (%)\",\n",
    "    caption = \"Source: Statistics Canada\"\n",
    "  ) +\n",
    "  \n",
    "  scale_x_date(\n",
    "    date_breaks = \"5 years\", \n",
    "    date_labels = \"%Y\",\n",
    "    expand = c(0.01, 0.01)\n",
    "  ) +\n",
    "  \n",
    "  scale_y_continuous(limits = c(NA, 4.2)) +\n",
    "  \n",
    "  theme_minimal(base_size = 14) +\n",
    "  theme(\n",
    "    plot.title = element_text(face = \"bold\", size = 18),\n",
    "    plot.subtitle = element_text(size = 12, margin = margin(b = 20)),\n",
    "    panel.grid.minor = element_blank(),\n",
    "    panel.grid.major.x = element_blank(),\n",
    "    axis.line.x = element_line(color=\"grey80\"),\n",
    "    axis.ticks.x = element_line(color=\"grey80\"),\n",
    "    legend.position = \"none\"\n",
    "  )"
   ]
  },
  {
   "cell_type": "code",
   "execution_count": 109,
   "id": "f1a52ff9",
   "metadata": {
    "vscode": {
     "languageId": "r"
    }
   },
   "outputs": [
    {
     "data": {
      "image/png": "[encoded data removed]",
      "text/plain": [
       "plot without title"
      ]
     },
     "metadata": {
      "image/png": {
       "height": 420,
       "width": 420
      }
     },
     "output_type": "display_data"
    }
   ],
   "source": [
    "library(tidyverse)\n",
    "library(lubridate)\n",
    "\n",
    "# --- 1. Create a data frame for the events to annotate ---\n",
    "events_df <- tibble(\n",
    "  date = as.Date(c(\"2018-07-01\", \"2025-03-04\")),\n",
    "  label = c(\n",
    "    \"2018 Steel/Aluminum Tarrifs\",\n",
    "    \"2025 U.S./Canada Tariffs\"\n",
    "  )\n",
    ")\n",
    "\n",
    "# --- 2. Create the Final Plot ---\n",
    "# This code uses your 'tarrif_rate_df' data frame\n",
    "ggplot(tarrif_rate_df, aes(x = month, y = Approximate_Rate)) +\n",
    "  \n",
    "  geom_line(color = \"black\", linewidth = 0.8, na.rm = TRUE) +\n",
    "  geom_hline(yintercept = 0, linetype = \"dotted\", color = \"grey50\") +\n",
    "  \n",
    "  geom_vline(\n",
    "    data = events_df,\n",
    "    aes(xintercept = date),\n",
    "    color = \"firebrick\",\n",
    "    linetype = \"dashed\"\n",
    "  ) +\n",
    "  \n",
    "  # Text layer is now modified to fit within the new axis limits\n",
    "  geom_text(\n",
    "    data = events_df,\n",
    "    aes(x = date, label = label),\n",
    "    y = 2.9,          # Sets the y-position for the TOP of the text\n",
    "    angle = 90,       # Rotates the text 90 degrees\n",
    "    hjust = 1,        # Aligns the TOP of the text to the y-position\n",
    "    vjust = -0.4,     # Nudges the text to the right of the line\n",
    "    color = \"firebrick\",\n",
    "    size = 4\n",
    "  ) +\n",
    "  \n",
    "  labs(\n",
    "    title = \"Effective U.S. Tariff Rate on Canadian Goods\",\n",
    "    subtitle = \"Calculted duties as a percentage of customs value of imports, with notable tariff implementations marked\",\n",
    "    x = \"Year\",\n",
    "    y = \"Rate (%)\",\n",
    "    caption = \"Source: USITC Tariff Database\"\n",
    "  ) +\n",
    "  \n",
    "  scale_x_date(\n",
    "    date_breaks = \"5 years\", \n",
    "    date_labels = \"%Y\",\n",
    "    expand = c(0.01, 0.01)\n",
    "  ) +\n",
    "  \n",
    "  # Set the final y-axis scale\n",
    "  scale_y_continuous(\n",
    "    limits = c(NA, 3), # Set upper limit to 3\n",
    "    breaks = seq(0, 3, by = 1) # Create clean breaks from 0 to 3\n",
    "  ) +\n",
    "  \n",
    "  theme_minimal(base_size = 14) +\n",
    "  theme(\n",
    "    plot.title = element_text(face = \"bold\", size = 18),\n",
    "    plot.subtitle = element_text(size = 12, margin = margin(b = 20)),\n",
    "    panel.grid.minor = element_blank(),\n",
    "    panel.grid.major.x = element_blank(),\n",
    "    axis.line.x = element_line(color=\"grey80\"),\n",
    "    axis.ticks.x = element_line(color=\"grey80\"),\n",
    "    legend.position = \"none\"\n",
    "  )"
   ]
  },
  {
   "cell_type": "code",
   "execution_count": 110,
   "id": "d2a3e1f4",
   "metadata": {
    "vscode": {
     "languageId": "r"
    }
   },
   "outputs": [],
   "source": [
    "ggsave(\n",
    "  \"tarrif_rate.png\", # The filename for the saved plot               # The plot object to save\n",
    "  width = 17,              # Width in inches\n",
    "  height = 6,              # Height in inches\n",
    "  dpi = 300                # Dots per inch (resolution)\n",
    ")"
   ]
  }
 ],
 "metadata": {
  "kernelspec": {
   "display_name": "R",
   "language": "R",
   "name": "ir"
  },
  "language_info": {
   "codemirror_mode": "r",
   "file_extension": ".r",
   "mimetype": "text/x-r-source",
   "name": "R",
   "pygments_lexer": "r",
   "version": "4.4.3"
  }
 },
 "nbformat": 4,
 "nbformat_minor": 5
}

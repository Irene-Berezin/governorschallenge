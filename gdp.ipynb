{
 "cells": [
  {
   "cell_type": "code",
   "execution_count": 2,
   "id": "fcaf0408",
   "metadata": {
    "vscode": {
     "languageId": "r"
    }
   },
   "outputs": [
    {
     "name": "stderr",
     "output_type": "stream",
     "text": [
      "── \u001b[1mAttaching core tidyverse packages\u001b[22m ──────────────────────── tidyverse 2.0.0 ──\n",
      "\u001b[32m✔\u001b[39m \u001b[34mdplyr    \u001b[39m 1.1.4     \u001b[32m✔\u001b[39m \u001b[34mreadr    \u001b[39m 2.1.5\n",
      "\u001b[32m✔\u001b[39m \u001b[34mforcats  \u001b[39m 1.0.0     \u001b[32m✔\u001b[39m \u001b[34mstringr  \u001b[39m 1.5.1\n",
      "\u001b[32m✔\u001b[39m \u001b[34mggplot2  \u001b[39m 3.5.2     \u001b[32m✔\u001b[39m \u001b[34mtibble   \u001b[39m 3.3.0\n",
      "\u001b[32m✔\u001b[39m \u001b[34mlubridate\u001b[39m 1.9.4     \u001b[32m✔\u001b[39m \u001b[34mtidyr    \u001b[39m 1.3.1\n",
      "\u001b[32m✔\u001b[39m \u001b[34mpurrr    \u001b[39m 1.1.0     \n",
      "── \u001b[1mConflicts\u001b[22m ────────────────────────────────────────── tidyverse_conflicts() ──\n",
      "\u001b[31m✖\u001b[39m \u001b[34mdplyr\u001b[39m::\u001b[32mfilter()\u001b[39m masks \u001b[34mstats\u001b[39m::filter()\n",
      "\u001b[31m✖\u001b[39m \u001b[34mdplyr\u001b[39m::\u001b[32mlag()\u001b[39m    masks \u001b[34mstats\u001b[39m::lag()\n",
      "\u001b[36mℹ\u001b[39m Use the conflicted package (\u001b[3m\u001b[34m<http://conflicted.r-lib.org/>\u001b[39m\u001b[23m) to force all conflicts to become errors\n",
      "\n",
      "Attaching package: 'vroom'\n",
      "\n",
      "\n",
      "The following objects are masked from 'package:readr':\n",
      "\n",
      "    as.col_spec, col_character, col_date, col_datetime, col_double,\n",
      "    col_factor, col_guess, col_integer, col_logical, col_number,\n",
      "    col_skip, col_time, cols, cols_condense, cols_only, date_names,\n",
      "    date_names_lang, date_names_langs, default_locale, fwf_cols,\n",
      "    fwf_empty, fwf_positions, fwf_widths, locale, output_column,\n",
      "    problems, spec\n",
      "\n",
      "\n",
      "Registered S3 method overwritten by 'quantmod':\n",
      "  method            from\n",
      "  as.zoo.data.frame zoo \n",
      "\n",
      "Loading required package: zoo\n",
      "\n",
      "\n",
      "Attaching package: 'zoo'\n",
      "\n",
      "\n",
      "The following objects are masked from 'package:base':\n",
      "\n",
      "    as.Date, as.Date.numeric\n",
      "\n",
      "\n",
      "Loading required package: sandwich\n",
      "\n",
      "\n",
      "Attaching package: 'strucchange'\n",
      "\n",
      "\n",
      "The following object is masked from 'package:stringr':\n",
      "\n",
      "    boundary\n",
      "\n",
      "\n"
     ]
    }
   ],
   "source": [
    "library(tidyverse)\n",
    "library(cansim)\n",
    "library(readr)\n",
    "library(vroom)\n",
    "library(lubridate)\n",
    "library(tseries)\n",
    "library(strucchange)"
   ]
  },
  {
   "cell_type": "code",
   "execution_count": 3,
   "id": "4b9d363e",
   "metadata": {
    "vscode": {
     "languageId": "r"
    }
   },
   "outputs": [
    {
     "name": "stderr",
     "output_type": "stream",
     "text": [
      "Accessing CANSIM NDM vectors from Statistics Canada\n",
      "\n"
     ]
    }
   ],
   "source": [
    "gdp_vec <- get_cansim_vector_for_latest_periods(\"v1000000673\", periods = 300)"
   ]
  },
  {
   "cell_type": "code",
   "execution_count": 9,
   "id": "1f2826ce",
   "metadata": {
    "vscode": {
     "languageId": "r"
    }
   },
   "outputs": [
    {
     "name": "stdout",
     "output_type": "stream",
     "text": [
      "Rows: 113\n",
      "Columns: 16\n",
      "$ REF_DATE                                                \u001b[3m\u001b[90m<chr>\u001b[39m\u001b[23m \"1997-01-01\"\u001b[90m, \u001b[39m…\n",
      "$ Date                                                    \u001b[3m\u001b[90m<date>\u001b[39m\u001b[23m 1997-01-01\u001b[90m, \u001b[39m1…\n",
      "$ GEO                                                     \u001b[3m\u001b[90m<fct>\u001b[39m\u001b[23m Canada\u001b[90m, \u001b[39mCanada…\n",
      "$ `Seasonal adjustment`                                   \u001b[3m\u001b[90m<fct>\u001b[39m\u001b[23m Seasonally adj…\n",
      "$ Prices                                                  \u001b[3m\u001b[90m<fct>\u001b[39m\u001b[23m Chained (2017)…\n",
      "$ `North American Industry Classification System (NAICS)` \u001b[3m\u001b[90m<fct>\u001b[39m\u001b[23m \"All industrie…\n",
      "$ VALUE                                                   \u001b[3m\u001b[90m<dbl>\u001b[39m\u001b[23m 1209051\u001b[90m, \u001b[39m12234…\n",
      "$ val_norm                                                \u001b[3m\u001b[90m<dbl>\u001b[39m\u001b[23m 1.209051e+12\u001b[90m, \u001b[39m…\n",
      "$ SCALAR_ID                                               \u001b[3m\u001b[90m<int>\u001b[39m\u001b[23m 6\u001b[90m, \u001b[39m6\u001b[90m, \u001b[39m6\u001b[90m, \u001b[39m6\u001b[90m, \u001b[39m6\u001b[90m,\u001b[39m…\n",
      "$ VECTOR                                                  \u001b[3m\u001b[90m<chr>\u001b[39m\u001b[23m \"v1000000673\"\u001b[90m,\u001b[39m…\n",
      "$ cansimTableNumber                                       \u001b[3m\u001b[90m<chr>\u001b[39m\u001b[23m \"36-10-0449\"\u001b[90m, \u001b[39m…\n",
      "$ COORDINATE                                              \u001b[3m\u001b[90m<chr>\u001b[39m\u001b[23m \"1.1.1.1\"\u001b[90m, \u001b[39m\"1.…\n",
      "$ SYMBOL                                                  \u001b[3m\u001b[90m<int>\u001b[39m\u001b[23m 0\u001b[90m, \u001b[39m0\u001b[90m, \u001b[39m0\u001b[90m, \u001b[39m0\u001b[90m, \u001b[39m0\u001b[90m,\u001b[39m…\n",
      "$ releaseTime                                             \u001b[3m\u001b[90m<chr>\u001b[39m\u001b[23m \"2023-11-30T08…\n",
      "$ frequencyCode                                           \u001b[3m\u001b[90m<int>\u001b[39m\u001b[23m 9\u001b[90m, \u001b[39m9\u001b[90m, \u001b[39m9\u001b[90m, \u001b[39m9\u001b[90m, \u001b[39m9\u001b[90m,\u001b[39m…\n",
      "$ DECIMALS                                                \u001b[3m\u001b[90m<int>\u001b[39m\u001b[23m 0\u001b[90m, \u001b[39m0\u001b[90m, \u001b[39m0\u001b[90m, \u001b[39m0\u001b[90m, \u001b[39m0\u001b[90m,\u001b[39m…\n"
     ]
    }
   ],
   "source": [
    "glimpse(gdp_vec)"
   ]
  },
  {
   "cell_type": "code",
   "execution_count": 5,
   "id": "f5e0aaf4",
   "metadata": {
    "vscode": {
     "languageId": "r"
    }
   },
   "outputs": [
    {
     "name": "stdout",
     "output_type": "stream",
     "text": [
      "\u001b[90m# A tibble: 112 × 4\u001b[39m\n",
      "   quarter   VALUE gdp_previous_quarter delta_gdp\n",
      "     \u001b[3m\u001b[90m<dbl>\u001b[39m\u001b[23m   \u001b[3m\u001b[90m<dbl>\u001b[39m\u001b[23m                \u001b[3m\u001b[90m<dbl>\u001b[39m\u001b[23m     \u001b[3m\u001b[90m<dbl>\u001b[39m\u001b[23m\n",
      "\u001b[90m 1\u001b[39m   \u001b[4m1\u001b[24m997. 1\u001b[4m2\u001b[24m\u001b[4m2\u001b[24m\u001b[4m3\u001b[24m409              1\u001b[4m2\u001b[24m\u001b[4m0\u001b[24m\u001b[4m9\u001b[24m051     1.18 \n",
      "\u001b[90m 2\u001b[39m   \u001b[4m1\u001b[24m997. 1\u001b[4m2\u001b[24m\u001b[4m4\u001b[24m\u001b[4m1\u001b[24m346              1\u001b[4m2\u001b[24m\u001b[4m2\u001b[24m\u001b[4m3\u001b[24m409     1.46 \n",
      "\u001b[90m 3\u001b[39m   \u001b[4m1\u001b[24m997. 1\u001b[4m2\u001b[24m\u001b[4m5\u001b[24m\u001b[4m2\u001b[24m507              1\u001b[4m2\u001b[24m\u001b[4m4\u001b[24m\u001b[4m1\u001b[24m346     0.895\n",
      "\u001b[90m 4\u001b[39m   \u001b[4m1\u001b[24m998. 1\u001b[4m2\u001b[24m\u001b[4m6\u001b[24m\u001b[4m4\u001b[24m546              1\u001b[4m2\u001b[24m\u001b[4m5\u001b[24m\u001b[4m2\u001b[24m507     0.957\n",
      "\u001b[90m 5\u001b[39m   \u001b[4m1\u001b[24m998. 1\u001b[4m2\u001b[24m\u001b[4m7\u001b[24m\u001b[4m0\u001b[24m591              1\u001b[4m2\u001b[24m\u001b[4m6\u001b[24m\u001b[4m4\u001b[24m546     0.477\n",
      "\u001b[90m 6\u001b[39m   \u001b[4m1\u001b[24m998. 1\u001b[4m2\u001b[24m\u001b[4m7\u001b[24m\u001b[4m8\u001b[24m736              1\u001b[4m2\u001b[24m\u001b[4m7\u001b[24m\u001b[4m0\u001b[24m591     0.639\n",
      "\u001b[90m 7\u001b[39m   \u001b[4m1\u001b[24m998. 1\u001b[4m2\u001b[24m\u001b[4m9\u001b[24m\u001b[4m7\u001b[24m677              1\u001b[4m2\u001b[24m\u001b[4m7\u001b[24m\u001b[4m8\u001b[24m736     1.47 \n",
      "\u001b[90m 8\u001b[39m   \u001b[4m1\u001b[24m999. 1\u001b[4m3\u001b[24m\u001b[4m1\u001b[24m\u001b[4m5\u001b[24m508              1\u001b[4m2\u001b[24m\u001b[4m9\u001b[24m\u001b[4m7\u001b[24m677     1.36 \n",
      "\u001b[90m 9\u001b[39m   \u001b[4m1\u001b[24m999. 1\u001b[4m3\u001b[24m\u001b[4m3\u001b[24m\u001b[4m1\u001b[24m290              1\u001b[4m3\u001b[24m\u001b[4m1\u001b[24m\u001b[4m5\u001b[24m508     1.19 \n",
      "\u001b[90m10\u001b[39m   \u001b[4m1\u001b[24m999. 1\u001b[4m3\u001b[24m\u001b[4m5\u001b[24m\u001b[4m3\u001b[24m163              1\u001b[4m3\u001b[24m\u001b[4m3\u001b[24m\u001b[4m1\u001b[24m290     1.63 \n",
      "\u001b[90m# ℹ 102 more rows\u001b[39m\n"
     ]
    }
   ],
   "source": [
    "gdp_quarterly_stationary <- gdp_vec |>\n",
    "  select(Date, VALUE) |>\n",
    "  mutate(quarter = quarter(Date, with_year = TRUE)) |>\n",
    "  group_by(quarter) |>\n",
    "  summarise(VALUE = mean(VALUE, na.rm = TRUE)) |>\n",
    "  ungroup() |>\n",
    "  mutate(\n",
    "    gdp_previous_quarter = lag(VALUE, 1),\n",
    "    delta_gdp = (log(VALUE) - log(gdp_previous_quarter)) * 100\n",
    "  )|>\n",
    "drop_na()\n",
    "\n",
    "print(gdp_quarterly_stationary)\n"
   ]
  },
  {
   "cell_type": "code",
   "execution_count": 7,
   "id": "b2ed03fe",
   "metadata": {
    "vscode": {
     "languageId": "r"
    }
   },
   "outputs": [
    {
     "data": {
      "image/png": "[encoded data removed]",
      "text/plain": [
       "plot without title"
      ]
     },
     "metadata": {
      "image/png": {
       "height": 420,
       "width": 420
      }
     },
     "output_type": "display_data"
    }
   ],
   "source": [
    "ggplot(gdp_quarterly_stationary , aes(x = quarter, y = delta_gdp)) +\n",
    "  geom_line() +\n",
    "  labs(\n",
    "    title = \"gdp pct change\",\n",
    "    x = \"Date\",\n",
    "    y = \"percentage_change\",\n",
    "  ) +\n",
    "  theme_minimal()\n"
   ]
  },
  {
   "cell_type": "code",
   "execution_count": 8,
   "id": "e2810c75",
   "metadata": {
    "vscode": {
     "languageId": "r"
    }
   },
   "outputs": [
    {
     "name": "stderr",
     "output_type": "stream",
     "text": [
      "Warning message in adf.test(na.omit(gdp_quarterly_stationary$delta_gdp)):\n",
      "\"p-value smaller than printed p-value\"\n"
     ]
    },
    {
     "data": {
      "text/plain": [
       "\n",
       "\tAugmented Dickey-Fuller Test\n",
       "\n",
       "data:  na.omit(gdp_quarterly_stationary$delta_gdp)\n",
       "Dickey-Fuller = -4.9999, Lag order = 4, p-value = 0.01\n",
       "alternative hypothesis: stationary\n"
      ]
     },
     "metadata": {},
     "output_type": "display_data"
    }
   ],
   "source": [
    "adf.test(na.omit(gdp_quarterly_stationary$delta_gdp))"
   ]
  }
 ],
 "metadata": {
  "kernelspec": {
   "display_name": "R",
   "language": "R",
   "name": "ir"
  },
  "language_info": {
   "codemirror_mode": "r",
   "file_extension": ".r",
   "mimetype": "text/x-r-source",
   "name": "R",
   "pygments_lexer": "r",
   "version": "4.4.3"
  }
 },
 "nbformat": 4,
 "nbformat_minor": 5
}

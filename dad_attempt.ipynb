{
 "cells": [
  {
   "cell_type": "code",
   "execution_count": 1,
   "id": "4c7cea1f",
   "metadata": {
    "vscode": {
     "languageId": "r"
    }
   },
   "outputs": [
    {
     "name": "stderr",
     "output_type": "stream",
     "text": [
      "── \u001b[1mAttaching core tidyverse packages\u001b[22m ──────────────────────── tidyverse 2.0.0 ──\n",
      "\u001b[32m✔\u001b[39m \u001b[34mdplyr    \u001b[39m 1.1.4     \u001b[32m✔\u001b[39m \u001b[34mreadr    \u001b[39m 2.1.5\n",
      "\u001b[32m✔\u001b[39m \u001b[34mforcats  \u001b[39m 1.0.0     \u001b[32m✔\u001b[39m \u001b[34mstringr  \u001b[39m 1.5.1\n",
      "\u001b[32m✔\u001b[39m \u001b[34mggplot2  \u001b[39m 3.5.2     \u001b[32m✔\u001b[39m \u001b[34mtibble   \u001b[39m 3.3.0\n",
      "\u001b[32m✔\u001b[39m \u001b[34mlubridate\u001b[39m 1.9.4     \u001b[32m✔\u001b[39m \u001b[34mtidyr    \u001b[39m 1.3.1\n",
      "\u001b[32m✔\u001b[39m \u001b[34mpurrr    \u001b[39m 1.1.0     \n",
      "── \u001b[1mConflicts\u001b[22m ────────────────────────────────────────── tidyverse_conflicts() ──\n",
      "\u001b[31m✖\u001b[39m \u001b[34mdplyr\u001b[39m::\u001b[32mfilter()\u001b[39m masks \u001b[34mstats\u001b[39m::filter()\n",
      "\u001b[31m✖\u001b[39m \u001b[34mdplyr\u001b[39m::\u001b[32mlag()\u001b[39m    masks \u001b[34mstats\u001b[39m::lag()\n",
      "\u001b[36mℹ\u001b[39m Use the conflicted package (\u001b[3m\u001b[34m<http://conflicted.r-lib.org/>\u001b[39m\u001b[23m) to force all conflicts to become errors\n",
      "\n",
      "Attaching package: 'vroom'\n",
      "\n",
      "\n",
      "The following objects are masked from 'package:readr':\n",
      "\n",
      "    as.col_spec, col_character, col_date, col_datetime, col_double,\n",
      "    col_factor, col_guess, col_integer, col_logical, col_number,\n",
      "    col_skip, col_time, cols, cols_condense, cols_only, date_names,\n",
      "    date_names_lang, date_names_langs, default_locale, fwf_cols,\n",
      "    fwf_empty, fwf_positions, fwf_widths, locale, output_column,\n",
      "    problems, spec\n",
      "\n",
      "\n",
      "Registered S3 method overwritten by 'quantmod':\n",
      "  method            from\n",
      "  as.zoo.data.frame zoo \n",
      "\n",
      "Loading required package: zoo\n",
      "\n",
      "\n",
      "Attaching package: 'zoo'\n",
      "\n",
      "\n",
      "The following objects are masked from 'package:base':\n",
      "\n",
      "    as.Date, as.Date.numeric\n",
      "\n",
      "\n",
      "Loading required package: sandwich\n",
      "\n",
      "\n",
      "Attaching package: 'strucchange'\n",
      "\n",
      "\n",
      "The following object is masked from 'package:stringr':\n",
      "\n",
      "    boundary\n",
      "\n",
      "\n",
      "Loading required package: MASS\n",
      "\n",
      "\n",
      "Attaching package: 'MASS'\n",
      "\n",
      "\n",
      "The following object is masked from 'package:dplyr':\n",
      "\n",
      "    select\n",
      "\n",
      "\n",
      "Loading required package: urca\n",
      "\n",
      "Loading required package: lmtest\n",
      "\n"
     ]
    }
   ],
   "source": [
    "library(tidyverse)\n",
    "library(cansim)\n",
    "library(readr)\n",
    "library(vroom)\n",
    "library(lubridate)\n",
    "library(tseries)\n",
    "library(strucchange)\n",
    "library(purrr) \n",
    "library(vars)\n",
    "library(fredr)"
   ]
  },
  {
   "cell_type": "code",
   "execution_count": 2,
   "id": "98137c78",
   "metadata": {
    "vscode": {
     "languageId": "r"
    }
   },
   "outputs": [],
   "source": [
    "fredr_set_key('b43b23bac4c602369428a1a4316f23d4')"
   ]
  },
  {
   "cell_type": "code",
   "execution_count": 3,
   "id": "e9d0c825",
   "metadata": {
    "vscode": {
     "languageId": "r"
    }
   },
   "outputs": [
    {
     "name": "stderr",
     "output_type": "stream",
     "text": [
      "\u001b[1mRows: \u001b[22m\u001b[34m616\u001b[39m \u001b[1mColumns: \u001b[22m\u001b[34m4\u001b[39m\n",
      "\u001b[36m──\u001b[39m \u001b[1mColumn specification\u001b[22m \u001b[36m────────────────────────────────────────────────────────\u001b[39m\n",
      "\u001b[1mDelimiter:\u001b[22m \",\"\n",
      "\u001b[31mchr\u001b[39m (4): Data Type, Year, Month, General Customs Value\n",
      "\n",
      "\u001b[36mℹ\u001b[39m Use `spec()` to retrieve the full column specification for this data.\n",
      "\u001b[36mℹ\u001b[39m Specify the column types or set `show_col_types = FALSE` to quiet this message.\n"
     ]
    },
    {
     "name": "stdout",
     "output_type": "stream",
     "text": [
      "Rows: 306\n",
      "Columns: 2\n",
      "$ Date  \u001b[3m\u001b[90m<date>\u001b[39m\u001b[23m 2000-01-01\u001b[90m, \u001b[39m2000-02-01\u001b[90m, \u001b[39m2000-03-01\u001b[90m, \u001b[39m2000-04-01\u001b[90m, \u001b[39m2000-05-01\u001b[90m, \u001b[39m200…\n",
      "$ VALUE \u001b[3m\u001b[90m<dbl>\u001b[39m\u001b[23m 269869762\u001b[90m, \u001b[39m278547963\u001b[90m, \u001b[39m305301730\u001b[90m, \u001b[39m290530227\u001b[90m, \u001b[39m301763964\u001b[90m, \u001b[39m297764412…\n",
      "Rows: 306\n",
      "Columns: 2\n",
      "$ Date  \u001b[3m\u001b[90m<date>\u001b[39m\u001b[23m 2000-01-01\u001b[90m, \u001b[39m2000-02-01\u001b[90m, \u001b[39m2000-03-01\u001b[90m, \u001b[39m2000-04-01\u001b[90m, \u001b[39m2000-05-01\u001b[90m, \u001b[39m200…\n",
      "$ VALUE \u001b[3m\u001b[90m<dbl>\u001b[39m\u001b[23m 17705142820\u001b[90m, \u001b[39m18087403941\u001b[90m, \u001b[39m20618285791\u001b[90m, \u001b[39m18506995213\u001b[90m, \u001b[39m19558432594\u001b[90m,\u001b[39m…\n",
      "Rows: 306\n",
      "Columns: 2\n",
      "$ month            \u001b[3m\u001b[90m<date>\u001b[39m\u001b[23m 2000-01-01\u001b[90m, \u001b[39m2000-02-01\u001b[90m, \u001b[39m2000-03-01\u001b[90m, \u001b[39m2000-04-01\u001b[90m, \u001b[39m2000…\n",
      "$ Approximate_Rate \u001b[3m\u001b[90m<dbl>\u001b[39m\u001b[23m 1.524245\u001b[90m, \u001b[39m1.540011\u001b[90m, \u001b[39m1.480733\u001b[90m, \u001b[39m1.569840\u001b[90m, \u001b[39m1.542884\u001b[90m, \u001b[39m1.4…\n"
     ]
    }
   ],
   "source": [
    "all_tarrif_data <- read_csv(\"C:/Users/Irene/governorschallenge/DataWeb-Query-Export.csv\")\n",
    "\n",
    "general_import_charges <- all_tarrif_data|>\n",
    "filter(`Data Type` == \"General Import Charges\")|>\n",
    "dplyr::select(Year, Month, `General Customs Value`)|>\n",
    "rename(VALUE = `General Customs Value`)|>\n",
    "mutate(\n",
    "    Date = ymd(paste(Year, Month, \"01\", sep = \"-\")),\n",
    "    VALUE = as.numeric(VALUE)\n",
    "  ) |>\n",
    "  dplyr::select(Date, VALUE)|>\n",
    "  arrange(Date)|>\n",
    "  glimpse()\n",
    "\n",
    "general_customs_value <- all_tarrif_data|>\n",
    "filter(`Data Type` == \"General Customs Value\")|>\n",
    "dplyr::select(Year, Month, `General Customs Value`)|>\n",
    "rename(VALUE = `General Customs Value`)|>\n",
    "mutate(\n",
    "    Date = ymd(paste(Year, Month, \"01\", sep = \"-\")),\n",
    "    VALUE = as.numeric(VALUE)\n",
    "  ) |>\n",
    "  dplyr::select(Date, VALUE)|>\n",
    "  arrange(Date)|>\n",
    "  glimpse()\n",
    "\n",
    "\n",
    "\n",
    "tarrif_rate_df <- inner_join(\n",
    "  general_import_charges, \n",
    "  general_customs_value, \n",
    "  by = \"Date\",\n",
    "  suffix = c(\"_charges\", \"_value\")\n",
    ") |>\n",
    "  \n",
    "  # 2. Calculate the approximate tariff rate using the two VALUE columns\n",
    "  mutate(\n",
    "    Approximate_Rate = (VALUE_charges / VALUE_value) * 100\n",
    "  ) |>\n",
    "  rename(month = Date)|>\n",
    "  # 3. Keep only the columns you need for your VAR model\n",
    "  dplyr::select(month, Approximate_Rate)\n",
    "\n",
    "# --- Check the final result ---\n",
    "glimpse(tarrif_rate_df)"
   ]
  },
  {
   "cell_type": "code",
   "execution_count": 4,
   "id": "401604d1",
   "metadata": {
    "vscode": {
     "languageId": "r"
    }
   },
   "outputs": [],
   "source": [
    "cpi_vectors <- c(\n",
    "  \"Food\" = \"v41690915\",\n",
    "  \"Shelter\" = \"v41690916\",\n",
    "  \"Household_operations\" = \"v41690917\",\n",
    "  \"Clothing_footwear\" = \"v41690918\",\n",
    "  \"Transportation\" = \"v41690919\",\n",
    "  \"Health_personal_care\" = \"v41690920\",\n",
    "  \"Recreation_education\" = \"v41690921\",\n",
    "  \"Alcohol_tobacco\" = \"v41690922\"\n",
    ")\n",
    "\n",
    "# Define the official 2023 CPI basket weights (from StatCan Table 18-10-0007-01)\n",
    "# These weights are based on the 2022 Survey of Household Spending.\n",
    "cpi_weights <- c(\n",
    "  \"Food\" = 16.59,\n",
    "  \"Shelter\" = 29.85,\n",
    "  \"Household_operations\" = 13.52,\n",
    "  \"Clothing_footwear\" = 4.49,\n",
    "  \"Transportation\" = 16.14,\n",
    "  \"Health_personal_care\" = 5.17,\n",
    "  \"Recreation_education\" = 9.69,\n",
    "  \"Alcohol_tobacco\" = 4.55\n",
    ")"
   ]
  },
  {
   "cell_type": "code",
   "execution_count": 25,
   "id": "2aa8f45a",
   "metadata": {
    "vscode": {
     "languageId": "r"
    }
   },
   "outputs": [
    {
     "name": "stderr",
     "output_type": "stream",
     "text": [
      "Warning message in as.POSIXlt.POSIXct(x, tz = tz):\n",
      "\"unknown timezone 'America/Toronto'\"\n",
      "Warning message in as.POSIXlt.POSIXct(x, tz = tz):\n",
      "\"unknown timezone 'GMT'\"\n",
      "Warning message in as.POSIXlt.POSIXct(x, tz = tz):\n",
      "\"unknown timezone 'America/New_York'\"\n",
      "Warning message in as.POSIXlt.POSIXct(x, tz = tz):\n",
      "\"unknown timezone 'America/Los_Angeles'\"\n",
      "Warning message in as.POSIXlt.POSIXct(x, tz = tz):\n",
      "\"unknown timezone 'GMT'\"\n",
      "Warning message in as.POSIXlt.POSIXct(x, tz = tz):\n",
      "\"unknown timezone 'America/New_York'\"\n",
      "Accessing CANSIM NDM vectors from Statistics Canada\n",
      "\n",
      "Warning message in as.POSIXlt.POSIXct(x, tz = tz):\n",
      "\"unknown timezone 'America/Toronto'\"\n",
      "Warning message in as.POSIXlt.POSIXct(x, tz = tz):\n",
      "\"unknown timezone 'GMT'\"\n",
      "Warning message in as.POSIXlt.POSIXct(x, tz = tz):\n",
      "\"unknown timezone 'America/New_York'\"\n",
      "Warning message in as.POSIXlt.POSIXct(x, tz = tz):\n",
      "\"unknown timezone 'America/Los_Angeles'\"\n",
      "Warning message in as.POSIXlt.POSIXct(x, tz = tz):\n",
      "\"unknown timezone 'GMT'\"\n",
      "Warning message in as.POSIXlt.POSIXct(x, tz = tz):\n",
      "\"unknown timezone 'America/New_York'\"\n",
      "Accessing CANSIM NDM vectors from Statistics Canada\n",
      "\n",
      "Warning message in as.POSIXlt.POSIXct(x, tz = tz):\n",
      "\"unknown timezone 'America/Toronto'\"\n",
      "Warning message in as.POSIXlt.POSIXct(x, tz = tz):\n",
      "\"unknown timezone 'GMT'\"\n",
      "Warning message in as.POSIXlt.POSIXct(x, tz = tz):\n",
      "\"unknown timezone 'America/New_York'\"\n",
      "Warning message in as.POSIXlt.POSIXct(x, tz = tz):\n",
      "\"unknown timezone 'America/Los_Angeles'\"\n",
      "Warning message in as.POSIXlt.POSIXct(x, tz = tz):\n",
      "\"unknown timezone 'GMT'\"\n",
      "Warning message in as.POSIXlt.POSIXct(x, tz = tz):\n",
      "\"unknown timezone 'America/New_York'\"\n",
      "Accessing CANSIM NDM vectors from Statistics Canada\n",
      "\n",
      "Warning message in as.POSIXlt.POSIXct(x, tz = tz):\n",
      "\"unknown timezone 'America/Toronto'\"\n",
      "Warning message in as.POSIXlt.POSIXct(x, tz = tz):\n",
      "\"unknown timezone 'GMT'\"\n",
      "Warning message in as.POSIXlt.POSIXct(x, tz = tz):\n",
      "\"unknown timezone 'America/New_York'\"\n",
      "Warning message in as.POSIXlt.POSIXct(x, tz = tz):\n",
      "\"unknown timezone 'America/Los_Angeles'\"\n",
      "Warning message in as.POSIXlt.POSIXct(x, tz = tz):\n",
      "\"unknown timezone 'GMT'\"\n",
      "Warning message in as.POSIXlt.POSIXct(x, tz = tz):\n",
      "\"unknown timezone 'America/New_York'\"\n",
      "Accessing CANSIM NDM vectors from Statistics Canada\n",
      "\n",
      "Warning message in as.POSIXlt.POSIXct(x, tz = tz):\n",
      "\"unknown timezone 'America/Toronto'\"\n",
      "Warning message in as.POSIXlt.POSIXct(x, tz = tz):\n",
      "\"unknown timezone 'GMT'\"\n",
      "Warning message in as.POSIXlt.POSIXct(x, tz = tz):\n",
      "\"unknown timezone 'America/New_York'\"\n",
      "Warning message in as.POSIXlt.POSIXct(x, tz = tz):\n",
      "\"unknown timezone 'America/Los_Angeles'\"\n",
      "Warning message in as.POSIXlt.POSIXct(x, tz = tz):\n",
      "\"unknown timezone 'GMT'\"\n",
      "Warning message in as.POSIXlt.POSIXct(x, tz = tz):\n",
      "\"unknown timezone 'America/New_York'\"\n",
      "Accessing CANSIM NDM vectors from Statistics Canada\n",
      "\n",
      "Warning message in as.POSIXlt.POSIXct(x, tz = tz):\n",
      "\"unknown timezone 'America/Toronto'\"\n",
      "Warning message in as.POSIXlt.POSIXct(x, tz = tz):\n",
      "\"unknown timezone 'GMT'\"\n",
      "Warning message in as.POSIXlt.POSIXct(x, tz = tz):\n",
      "\"unknown timezone 'America/New_York'\"\n",
      "Warning message in as.POSIXlt.POSIXct(x, tz = tz):\n",
      "\"unknown timezone 'America/Los_Angeles'\"\n",
      "Warning message in as.POSIXlt.POSIXct(x, tz = tz):\n",
      "\"unknown timezone 'GMT'\"\n",
      "Warning message in as.POSIXlt.POSIXct(x, tz = tz):\n",
      "\"unknown timezone 'America/New_York'\"\n",
      "Accessing CANSIM NDM vectors from Statistics Canada\n",
      "\n",
      "Warning message in as.POSIXlt.POSIXct(x, tz = tz):\n",
      "\"unknown timezone 'America/Toronto'\"\n",
      "Warning message in as.POSIXlt.POSIXct(x, tz = tz):\n",
      "\"unknown timezone 'GMT'\"\n",
      "Warning message in as.POSIXlt.POSIXct(x, tz = tz):\n",
      "\"unknown timezone 'America/New_York'\"\n",
      "Warning message in as.POSIXlt.POSIXct(x, tz = tz):\n",
      "\"unknown timezone 'America/Los_Angeles'\"\n",
      "Warning message in as.POSIXlt.POSIXct(x, tz = tz):\n",
      "\"unknown timezone 'GMT'\"\n",
      "Warning message in as.POSIXlt.POSIXct(x, tz = tz):\n",
      "\"unknown timezone 'America/New_York'\"\n",
      "Accessing CANSIM NDM vectors from Statistics Canada\n",
      "\n",
      "Warning message in as.POSIXlt.POSIXct(x, tz = tz):\n",
      "\"unknown timezone 'America/Toronto'\"\n",
      "Warning message in as.POSIXlt.POSIXct(x, tz = tz):\n",
      "\"unknown timezone 'GMT'\"\n",
      "Warning message in as.POSIXlt.POSIXct(x, tz = tz):\n",
      "\"unknown timezone 'America/New_York'\"\n",
      "Warning message in as.POSIXlt.POSIXct(x, tz = tz):\n",
      "\"unknown timezone 'America/Los_Angeles'\"\n",
      "Warning message in as.POSIXlt.POSIXct(x, tz = tz):\n",
      "\"unknown timezone 'GMT'\"\n",
      "Warning message in as.POSIXlt.POSIXct(x, tz = tz):\n",
      "\"unknown timezone 'America/New_York'\"\n",
      "Accessing CANSIM NDM vectors from Statistics Canada\n",
      "\n",
      "Warning message in as.POSIXlt.POSIXct(x, tz = tz):\n",
      "\"unknown timezone 'America/Toronto'\"\n",
      "Warning message in as.POSIXlt.POSIXct(x, tz = tz):\n",
      "\"unknown timezone 'GMT'\"\n",
      "Warning message in as.POSIXlt.POSIXct(x, tz = tz):\n",
      "\"unknown timezone 'America/New_York'\"\n",
      "Warning message in as.POSIXlt.POSIXct(x, tz = tz):\n",
      "\"unknown timezone 'America/Los_Angeles'\"\n",
      "Warning message in as.POSIXlt.POSIXct(x, tz = tz):\n",
      "\"unknown timezone 'GMT'\"\n",
      "Warning message in as.POSIXlt.POSIXct(x, tz = tz):\n",
      "\"unknown timezone 'America/New_York'\"\n",
      "Accessing CANSIM NDM vectors from Statistics Canada\n",
      "\n",
      "Warning message in as.POSIXlt.POSIXct(x, tz = tz):\n",
      "\"unknown timezone 'America/Toronto'\"\n",
      "Warning message in as.POSIXlt.POSIXct(x, tz = tz):\n",
      "\"unknown timezone 'GMT'\"\n",
      "Warning message in as.POSIXlt.POSIXct(x, tz = tz):\n",
      "\"unknown timezone 'America/New_York'\"\n",
      "Warning message in as.POSIXlt.POSIXct(x, tz = tz):\n",
      "\"unknown timezone 'America/Los_Angeles'\"\n",
      "Warning message in as.POSIXlt.POSIXct(x, tz = tz):\n",
      "\"unknown timezone 'GMT'\"\n",
      "Warning message in as.POSIXlt.POSIXct(x, tz = tz):\n",
      "\"unknown timezone 'America/New_York'\"\n",
      "Accessing CANSIM NDM vectors from Statistics Canada\n",
      "\n",
      "Warning message in as.POSIXlt.POSIXct(x, tz = tz):\n",
      "\"unknown timezone 'America/Toronto'\"\n",
      "Warning message in as.POSIXlt.POSIXct(x, tz = tz):\n",
      "\"unknown timezone 'GMT'\"\n",
      "Warning message in as.POSIXlt.POSIXct(x, tz = tz):\n",
      "\"unknown timezone 'America/New_York'\"\n",
      "Warning message in as.POSIXlt.POSIXct(x, tz = tz):\n",
      "\"unknown timezone 'America/Los_Angeles'\"\n",
      "Warning message in as.POSIXlt.POSIXct(x, tz = tz):\n",
      "\"unknown timezone 'GMT'\"\n",
      "Warning message in as.POSIXlt.POSIXct(x, tz = tz):\n",
      "\"unknown timezone 'America/New_York'\"\n",
      "Accessing CANSIM NDM vectors from Statistics Canada\n",
      "\n"
     ]
    },
    {
     "name": "stdout",
     "output_type": "stream",
     "text": [
      "Rows: 143\n",
      "Columns: 18\n",
      "$ REF_DATE                            \u001b[3m\u001b[90m<chr>\u001b[39m\u001b[23m \"1996-01-01\"\u001b[90m, \u001b[39m\"2001-01-01\"\u001b[90m, \u001b[39m\"2005-…\n",
      "$ Date                                \u001b[3m\u001b[90m<date>\u001b[39m\u001b[23m 1996-01-01\u001b[90m, \u001b[39m2001-01-01\u001b[90m, \u001b[39m2005-01-0…\n",
      "$ GEO                                 \u001b[3m\u001b[90m<fct>\u001b[39m\u001b[23m \"Canada\"\u001b[90m, \u001b[39m\"Canada\"\u001b[90m, \u001b[39m\"Canada\"\u001b[90m, \u001b[39m\"Can…\n",
      "$ `Products and product groups`       \u001b[3m\u001b[90m<fct>\u001b[39m\u001b[23m \"Food\"\u001b[90m, \u001b[39m\"Food\"\u001b[90m, \u001b[39m\"Food\"\u001b[90m, \u001b[39m\"Food\"\u001b[90m, \u001b[39m\"F…\n",
      "$ `Price period of weight`            \u001b[3m\u001b[90m<fct>\u001b[39m\u001b[23m Weight at basket link month prices…\n",
      "$ `Geographic distribution of weight` \u001b[3m\u001b[90m<fct>\u001b[39m\u001b[23m Distribution to selected geographi…\n",
      "$ label                               \u001b[3m\u001b[90m<chr>\u001b[39m\u001b[23m \"Food\"\u001b[90m, \u001b[39m\"Food\"\u001b[90m, \u001b[39m\"Food\"\u001b[90m, \u001b[39m\"Food\"\u001b[90m, \u001b[39m\"F…\n",
      "$ VALUE                               \u001b[3m\u001b[90m<dbl>\u001b[39m\u001b[23m 17.89\u001b[90m, \u001b[39m16.89\u001b[90m, \u001b[39m17.04\u001b[90m, \u001b[39m15.99\u001b[90m, \u001b[39m16.60\u001b[90m,\u001b[39m…\n",
      "$ val_norm                            \u001b[3m\u001b[90m<dbl>\u001b[39m\u001b[23m 17.89\u001b[90m, \u001b[39m16.89\u001b[90m, \u001b[39m17.04\u001b[90m, \u001b[39m15.99\u001b[90m, \u001b[39m16.60\u001b[90m,\u001b[39m…\n",
      "$ SCALAR_ID                           \u001b[3m\u001b[90m<int>\u001b[39m\u001b[23m 0\u001b[90m, \u001b[39m0\u001b[90m, \u001b[39m0\u001b[90m, \u001b[39m0\u001b[90m, \u001b[39m0\u001b[90m, \u001b[39m0\u001b[90m, \u001b[39m0\u001b[90m, \u001b[39m0\u001b[90m, \u001b[39m0\u001b[90m, \u001b[39m0\u001b[90m, \u001b[39m0\u001b[90m, \u001b[39m0…\n",
      "$ VECTOR                              \u001b[3m\u001b[90m<chr>\u001b[39m\u001b[23m \"v91858740\"\u001b[90m, \u001b[39m\"v91858740\"\u001b[90m, \u001b[39m\"v918587…\n",
      "$ cansimTableNumber                   \u001b[3m\u001b[90m<chr>\u001b[39m\u001b[23m \"18-10-0007\"\u001b[90m, \u001b[39m\"18-10-0007\"\u001b[90m, \u001b[39m\"18-10…\n",
      "$ COORDINATE                          \u001b[3m\u001b[90m<chr>\u001b[39m\u001b[23m \"1.2.1.1\"\u001b[90m, \u001b[39m\"1.2.1.1\"\u001b[90m, \u001b[39m\"1.2.1.1\"\u001b[90m, \u001b[39m\"…\n",
      "$ SYMBOL                              \u001b[3m\u001b[90m<int>\u001b[39m\u001b[23m 0\u001b[90m, \u001b[39m0\u001b[90m, \u001b[39m0\u001b[90m, \u001b[39m0\u001b[90m, \u001b[39m0\u001b[90m, \u001b[39m0\u001b[90m, \u001b[39m0\u001b[90m, \u001b[39m0\u001b[90m, \u001b[39m0\u001b[90m, \u001b[39m0\u001b[90m, \u001b[39m0\u001b[90m, \u001b[39m0…\n",
      "$ releaseTime                         \u001b[3m\u001b[90m<chr>\u001b[39m\u001b[23m \"2014-12-19T08:30\"\u001b[90m, \u001b[39m\"2024-06-18T08…\n",
      "$ frequencyCode                       \u001b[3m\u001b[90m<int>\u001b[39m\u001b[23m 18\u001b[90m, \u001b[39m18\u001b[90m, \u001b[39m18\u001b[90m, \u001b[39m18\u001b[90m, \u001b[39m18\u001b[90m, \u001b[39m18\u001b[90m, \u001b[39m18\u001b[90m, \u001b[39m18\u001b[90m, \u001b[39m18…\n",
      "$ DECIMALS                            \u001b[3m\u001b[90m<int>\u001b[39m\u001b[23m 2\u001b[90m, \u001b[39m2\u001b[90m, \u001b[39m2\u001b[90m, \u001b[39m2\u001b[90m, \u001b[39m2\u001b[90m, \u001b[39m2\u001b[90m, \u001b[39m2\u001b[90m, \u001b[39m2\u001b[90m, \u001b[39m2\u001b[90m, \u001b[39m2\u001b[90m, \u001b[39m2\u001b[90m, \u001b[39m2…\n",
      "$ Component                           \u001b[3m\u001b[90m<chr>\u001b[39m\u001b[23m \"Food\"\u001b[90m, \u001b[39m\"Food\"\u001b[90m, \u001b[39m\"Food\"\u001b[90m, \u001b[39m\"Food\"\u001b[90m, \u001b[39m\"F…\n"
     ]
    }
   ],
   "source": [
    "library(cansim)\n",
    "library(dplyr)\n",
    "\n",
    "# 1. Define a named vector with the CANSIM vector IDs for the CPI weights\n",
    "# These are extracted from the data you sent.\n",
    "cpi_weight_vectors <- c(\n",
    "  Food = \"v91858740\",\n",
    "  Shelter = \"v91858892\",\n",
    "  Household_operations = \"v91858926\",\n",
    "  Clothing_footwear = \"v91859016\",\n",
    "  Transportation = \"v91859056\",\n",
    "  Health_personal_care = \"v91859106\",\n",
    "  Recreation_education = \"v91859144\",\n",
    "  Alcohol_tobacco = \"v91859220\",\n",
    "  Energy = \"v91859272\",\n",
    "  Goods = \"v91859278\",\n",
    "  Services = \"v91873252\"\n",
    ")\n",
    "\n",
    "# 2. Download the data for each component in the specified format\n",
    "food_w_df <- get_cansim_vector(cpi_weight_vectors[\"Food\"], start_time = \"1996-01-01\") %>% mutate(Component = \"Food\")\n",
    "shelter_w_df <- get_cansim_vector(cpi_weight_vectors[\"Shelter\"], start_time = \"1996-01-01\") %>% mutate(Component = \"Shelter\")\n",
    "household_w_df <- get_cansim_vector(cpi_weight_vectors[\"Household_operations\"], start_time = \"1996-01-01\") %>% mutate(Component = \"Household_operations\")\n",
    "clothing_w_df <- get_cansim_vector(cpi_weight_vectors[\"Clothing_footwear\"], start_time = \"1996-01-01\") %>% mutate(Component = \"Clothing_footwear\")\n",
    "transport_w_df <- get_cansim_vector(cpi_weight_vectors[\"Transportation\"], start_time = \"1996-01-01\") %>% mutate(Component = \"Transportation\")\n",
    "health_w_df <- get_cansim_vector(cpi_weight_vectors[\"Health_personal_care\"], start_time = \"1996-01-01\") %>% mutate(Component = \"Health_personal_care\")\n",
    "recreation_w_df <- get_cansim_vector(cpi_weight_vectors[\"Recreation_education\"], start_time = \"1996-01-01\") %>% mutate(Component = \"Recreation_education\")\n",
    "alcohol_w_df <- get_cansim_vector(cpi_weight_vectors[\"Alcohol_tobacco\"], start_time = \"1996-01-01\") %>% mutate(Component = \"Alcohol_tobacco\")\n",
    "energy_w_df <- get_cansim_vector(cpi_weight_vectors[\"Energy\"], start_time = \"1996-01-01\") %>% mutate(Component = \"Energy\")\n",
    "goods_w_df <- get_cansim_vector(cpi_weight_vectors[\"Goods\"], start_time = \"1996-01-01\") %>% mutate(Component = \"Goods\")\n",
    "services_w_df <- get_cansim_vector(cpi_weight_vectors[\"Services\"], start_time = \"1996-01-01\") %>% mutate(Component = \"Services\")\n",
    "\n",
    "# Optional: Combine into a single dataframe\n",
    "all_weights_df <- bind_rows(\n",
    "  food_w_df, shelter_w_df, household_w_df, clothing_w_df, transport_w_df,\n",
    "  health_w_df, recreation_w_df, alcohol_w_df, energy_w_df, goods_w_df, services_w_df\n",
    ")\n",
    "\n",
    "# View the combined result\n",
    "glimpse(all_weights_df)"
   ]
  },
  {
   "cell_type": "code",
   "execution_count": 28,
   "id": "3b464fed",
   "metadata": {
    "vscode": {
     "languageId": "r"
    }
   },
   "outputs": [
    {
     "name": "stdout",
     "output_type": "stream",
     "text": [
      "Rows: 12\n",
      "Columns: 12\n",
      "$ date                 \u001b[3m\u001b[90m<date>\u001b[39m\u001b[23m 2001-01-01\u001b[90m, \u001b[39m2005-01-01\u001b[90m, \u001b[39m2009-01-01\u001b[90m, \u001b[39m2011-01-01\u001b[90m, \u001b[39m…\n",
      "$ Food                 \u001b[3m\u001b[90m<dbl>\u001b[39m\u001b[23m 17.89\u001b[90m, \u001b[39m16.89\u001b[90m, \u001b[39m17.04\u001b[90m, \u001b[39m15.99\u001b[90m, \u001b[39m16.60\u001b[90m, \u001b[39m16.41\u001b[90m, \u001b[39m16.23\u001b[90m, \u001b[39m…\n",
      "$ Shelter              \u001b[3m\u001b[90m<dbl>\u001b[39m\u001b[23m 26.75\u001b[90m, \u001b[39m26.75\u001b[90m, \u001b[39m26.62\u001b[90m, \u001b[39m27.49\u001b[90m, \u001b[39m26.26\u001b[90m, \u001b[39m26.80\u001b[90m, \u001b[39m27.15\u001b[90m, \u001b[39m…\n",
      "$ Household_operations \u001b[3m\u001b[90m<dbl>\u001b[39m\u001b[23m 10.76\u001b[90m, \u001b[39m10.58\u001b[90m, \u001b[39m11.10\u001b[90m, \u001b[39m11.55\u001b[90m, \u001b[39m12.66\u001b[90m, \u001b[39m13.14\u001b[90m, \u001b[39m12.97\u001b[90m, \u001b[39m…\n",
      "$ Clothing_footwear    \u001b[3m\u001b[90m<dbl>\u001b[39m\u001b[23m 6.25\u001b[90m, \u001b[39m5.37\u001b[90m, \u001b[39m5.36\u001b[90m, \u001b[39m5.31\u001b[90m, \u001b[39m5.82\u001b[90m, \u001b[39m6.08\u001b[90m, \u001b[39m5.44\u001b[90m, \u001b[39m5.17\u001b[90m, \u001b[39m3…\n",
      "$ Transportation       \u001b[3m\u001b[90m<dbl>\u001b[39m\u001b[23m 18.96\u001b[90m, \u001b[39m19.79\u001b[90m, \u001b[39m19.88\u001b[90m, \u001b[39m20.60\u001b[90m, \u001b[39m19.98\u001b[90m, \u001b[39m19.10\u001b[90m, \u001b[39m19.70\u001b[90m, \u001b[39m…\n",
      "$ Health_personal_care \u001b[3m\u001b[90m<dbl>\u001b[39m\u001b[23m 4.60\u001b[90m, \u001b[39m4.52\u001b[90m, \u001b[39m4.73\u001b[90m, \u001b[39m4.95\u001b[90m, \u001b[39m4.93\u001b[90m, \u001b[39m4.73\u001b[90m, \u001b[39m5.00\u001b[90m, \u001b[39m4.79\u001b[90m, \u001b[39m4…\n",
      "$ Recreation_education \u001b[3m\u001b[90m<dbl>\u001b[39m\u001b[23m 11.25\u001b[90m, \u001b[39m11.96\u001b[90m, \u001b[39m12.20\u001b[90m, \u001b[39m11.20\u001b[90m, \u001b[39m10.96\u001b[90m, \u001b[39m10.89\u001b[90m, \u001b[39m10.89\u001b[90m, \u001b[39m…\n",
      "$ Alcohol_tobacco      \u001b[3m\u001b[90m<dbl>\u001b[39m\u001b[23m 3.54\u001b[90m, \u001b[39m4.13\u001b[90m, \u001b[39m3.07\u001b[90m, \u001b[39m2.91\u001b[90m, \u001b[39m2.79\u001b[90m, \u001b[39m2.86\u001b[90m, \u001b[39m2.63\u001b[90m, \u001b[39m3.21\u001b[90m, \u001b[39m4…\n",
      "$ Energy               \u001b[3m\u001b[90m<dbl>\u001b[39m\u001b[23m 8.38\u001b[90m, \u001b[39m8.84\u001b[90m, \u001b[39m9.38\u001b[90m, \u001b[39m10.08\u001b[90m, \u001b[39m8.56\u001b[90m, \u001b[39m7.79\u001b[90m, \u001b[39m7.06\u001b[90m, \u001b[39m6.50\u001b[90m, \u001b[39m…\n",
      "$ Goods                \u001b[3m\u001b[90m<dbl>\u001b[39m\u001b[23m 50.28\u001b[90m, \u001b[39m48.84\u001b[90m, \u001b[39m48.78\u001b[90m, \u001b[39m47.80\u001b[90m, \u001b[39m48.18\u001b[90m, \u001b[39m46.68\u001b[90m, \u001b[39m45.32\u001b[90m, \u001b[39m…\n",
      "$ Services             \u001b[3m\u001b[90m<dbl>\u001b[39m\u001b[23m 49.72\u001b[90m, \u001b[39m51.16\u001b[90m, \u001b[39m51.22\u001b[90m, \u001b[39m52.20\u001b[90m, \u001b[39m51.82\u001b[90m, \u001b[39m53.32\u001b[90m, \u001b[39m54.68\u001b[90m, \u001b[39m…\n"
     ]
    }
   ],
   "source": [
    "wide_weights_df <- all_weights_df %>%\n",
    "  # The 'Date' column from cansim is already correctly formatted\n",
    "  rename(date = Date) %>% \n",
    "  # Select only the necessary columns\n",
    "  dplyr::select(date, Component, VALUE) %>%\n",
    "  # Pivot!\n",
    "  pivot_wider(\n",
    "    names_from = Component,\n",
    "    values_from = VALUE\n",
    "  ) %>%\n",
    "  # The weights are annual but reported monthly; fill downwards to apply for the whole year\n",
    "  fill(everything(), .direction = \"down\") %>%\n",
    "  # StatCan often reports weights in the month before they apply, so we lag them\n",
    "  # This aligns the 2023 basket weight with the year 2023, for example.\n",
    "  mutate(across(-date, ~lag(.x))) %>%\n",
    "  drop_na() # Remove any rows with NAs after lagging\n",
    "\n",
    "# View the result - it's now ready to be used\n",
    "glimpse(wide_weights_df)"
   ]
  },
  {
   "cell_type": "code",
   "execution_count": 29,
   "id": "3b1b7806",
   "metadata": {
    "vscode": {
     "languageId": "r"
    }
   },
   "outputs": [
    {
     "name": "stdout",
     "output_type": "stream",
     "text": [
      "Rows: 24\n",
      "Columns: 12\n",
      "$ date                 \u001b[3m\u001b[90m<date>\u001b[39m\u001b[23m 2001-01-01\u001b[90m, \u001b[39m2002-01-01\u001b[90m, \u001b[39m2003-01-01\u001b[90m, \u001b[39m2004-01-01\u001b[90m, \u001b[39m…\n",
      "$ Food                 \u001b[3m\u001b[90m<dbl>\u001b[39m\u001b[23m 17.89\u001b[90m, \u001b[39m17.89\u001b[90m, \u001b[39m17.89\u001b[90m, \u001b[39m17.89\u001b[90m, \u001b[39m16.89\u001b[90m, \u001b[39m16.89\u001b[90m, \u001b[39m16.89\u001b[90m, \u001b[39m…\n",
      "$ Shelter              \u001b[3m\u001b[90m<dbl>\u001b[39m\u001b[23m 26.75\u001b[90m, \u001b[39m26.75\u001b[90m, \u001b[39m26.75\u001b[90m, \u001b[39m26.75\u001b[90m, \u001b[39m26.75\u001b[90m, \u001b[39m26.75\u001b[90m, \u001b[39m26.75\u001b[90m, \u001b[39m…\n",
      "$ Household_operations \u001b[3m\u001b[90m<dbl>\u001b[39m\u001b[23m 10.76\u001b[90m, \u001b[39m10.76\u001b[90m, \u001b[39m10.76\u001b[90m, \u001b[39m10.76\u001b[90m, \u001b[39m10.58\u001b[90m, \u001b[39m10.58\u001b[90m, \u001b[39m10.58\u001b[90m, \u001b[39m…\n",
      "$ Clothing_footwear    \u001b[3m\u001b[90m<dbl>\u001b[39m\u001b[23m 6.25\u001b[90m, \u001b[39m6.25\u001b[90m, \u001b[39m6.25\u001b[90m, \u001b[39m6.25\u001b[90m, \u001b[39m5.37\u001b[90m, \u001b[39m5.37\u001b[90m, \u001b[39m5.37\u001b[90m, \u001b[39m5.37\u001b[90m, \u001b[39m5…\n",
      "$ Transportation       \u001b[3m\u001b[90m<dbl>\u001b[39m\u001b[23m 18.96\u001b[90m, \u001b[39m18.96\u001b[90m, \u001b[39m18.96\u001b[90m, \u001b[39m18.96\u001b[90m, \u001b[39m19.79\u001b[90m, \u001b[39m19.79\u001b[90m, \u001b[39m19.79\u001b[90m, \u001b[39m…\n",
      "$ Health_personal_care \u001b[3m\u001b[90m<dbl>\u001b[39m\u001b[23m 4.60\u001b[90m, \u001b[39m4.60\u001b[90m, \u001b[39m4.60\u001b[90m, \u001b[39m4.60\u001b[90m, \u001b[39m4.52\u001b[90m, \u001b[39m4.52\u001b[90m, \u001b[39m4.52\u001b[90m, \u001b[39m4.52\u001b[90m, \u001b[39m4…\n",
      "$ Recreation_education \u001b[3m\u001b[90m<dbl>\u001b[39m\u001b[23m 11.25\u001b[90m, \u001b[39m11.25\u001b[90m, \u001b[39m11.25\u001b[90m, \u001b[39m11.25\u001b[90m, \u001b[39m11.96\u001b[90m, \u001b[39m11.96\u001b[90m, \u001b[39m11.96\u001b[90m, \u001b[39m…\n",
      "$ Alcohol_tobacco      \u001b[3m\u001b[90m<dbl>\u001b[39m\u001b[23m 3.54\u001b[90m, \u001b[39m3.54\u001b[90m, \u001b[39m3.54\u001b[90m, \u001b[39m3.54\u001b[90m, \u001b[39m4.13\u001b[90m, \u001b[39m4.13\u001b[90m, \u001b[39m4.13\u001b[90m, \u001b[39m4.13\u001b[90m, \u001b[39m3…\n",
      "$ Energy               \u001b[3m\u001b[90m<dbl>\u001b[39m\u001b[23m 8.38\u001b[90m, \u001b[39m8.38\u001b[90m, \u001b[39m8.38\u001b[90m, \u001b[39m8.38\u001b[90m, \u001b[39m8.84\u001b[90m, \u001b[39m8.84\u001b[90m, \u001b[39m8.84\u001b[90m, \u001b[39m8.84\u001b[90m, \u001b[39m9…\n",
      "$ Goods                \u001b[3m\u001b[90m<dbl>\u001b[39m\u001b[23m 50.28\u001b[90m, \u001b[39m50.28\u001b[90m, \u001b[39m50.28\u001b[90m, \u001b[39m50.28\u001b[90m, \u001b[39m48.84\u001b[90m, \u001b[39m48.84\u001b[90m, \u001b[39m48.84\u001b[90m, \u001b[39m…\n",
      "$ Services             \u001b[3m\u001b[90m<dbl>\u001b[39m\u001b[23m 49.72\u001b[90m, \u001b[39m49.72\u001b[90m, \u001b[39m49.72\u001b[90m, \u001b[39m49.72\u001b[90m, \u001b[39m51.16\u001b[90m, \u001b[39m51.16\u001b[90m, \u001b[39m51.16\u001b[90m, \u001b[39m…\n"
     ]
    }
   ],
   "source": [
    "wide_weights_df <- wide_weights_df %>%\n",
    "  mutate(date = ymd(date))\n",
    "\n",
    "# Complete the dataframe to have a row for every year and fill the values down\n",
    "yearly_weights_df <- wide_weights_df %>%\n",
    "  # Create rows for every year from the min to the max year in the data\n",
    "  complete(date = seq.Date(min(date), max(date), by = \"year\")) %>%\n",
    "  \n",
    "  # Fill the NA values in all columns (except 'date') with the last known value\n",
    "  fill(everything(), .direction = \"down\")\n",
    "\n",
    "# View the result\n",
    "# You'll see that you now have a row for 2001, 2002, 2003, 2004, etc.\n",
    "glimpse(yearly_weights_df)"
   ]
  },
  {
   "cell_type": "code",
   "execution_count": 7,
   "id": "920a1006",
   "metadata": {
    "vscode": {
     "languageId": "r"
    }
   },
   "outputs": [
    {
     "name": "stderr",
     "output_type": "stream",
     "text": [
      "Warning message in as.POSIXlt.POSIXct(x, tz = tz):\n",
      "\"unknown timezone 'America/Toronto'\"\n"
     ]
    },
    {
     "name": "stderr",
     "output_type": "stream",
     "text": [
      "Warning message in as.POSIXlt.POSIXct(x, tz = tz):\n",
      "\"unknown timezone 'GMT'\"\n",
      "Warning message in as.POSIXlt.POSIXct(x, tz = tz):\n",
      "\"unknown timezone 'America/New_York'\"\n",
      "Warning message in as.POSIXlt.POSIXct(x, tz = tz):\n",
      "\"unknown timezone 'America/Los_Angeles'\"\n",
      "Warning message in as.POSIXlt.POSIXct(x, tz = tz):\n",
      "\"unknown timezone 'GMT'\"\n",
      "Warning message in as.POSIXlt.POSIXct(x, tz = tz):\n",
      "\"unknown timezone 'America/New_York'\"\n",
      "Reading CANSIM NDM vectors from temporary cache\n",
      "\n",
      "Warning message in as.POSIXlt.POSIXct(x, tz = tz):\n",
      "\"unknown timezone 'America/Toronto'\"\n",
      "Warning message in as.POSIXlt.POSIXct(x, tz = tz):\n",
      "\"unknown timezone 'GMT'\"\n",
      "Warning message in as.POSIXlt.POSIXct(x, tz = tz):\n",
      "\"unknown timezone 'America/New_York'\"\n",
      "Warning message in as.POSIXlt.POSIXct(x, tz = tz):\n",
      "\"unknown timezone 'America/Los_Angeles'\"\n",
      "Warning message in as.POSIXlt.POSIXct(x, tz = tz):\n",
      "\"unknown timezone 'GMT'\"\n",
      "Warning message in as.POSIXlt.POSIXct(x, tz = tz):\n",
      "\"unknown timezone 'America/New_York'\"\n",
      "Reading CANSIM NDM vectors from temporary cache\n",
      "\n",
      "Warning message in as.POSIXlt.POSIXct(x, tz = tz):\n",
      "\"unknown timezone 'America/Toronto'\"\n",
      "Warning message in as.POSIXlt.POSIXct(x, tz = tz):\n",
      "\"unknown timezone 'GMT'\"\n",
      "Warning message in as.POSIXlt.POSIXct(x, tz = tz):\n",
      "\"unknown timezone 'America/New_York'\"\n",
      "Warning message in as.POSIXlt.POSIXct(x, tz = tz):\n",
      "\"unknown timezone 'America/Los_Angeles'\"\n",
      "Warning message in as.POSIXlt.POSIXct(x, tz = tz):\n",
      "\"unknown timezone 'GMT'\"\n",
      "Warning message in as.POSIXlt.POSIXct(x, tz = tz):\n",
      "\"unknown timezone 'America/New_York'\"\n",
      "Reading CANSIM NDM vectors from temporary cache\n",
      "\n",
      "Warning message in as.POSIXlt.POSIXct(x, tz = tz):\n",
      "\"unknown timezone 'America/Toronto'\"\n",
      "Warning message in as.POSIXlt.POSIXct(x, tz = tz):\n",
      "\"unknown timezone 'GMT'\"\n",
      "Warning message in as.POSIXlt.POSIXct(x, tz = tz):\n",
      "\"unknown timezone 'America/New_York'\"\n",
      "Warning message in as.POSIXlt.POSIXct(x, tz = tz):\n",
      "\"unknown timezone 'America/Los_Angeles'\"\n",
      "Warning message in as.POSIXlt.POSIXct(x, tz = tz):\n",
      "\"unknown timezone 'GMT'\"\n",
      "Warning message in as.POSIXlt.POSIXct(x, tz = tz):\n",
      "\"unknown timezone 'America/New_York'\"\n",
      "Reading CANSIM NDM vectors from temporary cache\n",
      "\n",
      "Warning message in as.POSIXlt.POSIXct(x, tz = tz):\n",
      "\"unknown timezone 'America/Toronto'\"\n",
      "Warning message in as.POSIXlt.POSIXct(x, tz = tz):\n",
      "\"unknown timezone 'GMT'\"\n",
      "Warning message in as.POSIXlt.POSIXct(x, tz = tz):\n",
      "\"unknown timezone 'America/New_York'\"\n",
      "Warning message in as.POSIXlt.POSIXct(x, tz = tz):\n",
      "\"unknown timezone 'America/Los_Angeles'\"\n",
      "Warning message in as.POSIXlt.POSIXct(x, tz = tz):\n",
      "\"unknown timezone 'GMT'\"\n",
      "Warning message in as.POSIXlt.POSIXct(x, tz = tz):\n",
      "\"unknown timezone 'America/New_York'\"\n",
      "Reading CANSIM NDM vectors from temporary cache\n",
      "\n",
      "Warning message in as.POSIXlt.POSIXct(x, tz = tz):\n",
      "\"unknown timezone 'America/Toronto'\"\n",
      "Warning message in as.POSIXlt.POSIXct(x, tz = tz):\n",
      "\"unknown timezone 'GMT'\"\n",
      "Warning message in as.POSIXlt.POSIXct(x, tz = tz):\n",
      "\"unknown timezone 'America/New_York'\"\n",
      "Warning message in as.POSIXlt.POSIXct(x, tz = tz):\n",
      "\"unknown timezone 'America/Los_Angeles'\"\n",
      "Warning message in as.POSIXlt.POSIXct(x, tz = tz):\n",
      "\"unknown timezone 'GMT'\"\n",
      "Warning message in as.POSIXlt.POSIXct(x, tz = tz):\n",
      "\"unknown timezone 'America/New_York'\"\n",
      "Reading CANSIM NDM vectors from temporary cache\n",
      "\n",
      "Warning message in as.POSIXlt.POSIXct(x, tz = tz):\n",
      "\"unknown timezone 'America/Toronto'\"\n",
      "Warning message in as.POSIXlt.POSIXct(x, tz = tz):\n",
      "\"unknown timezone 'GMT'\"\n",
      "Warning message in as.POSIXlt.POSIXct(x, tz = tz):\n",
      "\"unknown timezone 'America/New_York'\"\n",
      "Warning message in as.POSIXlt.POSIXct(x, tz = tz):\n",
      "\"unknown timezone 'America/Los_Angeles'\"\n",
      "Warning message in as.POSIXlt.POSIXct(x, tz = tz):\n",
      "\"unknown timezone 'GMT'\"\n",
      "Warning message in as.POSIXlt.POSIXct(x, tz = tz):\n",
      "\"unknown timezone 'America/New_York'\"\n",
      "Reading CANSIM NDM vectors from temporary cache\n",
      "\n",
      "Warning message in as.POSIXlt.POSIXct(x, tz = tz):\n",
      "\"unknown timezone 'America/Toronto'\"\n",
      "Warning message in as.POSIXlt.POSIXct(x, tz = tz):\n",
      "\"unknown timezone 'GMT'\"\n",
      "Warning message in as.POSIXlt.POSIXct(x, tz = tz):\n",
      "\"unknown timezone 'America/New_York'\"\n",
      "Warning message in as.POSIXlt.POSIXct(x, tz = tz):\n",
      "\"unknown timezone 'America/Los_Angeles'\"\n",
      "Warning message in as.POSIXlt.POSIXct(x, tz = tz):\n",
      "\"unknown timezone 'GMT'\"\n",
      "Warning message in as.POSIXlt.POSIXct(x, tz = tz):\n",
      "\"unknown timezone 'America/New_York'\"\n",
      "Reading CANSIM NDM vectors from temporary cache\n",
      "\n"
     ]
    }
   ],
   "source": [
    "food_df <- get_cansim_vector(cpi_vectors[\"Food\"], start_time = \"2000-01-01\") %>% mutate(Component = \"Food\")\n",
    "shelter_df <- get_cansim_vector(cpi_vectors[\"Shelter\"], start_time = \"2000-01-01\") %>% mutate(Component = \"Shelter\")\n",
    "household_df <- get_cansim_vector(cpi_vectors[\"Household_operations\"], start_time = \"2000-01-01\") %>% mutate(Component = \"Household_operations\")\n",
    "clothing_df <- get_cansim_vector(cpi_vectors[\"Clothing_footwear\"], start_time = \"2000-01-01\") %>% mutate(Component = \"Clothing_footwear\")\n",
    "transport_df <- get_cansim_vector(cpi_vectors[\"Transportation\"], start_time = \"2000-01-01\") %>% mutate(Component = \"Transportation\")\n",
    "health_df <- get_cansim_vector(cpi_vectors[\"Health_personal_care\"], start_time = \"2000-01-01\") %>% mutate(Component = \"Health_personal_care\")\n",
    "recreation_df <- get_cansim_vector(cpi_vectors[\"Recreation_education\"], start_time = \"2000-01-01\") %>% mutate(Component = \"Recreation_education\")\n",
    "alcohol_df <- get_cansim_vector(cpi_vectors[\"Alcohol_tobacco\"], start_time = \"2000-01-01\") %>% mutate(Component = \"Alcohol_tobacco\")\n"
   ]
  },
  {
   "cell_type": "code",
   "execution_count": 9,
   "id": "3698050f",
   "metadata": {
    "vscode": {
     "languageId": "r"
    }
   },
   "outputs": [
    {
     "name": "stdout",
     "output_type": "stream",
     "text": [
      "Download complete. Processing data...\n"
     ]
    },
    {
     "name": "stdout",
     "output_type": "stream",
     "text": [
      "Successfully processed CPI data. Preview:\n",
      "\u001b[90m# A tibble: 6 × 9\u001b[39m\n",
      "  Date        Food Shelter Household_operations Clothing_footwear Transportation\n",
      "  \u001b[3m\u001b[90m<chr>\u001b[39m\u001b[23m      \u001b[3m\u001b[90m<dbl>\u001b[39m\u001b[23m   \u001b[3m\u001b[90m<dbl>\u001b[39m\u001b[23m                \u001b[3m\u001b[90m<dbl>\u001b[39m\u001b[23m             \u001b[3m\u001b[90m<dbl>\u001b[39m\u001b[23m          \u001b[3m\u001b[90m<dbl>\u001b[39m\u001b[23m\n",
      "\u001b[90m1\u001b[39m 2000-01-01  91.8    93.8                 95.8             100.            94.7\n",
      "\u001b[90m2\u001b[39m 2000-02-01  91.8    94.4                 96.1             100.            95.6\n",
      "\u001b[90m3\u001b[39m 2000-03-01  92.1    94.5                 96.3              99.9           97.5\n",
      "\u001b[90m4\u001b[39m 2000-04-01  92.3    94.5                 96.1              99.5           96.1\n",
      "\u001b[90m5\u001b[39m 2000-05-01  92.8    94.7                 96.2             100.            96.6\n",
      "\u001b[90m6\u001b[39m 2000-06-01  93.1    95                   96.5             100.            98  \n",
      "\u001b[90m# ℹ 3 more variables: Health_personal_care <dbl>, Recreation_education <dbl>,\u001b[39m\n",
      "\u001b[90m#   Alcohol_tobacco <dbl>\u001b[39m\n"
     ]
    }
   ],
   "source": [
    "raw_data_list <- rbind(food_df, shelter_df, household_df, clothing_df, transport_df, health_df, recreation_df, alcohol_df)\n",
    "\n",
    "cat(\"Download complete. Processing data...\\n\")\n",
    "\n",
    "# Clean the data and pivot to a wide format\n",
    "cpi_data_wide <- raw_data_list %>%\n",
    "  dplyr::select(Date = REF_DATE, Component, Value = VALUE) %>%\n",
    "  # Pivot so each component has its own column\n",
    "  pivot_wider(names_from = Component, values_from = Value) %>%\n",
    "  # Arrange by date to ensure correct order\n",
    "  arrange(Date)\n",
    "\n",
    "cat(\"Successfully processed CPI data. Preview:\\n\")\n",
    "print(head(cpi_data_wide))\n"
   ]
  },
  {
   "cell_type": "code",
   "execution_count": null,
   "id": "a1738c50",
   "metadata": {
    "vscode": {
     "languageId": "r"
    }
   },
   "outputs": [],
   "source": [
    "groups <- list(\n",
    "  Shelter = c(\"Shelter\"),\n",
    "  Volatile_Components = c(\"Food\", \"Transportation\"),\n",
    "  Core_Goods = c(\"Household_operations\", \"Clothing_footwear\", \"Alcohol_tobacco\"),\n",
    "  Core_Services = c(\"Health_personal_care\", \"Recreation_education\")\n",
    ")\n"
   ]
  },
  {
   "cell_type": "code",
   "execution_count": 53,
   "id": "b773d7d5",
   "metadata": {
    "vscode": {
     "languageId": "r"
    }
   },
   "outputs": [
    {
     "name": "stdout",
     "output_type": "stream",
     "text": [
      "Successfully calculated dynamically weighted CPI levels with explicit rescaling. Preview:\n",
      "Rows: 307\n",
      "Columns: 5\n",
      "$ Date                      \u001b[3m\u001b[90m<chr>\u001b[39m\u001b[23m \"2000-01-01\"\u001b[90m, \u001b[39m\"2000-02-01\"\u001b[90m, \u001b[39m\"2000-03-01\"\u001b[90m, \u001b[39m\"2…\n",
      "$ Shelter_Index             \u001b[3m\u001b[90m<dbl>\u001b[39m\u001b[23m \u001b[31mNA\u001b[39m\u001b[90m, \u001b[39m\u001b[31mNA\u001b[39m\u001b[90m, \u001b[39m\u001b[31mNA\u001b[39m\u001b[90m, \u001b[39m\u001b[31mNA\u001b[39m\u001b[90m, \u001b[39m\u001b[31mNA\u001b[39m\u001b[90m, \u001b[39m\u001b[31mNA\u001b[39m\u001b[90m, \u001b[39m\u001b[31mNA\u001b[39m\u001b[90m, \u001b[39m\u001b[31mNA\u001b[39m\u001b[90m, \u001b[39m\u001b[31mNA\u001b[39m\u001b[90m, \u001b[39m\u001b[31mNA\u001b[39m\u001b[90m, \u001b[39m\u001b[31mNA\u001b[39m\u001b[90m, \u001b[39m…\n",
      "$ Volatile_Components_Index \u001b[3m\u001b[90m<dbl>\u001b[39m\u001b[23m \u001b[31mNA\u001b[39m\u001b[90m, \u001b[39m\u001b[31mNA\u001b[39m\u001b[90m, \u001b[39m\u001b[31mNA\u001b[39m\u001b[90m, \u001b[39m\u001b[31mNA\u001b[39m\u001b[90m, \u001b[39m\u001b[31mNA\u001b[39m\u001b[90m, \u001b[39m\u001b[31mNA\u001b[39m\u001b[90m, \u001b[39m\u001b[31mNA\u001b[39m\u001b[90m, \u001b[39m\u001b[31mNA\u001b[39m\u001b[90m, \u001b[39m\u001b[31mNA\u001b[39m\u001b[90m, \u001b[39m\u001b[31mNA\u001b[39m\u001b[90m, \u001b[39m\u001b[31mNA\u001b[39m\u001b[90m, \u001b[39m…\n",
      "$ Core_Goods_Index          \u001b[3m\u001b[90m<dbl>\u001b[39m\u001b[23m \u001b[31mNA\u001b[39m\u001b[90m, \u001b[39m\u001b[31mNA\u001b[39m\u001b[90m, \u001b[39m\u001b[31mNA\u001b[39m\u001b[90m, \u001b[39m\u001b[31mNA\u001b[39m\u001b[90m, \u001b[39m\u001b[31mNA\u001b[39m\u001b[90m, \u001b[39m\u001b[31mNA\u001b[39m\u001b[90m, \u001b[39m\u001b[31mNA\u001b[39m\u001b[90m, \u001b[39m\u001b[31mNA\u001b[39m\u001b[90m, \u001b[39m\u001b[31mNA\u001b[39m\u001b[90m, \u001b[39m\u001b[31mNA\u001b[39m\u001b[90m, \u001b[39m\u001b[31mNA\u001b[39m\u001b[90m, \u001b[39m…\n",
      "$ Core_Services_Index       \u001b[3m\u001b[90m<dbl>\u001b[39m\u001b[23m \u001b[31mNA\u001b[39m\u001b[90m, \u001b[39m\u001b[31mNA\u001b[39m\u001b[90m, \u001b[39m\u001b[31mNA\u001b[39m\u001b[90m, \u001b[39m\u001b[31mNA\u001b[39m\u001b[90m, \u001b[39m\u001b[31mNA\u001b[39m\u001b[90m, \u001b[39m\u001b[31mNA\u001b[39m\u001b[90m, \u001b[39m\u001b[31mNA\u001b[39m\u001b[90m, \u001b[39m\u001b[31mNA\u001b[39m\u001b[90m, \u001b[39m\u001b[31mNA\u001b[39m\u001b[90m, \u001b[39m\u001b[31mNA\u001b[39m\u001b[90m, \u001b[39m\u001b[31mNA\u001b[39m\u001b[90m, \u001b[39m…\n"
     ]
    }
   ],
   "source": [
    "calculate_group_index <- function(cpi_values, weights) {\n",
    "  \n",
    "  # Sum the weights for only the components in the group for a given month\n",
    "  total_group_weight <- sum(weights, na.rm = TRUE)\n",
    "  \n",
    "  # Avoid division by zero if weights are missing or zero\n",
    "  if (total_group_weight == 0) return(NA_real_)\n",
    "  \n",
    "  # Explicitly rescale the weights so they sum to 1 *within the group*\n",
    "  rescaled_weights <- weights / total_group_weight\n",
    "  \n",
    "  # Calculate the final index by summing the product of CPI values and rescaled weights\n",
    "  weighted_index <- sum(cpi_values * rescaled_weights, na.rm = TRUE)\n",
    "  \n",
    "  return(weighted_index)\n",
    "}\n",
    "\n",
    "\n",
    "# 2. Apply this function to your joined data\n",
    "# This code replaces the final calculation step from the previous script\n",
    "final_weighted_cpi_levels_explicit <- data_with_weights %>%\n",
    "  # Perform the operation for each row (i.e., for each month)\n",
    "  rowwise() %>%\n",
    "  mutate(\n",
    "    Shelter_Index = calculate_group_index(\n",
    "      cpi_values = c_across(all_of(paste0(groups$Shelter, \".x\"))),\n",
    "      weights    = c_across(all_of(paste0(groups$Shelter, \".y\")))\n",
    "    ),\n",
    "    Volatile_Components_Index = calculate_group_index(\n",
    "      cpi_values = c_across(all_of(paste0(groups$Volatile_Components, \".x\"))),\n",
    "      weights    = c_across(all_of(paste0(groups$Volatile_Components, \".y\")))\n",
    "    ),\n",
    "    Core_Goods_Index = calculate_group_index(\n",
    "      cpi_values = c_across(all_of(paste0(groups$Core_Goods, \".x\"))),\n",
    "      weights    = c_across(all_of(paste0(groups$Core_Goods, \".y\")))\n",
    "    ),\n",
    "    Core_Services_Index = calculate_group_index(\n",
    "      cpi_values = c_across(all_of(paste0(groups$Core_Services, \".x\"))),\n",
    "      weights    = c_across(all_of(paste0(groups$Core_Services, \".y\")))\n",
    "    )\n",
    "  ) %>%\n",
    "  ungroup() %>%\n",
    "  # Select the final columns you need\n",
    "  dplyr::select(Date, ends_with(\"_Index\"))\n",
    "\n",
    "# View the result\n",
    "cat(\"Successfully calculated dynamically weighted CPI levels with explicit rescaling. Preview:\\n\")\n",
    "glimpse(final_weighted_cpi_levels_explicit)\n"
   ]
  },
  {
   "cell_type": "code",
   "execution_count": 35,
   "id": "87f62f06",
   "metadata": {
    "vscode": {
     "languageId": "r"
    }
   },
   "outputs": [
    {
     "name": "stdout",
     "output_type": "stream",
     "text": [
      "Successfully calculated monthly changes. Preview:\n",
      "\u001b[90m# A tibble: 6 × 9\u001b[39m\n",
      "  Date       yoy_Food yoy_Shelter yoy_Household_operations yoy_Clothing_footwear\n",
      "  \u001b[3m\u001b[90m<chr>\u001b[39m\u001b[23m         \u001b[3m\u001b[90m<dbl>\u001b[39m\u001b[23m       \u001b[3m\u001b[90m<dbl>\u001b[39m\u001b[23m                    \u001b[3m\u001b[90m<dbl>\u001b[39m\u001b[23m                 \u001b[3m\u001b[90m<dbl>\u001b[39m\u001b[23m\n",
      "\u001b[90m1\u001b[39m 2001-01-01     3.49        3.94                     1.67                 0.598\n",
      "\u001b[90m2\u001b[39m 2001-02-01     4.47        3.18                     1.56                 1.10 \n",
      "\u001b[90m3\u001b[39m 2001-03-01     4.89        4.02                     1.45                 1.20 \n",
      "\u001b[90m4\u001b[39m 2001-04-01     4.98        4.66                     2.19                 1.31 \n",
      "\u001b[90m5\u001b[39m 2001-05-01     5.06        5.60                     2.39                 0.299\n",
      "\u001b[90m6\u001b[39m 2001-06-01     4.73        5.58                     2.28                 0    \n",
      "\u001b[90m# ℹ 4 more variables: yoy_Transportation <dbl>, yoy_Health_personal_care <dbl>,\u001b[39m\n",
      "\u001b[90m#   yoy_Recreation_education <dbl>, yoy_Alcohol_tobacco <dbl>\u001b[39m\n"
     ]
    }
   ],
   "source": [
    "cpi_yoy_changes <- cpi_data_wide %>%\n",
    "  # Arrange by date to ensure the 12-month lag is calculated correctly\n",
    "  arrange(Date) %>%\n",
    "  mutate(across(\n",
    "    .cols = -Date, # Apply to all columns except 'Date'\n",
    "    # Change lag from 1 to 12\n",
    "    .fns = ~ (.x / lag(.x, 12) - 1) * 100, \n",
    "    .names = \"yoy_{.col}\" # Create new columns with a 'yoy_' prefix\n",
    "  )) %>%\n",
    "  # Select only the new yoy columns and the Date column\n",
    "  dplyr::select(Date, starts_with(\"yoy_\")) %>%\n",
    "  # Remove the first 12 rows which will be NA after the lag() operation\n",
    "  na.omit()\n",
    "\n",
    "cat(\"Successfully calculated monthly changes. Preview:\\n\")\n",
    "print(head(cpi_yoy_changes))"
   ]
  },
  {
   "cell_type": "code",
   "execution_count": 38,
   "id": "f94a7644",
   "metadata": {
    "vscode": {
     "languageId": "r"
    }
   },
   "outputs": [
    {
     "name": "stdout",
     "output_type": "stream",
     "text": [
      "Successfully joined CPI changes with historical weights. Preview:\n",
      "\u001b[90m# A tibble: 6 × 21\u001b[39m\n",
      "  Date       yoy_Food yoy_Shelter yoy_Household_operations yoy_Clothing_footwear\n",
      "  \u001b[3m\u001b[90m<chr>\u001b[39m\u001b[23m         \u001b[3m\u001b[90m<dbl>\u001b[39m\u001b[23m       \u001b[3m\u001b[90m<dbl>\u001b[39m\u001b[23m                    \u001b[3m\u001b[90m<dbl>\u001b[39m\u001b[23m                 \u001b[3m\u001b[90m<dbl>\u001b[39m\u001b[23m\n",
      "\u001b[90m1\u001b[39m 2001-01-01     3.49        3.94                     1.67                 0.598\n",
      "\u001b[90m2\u001b[39m 2001-02-01     4.47        3.18                     1.56                 1.10 \n",
      "\u001b[90m3\u001b[39m 2001-03-01     4.89        4.02                     1.45                 1.20 \n",
      "\u001b[90m4\u001b[39m 2001-04-01     4.98        4.66                     2.19                 1.31 \n",
      "\u001b[90m5\u001b[39m 2001-05-01     5.06        5.60                     2.39                 0.299\n",
      "\u001b[90m6\u001b[39m 2001-06-01     4.73        5.58                     2.28                 0    \n",
      "\u001b[90m# ℹ 16 more variables: yoy_Transportation <dbl>,\u001b[39m\n",
      "\u001b[90m#   yoy_Health_personal_care <dbl>, yoy_Recreation_education <dbl>,\u001b[39m\n",
      "\u001b[90m#   yoy_Alcohol_tobacco <dbl>, Year <dbl>, Food <dbl>, Shelter <dbl>,\u001b[39m\n",
      "\u001b[90m#   Household_operations <dbl>, Clothing_footwear <dbl>, Transportation <dbl>,\u001b[39m\n",
      "\u001b[90m#   Health_personal_care <dbl>, Recreation_education <dbl>,\u001b[39m\n",
      "\u001b[90m#   Alcohol_tobacco <dbl>, Energy <dbl>, Goods <dbl>, Services <dbl>\u001b[39m\n"
     ]
    }
   ],
   "source": [
    "# Prepare the CPI data by adding a 'Year' column\n",
    "cpi_to_join <- cpi_yoy_changes %>%\n",
    "  mutate(Year = year(Date))\n",
    "\n",
    "# Prepare the weights data by adding a 'Year' column\n",
    "weights_to_join <- yearly_weights_df %>%\n",
    "  mutate(Year = year(date)) %>%\n",
    "  dplyr::select(-date) # Remove the old date column to avoid confusion\n",
    "\n",
    "# Join the two dataframes by 'Year'\n",
    "final_historical_df <- cpi_to_join %>%\n",
    "  left_join(weights_to_join, by = \"Year\")\n",
    "\n",
    "cat(\"Successfully joined CPI changes with historical weights. Preview:\\n\")\n",
    "print(head(final_historical_df))"
   ]
  },
  {
   "cell_type": "code",
   "execution_count": 10,
   "id": "85abb12d",
   "metadata": {
    "vscode": {
     "languageId": "r"
    }
   },
   "outputs": [],
   "source": [
    "groups <- list(\n",
    "  Shelter = c(\"Shelter\"),\n",
    "  Volatile_Components = c(\"Food\", \"Transportation\"),\n",
    "  Core_Goods = c(\"Household_operations\", \"Clothing_footwear\", \"Alcohol_tobacco\"),\n",
    "  Core_Services = c(\"Health_personal_care\", \"Recreation_education\")\n",
    ")\n"
   ]
  },
  {
   "cell_type": "code",
   "execution_count": 12,
   "id": "0c9163cc",
   "metadata": {
    "vscode": {
     "languageId": "r"
    }
   },
   "outputs": [],
   "source": [
    "final_weighted_cpi <- cpi_data_wide %>% dplyr::select(Date)\n",
    "\n",
    "# Loop through each defined group to calculate its weighted CPI\n",
    "for (group_name in names(groups)) {\n",
    "  \n",
    "  # Get the component names for the current group\n",
    "  components_in_group <- groups[[group_name]]\n",
    "  \n",
    "  # Get the CPI data and weights for only these components\n",
    "  group_cpi_data <- cpi_data_wide[, components_in_group, drop = FALSE]\n",
    "  group_weights <- cpi_weights[components_in_group]\n",
    "  \n",
    "  # Calculate the sum of weights for this specific group\n",
    "  total_group_weight <- sum(group_weights)\n",
    "  \n",
    "  # Re-scale the weights so they sum to 1 within the group\n",
    "  rescaled_weights <- group_weights / total_group_weight\n",
    "  \n",
    "  # Calculate the weighted average for the group\n",
    "  # We use matrix multiplication for an efficient calculation across all dates\n",
    "  weighted_cpi_series <- as.matrix(group_cpi_data) %*% as.numeric(rescaled_weights)\n",
    "  \n",
    "  # Add the new calculated series to our final data frame\n",
    "  final_weighted_cpi[[group_name]] <- weighted_cpi_series\n",
    "}\n"
   ]
  },
  {
   "cell_type": "code",
   "execution_count": 13,
   "id": "9ae80551",
   "metadata": {
    "vscode": {
     "languageId": "r"
    }
   },
   "outputs": [
    {
     "name": "stdout",
     "output_type": "stream",
     "text": [
      "\u001b[90m# A tibble: 6 × 5\u001b[39m\n",
      "  Date       Shelter[,1] Volatile_Components[…¹ Core_Goods[,1] Core_Services[,1]\n",
      "  \u001b[3m\u001b[90m<chr>\u001b[39m\u001b[23m            \u001b[3m\u001b[90m<dbl>\u001b[39m\u001b[23m                  \u001b[3m\u001b[90m<dbl>\u001b[39m\u001b[23m          \u001b[3m\u001b[90m<dbl>\u001b[39m\u001b[23m             \u001b[3m\u001b[90m<dbl>\u001b[39m\u001b[23m\n",
      "\u001b[90m1\u001b[39m 2000-01-01        93.8                   93.2           93.1              96.0\n",
      "\u001b[90m2\u001b[39m 2000-02-01        94.4                   93.7           93.2              96.1\n",
      "\u001b[90m3\u001b[39m 2000-03-01        94.5                   94.8           93.4              96.4\n",
      "\u001b[90m4\u001b[39m 2000-04-01        94.5                   94.2           93.2              96.4\n",
      "\u001b[90m5\u001b[39m 2000-05-01        94.7                   94.7           93.4              96.6\n",
      "\u001b[90m6\u001b[39m 2000-06-01        95                     95.5           93.7              96.9\n",
      "\u001b[90m# ℹ abbreviated name: ¹​Volatile_Components[,1]\u001b[39m\n"
     ]
    }
   ],
   "source": [
    "print(head(final_weighted_cpi))"
   ]
  },
  {
   "cell_type": "code",
   "execution_count": 14,
   "id": "f34df4a1",
   "metadata": {
    "vscode": {
     "languageId": "r"
    }
   },
   "outputs": [
    {
     "name": "stdout",
     "output_type": "stream",
     "text": [
      "\u001b[90m# A tibble: 6 × 5\u001b[39m\n",
      "  Date       Shelter[,1] Volatile_Components[…¹ Core_Goods[,1] Core_Services[,1]\n",
      "  \u001b[3m\u001b[90m<chr>\u001b[39m\u001b[23m            \u001b[3m\u001b[90m<dbl>\u001b[39m\u001b[23m                  \u001b[3m\u001b[90m<dbl>\u001b[39m\u001b[23m          \u001b[3m\u001b[90m<dbl>\u001b[39m\u001b[23m             \u001b[3m\u001b[90m<dbl>\u001b[39m\u001b[23m\n",
      "\u001b[90m1\u001b[39m 2025-02-01        187.                   183.           137.              138.\n",
      "\u001b[90m2\u001b[39m 2025-03-01        187                    183.           138.              137.\n",
      "\u001b[90m3\u001b[39m 2025-04-01        187.                   183.           138.              137.\n",
      "\u001b[90m4\u001b[39m 2025-05-01        187.                   183.           139.              137.\n",
      "\u001b[90m5\u001b[39m 2025-06-01        187.                   183.           139.              138.\n",
      "\u001b[90m6\u001b[39m 2025-07-01        188.                   184.           139.              137.\n",
      "\u001b[90m# ℹ abbreviated name: ¹​Volatile_Components[,1]\u001b[39m\n"
     ]
    }
   ],
   "source": [
    "print(tail(final_weighted_cpi))\n"
   ]
  },
  {
   "cell_type": "code",
   "execution_count": 15,
   "id": "bdd97f21",
   "metadata": {
    "vscode": {
     "languageId": "r"
    }
   },
   "outputs": [
    {
     "name": "stderr",
     "output_type": "stream",
     "text": [
      "\u001b[1mRows: \u001b[22m\u001b[34m488\u001b[39m \u001b[1mColumns: \u001b[22m\u001b[34m3\u001b[39m\n",
      "\u001b[36m──\u001b[39m \u001b[1mColumn specification\u001b[22m \u001b[36m────────────────────────────────────────────────────────\u001b[39m\n",
      "\u001b[1mDelimiter:\u001b[22m \",\"\n",
      "\u001b[31mchr\u001b[39m (1): Year\n",
      "\u001b[32mdbl\u001b[39m (2): Month, 9. Trade policy\n",
      "\n",
      "\u001b[36mℹ\u001b[39m Use `spec()` to retrieve the full column specification for this data.\n",
      "\u001b[36mℹ\u001b[39m Specify the column types or set `show_col_types = FALSE` to quiet this message.\n",
      "Warning message:\n",
      "\"\u001b[1m\u001b[22mThere was 1 warning in `mutate()`.\n",
      "\u001b[1m\u001b[22m\u001b[36mℹ\u001b[39m In argument: `Date = ymd(paste(Year, Month, \"01\", sep = \"-\"))`.\n",
      "Caused by warning:\n",
      "\u001b[33m!\u001b[39m  1 failed to parse.\"\n"
     ]
    },
    {
     "name": "stdout",
     "output_type": "stream",
     "text": [
      "Rows: 488\n",
      "Columns: 4\n",
      "$ Year  \u001b[3m\u001b[90m<chr>\u001b[39m\u001b[23m \"1985\"\u001b[90m, \u001b[39m\"1985\"\u001b[90m, \u001b[39m\"1985\"\u001b[90m, \u001b[39m\"1985\"\u001b[90m, \u001b[39m\"1985\"\u001b[90m, \u001b[39m\"1985\"\u001b[90m, \u001b[39m\"1985\"\u001b[90m, \u001b[39m\"1985\"\u001b[90m, \u001b[39m…\n",
      "$ Month \u001b[3m\u001b[90m<dbl>\u001b[39m\u001b[23m 1\u001b[90m, \u001b[39m2\u001b[90m, \u001b[39m3\u001b[90m, \u001b[39m4\u001b[90m, \u001b[39m5\u001b[90m, \u001b[39m6\u001b[90m, \u001b[39m7\u001b[90m, \u001b[39m8\u001b[90m, \u001b[39m9\u001b[90m, \u001b[39m10\u001b[90m, \u001b[39m11\u001b[90m, \u001b[39m12\u001b[90m, \u001b[39m1\u001b[90m, \u001b[39m2\u001b[90m, \u001b[39m3\u001b[90m, \u001b[39m4\u001b[90m, \u001b[39m5\u001b[90m, \u001b[39m6\u001b[90m, \u001b[39m7\u001b[90m, \u001b[39m8\u001b[90m, \u001b[39m9…\n",
      "$ VALUE \u001b[3m\u001b[90m<dbl>\u001b[39m\u001b[23m 122.61396\u001b[90m, \u001b[39m41.76222\u001b[90m, \u001b[39m107.92573\u001b[90m, \u001b[39m194.75287\u001b[90m, \u001b[39m124.39166\u001b[90m, \u001b[39m153.16361\u001b[90m,\u001b[39m…\n",
      "$ Date  \u001b[3m\u001b[90m<date>\u001b[39m\u001b[23m 1985-01-01\u001b[90m, \u001b[39m1985-02-01\u001b[90m, \u001b[39m1985-03-01\u001b[90m, \u001b[39m1985-04-01\u001b[90m, \u001b[39m1985-05-01\u001b[90m, \u001b[39m198…\n"
     ]
    },
    {
     "name": "stderr",
     "output_type": "stream",
     "text": [
      "\u001b[1mRows: \u001b[22m\u001b[34m390\u001b[39m \u001b[1mColumns: \u001b[22m\u001b[34m8\u001b[39m\n",
      "\u001b[36m──\u001b[39m \u001b[1mColumn specification\u001b[22m \u001b[36m────────────────────────────────────────────────────────\u001b[39m\n",
      "\u001b[1mDelimiter:\u001b[22m \",\"\n",
      "\u001b[31mchr\u001b[39m (1): date\n",
      "\u001b[32mdbl\u001b[39m (7): INDINF_LFSMICRO_M, INDINF_LFSMICRO_LEVELS_M, INDINF_LFSWC_M, INDINF...\n",
      "\n",
      "\u001b[36mℹ\u001b[39m Use `spec()` to retrieve the full column specification for this data.\n",
      "\u001b[36mℹ\u001b[39m Specify the column types or set `show_col_types = FALSE` to quiet this message.\n"
     ]
    },
    {
     "name": "stdout",
     "output_type": "stream",
     "text": [
      "Rows: 294\n",
      "Columns: 2\n",
      "$ Date  \u001b[3m\u001b[90m<date>\u001b[39m\u001b[23m 2001-01-01\u001b[90m, \u001b[39m2001-02-01\u001b[90m, \u001b[39m2001-03-01\u001b[90m, \u001b[39m2001-04-01\u001b[90m, \u001b[39m2001-05-01\u001b[90m, \u001b[39m200…\n",
      "$ VALUE \u001b[3m\u001b[90m<dbl>\u001b[39m\u001b[23m 2.8\u001b[90m, \u001b[39m3.3\u001b[90m, \u001b[39m3.4\u001b[90m, \u001b[39m3.3\u001b[90m, \u001b[39m3.6\u001b[90m, \u001b[39m3.3\u001b[90m, \u001b[39m3.3\u001b[90m, \u001b[39m3.1\u001b[90m, \u001b[39m3.0\u001b[90m, \u001b[39m3.0\u001b[90m, \u001b[39m3.2\u001b[90m, \u001b[39m3.4\u001b[90m, \u001b[39m3.2\u001b[90m,\u001b[39m…\n"
     ]
    },
    {
     "name": "stderr",
     "output_type": "stream",
     "text": [
      "Accessing CANSIM NDM vectors from Statistics Canada\n",
      "\n",
      "Accessing CANSIM NDM vectors from Statistics Canada\n",
      "\n"
     ]
    }
   ],
   "source": [
    "\n",
    "### EXCHANGE RATE US-CANADA ###\n",
    "exc_rate <- fredr(\n",
    "  series_id = \"DEXCAUS\",\n",
    "  observation_start = as.Date(\"1990-01-01\"),\n",
    "  observation_end = as.Date(\"2025-08-01\"),\n",
    "  frequency = \"m\", # monthly\n",
    "  units = \"chg\" # change over previous value\n",
    ")\n",
    "\n",
    "### TRADE COMMODITIES US-CANADA ###\n",
    "trade_commodities <- fredr(\n",
    "  series_id = \"XTNTVA01CAM664S\",\n",
    "  observation_start = as.Date(\"1990-01-01\"),\n",
    "  observation_end = as.Date(\"2025-08-01\"),\n",
    "  frequency = \"m\", # monthly\n",
    "  units = \"chg\" # change over previous value\n",
    ")\n",
    "\n",
    "\n",
    "### TRADE POLICY UNCERTAINTY INDEX ###\n",
    "tpu_data <- read_csv(\"Categorical_EPU_Data.csv\")|>\n",
    "mutate(Date = ymd(paste(Year, Month, \"01\", sep = \"-\")))|>\n",
    "rename(VALUE = '9. Trade policy')|>\n",
    "glimpse()\n",
    "\n",
    "\n",
    "### lFS MICRO ###\n",
    "lfs_micro <- read_csv('C:/Users/Irene/governorschallenge/INDINF_WAGES_MONTHLY.csv', skip=20)|>\n",
    "dplyr::select(date, INDINF_LFSMICRO_M)|>\n",
    "rename(Date = date, VALUE = INDINF_LFSMICRO_M)|>\n",
    "  mutate(Date = mdy(Date)) |>\n",
    "  filter(Date > ymd(\"2000-12-31\"))|>\n",
    "glimpse()\n",
    "\n",
    "\n",
    "unemp_vec <- get_cansim_vector_for_latest_periods('v2062815', periods = 500, refresh = TRUE) # UNEMPLOYMENT RATE\n",
    "fcpi_vec <- get_cansim_vector_for_latest_periods('v52673496', periods = 500, refresh = TRUE) ## FISHER COMMODITY PRICE INDEX\n",
    "wti_price_monthly <- fredr::fredr(series_id = \"MCOILWTICO\") ## CRUDE OUL PRICES -- WEST TEXAS INTERMEDIATE\n"
   ]
  },
  {
   "cell_type": "code",
   "execution_count": null,
   "id": "d311b033",
   "metadata": {
    "vscode": {
     "languageId": "r"
    }
   },
   "outputs": [],
   "source": [
    "## BREAK EVEN INFLATION RATE\n",
    "\n",
    "monthly_real_return_bond <- get_cansim_vector_for_latest_periods('v122553',periods = 500)\n",
    "monthly_convetional_bond <- get_cansim_vector_for_latest_periods('v122543',periods = 500)\n",
    "monthly_real_return_bond <- monthly_real_return_bond|>\n",
    "dplyr::select(Date, VALUE)\n",
    "\n",
    "monthly_convetional_bond <- monthly_convetional_bond|>\n",
    "dplyr::select(Date, VALUE)\n",
    "\n",
    "break_even_df <- monthly_convetional_bond |>\n",
    "  inner_join(monthly_real_return_bond, by = \"Date\", suffix = c(\"_conventional\", \"_real_return\")) |>\n",
    "  mutate(break_even_inflation_rate = VALUE_conventional - VALUE_real_return) |>\n",
    "  dplyr::select(Date, break_even_inflation_rate)\n",
    "\n",
    "  glimpse(\n",
    "break_even_df)"
   ]
  },
  {
   "cell_type": "code",
   "execution_count": null,
   "id": "e448482b",
   "metadata": {
    "vscode": {
     "languageId": "r"
    }
   },
   "outputs": [
    {
     "name": "stderr",
     "output_type": "stream",
     "text": [
      "\u001b[1m\u001b[22mNew names:\n",
      "\u001b[36m•\u001b[39m `` -> `...3`\n",
      "\u001b[36m•\u001b[39m `` -> `...4`\n",
      "\u001b[36m•\u001b[39m `` -> `...5`\n",
      "\u001b[36m•\u001b[39m `` -> `...6`\n",
      "\u001b[36m•\u001b[39m `` -> `...7`\n",
      "\u001b[36m•\u001b[39m `` -> `...8`\n",
      "\u001b[36m•\u001b[39m `` -> `...9`\n",
      "\u001b[36m•\u001b[39m `` -> `...10`\n",
      "\u001b[36m•\u001b[39m `` -> `...11`\n",
      "\u001b[36m•\u001b[39m `` -> `...12`\n",
      "\u001b[36m•\u001b[39m `` -> `...13`\n",
      "\u001b[36m•\u001b[39m `` -> `...14`\n",
      "\u001b[1mRows: \u001b[22m\u001b[34m331\u001b[39m \u001b[1mColumns: \u001b[22m\u001b[34m14\u001b[39m\n",
      "\u001b[36m──\u001b[39m \u001b[1mColumn specification\u001b[22m \u001b[36m────────────────────────────────────────────────────────\u001b[39m\n",
      "\u001b[1mDelimiter:\u001b[22m \",\"\n",
      "\u001b[31mchr\u001b[39m  (1): Date\n",
      "\u001b[32mdbl\u001b[39m  (1): GSCPI\n",
      "\u001b[33mlgl\u001b[39m (12): ...3, ...4, ...5, ...6, ...7, ...8, ...9, ...10, ...11, ...12, ......\n",
      "\n",
      "\u001b[36mℹ\u001b[39m Use `spec()` to retrieve the full column specification for this data.\n",
      "\u001b[36mℹ\u001b[39m Specify the column types or set `show_col_types = FALSE` to quiet this message.\n"
     ]
    }
   ],
   "source": [
    "supply_chain_pressure <- read_csv(\"C:/Users/Irene/governorschallenge/gscpi_data.csv\")|>\n",
    "dplyr::select(Date, GSCPI)\n",
    "\n",
    "\n",
    "\n"
   ]
  }
 ],
 "metadata": {
  "kernelspec": {
   "display_name": "R",
   "language": "R",
   "name": "ir"
  },
  "language_info": {
   "codemirror_mode": "r",
   "file_extension": ".r",
   "mimetype": "text/x-r-source",
   "name": "R",
   "pygments_lexer": "r",
   "version": "4.4.3"
  }
 },
 "nbformat": 4,
 "nbformat_minor": 5
}

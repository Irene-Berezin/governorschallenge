{
 "cells": [
  {
   "cell_type": "code",
   "execution_count": 6,
   "id": "f991cf2f",
   "metadata": {
    "vscode": {
     "languageId": "r"
    }
   },
   "outputs": [
    {
     "name": "stderr",
     "output_type": "stream",
     "text": [
      "Reading CANSIM NDM vectors from temporary cache\n",
      "\n",
      "Reading CANSIM NDM vectors from temporary cache\n",
      "\n",
      "Warning message in optim(par = inits, fn = likfn, model = model, ...):\n",
      "\"one-dimensional optimization by Nelder-Mead is unreliable:\n",
      "use \"Brent\" or optimize() directly\"\n"
     ]
    },
    {
     "data": {
      "image/png": "[encoded data removed]",
      "text/plain": [
       "Plot with title \"Comparing NAIRU Estimates for Canada (Revised)\""
      ]
     },
     "metadata": {
      "image/png": {
       "height": 420,
       "width": 420
      }
     },
     "output_type": "display_data"
    }
   ],
   "source": [
    "# 1. LOAD LIBRARIES\n",
    "# ------------------\n",
    "# install.packages(\"KFAS\") # You may need to install this first\n",
    "library(cansim)\n",
    "library(dplyr)\n",
    "library(lubridate)\n",
    "library(KFAS)\n",
    "\n",
    "# 2. GET & PREPARE DATA\n",
    "# ---------------------\n",
    "# Unemployment Rate (your original vector)\n",
    "unemp_df <- get_cansim_vector_for_latest_periods('v2062815', periods = 3000) |>\n",
    "  select(date = Date, unemp_rate = VALUE)\n",
    "\n",
    "# Consumer Price Index (for inflation)\n",
    "cpi_df <- get_cansim_vector_for_latest_periods('v41690973', periods = 3000) |>\n",
    "  select(date = Date, cpi = VALUE)\n",
    "\n",
    "# Combine, create monthly dates, and calculate inflation\n",
    "full_data <- left_join(unemp_df, cpi_df, by = \"date\") |>\n",
    "  mutate(month = floor_date(date, \"month\")) |>\n",
    "  # Group by month to handle potential daily data and take the last observation\n",
    "  group_by(month) |>\n",
    "  summarise(\n",
    "    unemp_rate = last(unemp_rate),\n",
    "    cpi = last(cpi)\n",
    "  ) |>\n",
    "  ungroup() |>\n",
    "  # Calculate Year-over-Year Inflation Rate (%)\n",
    "  mutate(\n",
    "    inflation_rate = (cpi / lag(cpi, 12) - 1) * 100\n",
    "  ) |>\n",
    "  # Calculate the change in inflation (the dependent variable, delta_pi)\n",
    "  mutate(\n",
    "    delta_inflation = inflation_rate - lag(inflation_rate, 1)\n",
    "  ) |>\n",
    "  tidyr::drop_na() # Remove NAs created by lags\n",
    "\n",
    "# 3. METHOD 1: HP FILTER (Your Original Method)\n",
    "# ---------------------------------------------\n",
    "hp_results <- mFilter::hpfilter(full_data$unemp_rate, type = \"lambda\", freq = 14400)\n",
    "full_data$nairu_hp <- as.numeric(hp_results$trend)\n",
    "\n",
    "SIGNAL_VARIANCE <- 0.00001\n",
    "\n",
    "model_kfas_fixed_q <- SSModel(\n",
    "  delta_inflation ~ unemp_rate + SSMtrend(1, Q = list(SIGNAL_VARIANCE)),\n",
    "  data = full_data, H = list(NA)\n",
    ")\n",
    "\n",
    "# Now we only need to estimate one parameter (H), the observation noise.\n",
    "fit_kfas_fixed_q <- fitSSM(model_kfas_fixed_q, inits = 0)\n",
    "\n",
    "# Run the Kalman smoother on the new model with the fixed Q.\n",
    "kfs_results_fixed_q <- KFS(fit_kfas_fixed_q$model)\n",
    "\n",
    "# Extract the estimated states as before\n",
    "beta_coef <- kfs_results_fixed_q$alphahat[1, \"unemp_rate\"]\n",
    "time_varying_intercept <- kfs_results_fixed_q$alphahat[, \"level\"]\n",
    "\n",
    "# Calculate the Kalman Filter NAIRU from the revised model\n",
    "full_data$nairu_kf_revised <- time_varying_intercept / (-beta_coef)\n",
    "\n",
    "\n",
    "# 5. VISUALIZE THE RESULTS\n",
    "# ------------------------\n",
    "plot(full_data$month, full_data$unemp_rate, type = 'l', col = 'gray80', lwd = 2,\n",
    "     main = \"Comparing NAIRU Estimates for Canada (Revised)\",\n",
    "     xlab = \"Date\", ylab = \"Unemployment Rate (%)\",\n",
    "     ylim = range(c(full_data$unemp_rate, full_data$nairu_hp, full_data$nairu_kf_revised), na.rm = TRUE))\n",
    "\n",
    "lines(full_data$month, full_data$nairu_hp, col = 'red', lwd = 2, lty = \"dashed\")\n",
    "lines(full_data$month, full_data$nairu_kf_revised, col = 'blue', lwd = 2)\n",
    "\n",
    "legend(\"topright\",\n",
    "       legend = c(\"Actual Unemployment\", \"NAIRU (HP Filter)\", \"NAIRU (Phillips Curve, Revised)\"),\n",
    "       col = c(\"gray80\", \"red\", \"blue\"),\n",
    "       lty = c(1, 2, 1),\n",
    "       lwd = 2,\n",
    "       bty = \"n\")"
   ]
  }
 ],
 "metadata": {
  "kernelspec": {
   "display_name": "R",
   "language": "R",
   "name": "ir"
  },
  "language_info": {
   "codemirror_mode": "r",
   "file_extension": ".r",
   "mimetype": "text/x-r-source",
   "name": "R",
   "pygments_lexer": "r",
   "version": "4.4.3"
  }
 },
 "nbformat": 4,
 "nbformat_minor": 5
}

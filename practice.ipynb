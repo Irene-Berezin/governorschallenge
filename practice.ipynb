{
 "cells": [
  {
   "cell_type": "code",
   "execution_count": 1,
   "id": "22ec858a",
   "metadata": {
    "vscode": {
     "languageId": "r"
    }
   },
   "outputs": [
    {
     "name": "stderr",
     "output_type": "stream",
     "text": [
      "── \u001b[1mAttaching core tidyverse packages\u001b[22m ──────────────────────── tidyverse 2.0.0 ──\n",
      "\u001b[32m✔\u001b[39m \u001b[34mdplyr    \u001b[39m 1.1.4     \u001b[32m✔\u001b[39m \u001b[34mreadr    \u001b[39m 2.1.5\n",
      "\u001b[32m✔\u001b[39m \u001b[34mforcats  \u001b[39m 1.0.0     \u001b[32m✔\u001b[39m \u001b[34mstringr  \u001b[39m 1.5.1\n",
      "\u001b[32m✔\u001b[39m \u001b[34mggplot2  \u001b[39m 3.5.2     \u001b[32m✔\u001b[39m \u001b[34mtibble   \u001b[39m 3.3.0\n",
      "\u001b[32m✔\u001b[39m \u001b[34mlubridate\u001b[39m 1.9.4     \u001b[32m✔\u001b[39m \u001b[34mtidyr    \u001b[39m 1.3.1\n",
      "\u001b[32m✔\u001b[39m \u001b[34mpurrr    \u001b[39m 1.1.0     \n",
      "── \u001b[1mConflicts\u001b[22m ────────────────────────────────────────── tidyverse_conflicts() ──\n",
      "\u001b[31m✖\u001b[39m \u001b[34mdplyr\u001b[39m::\u001b[32mfilter()\u001b[39m masks \u001b[34mstats\u001b[39m::filter()\n",
      "\u001b[31m✖\u001b[39m \u001b[34mdplyr\u001b[39m::\u001b[32mlag()\u001b[39m    masks \u001b[34mstats\u001b[39m::lag()\n",
      "\u001b[36mℹ\u001b[39m Use the conflicted package (\u001b[3m\u001b[34m<http://conflicted.r-lib.org/>\u001b[39m\u001b[23m) to force all conflicts to become errors\n",
      "\n",
      "Attaching package: 'vroom'\n",
      "\n",
      "\n",
      "The following objects are masked from 'package:readr':\n",
      "\n",
      "    as.col_spec, col_character, col_date, col_datetime, col_double,\n",
      "    col_factor, col_guess, col_integer, col_logical, col_number,\n",
      "    col_skip, col_time, cols, cols_condense, cols_only, date_names,\n",
      "    date_names_lang, date_names_langs, default_locale, fwf_cols,\n",
      "    fwf_empty, fwf_positions, fwf_widths, locale, output_column,\n",
      "    problems, spec\n",
      "\n",
      "\n"
     ]
    }
   ],
   "source": [
    "library(tidyverse)\n",
    "library(cansim)\n",
    "library(readr)\n",
    "library(vroom)"
   ]
  },
  {
   "cell_type": "code",
   "execution_count": 2,
   "id": "6526eabe",
   "metadata": {
    "vscode": {
     "languageId": "r"
    }
   },
   "outputs": [
    {
     "name": "stdout",
     "output_type": "stream",
     "text": [
      "package 'tzdb' successfully unpacked and MD5 sums checked\n"
     ]
    },
    {
     "name": "stderr",
     "output_type": "stream",
     "text": [
      "Warning message:\n",
      "\"cannot remove prior installation of package 'tzdb'\"\n",
      "Warning message in file.copy(savedcopy, lib, recursive = TRUE):\n",
      "\"problem copying C:\\Users\\Irene\\miniconda3\\envs\\r_boc\\Lib\\R\\library\\00LOCK\\tzdb\\libs\\x64\\tzdb.dll to C:\\Users\\Irene\\miniconda3\\envs\\r_boc\\Lib\\R\\library\\tzdb\\libs\\x64\\tzdb.dll: Permission denied\"\n",
      "Warning message:\n",
      "\"restored 'tzdb'\"\n"
     ]
    },
    {
     "name": "stdout",
     "output_type": "stream",
     "text": [
      "\n",
      "The downloaded binary packages are in\n",
      "\tC:\\Users\\Irene\\AppData\\Local\\Temp\\Rtmpqu9FiW\\downloaded_packages\n"
     ]
    }
   ],
   "source": [
    "install.packages(\"tzdb\")"
   ]
  },
  {
   "cell_type": "code",
   "execution_count": 1,
   "id": "f7fe40b4",
   "metadata": {
    "vscode": {
     "languageId": "r"
    }
   },
   "outputs": [
    {
     "name": "stdout",
     "output_type": "stream",
     "text": [
      "package 'readr' successfully unpacked and MD5 sums checked\n"
     ]
    },
    {
     "name": "stderr",
     "output_type": "stream",
     "text": [
      "Warning message:\n",
      "\"cannot remove prior installation of package 'readr'\"\n",
      "Warning message in file.copy(savedcopy, lib, recursive = TRUE):\n",
      "\"problem copying C:\\Users\\Irene\\miniconda3\\envs\\r_boc\\Lib\\R\\library\\00LOCK\\readr\\libs\\x64\\readr.dll to C:\\Users\\Irene\\miniconda3\\envs\\r_boc\\Lib\\R\\library\\readr\\libs\\x64\\readr.dll: Permission denied\"\n",
      "Warning message:\n",
      "\"restored 'readr'\"\n"
     ]
    },
    {
     "name": "stdout",
     "output_type": "stream",
     "text": [
      "\n",
      "The downloaded binary packages are in\n",
      "\tC:\\Users\\Irene\\AppData\\Local\\Temp\\RtmpELHvSt\\downloaded_packages\n"
     ]
    }
   ],
   "source": [
    "install.packages(\"readr\")"
   ]
  },
  {
   "cell_type": "code",
   "execution_count": 4,
   "id": "129fe3a5",
   "metadata": {
    "vscode": {
     "languageId": "r"
    }
   },
   "outputs": [
    {
     "name": "stderr",
     "output_type": "stream",
     "text": [
      "Accessing CANSIM NDM product 36-10-0103 from Statistics Canada\n",
      "\n"
     ]
    },
    {
     "name": "stderr",
     "output_type": "stream",
     "text": [
      "Parsing data\n",
      "\n"
     ]
    }
   ],
   "source": [
    "gdp <- get_cansim(\"36-10-0103-01\")"
   ]
  },
  {
   "cell_type": "code",
   "execution_count": 2,
   "id": "b4b08c17",
   "metadata": {
    "vscode": {
     "languageId": "r"
    }
   },
   "outputs": [
    {
     "name": "stderr",
     "output_type": "stream",
     "text": [
      "Accessing CANSIM NDM product 18-10-0004 from Statistics Canada\n",
      "\n",
      "Parsing data\n",
      "\n"
     ]
    }
   ],
   "source": [
    "cpi <- get_cansim(\"18-10-0004-01\")"
   ]
  },
  {
   "cell_type": "code",
   "execution_count": 50,
   "id": "43fc1d7d",
   "metadata": {
    "vscode": {
     "languageId": "r"
    }
   },
   "outputs": [
    {
     "name": "stderr",
     "output_type": "stream",
     "text": [
      "Accessing CANSIM NDM vectors from Statistics Canada\n",
      "\n"
     ]
    }
   ],
   "source": [
    "cpi_vec <- get_cansim_vector_for_latest_periods(\"v41690914\", periods = 300)\n",
    "\n",
    "cpi_vec_adj <- cpi_vec|>\n",
    "select(\"Date\", \"VALUE\")|>\n",
    " mutate(\n",
    "    # Get the CPI value from 12 months ago\n",
    "    cpi_previous_year = lag(VALUE, 12),\n",
    "    # Calculate the percentage change\n",
    "    cpi_change = ((VALUE  / cpi_previous_year) - 1) * 100\n",
    "  )"
   ]
  },
  {
   "cell_type": "code",
   "execution_count": 51,
   "id": "af15389b",
   "metadata": {
    "vscode": {
     "languageId": "r"
    }
   },
   "outputs": [
    {
     "name": "stderr",
     "output_type": "stream",
     "text": [
      "Warning message:\n",
      "\"\u001b[1m\u001b[22mRemoved 12 rows containing missing values or values outside the scale range\n",
      "(`geom_line()`).\"\n"
     ]
    },
    {
     "data": {
      "image/png": "[encoded data removed]",
      "text/plain": [
       "plot without title"
      ]
     },
     "metadata": {
      "image/png": {
       "height": 350,
       "width": 750
      }
     },
     "output_type": "display_data"
    }
   ],
   "source": [
    "options(repr.plot.width = 15, repr.plot.height = 7, repr.plot.res = 100)\n",
    "\n",
    "ggplot(cpi_vec_adj, aes(x = Date, y = cpi_change)) +\n",
    "  geom_line() +\n",
    "  labs(\n",
    "    title = \"cpi pct change\",\n",
    "    x = \"Date\",\n",
    "    y = \"percentage_change\",\n",
    "  ) +\n",
    "  theme_minimal()+\n",
    "  coord_cartesian(ylim = c(-2, 10))"
   ]
  },
  {
   "cell_type": "code",
   "execution_count": 57,
   "id": "965e85cc",
   "metadata": {
    "vscode": {
     "languageId": "r"
    }
   },
   "outputs": [
    {
     "name": "stderr",
     "output_type": "stream",
     "text": [
      "Warning message:\n",
      "\"\u001b[1m\u001b[22mRemoved 4 rows containing missing values or values outside the scale range\n",
      "(`geom_line()`).\"\n"
     ]
    },
    {
     "data": {
      "image/png": "[encoded data removed]",
      "text/plain": [
       "plot without title"
      ]
     },
     "metadata": {
      "image/png": {
       "height": 350,
       "width": 750
      }
     },
     "output_type": "display_data"
    }
   ],
   "source": [
    "cpi_quarterly_adj <- cpi_vec |>\n",
    "  select(Date, VALUE) |>\n",
    "  # Create a new column for the quarter\n",
    "  mutate(quarter = quarter(Date, with_year = TRUE)) |>\n",
    "  # Group by quarter\n",
    "  group_by(quarter) |>\n",
    "  # Calculate the average CPI for each quarter\n",
    "  summarise(VALUE = mean(VALUE, na.rm = TRUE)) |>\n",
    "  ungroup() |>\n",
    "  # Calculate the year-over-year percentage change for the quarterly data\n",
    "  mutate(\n",
    "    # Get the CPI value from 4 quarters ago (1 year)\n",
    "    cpi_previous_year = lag(VALUE, 4),\n",
    "    # Calculate the percentage change\n",
    "    cpi_change = ((VALUE / cpi_previous_year) - 1) * 100\n",
    "  )\n",
    "\n",
    "options(repr.plot.width = 15, repr.plot.height = 7, repr.plot.res = 100)\n",
    "\n",
    "ggplot(cpi_quarterly_adj, aes(x = quarter, y = cpi_change)) +\n",
    "  geom_line() +\n",
    "  labs(\n",
    "    title = \"cpi pct change\",\n",
    "    x = \"Date\",\n",
    "    y = \"percentage_change\",\n",
    "  ) +\n",
    "  theme_minimal()+\n",
    "  coord_cartesian(ylim = c(-2, 10))\n"
   ]
  },
  {
   "cell_type": "code",
   "execution_count": 53,
   "id": "de31abc2",
   "metadata": {
    "vscode": {
     "languageId": "r"
    }
   },
   "outputs": [
    {
     "name": "stdout",
     "output_type": "stream",
     "text": [
      "\u001b[90m# A tibble: 100 × 4\u001b[39m\n",
      "   quarter VALUE cpi_previous_quarter delta_cpi\n",
      "     \u001b[3m\u001b[90m<dbl>\u001b[39m\u001b[23m \u001b[3m\u001b[90m<dbl>\u001b[39m\u001b[23m                \u001b[3m\u001b[90m<dbl>\u001b[39m\u001b[23m     \u001b[3m\u001b[90m<dbl>\u001b[39m\u001b[23m\n",
      "\u001b[90m 1\u001b[39m   \u001b[4m2\u001b[24m000.  95.7                 \u001b[31mNA\u001b[39m     \u001b[31mNA\u001b[39m     \n",
      "\u001b[90m 2\u001b[39m   \u001b[4m2\u001b[24m000.  96.7                 95.7    1.07  \n",
      "\u001b[90m 3\u001b[39m   \u001b[4m2\u001b[24m001.  96.9                 96.7    0.241 \n",
      "\u001b[90m 4\u001b[39m   \u001b[4m2\u001b[24m001.  98.2                 96.9    1.30  \n",
      "\u001b[90m 5\u001b[39m   \u001b[4m2\u001b[24m001.  98.2                 98.2    0.033\u001b[4m9\u001b[24m\n",
      "\u001b[90m 6\u001b[39m   \u001b[4m2\u001b[24m001.  97.7                 98.2   -\u001b[31m0\u001b[39m\u001b[31m.\u001b[39m\u001b[31m510\u001b[39m \n",
      "\u001b[90m 7\u001b[39m   \u001b[4m2\u001b[24m002.  98.4                 97.7    0.714 \n",
      "\u001b[90m 8\u001b[39m   \u001b[4m2\u001b[24m002.  99.5                 98.4    1.08  \n",
      "\u001b[90m 9\u001b[39m   \u001b[4m2\u001b[24m002. 101.                  99.5    1.10  \n",
      "\u001b[90m10\u001b[39m   \u001b[4m2\u001b[24m002. 101.                 101.     0.858 \n",
      "\u001b[90m# ℹ 90 more rows\u001b[39m\n"
     ]
    }
   ],
   "source": [
    "# Make sure dplyr is loaded\n",
    "# install.packages(\"dplyr\")\n",
    "# install.packages(\"lubridate\")\n",
    "library(dplyr)\n",
    "library(lubridate)\n",
    "\n",
    "# Assuming 'cpi_vec' is your initial data frame with 'Date' and 'VALUE'\n",
    "\n",
    "cpi_quarterly_stationary <- cpi_vec |>\n",
    "  select(Date, VALUE) |>\n",
    "  # Create a new column for the quarter\n",
    "  mutate(quarter = quarter(Date, with_year = TRUE)) |>\n",
    "  # Group by quarter\n",
    "  group_by(quarter) |>\n",
    "  # Calculate the average CPI for each quarter\n",
    "  summarise(VALUE = mean(VALUE, na.rm = TRUE)) |>\n",
    "  ungroup() |>\n",
    "  # Calculate the quarter-over-quarter log difference (inflation rate)\n",
    "  mutate(\n",
    "    # Get the CPI value from the previous quarter\n",
    "    cpi_previous_quarter = lag(VALUE, 1),\n",
    "    # Calculate the log difference and multiply by 100 to get an approximate percentage\n",
    "    delta_cpi = (log(VALUE) - log(cpi_previous_quarter)) * 100\n",
    "  )\n",
    "\n",
    "# View the result\n",
    "print(cpi_quarterly_stationary)"
   ]
  },
  {
   "cell_type": "code",
   "execution_count": 54,
   "id": "ab200670",
   "metadata": {
    "vscode": {
     "languageId": "r"
    }
   },
   "outputs": [
    {
     "name": "stderr",
     "output_type": "stream",
     "text": [
      "Warning message:\n",
      "\"\u001b[1m\u001b[22mRemoved 1 row containing missing values or values outside the scale range\n",
      "(`geom_line()`).\"\n"
     ]
    },
    {
     "data": {
      "image/png": "[encoded data removed]",
      "text/plain": [
       "plot without title"
      ]
     },
     "metadata": {
      "image/png": {
       "height": 350,
       "width": 750
      }
     },
     "output_type": "display_data"
    }
   ],
   "source": [
    "ggplot(cpi_quarterly_stationary, aes(x = quarter, y = delta_cpi)) +\n",
    "  geom_line() +\n",
    "  labs(\n",
    "    title = \"cpi pct change\",\n",
    "    x = \"Date\",\n",
    "    y = \"percentage_change\",\n",
    "  ) +\n",
    "  theme_minimal()"
   ]
  },
  {
   "cell_type": "code",
   "execution_count": 43,
   "id": "c192ab3d",
   "metadata": {
    "vscode": {
     "languageId": "r"
    }
   },
   "outputs": [
    {
     "name": "stderr",
     "output_type": "stream",
     "text": [
      "also installing the dependencies 'xts', 'TTR', 'quadprog', 'quantmod'\n",
      "\n",
      "\n"
     ]
    },
    {
     "name": "stdout",
     "output_type": "stream",
     "text": [
      "package 'xts' successfully unpacked and MD5 sums checked\n",
      "package 'TTR' successfully unpacked and MD5 sums checked\n",
      "package 'quadprog' successfully unpacked and MD5 sums checked\n",
      "package 'quantmod' successfully unpacked and MD5 sums checked\n",
      "package 'tseries' successfully unpacked and MD5 sums checked\n",
      "\n",
      "The downloaded binary packages are in\n",
      "\tC:\\Users\\Irene\\AppData\\Local\\Temp\\RtmpyAjA48\\downloaded_packages\n"
     ]
    }
   ],
   "source": [
    "install.packages(\"tseries\")"
   ]
  },
  {
   "cell_type": "code",
   "execution_count": 44,
   "id": "b46b3700",
   "metadata": {
    "vscode": {
     "languageId": "r"
    }
   },
   "outputs": [
    {
     "name": "stderr",
     "output_type": "stream",
     "text": [
      "Registered S3 method overwritten by 'quantmod':\n",
      "  method            from\n",
      "  as.zoo.data.frame zoo \n",
      "\n"
     ]
    }
   ],
   "source": [
    "library(tseries)"
   ]
  },
  {
   "cell_type": "code",
   "execution_count": 58,
   "id": "1d968422",
   "metadata": {
    "vscode": {
     "languageId": "r"
    }
   },
   "outputs": [
    {
     "name": "stdout",
     "output_type": "stream",
     "text": [
      "\n",
      "\tAugmented Dickey-Fuller Test\n",
      "\n",
      "data:  na.omit(cpi_quarterly_adj$cpi_change)\n",
      "Dickey-Fuller = -2.819, Lag order = 4, p-value = 0.238\n",
      "alternative hypothesis: stationary\n",
      "\n"
     ]
    }
   ],
   "source": [
    "adf_result <- adf.test(na.omit(cpi_quarterly_adj$cpi_change))\n",
    "\n",
    "# Print the results\n",
    "print(adf_result)"
   ]
  },
  {
   "cell_type": "code",
   "execution_count": 59,
   "id": "e226806e",
   "metadata": {
    "vscode": {
     "languageId": "r"
    }
   },
   "outputs": [
    {
     "name": "stdout",
     "output_type": "stream",
     "text": [
      "\n",
      "\tAugmented Dickey-Fuller Test\n",
      "\n",
      "data:  na.omit(cpi_quarterly_stationary$delta_cpi)\n",
      "Dickey-Fuller = -3.0702, Lag order = 4, p-value = 0.1335\n",
      "alternative hypothesis: stationary\n",
      "\n"
     ]
    }
   ],
   "source": [
    "adf_result <- adf.test(na.omit(cpi_quarterly_stationary$delta_cpi))\n",
    "\n",
    "# Print the results\n",
    "print(adf_result)"
   ]
  },
  {
   "cell_type": "code",
   "execution_count": 60,
   "id": "173c7ab2",
   "metadata": {
    "vscode": {
     "languageId": "r"
    }
   },
   "outputs": [],
   "source": [
    "cpi_post_pandemic <- cpi_quarterly_stationary |>\n",
    "  filter(quarter >= 2020)"
   ]
  },
  {
   "cell_type": "code",
   "execution_count": 62,
   "id": "b3f3c647",
   "metadata": {
    "vscode": {
     "languageId": "r"
    }
   },
   "outputs": [
    {
     "name": "stdout",
     "output_type": "stream",
     "text": [
      "\n",
      "\tAugmented Dickey-Fuller Test\n",
      "\n",
      "data:  na.omit(cpi_post_pandemic$delta_cpi)\n",
      "Dickey-Fuller = -2.139, Lag order = 2, p-value = 0.5194\n",
      "alternative hypothesis: stationary\n",
      "\n"
     ]
    }
   ],
   "source": [
    "adf_result <- adf.test(na.omit(cpi_post_pandemic$delta_cpi))\n",
    "\n",
    "# Print the results\n",
    "print(adf_result)"
   ]
  },
  {
   "cell_type": "code",
   "execution_count": 63,
   "id": "6ef28a0f",
   "metadata": {
    "vscode": {
     "languageId": "r"
    }
   },
   "outputs": [
    {
     "data": {
      "text/plain": [
       "\n",
       "\tAugmented Dickey-Fuller Test\n",
       "\n",
       "data:  na.omit(cpi_post_pandemic_2nd_diff$delta2_cpi)\n",
       "Dickey-Fuller = -2.7152, Lag order = 2, p-value = 0.2999\n",
       "alternative hypothesis: stationary\n"
      ]
     },
     "metadata": {},
     "output_type": "display_data"
    }
   ],
   "source": [
    "# Assuming 'cpi_post_pandemic' is your filtered data frame\n",
    "# First, create the first and second differences on this subset\n",
    "cpi_post_pandemic_2nd_diff <- cpi_post_pandemic |>\n",
    "  mutate(\n",
    "    # First difference is already calculated, but we recalculate for a clean pipe\n",
    "    cpi_previous_quarter = lag(VALUE, 1),\n",
    "    delta_cpi = (log(VALUE) - log(cpi_previous_quarter)) * 100,\n",
    "    \n",
    "    # Now, calculate the second difference\n",
    "    delta_cpi_previous_quarter = lag(delta_cpi, 1),\n",
    "    delta2_cpi = delta_cpi - delta_cpi_previous_quarter\n",
    "  )\n",
    "\n",
    "# Run the ADF test on the new second-difference column\n",
    "adf.test(na.omit(cpi_post_pandemic_2nd_diff$delta2_cpi))"
   ]
  }
 ],
 "metadata": {
  "kernelspec": {
   "display_name": "R",
   "language": "R",
   "name": "ir"
  },
  "language_info": {
   "codemirror_mode": "r",
   "file_extension": ".r",
   "mimetype": "text/x-r-source",
   "name": "R",
   "pygments_lexer": "r",
   "version": "4.4.3"
  }
 },
 "nbformat": 4,
 "nbformat_minor": 5
}

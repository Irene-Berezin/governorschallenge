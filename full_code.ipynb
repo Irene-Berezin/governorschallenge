{
 "cells": [
  {
   "cell_type": "code",
   "execution_count": 2,
   "id": "82fab485",
   "metadata": {
    "vscode": {
     "languageId": "r"
    }
   },
   "outputs": [
    {
     "name": "stderr",
     "output_type": "stream",
     "text": [
      "── \u001b[1mAttaching core tidyverse packages\u001b[22m ──────────────────────── tidyverse 2.0.0 ──\n",
      "\u001b[32m✔\u001b[39m \u001b[34mdplyr    \u001b[39m 1.1.4     \u001b[32m✔\u001b[39m \u001b[34mreadr    \u001b[39m 2.1.5\n",
      "\u001b[32m✔\u001b[39m \u001b[34mforcats  \u001b[39m 1.0.0     \u001b[32m✔\u001b[39m \u001b[34mstringr  \u001b[39m 1.5.1\n",
      "\u001b[32m✔\u001b[39m \u001b[34mggplot2  \u001b[39m 3.5.2     \u001b[32m✔\u001b[39m \u001b[34mtibble   \u001b[39m 3.3.0\n",
      "\u001b[32m✔\u001b[39m \u001b[34mlubridate\u001b[39m 1.9.4     \u001b[32m✔\u001b[39m \u001b[34mtidyr    \u001b[39m 1.3.1\n",
      "\u001b[32m✔\u001b[39m \u001b[34mpurrr    \u001b[39m 1.1.0     \n",
      "── \u001b[1mConflicts\u001b[22m ────────────────────────────────────────── tidyverse_conflicts() ──\n",
      "\u001b[31m✖\u001b[39m \u001b[34mdplyr\u001b[39m::\u001b[32mfilter()\u001b[39m masks \u001b[34mstats\u001b[39m::filter()\n",
      "\u001b[31m✖\u001b[39m \u001b[34mdplyr\u001b[39m::\u001b[32mlag()\u001b[39m    masks \u001b[34mstats\u001b[39m::lag()\n",
      "\u001b[36mℹ\u001b[39m Use the conflicted package (\u001b[3m\u001b[34m<http://conflicted.r-lib.org/>\u001b[39m\u001b[23m) to force all conflicts to become errors\n",
      "\n",
      "Attaching package: 'vroom'\n",
      "\n",
      "\n",
      "The following objects are masked from 'package:readr':\n",
      "\n",
      "    as.col_spec, col_character, col_date, col_datetime, col_double,\n",
      "    col_factor, col_guess, col_integer, col_logical, col_number,\n",
      "    col_skip, col_time, cols, cols_condense, cols_only, date_names,\n",
      "    date_names_lang, date_names_langs, default_locale, fwf_cols,\n",
      "    fwf_empty, fwf_positions, fwf_widths, locale, output_column,\n",
      "    problems, spec\n",
      "\n",
      "\n",
      "Registered S3 method overwritten by 'quantmod':\n",
      "  method            from\n",
      "  as.zoo.data.frame zoo \n",
      "\n",
      "Loading required package: zoo\n",
      "\n",
      "\n",
      "Attaching package: 'zoo'\n",
      "\n",
      "\n",
      "The following objects are masked from 'package:base':\n",
      "\n",
      "    as.Date, as.Date.numeric\n",
      "\n",
      "\n",
      "Loading required package: sandwich\n",
      "\n",
      "\n",
      "Attaching package: 'strucchange'\n",
      "\n",
      "\n",
      "The following object is masked from 'package:stringr':\n",
      "\n",
      "    boundary\n",
      "\n",
      "\n",
      "Loading required package: MASS\n",
      "\n",
      "\n",
      "Attaching package: 'MASS'\n",
      "\n",
      "\n",
      "The following object is masked from 'package:dplyr':\n",
      "\n",
      "    select\n",
      "\n",
      "\n",
      "Loading required package: urca\n",
      "\n",
      "Loading required package: lmtest\n",
      "\n"
     ]
    }
   ],
   "source": [
    "library(tidyverse)\n",
    "library(cansim)\n",
    "library(readr)\n",
    "library(vroom)\n",
    "library(lubridate)\n",
    "library(tseries)\n",
    "library(strucchange)\n",
    "library(purrr) \n",
    "library(vars)\n",
    "library(fredr)"
   ]
  },
  {
   "cell_type": "code",
   "execution_count": 3,
   "id": "09b59aff",
   "metadata": {
    "vscode": {
     "languageId": "r"
    }
   },
   "outputs": [],
   "source": [
    "fredr_set_key('b43b23bac4c602369428a1a4316f23d4')"
   ]
  },
  {
   "cell_type": "markdown",
   "id": "f620148d",
   "metadata": {},
   "source": [
    "\n",
    "- import price index\n",
    "- elasticity of import demand (2%)\n",
    "- indeed real time wage inflation\n",
    "- reliability of data? \n",
    "- harvard pricing lab\n",
    "- eric santor\n",
    "- "
   ]
  },
  {
   "cell_type": "code",
   "execution_count": 4,
   "id": "db1f26e0",
   "metadata": {
    "vscode": {
     "languageId": "r"
    }
   },
   "outputs": [
    {
     "name": "stderr",
     "output_type": "stream",
     "text": [
      "\u001b[1mRows: \u001b[22m\u001b[34m616\u001b[39m \u001b[1mColumns: \u001b[22m\u001b[34m4\u001b[39m\n",
      "\u001b[36m──\u001b[39m \u001b[1mColumn specification\u001b[22m \u001b[36m────────────────────────────────────────────────────────\u001b[39m\n",
      "\u001b[1mDelimiter:\u001b[22m \",\"\n",
      "\u001b[31mchr\u001b[39m (4): Data Type, Year, Month, General Customs Value\n",
      "\n",
      "\u001b[36mℹ\u001b[39m Use `spec()` to retrieve the full column specification for this data.\n",
      "\u001b[36mℹ\u001b[39m Specify the column types or set `show_col_types = FALSE` to quiet this message.\n"
     ]
    },
    {
     "name": "stdout",
     "output_type": "stream",
     "text": [
      "Rows: 306\n",
      "Columns: 2\n",
      "$ Date  \u001b[3m\u001b[90m<date>\u001b[39m\u001b[23m 2000-01-01\u001b[90m, \u001b[39m2000-02-01\u001b[90m, \u001b[39m2000-03-01\u001b[90m, \u001b[39m2000-04-01\u001b[90m, \u001b[39m2000-05-01\u001b[90m, \u001b[39m200…\n",
      "$ VALUE \u001b[3m\u001b[90m<dbl>\u001b[39m\u001b[23m 269869762\u001b[90m, \u001b[39m278547963\u001b[90m, \u001b[39m305301730\u001b[90m, \u001b[39m290530227\u001b[90m, \u001b[39m301763964\u001b[90m, \u001b[39m297764412…\n",
      "Rows: 306\n",
      "Columns: 2\n",
      "$ Date  \u001b[3m\u001b[90m<date>\u001b[39m\u001b[23m 2000-01-01\u001b[90m, \u001b[39m2000-02-01\u001b[90m, \u001b[39m2000-03-01\u001b[90m, \u001b[39m2000-04-01\u001b[90m, \u001b[39m2000-05-01\u001b[90m, \u001b[39m200…\n",
      "$ VALUE \u001b[3m\u001b[90m<dbl>\u001b[39m\u001b[23m 17705142820\u001b[90m, \u001b[39m18087403941\u001b[90m, \u001b[39m20618285791\u001b[90m, \u001b[39m18506995213\u001b[90m, \u001b[39m19558432594\u001b[90m,\u001b[39m…\n",
      "Rows: 306\n",
      "Columns: 2\n",
      "$ month            \u001b[3m\u001b[90m<date>\u001b[39m\u001b[23m 2000-01-01\u001b[90m, \u001b[39m2000-02-01\u001b[90m, \u001b[39m2000-03-01\u001b[90m, \u001b[39m2000-04-01\u001b[90m, \u001b[39m2000…\n",
      "$ Approximate_Rate \u001b[3m\u001b[90m<dbl>\u001b[39m\u001b[23m 1.524245\u001b[90m, \u001b[39m1.540011\u001b[90m, \u001b[39m1.480733\u001b[90m, \u001b[39m1.569840\u001b[90m, \u001b[39m1.542884\u001b[90m, \u001b[39m1.4…\n"
     ]
    }
   ],
   "source": [
    "all_tarrif_data <- read_csv(\"C:/Users/Irene/governorschallenge/DataWeb-Query-Export.csv\")\n",
    "\n",
    "general_import_charges <- all_tarrif_data|>\n",
    "filter(`Data Type` == \"General Import Charges\")|>\n",
    "dplyr::select(Year, Month, `General Customs Value`)|>\n",
    "rename(VALUE = `General Customs Value`)|>\n",
    "mutate(\n",
    "    Date = ymd(paste(Year, Month, \"01\", sep = \"-\")),\n",
    "    VALUE = as.numeric(VALUE)\n",
    "  ) |>\n",
    "  dplyr::select(Date, VALUE)|>\n",
    "  arrange(Date)|>\n",
    "  glimpse()\n",
    "\n",
    "general_customs_value <- all_tarrif_data|>\n",
    "filter(`Data Type` == \"General Customs Value\")|>\n",
    "dplyr::select(Year, Month, `General Customs Value`)|>\n",
    "rename(VALUE = `General Customs Value`)|>\n",
    "mutate(\n",
    "    Date = ymd(paste(Year, Month, \"01\", sep = \"-\")),\n",
    "    VALUE = as.numeric(VALUE)\n",
    "  ) |>\n",
    "  dplyr::select(Date, VALUE)|>\n",
    "  arrange(Date)|>\n",
    "  glimpse()\n",
    "\n",
    "\n",
    "\n",
    "tarrif_rate_df <- inner_join(\n",
    "  general_import_charges, \n",
    "  general_customs_value, \n",
    "  by = \"Date\",\n",
    "  suffix = c(\"_charges\", \"_value\")\n",
    ") |>\n",
    "  \n",
    "  # 2. Calculate the approximate tariff rate using the two VALUE columns\n",
    "  mutate(\n",
    "    Approximate_Rate = (VALUE_charges / VALUE_value) * 100\n",
    "  ) |>\n",
    "  rename(month = Date)|>\n",
    "  # 3. Keep only the columns you need for your VAR model\n",
    "  dplyr::select(month, Approximate_Rate)\n",
    "\n",
    "# --- Check the final result ---\n",
    "glimpse(tarrif_rate_df)"
   ]
  },
  {
   "cell_type": "code",
   "execution_count": 5,
   "id": "23b1733c",
   "metadata": {
    "vscode": {
     "languageId": "r"
    }
   },
   "outputs": [
    {
     "name": "stderr",
     "output_type": "stream",
     "text": [
      "\u001b[1mRows: \u001b[22m\u001b[34m488\u001b[39m \u001b[1mColumns: \u001b[22m\u001b[34m3\u001b[39m\n",
      "\u001b[36m──\u001b[39m \u001b[1mColumn specification\u001b[22m \u001b[36m────────────────────────────────────────────────────────\u001b[39m\n",
      "\u001b[1mDelimiter:\u001b[22m \",\"\n",
      "\u001b[31mchr\u001b[39m (1): Year\n",
      "\u001b[32mdbl\u001b[39m (2): Month, 9. Trade policy\n",
      "\n",
      "\u001b[36mℹ\u001b[39m Use `spec()` to retrieve the full column specification for this data.\n",
      "\u001b[36mℹ\u001b[39m Specify the column types or set `show_col_types = FALSE` to quiet this message.\n",
      "Warning message:\n",
      "\"\u001b[1m\u001b[22mThere was 1 warning in `mutate()`.\n",
      "\u001b[1m\u001b[22m\u001b[36mℹ\u001b[39m In argument: `Date = ymd(paste(Year, Month, \"01\", sep = \"-\"))`.\n",
      "Caused by warning:\n",
      "\u001b[33m!\u001b[39m  1 failed to parse.\"\n"
     ]
    },
    {
     "name": "stdout",
     "output_type": "stream",
     "text": [
      "Rows: 488\n",
      "Columns: 4\n",
      "$ Year  \u001b[3m\u001b[90m<chr>\u001b[39m\u001b[23m \"1985\"\u001b[90m, \u001b[39m\"1985\"\u001b[90m, \u001b[39m\"1985\"\u001b[90m, \u001b[39m\"1985\"\u001b[90m, \u001b[39m\"1985\"\u001b[90m, \u001b[39m\"1985\"\u001b[90m, \u001b[39m\"1985\"\u001b[90m, \u001b[39m\"1985\"\u001b[90m, \u001b[39m…\n",
      "$ Month \u001b[3m\u001b[90m<dbl>\u001b[39m\u001b[23m 1\u001b[90m, \u001b[39m2\u001b[90m, \u001b[39m3\u001b[90m, \u001b[39m4\u001b[90m, \u001b[39m5\u001b[90m, \u001b[39m6\u001b[90m, \u001b[39m7\u001b[90m, \u001b[39m8\u001b[90m, \u001b[39m9\u001b[90m, \u001b[39m10\u001b[90m, \u001b[39m11\u001b[90m, \u001b[39m12\u001b[90m, \u001b[39m1\u001b[90m, \u001b[39m2\u001b[90m, \u001b[39m3\u001b[90m, \u001b[39m4\u001b[90m, \u001b[39m5\u001b[90m, \u001b[39m6\u001b[90m, \u001b[39m7\u001b[90m, \u001b[39m8\u001b[90m, \u001b[39m9…\n",
      "$ VALUE \u001b[3m\u001b[90m<dbl>\u001b[39m\u001b[23m 122.61396\u001b[90m, \u001b[39m41.76222\u001b[90m, \u001b[39m107.92573\u001b[90m, \u001b[39m194.75287\u001b[90m, \u001b[39m124.39166\u001b[90m, \u001b[39m153.16361\u001b[90m,\u001b[39m…\n",
      "$ Date  \u001b[3m\u001b[90m<date>\u001b[39m\u001b[23m 1985-01-01\u001b[90m, \u001b[39m1985-02-01\u001b[90m, \u001b[39m1985-03-01\u001b[90m, \u001b[39m1985-04-01\u001b[90m, \u001b[39m1985-05-01\u001b[90m, \u001b[39m198…\n"
     ]
    },
    {
     "name": "stderr",
     "output_type": "stream",
     "text": [
      "\u001b[1mRows: \u001b[22m\u001b[34m390\u001b[39m \u001b[1mColumns: \u001b[22m\u001b[34m8\u001b[39m\n",
      "\u001b[36m──\u001b[39m \u001b[1mColumn specification\u001b[22m \u001b[36m────────────────────────────────────────────────────────\u001b[39m\n",
      "\u001b[1mDelimiter:\u001b[22m \",\"\n",
      "\u001b[31mchr\u001b[39m (1): date\n",
      "\u001b[32mdbl\u001b[39m (7): INDINF_LFSMICRO_M, INDINF_LFSMICRO_LEVELS_M, INDINF_LFSWC_M, INDINF...\n",
      "\n",
      "\u001b[36mℹ\u001b[39m Use `spec()` to retrieve the full column specification for this data.\n",
      "\u001b[36mℹ\u001b[39m Specify the column types or set `show_col_types = FALSE` to quiet this message.\n"
     ]
    },
    {
     "name": "stdout",
     "output_type": "stream",
     "text": [
      "Rows: 294\n",
      "Columns: 2\n",
      "$ Date  \u001b[3m\u001b[90m<date>\u001b[39m\u001b[23m 2001-01-01\u001b[90m, \u001b[39m2001-02-01\u001b[90m, \u001b[39m2001-03-01\u001b[90m, \u001b[39m2001-04-01\u001b[90m, \u001b[39m2001-05-01\u001b[90m, \u001b[39m200…\n",
      "$ VALUE \u001b[3m\u001b[90m<dbl>\u001b[39m\u001b[23m 2.8\u001b[90m, \u001b[39m3.3\u001b[90m, \u001b[39m3.4\u001b[90m, \u001b[39m3.3\u001b[90m, \u001b[39m3.6\u001b[90m, \u001b[39m3.3\u001b[90m, \u001b[39m3.3\u001b[90m, \u001b[39m3.1\u001b[90m, \u001b[39m3.0\u001b[90m, \u001b[39m3.0\u001b[90m, \u001b[39m3.2\u001b[90m, \u001b[39m3.4\u001b[90m, \u001b[39m3.2\u001b[90m,\u001b[39m…\n"
     ]
    },
    {
     "name": "stderr",
     "output_type": "stream",
     "text": [
      "Accessing CANSIM NDM vectors from Statistics Canada\n",
      "\n",
      "Accessing CANSIM NDM vectors from Statistics Canada\n",
      "\n",
      "Accessing CANSIM NDM vectors from Statistics Canada\n",
      "\n",
      "Accessing CANSIM NDM vectors from Statistics Canada\n",
      "\n"
     ]
    },
    {
     "name": "stdout",
     "output_type": "stream",
     "text": [
      "\u001b[90m# A tibble: 6 × 5\u001b[39m\n",
      "  date       series_id  value realtime_start realtime_end\n",
      "  \u001b[3m\u001b[90m<date>\u001b[39m\u001b[23m     \u001b[3m\u001b[90m<chr>\u001b[39m\u001b[23m      \u001b[3m\u001b[90m<dbl>\u001b[39m\u001b[23m \u001b[3m\u001b[90m<date>\u001b[39m\u001b[23m         \u001b[3m\u001b[90m<date>\u001b[39m\u001b[23m      \n",
      "\u001b[90m1\u001b[39m 1986-01-01 MCOILWTICO  22.9 2025-08-22     2025-08-22  \n",
      "\u001b[90m2\u001b[39m 1986-02-01 MCOILWTICO  15.5 2025-08-22     2025-08-22  \n",
      "\u001b[90m3\u001b[39m 1986-03-01 MCOILWTICO  12.6 2025-08-22     2025-08-22  \n",
      "\u001b[90m4\u001b[39m 1986-04-01 MCOILWTICO  12.8 2025-08-22     2025-08-22  \n",
      "\u001b[90m5\u001b[39m 1986-05-01 MCOILWTICO  15.4 2025-08-22     2025-08-22  \n",
      "\u001b[90m6\u001b[39m 1986-06-01 MCOILWTICO  13.4 2025-08-22     2025-08-22  \n"
     ]
    }
   ],
   "source": [
    "\n",
    "### EXCHANGE RATE US-CANADA ###\n",
    "exc_rate <- fredr(\n",
    "  series_id = \"DEXCAUS\",\n",
    "  observation_start = as.Date(\"1990-01-01\"),\n",
    "  observation_end = as.Date(\"2025-08-01\"),\n",
    "  frequency = \"m\", # monthly\n",
    "  units = \"chg\" # change over previous value\n",
    ")\n",
    "\n",
    "### TRADE COMMODITIES US-CANADA ###\n",
    "trade_commodities <- fredr(\n",
    "  series_id = \"XTNTVA01CAM664S\",\n",
    "  observation_start = as.Date(\"1990-01-01\"),\n",
    "  observation_end = as.Date(\"2025-08-01\"),\n",
    "  frequency = \"m\", # monthly\n",
    "  units = \"chg\" # change over previous value\n",
    ")\n",
    "\n",
    "\n",
    "### TRADE POLICY UNCERTAINTY INDEX ###\n",
    "tpu_data <- read_csv(\"Categorical_EPU_Data.csv\")|>\n",
    "mutate(Date = ymd(paste(Year, Month, \"01\", sep = \"-\")))|>\n",
    "rename(VALUE = '9. Trade policy')|>\n",
    "glimpse()\n",
    "\n",
    "\n",
    "### lFS MICRO ###\n",
    "lfs_micro <- read_csv('C:/Users/Irene/governorschallenge/INDINF_WAGES_MONTHLY.csv', skip=20)|>\n",
    "dplyr::select(date, INDINF_LFSMICRO_M)|>\n",
    "rename(Date = date, VALUE = INDINF_LFSMICRO_M)|>\n",
    "  mutate(Date = mdy(Date)) |>\n",
    "  filter(Date > ymd(\"2000-12-31\"))|>\n",
    "glimpse()\n",
    "\n",
    "### SURVEY - ABILITY TO MEET PRODUCTION DEMAND ###\n",
    "\n",
    "# ppc_data <- read_csv('C:/Users/Irene/governorschallenge/CAPACITYSIGNIF,CAPACITYSOME-sd-1999-07-01-ed-2025-07-01.csv', skip = 9) |>\n",
    "#   dplyr::select(date, CAPACITYSIGNIF) |>\n",
    "#   rename(Date = date, VALUE = CAPACITYSIGNIF) |>\n",
    "#   # Use yq() to correctly parse the \"Year-Quarter\" format\n",
    "#   mutate(Date = yq(Date)) |>\n",
    "#   filter(Date > ymd(\"2000-12-31\"))\n",
    "\n",
    "# Add refresh = TRUE to each call to bypass the cache\n",
    "gdp_vec <- get_cansim_vector_for_latest_periods(\"v65201210\", periods = 300, refresh = TRUE)\n",
    "cpi_vec <- get_cansim_vector_for_latest_periods(\"v108785715\", periods = 500, refresh = TRUE) # CHANGE IN CPI\n",
    "# exc_vec <- get_cansim_vector_for_latest_periods(\"v111666275\", periods = 300, refresh = TRUE)\n",
    "# oil_vec <- get_cansim_vector_for_latest_periods('v1352087861', periods = 600, refresh = TRUE)\n",
    "unemp_vec <- get_cansim_vector_for_latest_periods('v2062815', periods = 500, refresh = TRUE) # UNEMPLOYMENT RATE\n",
    "# ulc_vec <- get_cansim_vector_for_latest_periods('v29509282', periods = 300, refresh = TRUE) \n",
    "fcpi_vec <- get_cansim_vector_for_latest_periods('v52673496', periods = 500, refresh = TRUE) ## FISHER COMMODITY PRICE INDEX\n",
    "\n",
    "wti_price_monthly <- fredr::fredr(series_id = \"MCOILWTICO\") ## CRUDE OUL PRICES -- WEST TEXAS INTERMEDIATE\n",
    "\n",
    "# The data goes back to 1986\n",
    "print(head(wti_price_monthly))"
   ]
  },
  {
   "cell_type": "code",
   "execution_count": 6,
   "id": "509b5307",
   "metadata": {
    "vscode": {
     "languageId": "r"
    }
   },
   "outputs": [
    {
     "name": "stderr",
     "output_type": "stream",
     "text": [
      "Accessing CANSIM NDM vectors from Statistics Canada\n",
      "\n",
      "Accessing CANSIM NDM vectors from Statistics Canada\n",
      "\n"
     ]
    },
    {
     "name": "stdout",
     "output_type": "stream",
     "text": [
      "Rows: 500\n",
      "Columns: 2\n",
      "$ Date                      \u001b[3m\u001b[90m<date>\u001b[39m\u001b[23m 1984-01-01\u001b[90m, \u001b[39m1984-02-01\u001b[90m, \u001b[39m1984-03-01\u001b[90m, \u001b[39m1984-04…\n",
      "$ break_even_inflation_rate \u001b[3m\u001b[90m<dbl>\u001b[39m\u001b[23m \u001b[31mNA\u001b[39m\u001b[90m, \u001b[39m\u001b[31mNA\u001b[39m\u001b[90m, \u001b[39m\u001b[31mNA\u001b[39m\u001b[90m, \u001b[39m\u001b[31mNA\u001b[39m\u001b[90m, \u001b[39m\u001b[31mNA\u001b[39m\u001b[90m, \u001b[39m\u001b[31mNA\u001b[39m\u001b[90m, \u001b[39m\u001b[31mNA\u001b[39m\u001b[90m, \u001b[39m\u001b[31mNA\u001b[39m\u001b[90m, \u001b[39m\u001b[31mNA\u001b[39m\u001b[90m, \u001b[39m\u001b[31mNA\u001b[39m\u001b[90m, \u001b[39m\u001b[31mNA\u001b[39m\u001b[90m, \u001b[39m…\n"
     ]
    }
   ],
   "source": [
    "## BREAK EVEN INFLATION RATE\n",
    "\n",
    "monthly_real_return_bond <- get_cansim_vector_for_latest_periods('v122553',periods = 500)\n",
    "monthly_convetional_bond <- get_cansim_vector_for_latest_periods('v122543',periods = 500)\n",
    "monthly_real_return_bond <- monthly_real_return_bond|>\n",
    "dplyr::select(Date, VALUE)\n",
    "\n",
    "monthly_convetional_bond <- monthly_convetional_bond|>\n",
    "dplyr::select(Date, VALUE)\n",
    "\n",
    "break_even_df <- monthly_convetional_bond |>\n",
    "  inner_join(monthly_real_return_bond, by = \"Date\", suffix = c(\"_conventional\", \"_real_return\")) |>\n",
    "  mutate(break_even_inflation_rate = VALUE_conventional - VALUE_real_return) |>\n",
    "  dplyr::select(Date, break_even_inflation_rate)\n",
    "\n",
    "  glimpse(\n",
    "break_even_df)"
   ]
  },
  {
   "cell_type": "code",
   "execution_count": 7,
   "id": "87fc61d7",
   "metadata": {
    "vscode": {
     "languageId": "r"
    }
   },
   "outputs": [
    {
     "name": "stderr",
     "output_type": "stream",
     "text": [
      "Warning message in as.POSIXlt.POSIXct(x, tz = tz):\n",
      "\"unknown timezone 'America/Toronto'\"\n"
     ]
    },
    {
     "name": "stderr",
     "output_type": "stream",
     "text": [
      "Warning message in as.POSIXlt.POSIXct(x, tz = tz):\n",
      "\"unknown timezone 'GMT'\"\n",
      "Warning message in as.POSIXlt.POSIXct(x, tz = tz):\n",
      "\"unknown timezone 'America/New_York'\"\n",
      "Warning message in as.POSIXlt.POSIXct(x, tz = tz):\n",
      "\"unknown timezone 'America/Los_Angeles'\"\n",
      "Warning message in as.POSIXlt.POSIXct(x, tz = tz):\n",
      "\"unknown timezone 'GMT'\"\n",
      "Warning message in as.POSIXlt.POSIXct(x, tz = tz):\n",
      "\"unknown timezone 'America/New_York'\"\n",
      "Accessing CANSIM NDM vectors from Statistics Canada\n",
      "\n"
     ]
    }
   ],
   "source": [
    "policy_rate_daily_vec <- get_cansim_vector(\"v39050\", start_time = \"2000-01-01\")"
   ]
  },
  {
   "cell_type": "code",
   "execution_count": 8,
   "id": "ed22e291",
   "metadata": {
    "vscode": {
     "languageId": "r"
    }
   },
   "outputs": [
    {
     "name": "stdout",
     "output_type": "stream",
     "text": [
      "Rows: 499\n",
      "Columns: 2\n",
      "$ month      \u001b[3m\u001b[90m<date>\u001b[39m\u001b[23m 1984-01-01\u001b[90m, \u001b[39m1984-02-01\u001b[90m, \u001b[39m1984-03-01\u001b[90m, \u001b[39m1984-04-01\u001b[90m, \u001b[39m1984-05-01…\n",
      "$ delta_fcpi \u001b[3m\u001b[90m<dbl>\u001b[39m\u001b[23m 1.69137224\u001b[90m, \u001b[39m0.45319931\u001b[90m, \u001b[39m2.09954365\u001b[90m, \u001b[39m-0.82079804\u001b[90m, \u001b[39m-1.0008711…\n"
     ]
    }
   ],
   "source": [
    "start_date <- \"1990-01-01\"\n",
    "\n",
    "# # --- GDP ---\n",
    "gdp_monthly <- gdp_vec |>\n",
    "  dplyr::select(Date, VALUE) |>\n",
    "  # Create a 'month' column and filter\n",
    "  dplyr::mutate(month = lubridate::floor_date(Date, \"month\")) |>\n",
    "  dplyr::filter(month >= start_date) |>\n",
    "  # Calculate month-over-month percent change\n",
    "  dplyr::mutate(\n",
    "    delta_gdp = (log(VALUE) - log(dplyr::lag(VALUE, 1))) * 100\n",
    "  ) |>\n",
    "  dplyr::select(month, delta_gdp) |>\n",
    "  tidyr::drop_na()\n",
    "\n",
    "# --- Break-even Inflation Rate ---\n",
    "bond_monthly <- break_even_df |>\n",
    "  dplyr::select(Date, break_even_inflation_rate) |>\n",
    "  dplyr::mutate(month = lubridate::floor_date(Date, \"month\")) |>\n",
    "  dplyr::filter(month >= start_date) |>\n",
    "  dplyr::mutate(\n",
    "    delta_bond = (log(break_even_inflation_rate) - log(dplyr::lag(break_even_inflation_rate, 1))) * 100\n",
    "  ) |>\n",
    "  dplyr::select(month, delta_bond) |>\n",
    "  tidyr::drop_na()\n",
    "\n",
    "# ppc_monthly <- ppc_data |>\n",
    "#   dplyr::select(Date, VALUE) |>\n",
    "#   dplyr::mutate(month = lubridate::floor_date(Date, \"month\")) |>\n",
    "#   dplyr::filter(month >= start_date) |>\n",
    "#   dplyr::mutate(\n",
    "#     delta_ppc = VALUE\n",
    "#   ) |>\n",
    "#   dplyr::select(month, delta_ppc) |>\n",
    "#   tidyr::drop_na()\n",
    "\n",
    "\n",
    "# --- Policy Interest Rate (Level) ---\n",
    "policy_rate_monthly <- policy_rate_daily_vec |>\n",
    "  dplyr::select(Date, VALUE) |>\n",
    "  # Create a 'month' column to group by\n",
    "  mutate(month = floor_date(Date, \"month\")) |>\n",
    "  # Group by month and calculate the average rate\n",
    "  group_by(month) |>\n",
    "  summarise(\n",
    "    policy_rate = mean(VALUE, na.rm = TRUE) # Calculate the monthly average\n",
    "  ) |>\n",
    "  mutate(policy_rate  = (log(policy_rate) - log(dplyr::lag(policy_rate, 1))) * 100) |>\n",
    "  ungroup()\n",
    "\n",
    "# --- Oil ---\n",
    "oil_monthly <- wti_price_monthly |>\n",
    "  dplyr::select(date, value) |>\n",
    "  dplyr::mutate(month = date) |>\n",
    "  dplyr::filter(month >= start_date) |>\n",
    "  dplyr::mutate(\n",
    "    delta_oil = (log(value) - log(dplyr::lag(value, 1))) * 100\n",
    "  ) |>\n",
    "  dplyr::select(month, delta_oil) |>\n",
    "  tidyr::drop_na()\n",
    "\n",
    "trade_unc_monthly <- tpu_data |>\n",
    "  dplyr::select(Date, VALUE) |>\n",
    "  dplyr::mutate(month = Date) |>\n",
    "  dplyr::filter(month >= start_date) |>\n",
    "  dplyr::mutate(\n",
    "    delta_trade_unc = (log(VALUE) - log(dplyr::lag(VALUE, 1))) * 100\n",
    "  ) |>\n",
    "  dplyr::select(month, delta_trade_unc) |>\n",
    "  tidyr::drop_na()\n",
    "\n",
    "# --- No changes needed for your inflation calculation ---\n",
    "cpi_monthly <- cpi_vec |>\n",
    "  dplyr::select(Date, VALUE) |>\n",
    "  dplyr::mutate(month = Date) |>\n",
    "  dplyr::arrange(month) |> # Good practice to sort by date before lagging\n",
    "  dplyr::mutate(\n",
    "    delta_inflation =  VALUE\n",
    "  ) |>\n",
    "  dplyr::select(month, delta_inflation) |>\n",
    "  tidyr::drop_na()\n",
    "\n",
    "fcpi_monthly <- fcpi_vec |>\n",
    "  dplyr::select(Date, VALUE) |>\n",
    "  dplyr::mutate(month = Date) |>\n",
    "  dplyr::arrange(month) |> # Good practice to sort by date before lagging\n",
    "  dplyr::mutate(\n",
    "    delta_fcpi = (log(VALUE) - log(dplyr::lag(VALUE, 1))) * 100\n",
    "  ) |>\n",
    "  dplyr::select(month, delta_fcpi) |>\n",
    "  tidyr::drop_na()|>\n",
    "  glimpse()\n",
    "\n",
    "# --- ULC (if you decide to use it, assuming it's monthly) ---\n",
    "# ulc_monthly <- ulc_vec |>\n",
    "#   dplyr::select(Date, VALUE) |>\n",
    "#   dplyr::mutate(month = lubridate::floor_date(Date, \"month\")) |>\n",
    "#   dplyr::filter(month >= start_date) |>\n",
    "#   dplyr::mutate(\n",
    "#     delta_ulc = (log(VALUE) - log(dplyr::lag(VALUE, 1))) * 100\n",
    "#   ) |>\n",
    "#   dplyr::select(month, delta_ulc) |>\n",
    "#   tidyr::drop_na()\n",
    "\n",
    "# Process CPI (monthly percent change)\n",
    "cpi_monthly <- cpi_vec |>\n",
    "  dplyr::select(Date, VALUE) |>\n",
    "  dplyr::mutate(month = Date) |>\n",
    "  dplyr::mutate(\n",
    "    delta_cpi = VALUE) |>\n",
    "  dplyr::select(month, delta_cpi) |>\n",
    "  tidyr::drop_na()\n",
    "\n",
    "trade_commodities_monthly <- trade_commodities |>\n",
    "  dplyr::select(date, value) |>\n",
    "  dplyr::mutate(month = date) |>\n",
    "  dplyr::filter(month >= start_date) |>\n",
    "  dplyr::mutate(\n",
    "    trade_us_canada = value) |>\n",
    "  dplyr::select(month, trade_us_canada ) |>\n",
    "  tidyr::drop_na()\n",
    "\n",
    "lfs_micro_monthly <- lfs_micro |>\n",
    "  dplyr::select(Date, VALUE) |>\n",
    "  dplyr::mutate(month = Date) |>\n",
    "  dplyr::filter(month >= start_date) |>\n",
    "  dplyr::mutate(\n",
    "    lfs_micro = (log(VALUE) - log(dplyr::lag(VALUE, 1))) * 100) |>\n",
    "  dplyr::select(month, lfs_micro) |>\n",
    "  tidyr::drop_na()\n",
    "\n",
    "# Process Exchange Rate (quarterly percent change)\n",
    "# exc_quarterly <- exc_vec |>\n",
    "#   dplyr::select(Date, VALUE) |>\n",
    "#   dplyr::mutate(quarter = lubridate::floor_date(Date, \"quarter\")) |>\n",
    "#   dplyr::group_by(quarter) |>\n",
    "#   dplyr::summarise(VALUE = dplyr::last(VALUE), .groups = 'drop') |>\n",
    "#   dplyr::filter(quarter >= start_date) |> #\n",
    "#   dplyr::mutate(\n",
    "#     delta_exc = (log(VALUE) - log(dplyr::lag(VALUE, 1))) * 100\n",
    "#   ) |>\n",
    "#   dplyr::select(quarter, delta_exc) |>\n",
    "#   tidyr::drop_na()\n",
    "\n",
    "# Process Unemployment (using the rate level)\n",
    "unemp_monthly <- unemp_vec |>\n",
    "  dplyr::select(Date, VALUE) |>\n",
    "  dplyr::mutate(month = lubridate::floor_date(Date, \"month\")) |>\n",
    "  dplyr::filter(month >= start_date) |>\n",
    "  # Using the unemployment rate level directly\n",
    "  dplyr::mutate(\n",
    "    delta_unemp = VALUE\n",
    "  ) |>\n",
    "  dplyr::select(month, delta_unemp) |>\n",
    "  tidyr::drop_na()\n",
    "\n",
    "\n",
    "exc_monthly <- exc_rate |>\n",
    "rename(month = date)|>\n",
    "rename(delta_exc = value)|>\n",
    "dplyr::select(month, delta_exc)|>\n",
    "tidyr::drop_na()\n"
   ]
  },
  {
   "cell_type": "code",
   "execution_count": 9,
   "id": "38cab353",
   "metadata": {
    "vscode": {
     "languageId": "r"
    }
   },
   "outputs": [
    {
     "name": "stdout",
     "output_type": "stream",
     "text": [
      "Rows: 427\n",
      "Columns: 3\n",
      "$ month        \u001b[3m\u001b[90m<date>\u001b[39m\u001b[23m 1990-01-01\u001b[90m, \u001b[39m1990-02-01\u001b[90m, \u001b[39m1990-03-01\u001b[90m, \u001b[39m1990-04-01\u001b[90m, \u001b[39m1990-05-…\n",
      "$ unemployment \u001b[3m\u001b[90m<dbl>\u001b[39m\u001b[23m 7.9\u001b[90m, \u001b[39m7.7\u001b[90m, \u001b[39m7.3\u001b[90m, \u001b[39m7.6\u001b[90m, \u001b[39m7.8\u001b[90m, \u001b[39m7.6\u001b[90m, \u001b[39m7.9\u001b[90m, \u001b[39m8.1\u001b[90m, \u001b[39m8.5\u001b[90m, \u001b[39m8.8\u001b[90m, \u001b[39m9.1\u001b[90m, \u001b[39m9.…\n",
      "$ delta_cpi    \u001b[3m\u001b[90m<dbl>\u001b[39m\u001b[23m 4.9\u001b[90m, \u001b[39m4.7\u001b[90m, \u001b[39m4.6\u001b[90m, \u001b[39m4.4\u001b[90m, \u001b[39m4.3\u001b[90m, \u001b[39m4.2\u001b[90m, \u001b[39m4.1\u001b[90m, \u001b[39m4.1\u001b[90m, \u001b[39m4.0\u001b[90m, \u001b[39m3.9\u001b[90m, \u001b[39m3.9\u001b[90m, \u001b[39m4.…\n"
     ]
    }
   ],
   "source": [
    "unemp_nairu <- unemp_vec |>\n",
    "  dplyr::select(Date, VALUE) |>\n",
    "  dplyr::mutate(month = lubridate::floor_date(Date, \"month\")) |>\n",
    "  dplyr::filter(month >= start_date) |>\n",
    "  dplyr::mutate(\n",
    "    unemployment = VALUE # Renaming here is clearer\n",
    "  ) |>\n",
    "  dplyr::select(month, unemployment) |>\n",
    "  tidyr::drop_na()\n",
    "\n",
    "# --- THE FIX: Use inner_join() instead of cbind() ---\n",
    "philips_curve <- dplyr::inner_join(unemp_nairu, cpi_monthly, by = \"month\") |>\n",
    "  glimpse()\n",
    "\n"
   ]
  },
  {
   "cell_type": "code",
   "execution_count": 10,
   "id": "478313e2",
   "metadata": {
    "vscode": {
     "languageId": "r"
    }
   },
   "outputs": [
    {
     "name": "stdout",
     "output_type": "stream",
     "text": [
      "Rows: 292\n",
      "Columns: 12\n",
      "$ month            \u001b[3m\u001b[90m<date>\u001b[39m\u001b[23m 2001-02-01\u001b[90m, \u001b[39m2001-03-01\u001b[90m, \u001b[39m2001-04-01\u001b[90m, \u001b[39m2001-05-01\u001b[90m, \u001b[39m2001…\n",
      "$ delta_oil        \u001b[3m\u001b[90m<dbl>\u001b[39m\u001b[23m 0.06756757\u001b[90m, \u001b[39m-8.30586210\u001b[90m, \u001b[39m0.87687811\u001b[90m, \u001b[39m4.06328169\u001b[90m, \u001b[39m-3.6…\n",
      "$ delta_cpi        \u001b[3m\u001b[90m<dbl>\u001b[39m\u001b[23m 2.2\u001b[90m, \u001b[39m2.2\u001b[90m, \u001b[39m2.4\u001b[90m, \u001b[39m2.4\u001b[90m, \u001b[39m2.4\u001b[90m, \u001b[39m2.5\u001b[90m, \u001b[39m2.4\u001b[90m, \u001b[39m2.3\u001b[90m, \u001b[39m2.2\u001b[90m, \u001b[39m1.9\u001b[90m, \u001b[39m1.9…\n",
      "$ delta_exc        \u001b[3m\u001b[90m<dbl>\u001b[39m\u001b[23m 0.0183631579\u001b[90m, \u001b[39m0.0371777512\u001b[90m, \u001b[39m-0.0009742424\u001b[90m, \u001b[39m-0.0167166…\n",
      "$ delta_unemp      \u001b[3m\u001b[90m<dbl>\u001b[39m\u001b[23m 7.0\u001b[90m, \u001b[39m7.1\u001b[90m, \u001b[39m7.1\u001b[90m, \u001b[39m7.0\u001b[90m, \u001b[39m7.2\u001b[90m, \u001b[39m7.1\u001b[90m, \u001b[39m7.2\u001b[90m, \u001b[39m7.2\u001b[90m, \u001b[39m7.3\u001b[90m, \u001b[39m7.5\u001b[90m, \u001b[39m8.1…\n",
      "$ delta_bond       \u001b[3m\u001b[90m<dbl>\u001b[39m\u001b[23m -3.000225e+00\u001b[90m, \u001b[39m-5.089070e-01\u001b[90m, \u001b[39m4.489532e+00\u001b[90m, \u001b[39m1.492607e…\n",
      "$ trade_us_canada  \u001b[3m\u001b[90m<dbl>\u001b[39m\u001b[23m -1716600000\u001b[90m, \u001b[39m-393800000\u001b[90m, \u001b[39m-204200000\u001b[90m, \u001b[39m125600000\u001b[90m, \u001b[39m-1665…\n",
      "$ delta_trade_unc  \u001b[3m\u001b[90m<dbl>\u001b[39m\u001b[23m -75.509001\u001b[90m, \u001b[39m-31.636202\u001b[90m, \u001b[39m96.397195\u001b[90m, \u001b[39m-121.759529\u001b[90m, \u001b[39m68.90…\n",
      "$ delta_fcpi       \u001b[3m\u001b[90m<dbl>\u001b[39m\u001b[23m -9.5590724\u001b[90m, \u001b[39m-2.4684897\u001b[90m, \u001b[39m2.1593704\u001b[90m, \u001b[39m0.3708286\u001b[90m, \u001b[39m-5.7448…\n",
      "$ lfs_micro        \u001b[3m\u001b[90m<dbl>\u001b[39m\u001b[23m 16.430305\u001b[90m, \u001b[39m2.985296\u001b[90m, \u001b[39m-2.985296\u001b[90m, \u001b[39m8.701138\u001b[90m, \u001b[39m-8.701138\u001b[90m, \u001b[39m…\n",
      "$ Approximate_Rate \u001b[3m\u001b[90m<dbl>\u001b[39m\u001b[23m 1.418153\u001b[90m, \u001b[39m1.369565\u001b[90m, \u001b[39m1.512005\u001b[90m, \u001b[39m1.436815\u001b[90m, \u001b[39m1.379190\u001b[90m, \u001b[39m1.5…\n",
      "$ policy_rate      \u001b[3m\u001b[90m<dbl>\u001b[39m\u001b[23m -3.06826277\u001b[90m, \u001b[39m-8.16416184\u001b[90m, \u001b[39m-3.96176390\u001b[90m, \u001b[39m-3.29083879\u001b[90m, \u001b[39m-…\n"
     ]
    }
   ],
   "source": [
    "combine_processed_dfs <- function(...) {\n",
    "  list_of_dfs <- list(...)\n",
    "  combined_df <- purrr::reduce(list_of_dfs, dplyr::inner_join, by = \"month\")\n",
    "  return(combined_df)\n",
    "}\n",
    "\n",
    "# Example of how to use it:\n",
    "final_monthly_df <- combine_processed_dfs(\n",
    "  oil_monthly,\n",
    "  cpi_monthly,\n",
    "  exc_monthly,\n",
    "  unemp_monthly,\n",
    "  bond_monthly,\n",
    "  trade_commodities_monthly,\n",
    "  trade_unc_monthly,\n",
    "  fcpi_monthly,\n",
    "  lfs_micro_monthly,\n",
    "  tarrif_rate_df,\n",
    "  policy_rate_monthly\n",
    "  # ppc_monthly\n",
    ")|>\n",
    "filter(row_number() <= n() - 1)\n",
    "\n",
    "glimpse(final_monthly_df)"
   ]
  },
  {
   "cell_type": "code",
   "execution_count": 11,
   "id": "93646d15",
   "metadata": {
    "vscode": {
     "languageId": "r"
    }
   },
   "outputs": [
    {
     "name": "stderr",
     "output_type": "stream",
     "text": [
      "Warning message in adf.test(final_monthly_df[[var]], alternative = \"stationary\"):\n",
      "\"p-value smaller than printed p-value\"\n"
     ]
    },
    {
     "name": "stdout",
     "output_type": "stream",
     "text": [
      "--- ADF Test for: delta_oil ---\n",
      "Dickey-Fuller Statistic: -6.832 \n",
      "P-value: 0.01 \n",
      "Result: The series is Stationary (p < 0.05)\n",
      "\n",
      "--- ADF Test for: delta_cpi ---\n",
      "Dickey-Fuller Statistic: -3.187 \n",
      "P-value: 0.0905 \n",
      "Result: The series is Stationary (p < 0.05)\n",
      "\n"
     ]
    },
    {
     "name": "stderr",
     "output_type": "stream",
     "text": [
      "Warning message in adf.test(final_monthly_df[[var]], alternative = \"stationary\"):\n",
      "\"p-value smaller than printed p-value\"\n"
     ]
    },
    {
     "name": "stdout",
     "output_type": "stream",
     "text": [
      "--- ADF Test for: delta_exc ---\n",
      "Dickey-Fuller Statistic: -6.659 \n",
      "P-value: 0.01 \n",
      "Result: The series is Stationary (p < 0.05)\n",
      "\n",
      "--- ADF Test for: delta_unemp ---\n",
      "Dickey-Fuller Statistic: -3.373 \n",
      "P-value: 0.0592 \n",
      "Result: The series is Stationary (p < 0.05)\n",
      "\n"
     ]
    },
    {
     "name": "stderr",
     "output_type": "stream",
     "text": [
      "Warning message in adf.test(final_monthly_df[[var]], alternative = \"stationary\"):\n",
      "\"p-value smaller than printed p-value\"\n"
     ]
    },
    {
     "name": "stdout",
     "output_type": "stream",
     "text": [
      "--- ADF Test for: delta_bond ---\n",
      "Dickey-Fuller Statistic: -7.612 \n",
      "P-value: 0.01 \n",
      "Result: The series is Stationary (p < 0.05)\n",
      "\n"
     ]
    },
    {
     "name": "stderr",
     "output_type": "stream",
     "text": [
      "Warning message in adf.test(final_monthly_df[[var]], alternative = \"stationary\"):\n",
      "\"p-value smaller than printed p-value\"\n"
     ]
    },
    {
     "name": "stdout",
     "output_type": "stream",
     "text": [
      "--- ADF Test for: trade_us_canada ---\n",
      "Dickey-Fuller Statistic: -8.52 \n",
      "P-value: 0.01 \n",
      "Result: The series is Stationary (p < 0.05)\n",
      "\n"
     ]
    },
    {
     "name": "stderr",
     "output_type": "stream",
     "text": [
      "Warning message in adf.test(final_monthly_df[[var]], alternative = \"stationary\"):\n",
      "\"p-value smaller than printed p-value\"\n"
     ]
    },
    {
     "name": "stdout",
     "output_type": "stream",
     "text": [
      "--- ADF Test for: delta_trade_unc ---\n",
      "Dickey-Fuller Statistic: -7.089 \n",
      "P-value: 0.01 \n",
      "Result: The series is Stationary (p < 0.05)\n",
      "\n"
     ]
    },
    {
     "name": "stderr",
     "output_type": "stream",
     "text": [
      "Warning message in adf.test(final_monthly_df[[var]], alternative = \"stationary\"):\n",
      "\"p-value smaller than printed p-value\"\n"
     ]
    },
    {
     "name": "stdout",
     "output_type": "stream",
     "text": [
      "--- ADF Test for: delta_fcpi ---\n",
      "Dickey-Fuller Statistic: -6.645 \n",
      "P-value: 0.01 \n",
      "Result: The series is Stationary (p < 0.05)\n",
      "\n"
     ]
    },
    {
     "name": "stderr",
     "output_type": "stream",
     "text": [
      "Warning message in adf.test(final_monthly_df[[var]], alternative = \"stationary\"):\n",
      "\"p-value smaller than printed p-value\"\n"
     ]
    },
    {
     "name": "stdout",
     "output_type": "stream",
     "text": [
      "--- ADF Test for: lfs_micro ---\n",
      "Dickey-Fuller Statistic: -7.038 \n",
      "P-value: 0.01 \n",
      "Result: The series is Stationary (p < 0.05)\n",
      "\n",
      "--- ADF Test for: Approximate_Rate ---\n",
      "Dickey-Fuller Statistic: -2.804 \n",
      "P-value: 0.2373 \n",
      "Result: The series is Non-Stationary (p >= 0.05)\n",
      "\n"
     ]
    },
    {
     "name": "stderr",
     "output_type": "stream",
     "text": [
      "Warning message in adf.test(final_monthly_df[[var]], alternative = \"stationary\"):\n",
      "\"p-value smaller than printed p-value\"\n"
     ]
    },
    {
     "name": "stdout",
     "output_type": "stream",
     "text": [
      "--- ADF Test for: policy_rate ---\n",
      "Dickey-Fuller Statistic: -5.076 \n",
      "P-value: 0.01 \n",
      "Result: The series is Stationary (p < 0.05)\n",
      "\n"
     ]
    }
   ],
   "source": [
    "variables_to_test <- setdiff(names(final_monthly_df), \"month\")\n",
    "\n",
    "# Loop through each variable name\n",
    "for (var in variables_to_test) {\n",
    "  \n",
    "  # Run the ADF test on the column\n",
    "  adf_result <- adf.test(final_monthly_df[[var]], alternative = \"stationary\")\n",
    "  \n",
    "  # Print a formatted summary of the results\n",
    "  cat(\"--- ADF Test for:\", var, \"---\\n\")\n",
    "  cat(\"Dickey-Fuller Statistic:\", round(adf_result$statistic, 3), \"\\n\")\n",
    "  cat(\"P-value:\", round(adf_result$p.value, 4), \"\\n\")\n",
    "  \n",
    "  # Interpret the result based on the p-value\n",
    "  if (adf_result$p.value < 0.1) {\n",
    "    cat(\"Result: The series is Stationary (p < 0.05)\\n\\n\")\n",
    "  } else {\n",
    "    cat(\"Result: The series is Non-Stationary (p >= 0.05)\\n\\n\")\n",
    "  }\n",
    "}"
   ]
  },
  {
   "cell_type": "code",
   "execution_count": 12,
   "id": "aa038c89",
   "metadata": {
    "vscode": {
     "languageId": "r"
    }
   },
   "outputs": [],
   "source": [
    "# long_term_mean_unemp <- mean(final_monthly_df$delta_unemp, na.rm = TRUE)\n",
    "\n",
    "# # Optional: Print the mean to see the calculated \"natural rate\"\n",
    "# print(paste(\"Long-Term Mean Unemployment Rate:\", round(long_term_mean_unemp, 2)))\n",
    "\n",
    "# final_monthly_df <- final_monthly_df|>\n",
    "# mutate(market_slack = delta_unemp - long_term_mean_unemp)|>\n",
    "# dplyr::select(!delta_unemp)\n",
    "# # 3. View the result\n",
    "# glimpse(final_monthly_df)"
   ]
  },
  {
   "cell_type": "code",
   "execution_count": 13,
   "id": "5cc8e14a",
   "metadata": {
    "vscode": {
     "languageId": "r"
    }
   },
   "outputs": [
    {
     "name": "stderr",
     "output_type": "stream",
     "text": [
      "Warning message in log(sigma.det):\n",
      "\"NaNs produced\"\n",
      "Warning message in log(sigma.det):\n",
      "\"NaNs produced\"\n",
      "Warning message in log(sigma.det):\n",
      "\"NaNs produced\"\n"
     ]
    },
    {
     "name": "stdout",
     "output_type": "stream",
     "text": [
      "AIC(n)  HQ(n)  SC(n) FPE(n) \n",
      "    28     28     28     27 \n"
     ]
    }
   ],
   "source": [
    "df_for_lags <- final_monthly_df|>\n",
    "dplyr::select(delta_cpi ,delta_exc ,delta_unemp ,delta_bond  ,delta_trade_unc ,delta_fcpi ,lfs_micro, Approximate_Rate, delta_trade_unc, policy_rate)\n",
    "lag_selection <- VARselect(df_for_lags, lag.max = 40, type = \"const\")\n",
    "\n",
    "print(lag_selection$selection)"
   ]
  },
  {
   "cell_type": "code",
   "execution_count": 14,
   "id": "35f6f4c9",
   "metadata": {
    "vscode": {
     "languageId": "r"
    }
   },
   "outputs": [],
   "source": [
    "var_data <- final_monthly_df |>\n",
    "  dplyr::select(delta_cpi ,delta_exc ,delta_unemp ,delta_bond ,delta_fcpi ,lfs_micro, Approximate_Rate, delta_trade_unc)|>\n",
    " ts(start = c(2001, 1), frequency = 12)"
   ]
  },
  {
   "cell_type": "code",
   "execution_count": 15,
   "id": "08e9a092",
   "metadata": {
    "vscode": {
     "languageId": "r"
    }
   },
   "outputs": [
    {
     "name": "stderr",
     "output_type": "stream",
     "text": [
      "corrplot 0.95 loaded\n",
      "\n"
     ]
    },
    {
     "name": "stdout",
     "output_type": "stream",
     "text": [
      "                 delta_cpi delta_exc delta_unemp delta_bond delta_fcpi\n",
      "delta_cpi             1.00      0.08       -0.50      -0.01      -0.07\n",
      "delta_exc             0.08      1.00       -0.15      -0.34      -0.47\n",
      "delta_unemp          -0.50     -0.15        1.00       0.13       0.16\n",
      "delta_bond           -0.01     -0.34        0.13       1.00       0.47\n",
      "delta_fcpi           -0.07     -0.47        0.16       0.47       1.00\n",
      "lfs_micro             0.05     -0.05       -0.05       0.05      -0.03\n",
      "Approximate_Rate      0.31      0.09       -0.11       0.02      -0.01\n",
      "delta_trade_unc       0.02      0.08       -0.05      -0.04       0.04\n",
      "                 lfs_micro Approximate_Rate delta_trade_unc\n",
      "delta_cpi             0.05             0.31            0.02\n",
      "delta_exc            -0.05             0.09            0.08\n",
      "delta_unemp          -0.05            -0.11           -0.05\n",
      "delta_bond            0.05             0.02           -0.04\n",
      "delta_fcpi           -0.03            -0.01            0.04\n",
      "lfs_micro             1.00             0.02           -0.03\n",
      "Approximate_Rate      0.02             1.00            0.03\n",
      "delta_trade_unc      -0.03             0.03            1.00\n"
     ]
    },
    {
     "data": {
      "image/png": "[encoded data removed]",
      "text/plain": [
       "Plot with title \"\""
      ]
     },
     "metadata": {
      "image/png": {
       "height": 420,
       "width": 420
      }
     },
     "output_type": "display_data"
    }
   ],
   "source": [
    "# Install corrplot if you don't have it\n",
    "# install.packages(\"corrplot\")\n",
    "library(corrplot)\n",
    "\n",
    "# Use the data that goes into your VAR\n",
    "correlation_matrix <- cor(var_data)\n",
    "\n",
    "# Print the matrix (values close to 1 or -1 are problems)\n",
    "print(round(correlation_matrix, 2))\n",
    "\n",
    "# Visualize the matrix to easily spot problem areas\n",
    "corrplot(correlation_matrix, method = \"circle\")"
   ]
  },
  {
   "cell_type": "code",
   "execution_count": 16,
   "id": "6113bf15",
   "metadata": {
    "vscode": {
     "languageId": "r"
    }
   },
   "outputs": [
    {
     "data": {
      "image/png": "[encoded data removed]",
      "text/plain": [
       "Plot with title \"\""
      ]
     },
     "metadata": {
      "image/png": {
       "height": 420,
       "width": 420
      }
     },
     "output_type": "display_data"
    }
   ],
   "source": [
    "# Make sure your data is in a dataframe before running the VAR\n",
    "# For example, let's call it 'my_var_data'\n",
    "\n",
    "# Install corrplot if you don't have it\n",
    "# install.packages(\"corrplot\")\n",
    "library(corrplot)\n",
    "\n",
    "# Create a correlation matrix\n",
    "correlation_matrix <- cor(var_data)\n",
    "\n",
    "# Visualize the matrix to easily spot problem areas\n",
    "corrplot(correlation_matrix, method = \"number\")"
   ]
  },
  {
   "cell_type": "code",
   "execution_count": 17,
   "id": "d2b4a09a",
   "metadata": {
    "vscode": {
     "languageId": "r"
    }
   },
   "outputs": [
    {
     "data": {
      "image/png": "[encoded data removed]",
      "text/plain": [
       "plot without title"
      ]
     },
     "metadata": {
      "image/png": {
       "height": 420,
       "width": 420
      }
     },
     "output_type": "display_data"
    }
   ],
   "source": [
    "library(ggplot2)\n",
    "library(tidyr)\n",
    "\n",
    "# Use the dataframe that goes into your VAR\n",
    "diagnostic_df <- final_monthly_df |>\n",
    "  dplyr::select(\n",
    "    delta_cpi, delta_exc, delta_unemp, delta_bond,\n",
    "    delta_trade_unc, delta_fcpi, Approximate_Rate \n",
    "  ) |>\n",
    "  tidyr::drop_na()\n",
    "\n",
    "# Pivot to long format for easy plotting with ggplot\n",
    "diagnostic_df_long <- diagnostic_df %>%\n",
    "  mutate(date = 1:n()) %>% # Create a simple time index\n",
    "  pivot_longer(-date, names_to = \"variable\", values_to = \"value\")\n",
    "\n",
    "# Create the plot\n",
    "ggplot(diagnostic_df_long, aes(x = date, y = value)) +\n",
    "  geom_line() +\n",
    "  facet_wrap(~variable, scales = \"free_y\") +\n",
    "  theme_minimal() +\n",
    "  labs(title = \"Time Series Plots of All Variables\", x = \"Observation\", y = \"Value\")"
   ]
  },
  {
   "cell_type": "code",
   "execution_count": 18,
   "id": "62af4743",
   "metadata": {
    "vscode": {
     "languageId": "r"
    }
   },
   "outputs": [
    {
     "name": "stderr",
     "output_type": "stream",
     "text": [
      "Loading required package: carData\n",
      "\n",
      "\n",
      "Attaching package: 'car'\n",
      "\n",
      "\n",
      "The following object is masked from 'package:dplyr':\n",
      "\n",
      "    recode\n",
      "\n",
      "\n",
      "The following object is masked from 'package:purrr':\n",
      "\n",
      "    some\n",
      "\n",
      "\n"
     ]
    },
    {
     "name": "stdout",
     "output_type": "stream",
     "text": [
      "[1] \"VIF for delta_cpi model:\"\n",
      "       delta_exc      delta_unemp       delta_bond       delta_fcpi \n",
      "        1.354441         1.052661         1.324185         1.524576 \n",
      "       lfs_micro Approximate_Rate  delta_trade_unc \n",
      "        1.012932         1.023467         1.019057 \n",
      "[1] \"VIF values for predictors of delta_cpi:\"\n",
      "       delta_exc      delta_unemp       delta_bond       delta_fcpi \n",
      "        1.354441         1.052661         1.324185         1.524576 \n",
      "       lfs_micro Approximate_Rate  delta_trade_unc \n",
      "        1.012932         1.023467         1.019057 \n"
     ]
    }
   ],
   "source": [
    "library(car)\n",
    "\n",
    "vif_cpi <- vif(lm(delta_cpi ~ ., data = as.data.frame(var_data)))\n",
    "print(\"VIF for delta_cpi model:\")\n",
    "print(vif_cpi)\n",
    "\n",
    "# We can find the VIF for each variable by running a model where it is the dependent variable\n",
    "# However, a more common way is to check the VIF of the predictors in a single model.\n",
    "# Let's check the predictors for the delta_cpi equation:\n",
    "model_for_vif <- lm(delta_cpi ~ ., data = as.data.frame(var_data))\n",
    "print(\"VIF values for predictors of delta_cpi:\")\n",
    "print(vif(model_for_vif))"
   ]
  },
  {
   "cell_type": "code",
   "execution_count": 19,
   "id": "d8e06e32",
   "metadata": {
    "vscode": {
     "languageId": "r"
    }
   },
   "outputs": [
    {
     "data": {
      "text/html": [
       "<style>\n",
       ".dl-inline {width: auto; margin:0; padding: 0}\n",
       ".dl-inline>dt, .dl-inline>dd {float: none; width: auto; display: inline-block}\n",
       ".dl-inline>dt::after {content: \":\\0020\"; padding-right: .5ex}\n",
       ".dl-inline>dt:not(:first-of-type) {padding-left: .5ex}\n",
       "</style><dl class=dl-inline><dt>delta_cpi</dt><dd>0.907907745386422</dd><dt>delta_exc</dt><dd>0.0227658183125493</dd><dt>delta_unemp</dt><dd>1.16229031366649</dd><dt>delta_bond</dt><dd>13.6631982320284</dd><dt>delta_fcpi</dt><dd>6.07998498159271</dd><dt>lfs_micro</dt><dd>13.1051632517933</dd><dt>Approximate_Rate</dt><dd>0.486841671454958</dd><dt>delta_trade_unc</dt><dd>74.5655354015306</dd></dl>\n"
      ],
      "text/latex": [
       "\\begin{description*}\n",
       "\\item[delta\\textbackslash{}\\_cpi] 0.907907745386422\n",
       "\\item[delta\\textbackslash{}\\_exc] 0.0227658183125493\n",
       "\\item[delta\\textbackslash{}\\_unemp] 1.16229031366649\n",
       "\\item[delta\\textbackslash{}\\_bond] 13.6631982320284\n",
       "\\item[delta\\textbackslash{}\\_fcpi] 6.07998498159271\n",
       "\\item[lfs\\textbackslash{}\\_micro] 13.1051632517933\n",
       "\\item[Approximate\\textbackslash{}\\_Rate] 0.486841671454958\n",
       "\\item[delta\\textbackslash{}\\_trade\\textbackslash{}\\_unc] 74.5655354015306\n",
       "\\end{description*}\n"
      ],
      "text/markdown": [
       "delta_cpi\n",
       ":   0.907907745386422delta_exc\n",
       ":   0.0227658183125493delta_unemp\n",
       ":   1.16229031366649delta_bond\n",
       ":   13.6631982320284delta_fcpi\n",
       ":   6.07998498159271lfs_micro\n",
       ":   13.1051632517933Approximate_Rate\n",
       ":   0.486841671454958delta_trade_unc\n",
       ":   74.5655354015306\n",
       "\n"
      ],
      "text/plain": [
       "       delta_cpi        delta_exc      delta_unemp       delta_bond \n",
       "      0.90790775       0.02276582       1.16229031      13.66319823 \n",
       "      delta_fcpi        lfs_micro Approximate_Rate  delta_trade_unc \n",
       "      6.07998498      13.10516325       0.48684167      74.56553540 "
      ]
     },
     "metadata": {},
     "output_type": "display_data"
    }
   ],
   "source": [
    "# Calculate the standard deviation for each column in your dataset\n",
    "sapply(as.data.frame(var_data), sd)"
   ]
  },
  {
   "cell_type": "code",
   "execution_count": 20,
   "id": "4317ff98",
   "metadata": {
    "vscode": {
     "languageId": "r"
    }
   },
   "outputs": [
    {
     "name": "stdout",
     "output_type": "stream",
     "text": [
      "\n",
      "Call:\n",
      "lm(formula = y ~ -1 + ., data = datamat)\n",
      "\n",
      "Residuals:\n",
      "      Min        1Q    Median        3Q       Max \n",
      "-0.199424 -0.053319  0.001154  0.057044  0.250039 \n",
      "\n",
      "Coefficients:\n",
      "                       Estimate Std. Error t value Pr(>|t|)    \n",
      "delta_cpi.l1          1.038e+00  8.315e-02  12.482  < 2e-16 ***\n",
      "delta_exc.l1          4.752e-01  5.269e-01   0.902 0.368670    \n",
      "delta_unemp.l1       -1.253e-02  3.797e-02  -0.330 0.741859    \n",
      "delta_bond.l1        -2.641e-03  9.692e-04  -2.725 0.007254 ** \n",
      "delta_fcpi.l1         7.229e-03  2.465e-03   2.932 0.003944 ** \n",
      "lfs_micro.l1         -6.151e-04  8.882e-04  -0.692 0.489814    \n",
      "Approximate_Rate.l1   7.570e-02  8.665e-02   0.874 0.383847    \n",
      "delta_trade_unc.l1    4.891e-05  1.593e-04   0.307 0.759250    \n",
      "delta_cpi.l2          1.415e-01  1.205e-01   1.175 0.242204    \n",
      "delta_exc.l2          4.849e-01  5.463e-01   0.888 0.376354    \n",
      "delta_unemp.l2        6.501e-03  6.494e-02   0.100 0.920413    \n",
      "delta_bond.l2        -1.343e-03  1.101e-03  -1.221 0.224337    \n",
      "delta_fcpi.l2         2.582e-03  2.537e-03   1.018 0.310562    \n",
      "lfs_micro.l2          2.303e-03  9.444e-04   2.439 0.016009 *  \n",
      "Approximate_Rate.l2  -1.276e-01  1.049e-01  -1.216 0.225912    \n",
      "delta_trade_unc.l2    2.851e-04  1.755e-04   1.625 0.106546    \n",
      "delta_cpi.l3         -1.395e-01  1.172e-01  -1.190 0.235941    \n",
      "delta_exc.l3          6.686e-01  5.448e-01   1.227 0.221887    \n",
      "delta_unemp.l3        9.994e-02  6.942e-02   1.440 0.152216    \n",
      "delta_bond.l3        -1.577e-04  1.122e-03  -0.141 0.888411    \n",
      "delta_fcpi.l3         5.337e-03  2.537e-03   2.104 0.037230 *  \n",
      "lfs_micro.l3         -4.290e-04  9.684e-04  -0.443 0.658451    \n",
      "Approximate_Rate.l3  -6.229e-02  1.106e-01  -0.563 0.574186    \n",
      "delta_trade_unc.l3    1.513e-04  1.826e-04   0.829 0.408683    \n",
      "delta_cpi.l4          3.535e-02  1.134e-01   0.312 0.755651    \n",
      "delta_exc.l4          6.004e-01  5.546e-01   1.083 0.280885    \n",
      "delta_unemp.l4       -1.510e-01  7.016e-02  -2.152 0.033097 *  \n",
      "delta_bond.l4         6.129e-04  1.108e-03   0.553 0.581003    \n",
      "delta_fcpi.l4         1.033e-03  2.537e-03   0.407 0.684493    \n",
      "lfs_micro.l4          1.056e-03  9.529e-04   1.108 0.269734    \n",
      "Approximate_Rate.l4   1.647e-01  1.095e-01   1.504 0.134783    \n",
      "delta_trade_unc.l4    4.835e-05  1.838e-04   0.263 0.792841    \n",
      "delta_cpi.l5         -1.329e-01  1.080e-01  -1.230 0.220824    \n",
      "delta_exc.l5          1.411e-01  5.629e-01   0.251 0.802426    \n",
      "delta_unemp.l5        7.111e-02  7.141e-02   0.996 0.321094    \n",
      "delta_bond.l5         9.299e-07  1.085e-03   0.001 0.999318    \n",
      "delta_fcpi.l5        -2.166e-03  2.553e-03  -0.849 0.397552    \n",
      "lfs_micro.l5         -4.010e-04  9.214e-04  -0.435 0.664104    \n",
      "Approximate_Rate.l5  -1.698e-01  1.078e-01  -1.574 0.117741    \n",
      "delta_trade_unc.l5   -7.356e-05  1.839e-04  -0.400 0.689718    \n",
      "delta_cpi.l6          7.108e-02  1.065e-01   0.668 0.505541    \n",
      "delta_exc.l6         -2.939e-01  5.550e-01  -0.530 0.597304    \n",
      "delta_unemp.l6        3.457e-02  7.091e-02   0.488 0.626625    \n",
      "delta_bond.l6        -6.892e-05  1.085e-03  -0.064 0.949454    \n",
      "delta_fcpi.l6         1.197e-03  2.609e-03   0.459 0.647069    \n",
      "lfs_micro.l6         -1.927e-04  8.110e-04  -0.238 0.812515    \n",
      "Approximate_Rate.l6   2.192e-01  1.029e-01   2.129 0.034997 *  \n",
      "delta_trade_unc.l6   -1.427e-04  1.883e-04  -0.758 0.449645    \n",
      "delta_cpi.l7          2.611e-02  1.055e-01   0.248 0.804789    \n",
      "delta_exc.l7          1.460e-01  5.765e-01   0.253 0.800418    \n",
      "delta_unemp.l7       -9.802e-02  6.852e-02  -1.431 0.154831    \n",
      "delta_bond.l7         2.774e-04  1.068e-03   0.260 0.795428    \n",
      "delta_fcpi.l7         1.771e-03  2.645e-03   0.670 0.504261    \n",
      "lfs_micro.l7          2.024e-04  8.010e-04   0.253 0.800926    \n",
      "Approximate_Rate.l7  -3.435e-02  1.018e-01  -0.337 0.736358    \n",
      "delta_trade_unc.l7    5.140e-05  2.049e-04   0.251 0.802283    \n",
      "delta_cpi.l8         -1.262e-01  9.985e-02  -1.264 0.208283    \n",
      "delta_exc.l8          6.409e-01  5.650e-01   1.134 0.258603    \n",
      "delta_unemp.l8        1.087e-01  6.803e-02   1.598 0.112399    \n",
      "delta_bond.l8        -1.636e-03  1.055e-03  -1.552 0.123059    \n",
      "delta_fcpi.l8         5.850e-03  2.611e-03   2.241 0.026635 *  \n",
      "lfs_micro.l8         -2.353e-04  8.134e-04  -0.289 0.772803    \n",
      "Approximate_Rate.l8  -1.182e-01  1.023e-01  -1.156 0.249868    \n",
      "delta_trade_unc.l8   -2.850e-04  2.114e-04  -1.348 0.179931    \n",
      "delta_cpi.l9         -1.194e-01  9.826e-02  -1.215 0.226446    \n",
      "delta_exc.l9         -5.463e-01  5.631e-01  -0.970 0.333629    \n",
      "delta_unemp.l9       -7.379e-02  6.631e-02  -1.113 0.267678    \n",
      "delta_bond.l9         4.032e-04  1.032e-03   0.391 0.696675    \n",
      "delta_fcpi.l9        -2.168e-03  2.683e-03  -0.808 0.420457    \n",
      "lfs_micro.l9          8.624e-04  8.151e-04   1.058 0.291876    \n",
      "Approximate_Rate.l9   3.153e-02  1.037e-01   0.304 0.761484    \n",
      "delta_trade_unc.l9   -6.516e-05  2.140e-04  -0.304 0.761257    \n",
      "delta_cpi.l10         4.199e-01  1.002e-01   4.190 4.95e-05 ***\n",
      "delta_exc.l10         1.281e+00  5.822e-01   2.201 0.029416 *  \n",
      "delta_unemp.l10      -6.882e-03  6.532e-02  -0.105 0.916235    \n",
      "delta_bond.l10        1.089e-03  1.022e-03   1.066 0.288365    \n",
      "delta_fcpi.l10       -4.109e-04  2.692e-03  -0.153 0.878891    \n",
      "lfs_micro.l10         4.446e-04  8.262e-04   0.538 0.591343    \n",
      "Approximate_Rate.l10  2.131e-02  1.083e-01   0.197 0.844299    \n",
      "delta_trade_unc.l10  -2.939e-04  2.090e-04  -1.406 0.161870    \n",
      "delta_cpi.l11        -7.384e-02  1.095e-01  -0.674 0.501393    \n",
      "delta_exc.l11        -1.080e-01  5.770e-01  -0.187 0.851789    \n",
      "delta_unemp.l11       2.042e-02  6.484e-02   0.315 0.753308    \n",
      "delta_bond.l11       -1.284e-03  1.066e-03  -1.204 0.230536    \n",
      "delta_fcpi.l11        2.906e-03  2.505e-03   1.160 0.248133    \n",
      "lfs_micro.l11        -3.458e-04  8.524e-04  -0.406 0.685630    \n",
      "Approximate_Rate.l11  2.462e-01  1.108e-01   2.223 0.027862 *  \n",
      "delta_trade_unc.l11  -2.035e-04  2.076e-04  -0.980 0.328696    \n",
      "delta_cpi.l12        -6.156e-01  1.169e-01  -5.265 5.25e-07 ***\n",
      "delta_exc.l12        -2.451e-01  5.758e-01  -0.426 0.670970    \n",
      "delta_unemp.l12      -9.736e-03  6.407e-02  -0.152 0.879441    \n",
      "delta_bond.l12        4.239e-04  1.058e-03   0.401 0.689323    \n",
      "delta_fcpi.l12       -3.190e-03  2.487e-03  -1.283 0.201721    \n",
      "lfs_micro.l12        -3.761e-04  8.311e-04  -0.453 0.651610    \n",
      "Approximate_Rate.l12 -1.730e-01  1.127e-01  -1.536 0.126881    \n",
      "delta_trade_unc.l12  -7.457e-05  2.000e-04  -0.373 0.709831    \n",
      "delta_cpi.l13         4.351e-01  1.259e-01   3.456 0.000729 ***\n",
      "delta_exc.l13         2.216e-01  5.782e-01   0.383 0.702178    \n",
      "delta_unemp.l13       9.996e-02  6.295e-02   1.588 0.114595    \n",
      "delta_bond.l13       -3.228e-04  1.051e-03  -0.307 0.759137    \n",
      "delta_fcpi.l13        2.802e-03  2.550e-03   1.099 0.273664    \n",
      "lfs_micro.l13         1.289e-04  8.923e-04   0.144 0.885374    \n",
      "Approximate_Rate.l13 -6.856e-02  1.139e-01  -0.602 0.548224    \n",
      "delta_trade_unc.l13  -2.370e-05  1.988e-04  -0.119 0.905292    \n",
      "delta_cpi.l14         3.948e-02  1.316e-01   0.300 0.764580    \n",
      "delta_exc.l14        -7.664e-01  5.870e-01  -1.306 0.193856    \n",
      "delta_unemp.l14      -1.284e-01  6.320e-02  -2.031 0.044134 *  \n",
      "delta_bond.l14       -5.671e-04  1.033e-03  -0.549 0.583922    \n",
      "delta_fcpi.l14        7.981e-04  2.525e-03   0.316 0.752395    \n",
      "lfs_micro.l14         3.527e-03  9.123e-04   3.866 0.000170 ***\n",
      "Approximate_Rate.l14  1.878e-01  1.097e-01   1.712 0.089135 .  \n",
      "delta_trade_unc.l14  -2.152e-05  1.943e-04  -0.111 0.911978    \n",
      "delta_cpi.l15         2.710e-02  1.292e-01   0.210 0.834166    \n",
      "delta_exc.l15         1.007e+00  5.837e-01   1.726 0.086636 .  \n",
      "delta_unemp.l15       1.126e-01  6.377e-02   1.766 0.079619 .  \n",
      "delta_bond.l15        2.186e-03  9.758e-04   2.240 0.026681 *  \n",
      "delta_fcpi.l15       -1.572e-04  2.446e-03  -0.064 0.948839    \n",
      "lfs_micro.l15         7.316e-04  9.714e-04   0.753 0.452612    \n",
      "Approximate_Rate.l15 -8.937e-02  1.108e-01  -0.806 0.421383    \n",
      "delta_trade_unc.l15  -8.422e-05  1.894e-04  -0.445 0.657267    \n",
      "delta_cpi.l16         1.193e-01  1.274e-01   0.937 0.350589    \n",
      "delta_exc.l16        -6.394e-01  5.740e-01  -1.114 0.267240    \n",
      "delta_unemp.l16      -4.015e-02  6.031e-02  -0.666 0.506714    \n",
      "delta_bond.l16        3.117e-04  1.025e-03   0.304 0.761518    \n",
      "delta_fcpi.l16        3.141e-05  2.329e-03   0.013 0.989260    \n",
      "lfs_micro.l16        -1.181e-03  9.523e-04  -1.240 0.216922    \n",
      "Approximate_Rate.l16  8.246e-02  1.102e-01   0.748 0.455669    \n",
      "delta_trade_unc.l16   1.819e-04  1.927e-04   0.944 0.346731    \n",
      "delta_cpi.l17        -1.645e-01  8.337e-02  -1.973 0.050476 .  \n",
      "delta_exc.l17        -8.119e-01  5.844e-01  -1.389 0.166969    \n",
      "delta_unemp.l17      -1.028e-02  3.513e-02  -0.293 0.770168    \n",
      "delta_bond.l17        9.441e-05  9.815e-04   0.096 0.923511    \n",
      "delta_fcpi.l17        4.867e-04  2.142e-03   0.227 0.820568    \n",
      "lfs_micro.l17        -6.367e-04  9.287e-04  -0.686 0.494088    \n",
      "Approximate_Rate.l17 -1.534e-01  9.291e-02  -1.651 0.100953    \n",
      "delta_trade_unc.l17   2.526e-04  1.687e-04   1.498 0.136542    \n",
      "const                -1.861e-01  1.577e-01  -1.180 0.239840    \n",
      "---\n",
      "Signif. codes:  0 '***' 0.001 '**' 0.01 '*' 0.05 '.' 0.1 ' ' 1\n",
      "\n",
      "Residual standard error: 0.1236 on 138 degrees of freedom\n",
      "Multiple R-squared:  0.9912,\tAdjusted R-squared:  0.9825 \n",
      "F-statistic: 114.1 on 136 and 138 DF,  p-value: < 2.2e-16\n",
      "\n"
     ]
    }
   ],
   "source": [
    "\n",
    "var_model_12 <- VAR(var_data, p = 17, type = \"const\")\n",
    "\n",
    "summary_12 <- summary(var_model_12)\n",
    "\n",
    "print(summary_12$varresult$delta_cpi)"
   ]
  },
  {
   "cell_type": "code",
   "execution_count": 21,
   "id": "a7ff8b37",
   "metadata": {
    "vscode": {
     "languageId": "r"
    }
   },
   "outputs": [
    {
     "name": "stdout",
     "output_type": "stream",
     "text": [
      "       delta_cpi        delta_exc      delta_unemp       delta_bond \n",
      "      2.83547364       0.03040204       6.22757715       2.53256854 \n",
      "      delta_fcpi        lfs_micro Approximate_Rate  delta_trade_unc \n",
      "      6.94937632     -10.23308645       2.37471640     -27.98939210 \n"
     ]
    }
   ],
   "source": [
    "# 1. Use the predict() function to forecast 1 step (month) ahead\n",
    "# The object var_model_12 already contains all the necessary data.\n",
    "forecast_result <- predict(var_model_12, n.ahead = 1)\n",
    "\n",
    "# 2. Extract the forecast for your specific variable ('delta_cpi')\n",
    "#\n",
    "\n",
    "# 2. Apply a function to each element of the forecast list to extract the 'fcst' column\n",
    "point_forecasts <- sapply(forecast_result$fcst, function(x) x[, \"fcst\"])\n",
    "\n",
    "# 3. Print the result\n",
    "print(point_forecasts)"
   ]
  },
  {
   "cell_type": "code",
   "execution_count": 22,
   "id": "87259a8c",
   "metadata": {
    "vscode": {
     "languageId": "r"
    }
   },
   "outputs": [],
   "source": [
    "svar_order <- c(\"Approximate_Rate\", \"delta_trade_unc\", \"delta_exc\",  \"delta_bond\", \"delta_fcpi\", \n",
    "                 \"delta_unemp\", \"lfs_micro\", \"delta_cpi\", \"policy_rate\")\n",
    "\n",
    "# 2. Re-order your dataframe and create the time series object\n",
    "svar_data <- final_monthly_df |>\n",
    "  dplyr::select(all_of(svar_order)) |>\n",
    "  ts(start = c(2001, 1), frequency = 12)\n",
    "\n",
    "# 3. Re-estimate the VAR model with the ordered data\n",
    "# The Cholesky decomposition is now implicitly defined by your column order\n",
    "var_model_svar <- VAR(svar_data, p = 17, type = \"const\")"
   ]
  },
  {
   "cell_type": "code",
   "execution_count": 23,
   "id": "f4e4d1e7",
   "metadata": {
    "vscode": {
     "languageId": "r"
    }
   },
   "outputs": [
    {
     "data": {
      "image/png": "[encoded data removed]",
      "text/plain": [
       "plot without title"
      ]
     },
     "metadata": {
      "image/png": {
       "height": 420,
       "width": 420
      }
     },
     "output_type": "display_data"
    }
   ],
   "source": [
    "# Generate the IRFs for a shock to the first variable in our order ('delta_trade_unc')\n",
    "svar_irf <- irf(\n",
    "  var_model_svar,\n",
    "  impulse = \"Approximate_Rate\",  # The source of the shock\n",
    "  response = c(\"delta_cpi\", \"delta_unemp\"), # The variables that respond\n",
    "  n.ahead = 36,                 # How many months ahead to forecast\n",
    "  boot = TRUE,                  # Generate bootstrap confidence intervals\n",
    "  ci = 0.95                     # 95% confidence interval\n",
    ")\n",
    "\n",
    "# Plot the results\n",
    "plot(svar_irf)"
   ]
  },
  {
   "cell_type": "code",
   "execution_count": 24,
   "id": "b92cb945",
   "metadata": {
    "vscode": {
     "languageId": "r"
    }
   },
   "outputs": [
    {
     "data": {
      "image/png": "[encoded data removed]",
      "text/plain": [
       "Plot with title \"Forecast of series delta_trade_unc\""
      ]
     },
     "metadata": {
      "image/png": {
       "height": 420,
       "width": 420
      }
     },
     "output_type": "display_data"
    }
   ],
   "source": [
    "\n",
    "forecast_results <- predict(var_model_12, n.ahead = 12, ci = 0.90)\n",
    "\n",
    "plot(forecast_results)"
   ]
  },
  {
   "cell_type": "code",
   "execution_count": 25,
   "id": "93901781",
   "metadata": {
    "vscode": {
     "languageId": "r"
    }
   },
   "outputs": [
    {
     "data": {
      "image/png": "[encoded data removed]",
      "text/plain": [
       "plot without title"
      ]
     },
     "metadata": {
      "image/png": {
       "height": 420,
       "width": 420
      }
     },
     "output_type": "display_data"
    }
   ],
   "source": [
    "# --- Load required libraries ---\n",
    "library(ggplot2)\n",
    "library(dplyr)\n",
    "library(lubridate)\n",
    "\n",
    "# Assuming 'var_model_12' and 'final_monthly_df' are in your environment\n",
    "\n",
    "# --- 1. Generate the forecast (your code) ---\n",
    "forecast_results <- predict(var_model_12, n.ahead = 18, ci = 0.90)\n",
    "\n",
    "\n",
    "# --- 2. Extract forecast data for just delta_cpi ---\n",
    "# The forecast object is a list; we pull out the cpi part and convert it to a dataframe\n",
    "cpi_forecast_df <- as.data.frame(forecast_results$fcst$delta_cpi)\n",
    "\n",
    "\n",
    "# --- 3. Create the sequence of future dates for the x-axis ---\n",
    "# Find the last date in your original data\n",
    "last_date <- tail(final_monthly_df$month, 1)\n",
    "\n",
    "# Create a sequence of 12 dates starting from the month AFTER the last date\n",
    "forecast_dates <- seq.Date(from = last_date, by = \"month\", length.out = 19)[-1]\n",
    "\n",
    "# Add the dates to our forecast dataframe\n",
    "cpi_forecast_df$date <- forecast_dates\n",
    "\n",
    "\n",
    "# --- 4. Get the last 2 years of ACTUAL data for context ---\n",
    "actual_data <- final_monthly_df |>\n",
    "  tail(24) |> # Get the last 24 months\n",
    "  dplyr::select(date = month, actual_value = delta_cpi)\n",
    "\n",
    "\n",
    "# --- 5. Create the ggplot ---\n",
    "ggplot() +\n",
    "  # Plot the historical actual data (as a black line)\n",
    "  geom_line(data = actual_data, aes(x = date, y = actual_value), \n",
    "            linewidth = 1, color = \"black\") +\n",
    "  \n",
    "  # Plot the forecasted point estimate (as a blue line)\n",
    "  geom_line(data = cpi_forecast_df, aes(x = date, y = fcst), \n",
    "            linewidth = 1, color = \"#0072B2\") +\n",
    "  \n",
    "  # Create the 90% confidence interval ribbon\n",
    "  geom_ribbon(data = cpi_forecast_df, aes(x = date, ymin = lower, ymax = upper),\n",
    "              alpha = 0.2, fill = \"#0072B2\") +\n",
    "  \n",
    "  # Add a vertical line to show where the forecast begins\n",
    "  geom_vline(xintercept = last_date, linetype = \"dashed\", color = \"grey40\") +\n",
    "  \n",
    "  # Formatting and labels\n",
    "  labs(\n",
    "    title = \"Forecast of CPI Growth\",\n",
    "    subtitle = \"Next 36 Months with 90% Confidence Interval\",\n",
    "    x = \"Date\",\n",
    "    y = \"Monthly CPI Growth (%)\"\n",
    "  ) +\n",
    "  theme_bw() +\n",
    "  # Customize date formatting on the x-axis\n",
    "  scale_x_date(date_breaks = \"6 months\", date_labels = \"%b %Y\") +\n",
    "  theme(axis.text.x = element_text(angle = 45, hjust = 1))"
   ]
  },
  {
   "cell_type": "code",
   "execution_count": 26,
   "id": "170645c4",
   "metadata": {
    "vscode": {
     "languageId": "r"
    }
   },
   "outputs": [
    {
     "name": "stdout",
     "output_type": "stream",
     "text": [
      "\n",
      "\tARCH (multivariate)\n",
      "\n",
      "data:  Residuals of VAR object var_model_12\n",
      "Chi-squared = 6786.4, df = 6480, p-value = 0.003958\n",
      "\n"
     ]
    },
    {
     "data": {
      "text/plain": [
       "$arch.mul\n",
       "\n",
       "\tARCH (multivariate)\n",
       "\n",
       "data:  Residuals of VAR object var_model_12\n",
       "Chi-squared = 6786.4, df = 6480, p-value = 0.003958\n",
       "\n"
      ]
     },
     "metadata": {},
     "output_type": "display_data"
    }
   ],
   "source": [
    "arch_test_result <- arch.test(var_model_12, lags.multi = 5)\n",
    "\n",
    "# Print the results\n",
    "print(arch_test_result)"
   ]
  },
  {
   "cell_type": "code",
   "execution_count": 27,
   "id": "f57dbabb",
   "metadata": {
    "vscode": {
     "languageId": "r"
    }
   },
   "outputs": [
    {
     "data": {
      "text/html": [
       "<style>\n",
       ".list-inline {list-style: none; margin:0; padding: 0}\n",
       ".list-inline>li {display: inline-block}\n",
       ".list-inline>li:not(:last-child)::after {content: \"\\00b7\"; padding: 0 .5ex}\n",
       "</style>\n",
       "<ol class=list-inline><li>0.992978596758693</li><li>0.981781301516926</li><li>0.981781301516926</li><li>0.97756930078003</li><li>0.97756930078003</li><li>0.975405468223627</li><li>0.975405468223627</li><li>0.972318020738087</li><li>0.972318020738087</li><li>0.972081204939062</li><li>0.972081204939062</li><li>0.971098062550346</li><li>0.971098062550346</li><li>0.970942410127523</li><li>0.970942410127523</li><li>0.970575745269047</li><li>0.970575745269047</li><li>0.970059200885274</li><li>0.970059200885274</li><li>0.968817553451094</li><li>0.968817553451094</li><li>0.968650537646487</li><li>0.968650537646487</li><li>0.967791291071254</li><li>0.965319133221178</li><li>0.965319133221178</li><li>0.963047808066482</li><li>0.963047808066482</li><li>0.961017185067576</li><li>0.961017185067576</li><li>0.959565397012098</li><li>0.959565397012098</li><li>0.95913968098178</li><li>0.95913968098178</li><li>0.957192198058763</li><li>0.957192198058763</li><li>0.95211939687548</li><li>0.95211939687548</li><li>0.951678329948656</li><li>0.951678329948656</li><li>0.951022561558197</li><li>0.951022561558197</li><li>0.949590137522416</li><li>0.949590137522416</li><li>0.948189171730304</li><li>0.948189171730304</li><li>0.947901515203482</li><li>0.947901515203482</li><li>0.947497410117594</li><li>0.947497410117594</li><li>0.947373891297602</li><li>0.947373891297602</li><li>0.945781775076366</li><li>0.945781775076366</li><li>0.94330275837563</li><li>0.943058210016957</li><li>0.943058210016957</li><li>0.942711059724575</li><li>0.942711059724575</li><li>0.942350534133338</li><li>0.942350534133338</li><li>0.942285996133689</li><li>0.942285996133689</li><li>0.937971928668655</li><li>0.937971928668655</li><li>0.937620938632538</li><li>0.937620938632538</li><li>0.935521973906915</li><li>0.935521973906915</li><li>0.934346355070299</li><li>0.934346355070299</li><li>0.933654576642345</li><li>0.933654576642345</li><li>0.931260831601058</li><li>0.931260831601058</li><li>0.930771661338295</li><li>0.930771661338295</li><li>0.930303217858966</li><li>0.930303217858966</li><li>0.930012934014417</li><li>0.930012934014417</li><li>0.929965287897077</li><li>0.929965287897077</li><li>0.929915241876185</li><li>0.929915241876185</li><li>0.929340363707217</li><li>0.929340363707217</li><li>0.928882559625621</li><li>0.928882559625621</li><li>0.927536023434763</li><li>0.927536023434763</li><li>0.918664917483707</li><li>0.918664917483707</li><li>0.912986025635853</li><li>0.912986025635853</li><li>0.912695849396618</li><li>0.912695849396618</li><li>0.911225486514571</li><li>0.911225486514571</li><li>0.907184132702322</li><li>0.907184132702322</li><li>0.904880101754949</li><li>0.904880101754949</li><li>0.895574056749399</li><li>0.895574056749399</li><li>0.894308212804932</li><li>0.894308212804932</li><li>0.892084119034239</li><li>0.892084119034239</li><li>0.882432197203769</li><li>0.882432197203769</li><li>0.879944806255211</li><li>0.879944806255211</li><li>0.872738213314998</li><li>0.872738213314998</li><li>0.871730557528186</li><li>0.871730557528186</li><li>0.871014789728437</li><li>0.871014789728437</li><li>0.847334244740564</li><li>0.847334244740564</li><li>0.823454401515252</li><li>0.823454401515252</li><li>0.809226086903964</li><li>0.809226086903964</li><li>0.795655274172063</li><li>0.732774877229439</li><li>0.732774877229439</li><li>0.72437432463161</li><li>0.72437432463161</li><li>0.666289443729904</li><li>0.666289443729904</li><li>0.663827256433993</li><li>0.663827256433993</li><li>0.348768577549876</li><li>0.348768577549876</li></ol>\n"
      ],
      "text/latex": [
       "\\begin{enumerate*}\n",
       "\\item 0.992978596758693\n",
       "\\item 0.981781301516926\n",
       "\\item 0.981781301516926\n",
       "\\item 0.97756930078003\n",
       "\\item 0.97756930078003\n",
       "\\item 0.975405468223627\n",
       "\\item 0.975405468223627\n",
       "\\item 0.972318020738087\n",
       "\\item 0.972318020738087\n",
       "\\item 0.972081204939062\n",
       "\\item 0.972081204939062\n",
       "\\item 0.971098062550346\n",
       "\\item 0.971098062550346\n",
       "\\item 0.970942410127523\n",
       "\\item 0.970942410127523\n",
       "\\item 0.970575745269047\n",
       "\\item 0.970575745269047\n",
       "\\item 0.970059200885274\n",
       "\\item 0.970059200885274\n",
       "\\item 0.968817553451094\n",
       "\\item 0.968817553451094\n",
       "\\item 0.968650537646487\n",
       "\\item 0.968650537646487\n",
       "\\item 0.967791291071254\n",
       "\\item 0.965319133221178\n",
       "\\item 0.965319133221178\n",
       "\\item 0.963047808066482\n",
       "\\item 0.963047808066482\n",
       "\\item 0.961017185067576\n",
       "\\item 0.961017185067576\n",
       "\\item 0.959565397012098\n",
       "\\item 0.959565397012098\n",
       "\\item 0.95913968098178\n",
       "\\item 0.95913968098178\n",
       "\\item 0.957192198058763\n",
       "\\item 0.957192198058763\n",
       "\\item 0.95211939687548\n",
       "\\item 0.95211939687548\n",
       "\\item 0.951678329948656\n",
       "\\item 0.951678329948656\n",
       "\\item 0.951022561558197\n",
       "\\item 0.951022561558197\n",
       "\\item 0.949590137522416\n",
       "\\item 0.949590137522416\n",
       "\\item 0.948189171730304\n",
       "\\item 0.948189171730304\n",
       "\\item 0.947901515203482\n",
       "\\item 0.947901515203482\n",
       "\\item 0.947497410117594\n",
       "\\item 0.947497410117594\n",
       "\\item 0.947373891297602\n",
       "\\item 0.947373891297602\n",
       "\\item 0.945781775076366\n",
       "\\item 0.945781775076366\n",
       "\\item 0.94330275837563\n",
       "\\item 0.943058210016957\n",
       "\\item 0.943058210016957\n",
       "\\item 0.942711059724575\n",
       "\\item 0.942711059724575\n",
       "\\item 0.942350534133338\n",
       "\\item 0.942350534133338\n",
       "\\item 0.942285996133689\n",
       "\\item 0.942285996133689\n",
       "\\item 0.937971928668655\n",
       "\\item 0.937971928668655\n",
       "\\item 0.937620938632538\n",
       "\\item 0.937620938632538\n",
       "\\item 0.935521973906915\n",
       "\\item 0.935521973906915\n",
       "\\item 0.934346355070299\n",
       "\\item 0.934346355070299\n",
       "\\item 0.933654576642345\n",
       "\\item 0.933654576642345\n",
       "\\item 0.931260831601058\n",
       "\\item 0.931260831601058\n",
       "\\item 0.930771661338295\n",
       "\\item 0.930771661338295\n",
       "\\item 0.930303217858966\n",
       "\\item 0.930303217858966\n",
       "\\item 0.930012934014417\n",
       "\\item 0.930012934014417\n",
       "\\item 0.929965287897077\n",
       "\\item 0.929965287897077\n",
       "\\item 0.929915241876185\n",
       "\\item 0.929915241876185\n",
       "\\item 0.929340363707217\n",
       "\\item 0.929340363707217\n",
       "\\item 0.928882559625621\n",
       "\\item 0.928882559625621\n",
       "\\item 0.927536023434763\n",
       "\\item 0.927536023434763\n",
       "\\item 0.918664917483707\n",
       "\\item 0.918664917483707\n",
       "\\item 0.912986025635853\n",
       "\\item 0.912986025635853\n",
       "\\item 0.912695849396618\n",
       "\\item 0.912695849396618\n",
       "\\item 0.911225486514571\n",
       "\\item 0.911225486514571\n",
       "\\item 0.907184132702322\n",
       "\\item 0.907184132702322\n",
       "\\item 0.904880101754949\n",
       "\\item 0.904880101754949\n",
       "\\item 0.895574056749399\n",
       "\\item 0.895574056749399\n",
       "\\item 0.894308212804932\n",
       "\\item 0.894308212804932\n",
       "\\item 0.892084119034239\n",
       "\\item 0.892084119034239\n",
       "\\item 0.882432197203769\n",
       "\\item 0.882432197203769\n",
       "\\item 0.879944806255211\n",
       "\\item 0.879944806255211\n",
       "\\item 0.872738213314998\n",
       "\\item 0.872738213314998\n",
       "\\item 0.871730557528186\n",
       "\\item 0.871730557528186\n",
       "\\item 0.871014789728437\n",
       "\\item 0.871014789728437\n",
       "\\item 0.847334244740564\n",
       "\\item 0.847334244740564\n",
       "\\item 0.823454401515252\n",
       "\\item 0.823454401515252\n",
       "\\item 0.809226086903964\n",
       "\\item 0.809226086903964\n",
       "\\item 0.795655274172063\n",
       "\\item 0.732774877229439\n",
       "\\item 0.732774877229439\n",
       "\\item 0.72437432463161\n",
       "\\item 0.72437432463161\n",
       "\\item 0.666289443729904\n",
       "\\item 0.666289443729904\n",
       "\\item 0.663827256433993\n",
       "\\item 0.663827256433993\n",
       "\\item 0.348768577549876\n",
       "\\item 0.348768577549876\n",
       "\\end{enumerate*}\n"
      ],
      "text/markdown": [
       "1. 0.992978596758693\n",
       "2. 0.981781301516926\n",
       "3. 0.981781301516926\n",
       "4. 0.97756930078003\n",
       "5. 0.97756930078003\n",
       "6. 0.975405468223627\n",
       "7. 0.975405468223627\n",
       "8. 0.972318020738087\n",
       "9. 0.972318020738087\n",
       "10. 0.972081204939062\n",
       "11. 0.972081204939062\n",
       "12. 0.971098062550346\n",
       "13. 0.971098062550346\n",
       "14. 0.970942410127523\n",
       "15. 0.970942410127523\n",
       "16. 0.970575745269047\n",
       "17. 0.970575745269047\n",
       "18. 0.970059200885274\n",
       "19. 0.970059200885274\n",
       "20. 0.968817553451094\n",
       "21. 0.968817553451094\n",
       "22. 0.968650537646487\n",
       "23. 0.968650537646487\n",
       "24. 0.967791291071254\n",
       "25. 0.965319133221178\n",
       "26. 0.965319133221178\n",
       "27. 0.963047808066482\n",
       "28. 0.963047808066482\n",
       "29. 0.961017185067576\n",
       "30. 0.961017185067576\n",
       "31. 0.959565397012098\n",
       "32. 0.959565397012098\n",
       "33. 0.95913968098178\n",
       "34. 0.95913968098178\n",
       "35. 0.957192198058763\n",
       "36. 0.957192198058763\n",
       "37. 0.95211939687548\n",
       "38. 0.95211939687548\n",
       "39. 0.951678329948656\n",
       "40. 0.951678329948656\n",
       "41. 0.951022561558197\n",
       "42. 0.951022561558197\n",
       "43. 0.949590137522416\n",
       "44. 0.949590137522416\n",
       "45. 0.948189171730304\n",
       "46. 0.948189171730304\n",
       "47. 0.947901515203482\n",
       "48. 0.947901515203482\n",
       "49. 0.947497410117594\n",
       "50. 0.947497410117594\n",
       "51. 0.947373891297602\n",
       "52. 0.947373891297602\n",
       "53. 0.945781775076366\n",
       "54. 0.945781775076366\n",
       "55. 0.94330275837563\n",
       "56. 0.943058210016957\n",
       "57. 0.943058210016957\n",
       "58. 0.942711059724575\n",
       "59. 0.942711059724575\n",
       "60. 0.942350534133338\n",
       "61. 0.942350534133338\n",
       "62. 0.942285996133689\n",
       "63. 0.942285996133689\n",
       "64. 0.937971928668655\n",
       "65. 0.937971928668655\n",
       "66. 0.937620938632538\n",
       "67. 0.937620938632538\n",
       "68. 0.935521973906915\n",
       "69. 0.935521973906915\n",
       "70. 0.934346355070299\n",
       "71. 0.934346355070299\n",
       "72. 0.933654576642345\n",
       "73. 0.933654576642345\n",
       "74. 0.931260831601058\n",
       "75. 0.931260831601058\n",
       "76. 0.930771661338295\n",
       "77. 0.930771661338295\n",
       "78. 0.930303217858966\n",
       "79. 0.930303217858966\n",
       "80. 0.930012934014417\n",
       "81. 0.930012934014417\n",
       "82. 0.929965287897077\n",
       "83. 0.929965287897077\n",
       "84. 0.929915241876185\n",
       "85. 0.929915241876185\n",
       "86. 0.929340363707217\n",
       "87. 0.929340363707217\n",
       "88. 0.928882559625621\n",
       "89. 0.928882559625621\n",
       "90. 0.927536023434763\n",
       "91. 0.927536023434763\n",
       "92. 0.918664917483707\n",
       "93. 0.918664917483707\n",
       "94. 0.912986025635853\n",
       "95. 0.912986025635853\n",
       "96. 0.912695849396618\n",
       "97. 0.912695849396618\n",
       "98. 0.911225486514571\n",
       "99. 0.911225486514571\n",
       "100. 0.907184132702322\n",
       "101. 0.907184132702322\n",
       "102. 0.904880101754949\n",
       "103. 0.904880101754949\n",
       "104. 0.895574056749399\n",
       "105. 0.895574056749399\n",
       "106. 0.894308212804932\n",
       "107. 0.894308212804932\n",
       "108. 0.892084119034239\n",
       "109. 0.892084119034239\n",
       "110. 0.882432197203769\n",
       "111. 0.882432197203769\n",
       "112. 0.879944806255211\n",
       "113. 0.879944806255211\n",
       "114. 0.872738213314998\n",
       "115. 0.872738213314998\n",
       "116. 0.871730557528186\n",
       "117. 0.871730557528186\n",
       "118. 0.871014789728437\n",
       "119. 0.871014789728437\n",
       "120. 0.847334244740564\n",
       "121. 0.847334244740564\n",
       "122. 0.823454401515252\n",
       "123. 0.823454401515252\n",
       "124. 0.809226086903964\n",
       "125. 0.809226086903964\n",
       "126. 0.795655274172063\n",
       "127. 0.732774877229439\n",
       "128. 0.732774877229439\n",
       "129. 0.72437432463161\n",
       "130. 0.72437432463161\n",
       "131. 0.666289443729904\n",
       "132. 0.666289443729904\n",
       "133. 0.663827256433993\n",
       "134. 0.663827256433993\n",
       "135. 0.348768577549876\n",
       "136. 0.348768577549876\n",
       "\n",
       "\n"
      ],
      "text/plain": [
       "  [1] 0.9929786 0.9817813 0.9817813 0.9775693 0.9775693 0.9754055 0.9754055\n",
       "  [8] 0.9723180 0.9723180 0.9720812 0.9720812 0.9710981 0.9710981 0.9709424\n",
       " [15] 0.9709424 0.9705757 0.9705757 0.9700592 0.9700592 0.9688176 0.9688176\n",
       " [22] 0.9686505 0.9686505 0.9677913 0.9653191 0.9653191 0.9630478 0.9630478\n",
       " [29] 0.9610172 0.9610172 0.9595654 0.9595654 0.9591397 0.9591397 0.9571922\n",
       " [36] 0.9571922 0.9521194 0.9521194 0.9516783 0.9516783 0.9510226 0.9510226\n",
       " [43] 0.9495901 0.9495901 0.9481892 0.9481892 0.9479015 0.9479015 0.9474974\n",
       " [50] 0.9474974 0.9473739 0.9473739 0.9457818 0.9457818 0.9433028 0.9430582\n",
       " [57] 0.9430582 0.9427111 0.9427111 0.9423505 0.9423505 0.9422860 0.9422860\n",
       " [64] 0.9379719 0.9379719 0.9376209 0.9376209 0.9355220 0.9355220 0.9343464\n",
       " [71] 0.9343464 0.9336546 0.9336546 0.9312608 0.9312608 0.9307717 0.9307717\n",
       " [78] 0.9303032 0.9303032 0.9300129 0.9300129 0.9299653 0.9299653 0.9299152\n",
       " [85] 0.9299152 0.9293404 0.9293404 0.9288826 0.9288826 0.9275360 0.9275360\n",
       " [92] 0.9186649 0.9186649 0.9129860 0.9129860 0.9126958 0.9126958 0.9112255\n",
       " [99] 0.9112255 0.9071841 0.9071841 0.9048801 0.9048801 0.8955741 0.8955741\n",
       "[106] 0.8943082 0.8943082 0.8920841 0.8920841 0.8824322 0.8824322 0.8799448\n",
       "[113] 0.8799448 0.8727382 0.8727382 0.8717306 0.8717306 0.8710148 0.8710148\n",
       "[120] 0.8473342 0.8473342 0.8234544 0.8234544 0.8092261 0.8092261 0.7956553\n",
       "[127] 0.7327749 0.7327749 0.7243743 0.7243743 0.6662894 0.6662894 0.6638273\n",
       "[134] 0.6638273 0.3487686 0.3487686"
      ]
     },
     "metadata": {},
     "output_type": "display_data"
    }
   ],
   "source": [
    "\n",
    "# Check the stability of the model\n",
    "# All roots should be < 1\n",
    "roots(var_model_12)"
   ]
  },
  {
   "cell_type": "code",
   "execution_count": 28,
   "id": "859263d8",
   "metadata": {
    "vscode": {
     "languageId": "r"
    }
   },
   "outputs": [
    {
     "data": {
      "image/png": "[encoded data removed]",
      "text/plain": [
       "plot without title"
      ]
     },
     "metadata": {
      "image/png": {
       "height": 420,
       "width": 420
      }
     },
     "output_type": "display_data"
    }
   ],
   "source": [
    "irf_increase <- vars::irf(var_model_12,\n",
    "                    impulse = \"delta_cpi\",\n",
    "                    n.ahead = 48,\n",
    "                    boot = TRUE)\n",
    "\n",
    "# Plot the results\n",
    "plot(irf_increase)"
   ]
  }
 ],
 "metadata": {
  "kernelspec": {
   "display_name": "R",
   "language": "R",
   "name": "ir"
  },
  "language_info": {
   "codemirror_mode": "r",
   "file_extension": ".r",
   "mimetype": "text/x-r-source",
   "name": "R",
   "pygments_lexer": "r",
   "version": "4.4.3"
  }
 },
 "nbformat": 4,
 "nbformat_minor": 5
}

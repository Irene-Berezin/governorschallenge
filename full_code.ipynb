{
 "cells": [
  {
   "cell_type": "code",
   "execution_count": 2,
   "id": "82fab485",
   "metadata": {
    "vscode": {
     "languageId": "r"
    }
   },
   "outputs": [
    {
     "name": "stderr",
     "output_type": "stream",
     "text": [
      "── \u001b[1mAttaching core tidyverse packages\u001b[22m ──────────────────────── tidyverse 2.0.0 ──\n",
      "\u001b[32m✔\u001b[39m \u001b[34mdplyr    \u001b[39m 1.1.4     \u001b[32m✔\u001b[39m \u001b[34mreadr    \u001b[39m 2.1.5\n",
      "\u001b[32m✔\u001b[39m \u001b[34mforcats  \u001b[39m 1.0.0     \u001b[32m✔\u001b[39m \u001b[34mstringr  \u001b[39m 1.5.1\n",
      "\u001b[32m✔\u001b[39m \u001b[34mggplot2  \u001b[39m 3.5.2     \u001b[32m✔\u001b[39m \u001b[34mtibble   \u001b[39m 3.3.0\n",
      "\u001b[32m✔\u001b[39m \u001b[34mlubridate\u001b[39m 1.9.4     \u001b[32m✔\u001b[39m \u001b[34mtidyr    \u001b[39m 1.3.1\n",
      "\u001b[32m✔\u001b[39m \u001b[34mpurrr    \u001b[39m 1.1.0     \n",
      "── \u001b[1mConflicts\u001b[22m ────────────────────────────────────────── tidyverse_conflicts() ──\n",
      "\u001b[31m✖\u001b[39m \u001b[34mdplyr\u001b[39m::\u001b[32mfilter()\u001b[39m masks \u001b[34mstats\u001b[39m::filter()\n",
      "\u001b[31m✖\u001b[39m \u001b[34mdplyr\u001b[39m::\u001b[32mlag()\u001b[39m    masks \u001b[34mstats\u001b[39m::lag()\n",
      "\u001b[36mℹ\u001b[39m Use the conflicted package (\u001b[3m\u001b[34m<http://conflicted.r-lib.org/>\u001b[39m\u001b[23m) to force all conflicts to become errors\n",
      "\n",
      "Attaching package: 'vroom'\n",
      "\n",
      "\n",
      "The following objects are masked from 'package:readr':\n",
      "\n",
      "    as.col_spec, col_character, col_date, col_datetime, col_double,\n",
      "    col_factor, col_guess, col_integer, col_logical, col_number,\n",
      "    col_skip, col_time, cols, cols_condense, cols_only, date_names,\n",
      "    date_names_lang, date_names_langs, default_locale, fwf_cols,\n",
      "    fwf_empty, fwf_positions, fwf_widths, locale, output_column,\n",
      "    problems, spec\n",
      "\n",
      "\n",
      "Registered S3 method overwritten by 'quantmod':\n",
      "  method            from\n",
      "  as.zoo.data.frame zoo \n",
      "\n",
      "Loading required package: zoo\n",
      "\n",
      "\n",
      "Attaching package: 'zoo'\n",
      "\n",
      "\n",
      "The following objects are masked from 'package:base':\n",
      "\n",
      "    as.Date, as.Date.numeric\n",
      "\n",
      "\n",
      "Loading required package: sandwich\n",
      "\n",
      "\n",
      "Attaching package: 'strucchange'\n",
      "\n",
      "\n",
      "The following object is masked from 'package:stringr':\n",
      "\n",
      "    boundary\n",
      "\n",
      "\n",
      "Loading required package: MASS\n",
      "\n",
      "\n",
      "Attaching package: 'MASS'\n",
      "\n",
      "\n",
      "The following object is masked from 'package:dplyr':\n",
      "\n",
      "    select\n",
      "\n",
      "\n",
      "Loading required package: urca\n",
      "\n",
      "Loading required package: lmtest\n",
      "\n"
     ]
    }
   ],
   "source": [
    "library(tidyverse)\n",
    "library(cansim)\n",
    "library(readr)\n",
    "library(vroom)\n",
    "library(lubridate)\n",
    "library(tseries)\n",
    "library(strucchange)\n",
    "library(purrr) \n",
    "library(vars)\n",
    "library(fredr)"
   ]
  },
  {
   "cell_type": "code",
   "execution_count": 3,
   "id": "09b59aff",
   "metadata": {
    "vscode": {
     "languageId": "r"
    }
   },
   "outputs": [],
   "source": [
    "fredr_set_key('b43b23bac4c602369428a1a4316f23d4')"
   ]
  },
  {
   "cell_type": "markdown",
   "id": "f620148d",
   "metadata": {},
   "source": [
    "\n",
    "- import price index\n",
    "- elasticity of import demand (2%)\n",
    "- indeed real time wage inflation\n",
    "- reliability of data? \n",
    "- harvard pricing lab\n",
    "- eric santor\n",
    "- "
   ]
  },
  {
   "cell_type": "code",
   "execution_count": 4,
   "id": "db1f26e0",
   "metadata": {
    "vscode": {
     "languageId": "r"
    }
   },
   "outputs": [
    {
     "name": "stderr",
     "output_type": "stream",
     "text": [
      "\u001b[1mRows: \u001b[22m\u001b[34m616\u001b[39m \u001b[1mColumns: \u001b[22m\u001b[34m4\u001b[39m\n",
      "\u001b[36m──\u001b[39m \u001b[1mColumn specification\u001b[22m \u001b[36m────────────────────────────────────────────────────────\u001b[39m\n",
      "\u001b[1mDelimiter:\u001b[22m \",\"\n",
      "\u001b[31mchr\u001b[39m (4): Data Type, Year, Month, General Customs Value\n",
      "\n",
      "\u001b[36mℹ\u001b[39m Use `spec()` to retrieve the full column specification for this data.\n",
      "\u001b[36mℹ\u001b[39m Specify the column types or set `show_col_types = FALSE` to quiet this message.\n"
     ]
    },
    {
     "name": "stdout",
     "output_type": "stream",
     "text": [
      "Rows: 306\n",
      "Columns: 2\n",
      "$ Date  \u001b[3m\u001b[90m<date>\u001b[39m\u001b[23m 2000-01-01\u001b[90m, \u001b[39m2000-02-01\u001b[90m, \u001b[39m2000-03-01\u001b[90m, \u001b[39m2000-04-01\u001b[90m, \u001b[39m2000-05-01\u001b[90m, \u001b[39m200…\n",
      "$ VALUE \u001b[3m\u001b[90m<dbl>\u001b[39m\u001b[23m 269869762\u001b[90m, \u001b[39m278547963\u001b[90m, \u001b[39m305301730\u001b[90m, \u001b[39m290530227\u001b[90m, \u001b[39m301763964\u001b[90m, \u001b[39m297764412…\n",
      "Rows: 306\n",
      "Columns: 2\n",
      "$ Date  \u001b[3m\u001b[90m<date>\u001b[39m\u001b[23m 2000-01-01\u001b[90m, \u001b[39m2000-02-01\u001b[90m, \u001b[39m2000-03-01\u001b[90m, \u001b[39m2000-04-01\u001b[90m, \u001b[39m2000-05-01\u001b[90m, \u001b[39m200…\n",
      "$ VALUE \u001b[3m\u001b[90m<dbl>\u001b[39m\u001b[23m 17705142820\u001b[90m, \u001b[39m18087403941\u001b[90m, \u001b[39m20618285791\u001b[90m, \u001b[39m18506995213\u001b[90m, \u001b[39m19558432594\u001b[90m,\u001b[39m…\n",
      "Rows: 306\n",
      "Columns: 2\n",
      "$ month            \u001b[3m\u001b[90m<date>\u001b[39m\u001b[23m 2000-01-01\u001b[90m, \u001b[39m2000-02-01\u001b[90m, \u001b[39m2000-03-01\u001b[90m, \u001b[39m2000-04-01\u001b[90m, \u001b[39m2000…\n",
      "$ Approximate_Rate \u001b[3m\u001b[90m<dbl>\u001b[39m\u001b[23m 1.524245\u001b[90m, \u001b[39m1.540011\u001b[90m, \u001b[39m1.480733\u001b[90m, \u001b[39m1.569840\u001b[90m, \u001b[39m1.542884\u001b[90m, \u001b[39m1.4…\n"
     ]
    }
   ],
   "source": [
    "all_tarrif_data <- read_csv(\"C:/Users/Irene/governorschallenge/DataWeb-Query-Export.csv\")\n",
    "\n",
    "general_import_charges <- all_tarrif_data|>\n",
    "filter(`Data Type` == \"General Import Charges\")|>\n",
    "dplyr::select(Year, Month, `General Customs Value`)|>\n",
    "rename(VALUE = `General Customs Value`)|>\n",
    "mutate(\n",
    "    Date = ymd(paste(Year, Month, \"01\", sep = \"-\")),\n",
    "    VALUE = as.numeric(VALUE)\n",
    "  ) |>\n",
    "  dplyr::select(Date, VALUE)|>\n",
    "  arrange(Date)|>\n",
    "  glimpse()\n",
    "\n",
    "general_customs_value <- all_tarrif_data|>\n",
    "filter(`Data Type` == \"General Customs Value\")|>\n",
    "dplyr::select(Year, Month, `General Customs Value`)|>\n",
    "rename(VALUE = `General Customs Value`)|>\n",
    "mutate(\n",
    "    Date = ymd(paste(Year, Month, \"01\", sep = \"-\")),\n",
    "    VALUE = as.numeric(VALUE)\n",
    "  ) |>\n",
    "  dplyr::select(Date, VALUE)|>\n",
    "  arrange(Date)|>\n",
    "  glimpse()\n",
    "\n",
    "\n",
    "\n",
    "tarrif_rate_df <- inner_join(\n",
    "  general_import_charges, \n",
    "  general_customs_value, \n",
    "  by = \"Date\",\n",
    "  suffix = c(\"_charges\", \"_value\")\n",
    ") |>\n",
    "  \n",
    "  # 2. Calculate the approximate tariff rate using the two VALUE columns\n",
    "  mutate(\n",
    "    Approximate_Rate = (VALUE_charges / VALUE_value) * 100\n",
    "  ) |>\n",
    "  rename(month = Date)|>\n",
    "  # 3. Keep only the columns you need for your VAR model\n",
    "  dplyr::select(month, Approximate_Rate)\n",
    "\n",
    "# --- Check the final result ---\n",
    "glimpse(tarrif_rate_df)"
   ]
  },
  {
   "cell_type": "code",
   "execution_count": 5,
   "id": "23b1733c",
   "metadata": {
    "vscode": {
     "languageId": "r"
    }
   },
   "outputs": [
    {
     "name": "stderr",
     "output_type": "stream",
     "text": [
      "\u001b[1mRows: \u001b[22m\u001b[34m488\u001b[39m \u001b[1mColumns: \u001b[22m\u001b[34m3\u001b[39m\n",
      "\u001b[36m──\u001b[39m \u001b[1mColumn specification\u001b[22m \u001b[36m────────────────────────────────────────────────────────\u001b[39m\n",
      "\u001b[1mDelimiter:\u001b[22m \",\"\n",
      "\u001b[31mchr\u001b[39m (1): Year\n",
      "\u001b[32mdbl\u001b[39m (2): Month, 9. Trade policy\n",
      "\n",
      "\u001b[36mℹ\u001b[39m Use `spec()` to retrieve the full column specification for this data.\n",
      "\u001b[36mℹ\u001b[39m Specify the column types or set `show_col_types = FALSE` to quiet this message.\n",
      "Warning message:\n",
      "\"\u001b[1m\u001b[22mThere was 1 warning in `mutate()`.\n",
      "\u001b[1m\u001b[22m\u001b[36mℹ\u001b[39m In argument: `Date = ymd(paste(Year, Month, \"01\", sep = \"-\"))`.\n",
      "Caused by warning:\n",
      "\u001b[33m!\u001b[39m  1 failed to parse.\"\n"
     ]
    },
    {
     "name": "stdout",
     "output_type": "stream",
     "text": [
      "Rows: 488\n",
      "Columns: 4\n",
      "$ Year  \u001b[3m\u001b[90m<chr>\u001b[39m\u001b[23m \"1985\"\u001b[90m, \u001b[39m\"1985\"\u001b[90m, \u001b[39m\"1985\"\u001b[90m, \u001b[39m\"1985\"\u001b[90m, \u001b[39m\"1985\"\u001b[90m, \u001b[39m\"1985\"\u001b[90m, \u001b[39m\"1985\"\u001b[90m, \u001b[39m\"1985\"\u001b[90m, \u001b[39m…\n",
      "$ Month \u001b[3m\u001b[90m<dbl>\u001b[39m\u001b[23m 1\u001b[90m, \u001b[39m2\u001b[90m, \u001b[39m3\u001b[90m, \u001b[39m4\u001b[90m, \u001b[39m5\u001b[90m, \u001b[39m6\u001b[90m, \u001b[39m7\u001b[90m, \u001b[39m8\u001b[90m, \u001b[39m9\u001b[90m, \u001b[39m10\u001b[90m, \u001b[39m11\u001b[90m, \u001b[39m12\u001b[90m, \u001b[39m1\u001b[90m, \u001b[39m2\u001b[90m, \u001b[39m3\u001b[90m, \u001b[39m4\u001b[90m, \u001b[39m5\u001b[90m, \u001b[39m6\u001b[90m, \u001b[39m7\u001b[90m, \u001b[39m8\u001b[90m, \u001b[39m9…\n",
      "$ VALUE \u001b[3m\u001b[90m<dbl>\u001b[39m\u001b[23m 122.61396\u001b[90m, \u001b[39m41.76222\u001b[90m, \u001b[39m107.92573\u001b[90m, \u001b[39m194.75287\u001b[90m, \u001b[39m124.39166\u001b[90m, \u001b[39m153.16361\u001b[90m,\u001b[39m…\n",
      "$ Date  \u001b[3m\u001b[90m<date>\u001b[39m\u001b[23m 1985-01-01\u001b[90m, \u001b[39m1985-02-01\u001b[90m, \u001b[39m1985-03-01\u001b[90m, \u001b[39m1985-04-01\u001b[90m, \u001b[39m1985-05-01\u001b[90m, \u001b[39m198…\n"
     ]
    },
    {
     "name": "stderr",
     "output_type": "stream",
     "text": [
      "\u001b[1mRows: \u001b[22m\u001b[34m390\u001b[39m \u001b[1mColumns: \u001b[22m\u001b[34m8\u001b[39m\n",
      "\u001b[36m──\u001b[39m \u001b[1mColumn specification\u001b[22m \u001b[36m────────────────────────────────────────────────────────\u001b[39m\n",
      "\u001b[1mDelimiter:\u001b[22m \",\"\n",
      "\u001b[31mchr\u001b[39m (1): date\n",
      "\u001b[32mdbl\u001b[39m (7): INDINF_LFSMICRO_M, INDINF_LFSMICRO_LEVELS_M, INDINF_LFSWC_M, INDINF...\n",
      "\n",
      "\u001b[36mℹ\u001b[39m Use `spec()` to retrieve the full column specification for this data.\n",
      "\u001b[36mℹ\u001b[39m Specify the column types or set `show_col_types = FALSE` to quiet this message.\n"
     ]
    },
    {
     "name": "stdout",
     "output_type": "stream",
     "text": [
      "Rows: 294\n",
      "Columns: 2\n",
      "$ Date  \u001b[3m\u001b[90m<date>\u001b[39m\u001b[23m 2001-01-01\u001b[90m, \u001b[39m2001-02-01\u001b[90m, \u001b[39m2001-03-01\u001b[90m, \u001b[39m2001-04-01\u001b[90m, \u001b[39m2001-05-01\u001b[90m, \u001b[39m200…\n",
      "$ VALUE \u001b[3m\u001b[90m<dbl>\u001b[39m\u001b[23m 2.8\u001b[90m, \u001b[39m3.3\u001b[90m, \u001b[39m3.4\u001b[90m, \u001b[39m3.3\u001b[90m, \u001b[39m3.6\u001b[90m, \u001b[39m3.3\u001b[90m, \u001b[39m3.3\u001b[90m, \u001b[39m3.1\u001b[90m, \u001b[39m3.0\u001b[90m, \u001b[39m3.0\u001b[90m, \u001b[39m3.2\u001b[90m, \u001b[39m3.4\u001b[90m, \u001b[39m3.2\u001b[90m,\u001b[39m…\n"
     ]
    },
    {
     "name": "stderr",
     "output_type": "stream",
     "text": [
      "Accessing CANSIM NDM vectors from Statistics Canada\n",
      "\n",
      "Accessing CANSIM NDM vectors from Statistics Canada\n",
      "\n",
      "Accessing CANSIM NDM vectors from Statistics Canada\n",
      "\n",
      "Accessing CANSIM NDM vectors from Statistics Canada\n",
      "\n"
     ]
    },
    {
     "name": "stdout",
     "output_type": "stream",
     "text": [
      "\u001b[90m# A tibble: 6 × 5\u001b[39m\n",
      "  date       series_id  value realtime_start realtime_end\n",
      "  \u001b[3m\u001b[90m<date>\u001b[39m\u001b[23m     \u001b[3m\u001b[90m<chr>\u001b[39m\u001b[23m      \u001b[3m\u001b[90m<dbl>\u001b[39m\u001b[23m \u001b[3m\u001b[90m<date>\u001b[39m\u001b[23m         \u001b[3m\u001b[90m<date>\u001b[39m\u001b[23m      \n",
      "\u001b[90m1\u001b[39m 1986-01-01 MCOILWTICO  22.9 2025-08-22     2025-08-22  \n",
      "\u001b[90m2\u001b[39m 1986-02-01 MCOILWTICO  15.5 2025-08-22     2025-08-22  \n",
      "\u001b[90m3\u001b[39m 1986-03-01 MCOILWTICO  12.6 2025-08-22     2025-08-22  \n",
      "\u001b[90m4\u001b[39m 1986-04-01 MCOILWTICO  12.8 2025-08-22     2025-08-22  \n",
      "\u001b[90m5\u001b[39m 1986-05-01 MCOILWTICO  15.4 2025-08-22     2025-08-22  \n",
      "\u001b[90m6\u001b[39m 1986-06-01 MCOILWTICO  13.4 2025-08-22     2025-08-22  \n"
     ]
    }
   ],
   "source": [
    "\n",
    "### EXCHANGE RATE US-CANADA ###\n",
    "exc_rate <- fredr(\n",
    "  series_id = \"DEXCAUS\",\n",
    "  observation_start = as.Date(\"1990-01-01\"),\n",
    "  observation_end = as.Date(\"2025-08-01\"),\n",
    "  frequency = \"m\", # monthly\n",
    "  units = \"chg\" # change over previous value\n",
    ")\n",
    "\n",
    "### TRADE COMMODITIES US-CANADA ###\n",
    "trade_commodities <- fredr(\n",
    "  series_id = \"XTNTVA01CAM664S\",\n",
    "  observation_start = as.Date(\"1990-01-01\"),\n",
    "  observation_end = as.Date(\"2025-08-01\"),\n",
    "  frequency = \"m\", # monthly\n",
    "  units = \"chg\" # change over previous value\n",
    ")\n",
    "\n",
    "\n",
    "### TRADE POLICY UNCERTAINTY INDEX ###\n",
    "tpu_data <- read_csv(\"Categorical_EPU_Data.csv\")|>\n",
    "mutate(Date = ymd(paste(Year, Month, \"01\", sep = \"-\")))|>\n",
    "rename(VALUE = '9. Trade policy')|>\n",
    "glimpse()\n",
    "\n",
    "\n",
    "### lFS MICRO ###\n",
    "lfs_micro <- read_csv('C:/Users/Irene/governorschallenge/INDINF_WAGES_MONTHLY.csv', skip=20)|>\n",
    "dplyr::select(date, INDINF_LFSMICRO_M)|>\n",
    "rename(Date = date, VALUE = INDINF_LFSMICRO_M)|>\n",
    "  mutate(Date = mdy(Date)) |>\n",
    "  filter(Date > ymd(\"2000-12-31\"))|>\n",
    "glimpse()\n",
    "\n",
    "### SURVEY - ABILITY TO MEET PRODUCTION DEMAND ###\n",
    "\n",
    "# ppc_data <- read_csv('C:/Users/Irene/governorschallenge/CAPACITYSIGNIF,CAPACITYSOME-sd-1999-07-01-ed-2025-07-01.csv', skip = 9) |>\n",
    "#   dplyr::select(date, CAPACITYSIGNIF) |>\n",
    "#   rename(Date = date, VALUE = CAPACITYSIGNIF) |>\n",
    "#   # Use yq() to correctly parse the \"Year-Quarter\" format\n",
    "#   mutate(Date = yq(Date)) |>\n",
    "#   filter(Date > ymd(\"2000-12-31\"))\n",
    "\n",
    "# Add refresh = TRUE to each call to bypass the cache\n",
    "gdp_vec <- get_cansim_vector_for_latest_periods(\"v65201210\", periods = 300, refresh = TRUE)\n",
    "cpi_vec <- get_cansim_vector_for_latest_periods(\"v41690973\", periods = 300, refresh = TRUE) # CHANGE IN CPI\n",
    "# exc_vec <- get_cansim_vector_for_latest_periods(\"v111666275\", periods = 300, refresh = TRUE)\n",
    "# oil_vec <- get_cansim_vector_for_latest_periods('v1352087861', periods = 600, refresh = TRUE)\n",
    "unemp_vec <- get_cansim_vector_for_latest_periods('v2062815', periods = 500, refresh = TRUE) # UNEMPLOYMENT RATE\n",
    "# ulc_vec <- get_cansim_vector_for_latest_periods('v29509282', periods = 300, refresh = TRUE) \n",
    "fcpi_vec <- get_cansim_vector_for_latest_periods('v52673496', periods = 500, refresh = TRUE) ## FISHER COMMODITY PRICE INDEX\n",
    "\n",
    "wti_price_monthly <- fredr::fredr(series_id = \"MCOILWTICO\") ## CRUDE OUL PRICES -- WEST TEXAS INTERMEDIATE\n",
    "\n",
    "# The data goes back to 1986\n",
    "print(head(wti_price_monthly))"
   ]
  },
  {
   "cell_type": "code",
   "execution_count": 6,
   "id": "509b5307",
   "metadata": {
    "vscode": {
     "languageId": "r"
    }
   },
   "outputs": [
    {
     "name": "stderr",
     "output_type": "stream",
     "text": [
      "Accessing CANSIM NDM vectors from Statistics Canada\n",
      "\n"
     ]
    },
    {
     "name": "stderr",
     "output_type": "stream",
     "text": [
      "Accessing CANSIM NDM vectors from Statistics Canada\n",
      "\n"
     ]
    },
    {
     "name": "stdout",
     "output_type": "stream",
     "text": [
      "Rows: 500\n",
      "Columns: 2\n",
      "$ Date                      \u001b[3m\u001b[90m<date>\u001b[39m\u001b[23m 1984-01-01\u001b[90m, \u001b[39m1984-02-01\u001b[90m, \u001b[39m1984-03-01\u001b[90m, \u001b[39m1984-04…\n",
      "$ break_even_inflation_rate \u001b[3m\u001b[90m<dbl>\u001b[39m\u001b[23m \u001b[31mNA\u001b[39m\u001b[90m, \u001b[39m\u001b[31mNA\u001b[39m\u001b[90m, \u001b[39m\u001b[31mNA\u001b[39m\u001b[90m, \u001b[39m\u001b[31mNA\u001b[39m\u001b[90m, \u001b[39m\u001b[31mNA\u001b[39m\u001b[90m, \u001b[39m\u001b[31mNA\u001b[39m\u001b[90m, \u001b[39m\u001b[31mNA\u001b[39m\u001b[90m, \u001b[39m\u001b[31mNA\u001b[39m\u001b[90m, \u001b[39m\u001b[31mNA\u001b[39m\u001b[90m, \u001b[39m\u001b[31mNA\u001b[39m\u001b[90m, \u001b[39m\u001b[31mNA\u001b[39m\u001b[90m, \u001b[39m…\n"
     ]
    }
   ],
   "source": [
    "## BREAK EVEN INFLATION RATE\n",
    "\n",
    "monthly_real_return_bond <- get_cansim_vector_for_latest_periods('v122553',periods = 500)\n",
    "monthly_convetional_bond <- get_cansim_vector_for_latest_periods('v122543',periods = 500)\n",
    "monthly_real_return_bond <- monthly_real_return_bond|>\n",
    "dplyr::select(Date, VALUE)\n",
    "\n",
    "monthly_convetional_bond <- monthly_convetional_bond|>\n",
    "dplyr::select(Date, VALUE)\n",
    "\n",
    "break_even_df <- monthly_convetional_bond |>\n",
    "  inner_join(monthly_real_return_bond, by = \"Date\", suffix = c(\"_conventional\", \"_real_return\")) |>\n",
    "  mutate(break_even_inflation_rate = VALUE_conventional - VALUE_real_return) |>\n",
    "  dplyr::select(Date, break_even_inflation_rate)\n",
    "\n",
    "  glimpse(\n",
    "break_even_df)"
   ]
  },
  {
   "cell_type": "code",
   "execution_count": 7,
   "id": "87fc61d7",
   "metadata": {
    "vscode": {
     "languageId": "r"
    }
   },
   "outputs": [
    {
     "name": "stderr",
     "output_type": "stream",
     "text": [
      "Warning message in as.POSIXlt.POSIXct(x, tz = tz):\n",
      "\"unknown timezone 'America/Toronto'\"\n",
      "Warning message in as.POSIXlt.POSIXct(x, tz = tz):\n",
      "\"unknown timezone 'GMT'\"\n",
      "Warning message in as.POSIXlt.POSIXct(x, tz = tz):\n",
      "\"unknown timezone 'America/New_York'\"\n",
      "Warning message in as.POSIXlt.POSIXct(x, tz = tz):\n",
      "\"unknown timezone 'America/Los_Angeles'\"\n",
      "Warning message in as.POSIXlt.POSIXct(x, tz = tz):\n",
      "\"unknown timezone 'GMT'\"\n",
      "Warning message in as.POSIXlt.POSIXct(x, tz = tz):\n",
      "\"unknown timezone 'America/New_York'\"\n",
      "Accessing CANSIM NDM vectors from Statistics Canada\n",
      "\n"
     ]
    }
   ],
   "source": [
    "policy_rate_daily_vec <- get_cansim_vector(\"v39050\", start_time = \"2000-01-01\")"
   ]
  },
  {
   "cell_type": "code",
   "execution_count": 8,
   "id": "ed22e291",
   "metadata": {
    "vscode": {
     "languageId": "r"
    }
   },
   "outputs": [
    {
     "name": "stdout",
     "output_type": "stream",
     "text": [
      "Rows: 499\n",
      "Columns: 2\n",
      "$ month      \u001b[3m\u001b[90m<date>\u001b[39m\u001b[23m 1984-01-01\u001b[90m, \u001b[39m1984-02-01\u001b[90m, \u001b[39m1984-03-01\u001b[90m, \u001b[39m1984-04-01\u001b[90m, \u001b[39m1984-05-01…\n",
      "$ delta_fcpi \u001b[3m\u001b[90m<dbl>\u001b[39m\u001b[23m 1.69137224\u001b[90m, \u001b[39m0.45319931\u001b[90m, \u001b[39m2.09954365\u001b[90m, \u001b[39m-0.82079804\u001b[90m, \u001b[39m-1.0008711…\n"
     ]
    }
   ],
   "source": [
    "start_date <- \"1990-01-01\"\n",
    "\n",
    "# # --- GDP ---\n",
    "gdp_monthly <- gdp_vec |>\n",
    "  dplyr::select(Date, VALUE) |>\n",
    "  # Create a 'month' column and filter\n",
    "  dplyr::mutate(month = lubridate::floor_date(Date, \"month\")) |>\n",
    "  dplyr::filter(month >= start_date) |>\n",
    "  # Calculate month-over-month percent change\n",
    "  dplyr::mutate(\n",
    "    delta_gdp = (log(VALUE) - log(dplyr::lag(VALUE, 1))) * 100\n",
    "  ) |>\n",
    "  dplyr::select(month, delta_gdp) |>\n",
    "  tidyr::drop_na()\n",
    "\n",
    "# --- Break-even Inflation Rate ---\n",
    "bond_monthly <- break_even_df |>\n",
    "  dplyr::select(Date, break_even_inflation_rate) |>\n",
    "  dplyr::mutate(month = lubridate::floor_date(Date, \"month\")) |>\n",
    "  dplyr::filter(month >= start_date) |>\n",
    "  dplyr::mutate(\n",
    "    delta_bond = (log(break_even_inflation_rate) - log(dplyr::lag(break_even_inflation_rate, 1))) * 100\n",
    "  ) |>\n",
    "  dplyr::select(month, delta_bond) |>\n",
    "  tidyr::drop_na()\n",
    "\n",
    "# ppc_monthly <- ppc_data |>\n",
    "#   dplyr::select(Date, VALUE) |>\n",
    "#   dplyr::mutate(month = lubridate::floor_date(Date, \"month\")) |>\n",
    "#   dplyr::filter(month >= start_date) |>\n",
    "#   dplyr::mutate(\n",
    "#     delta_ppc = VALUE\n",
    "#   ) |>\n",
    "#   dplyr::select(month, delta_ppc) |>\n",
    "#   tidyr::drop_na()\n",
    "\n",
    "\n",
    "# --- Policy Interest Rate (Level) ---\n",
    "policy_rate_monthly <- policy_rate_daily_vec |>\n",
    "  dplyr::select(Date, VALUE) |>\n",
    "  # Create a 'month' column to group by\n",
    "  mutate(month = floor_date(Date, \"month\")) |>\n",
    "  # Group by month and calculate the average rate\n",
    "  group_by(month) |>\n",
    "  summarise(\n",
    "    policy_rate = mean(VALUE, na.rm = TRUE) # Calculate the monthly average\n",
    "  ) |>\n",
    "  mutate(policy_rate  = (log(policy_rate) - log(dplyr::lag(policy_rate, 1))) * 100) |>\n",
    "  ungroup()\n",
    "\n",
    "# --- Oil ---\n",
    "oil_monthly <- wti_price_monthly |>\n",
    "  dplyr::select(date, value) |>\n",
    "  dplyr::mutate(month = date) |>\n",
    "  dplyr::filter(month >= start_date) |>\n",
    "  dplyr::mutate(\n",
    "    delta_oil = (log(value) - log(dplyr::lag(value, 1))) * 100\n",
    "  ) |>\n",
    "  dplyr::select(month, delta_oil) |>\n",
    "  tidyr::drop_na()\n",
    "\n",
    "trade_unc_monthly <- tpu_data |>\n",
    "  dplyr::select(Date, VALUE) |>\n",
    "  dplyr::mutate(month = Date) |>\n",
    "  dplyr::filter(month >= start_date) |>\n",
    "  dplyr::mutate(\n",
    "    delta_trade_unc = (log(VALUE) - log(dplyr::lag(VALUE, 1))) * 100\n",
    "  ) |>\n",
    "  dplyr::select(month, delta_trade_unc) |>\n",
    "  tidyr::drop_na()\n",
    "\n",
    "# --- No changes needed for your inflation calculation ---\n",
    "cpi_monthly <- cpi_vec |>\n",
    "  dplyr::select(Date, VALUE) |>\n",
    "  dplyr::mutate(month = Date) |>\n",
    "  dplyr::arrange(month) |> # Good practice to sort by date before lagging\n",
    "  dplyr::mutate(delta_cpi = (VALUE / dplyr::lag(VALUE, 12) - 1)*100)|>\n",
    "  dplyr::select(month, delta_cpi) |>\n",
    "  tidyr::drop_na()\n",
    "\n",
    "fcpi_monthly <- fcpi_vec |>\n",
    "  dplyr::select(Date, VALUE) |>\n",
    "  dplyr::mutate(month = Date) |>\n",
    "  dplyr::arrange(month) |> # Good practice to sort by date before lagging\n",
    "  dplyr::mutate(\n",
    "    delta_fcpi = (log(VALUE) - log(dplyr::lag(VALUE, 1))) * 100\n",
    "  ) |>\n",
    "  dplyr::select(month, delta_fcpi) |>\n",
    "  tidyr::drop_na()|>\n",
    "  glimpse()\n",
    "\n",
    "# --- ULC (if you decide to use it, assuming it's monthly) ---\n",
    "# ulc_monthly <- ulc_vec |>\n",
    "#   dplyr::select(Date, VALUE) |>\n",
    "#   dplyr::mutate(month = lubridate::floor_date(Date, \"month\")) |>\n",
    "#   dplyr::filter(month >= start_date) |>\n",
    "#   dplyr::mutate(\n",
    "#     delta_ulc = (log(VALUE) - log(dplyr::lag(VALUE, 1))) * 100\n",
    "#   ) |>\n",
    "#   dplyr::select(month, delta_ulc) |>\n",
    "#   tidyr::drop_na()\n",
    "\n",
    "\n",
    "trade_commodities_monthly <- trade_commodities |>\n",
    "  dplyr::select(date, value) |>\n",
    "  dplyr::mutate(month = date) |>\n",
    "  dplyr::filter(month >= start_date) |>\n",
    "  dplyr::mutate(\n",
    "    trade_us_canada = value) |>\n",
    "  dplyr::select(month, trade_us_canada ) |>\n",
    "  tidyr::drop_na()\n",
    "\n",
    "lfs_micro_monthly <- lfs_micro |>\n",
    "  dplyr::select(Date, VALUE) |>\n",
    "  dplyr::mutate(month = Date) |>\n",
    "  dplyr::filter(month >= start_date) |>\n",
    "  dplyr::mutate(\n",
    "    lfs_micro = (log(VALUE) - log(dplyr::lag(VALUE, 1))) * 100) |>\n",
    "  dplyr::select(month, lfs_micro) |>\n",
    "  tidyr::drop_na()\n",
    "\n",
    "# Process Exchange Rate (quarterly percent change)\n",
    "# exc_quarterly <- exc_vec |>\n",
    "#   dplyr::select(Date, VALUE) |>\n",
    "#   dplyr::mutate(quarter = lubridate::floor_date(Date, \"quarter\")) |>\n",
    "#   dplyr::group_by(quarter) |>\n",
    "#   dplyr::summarise(VALUE = dplyr::last(VALUE), .groups = 'drop') |>\n",
    "#   dplyr::filter(quarter >= start_date) |> #\n",
    "#   dplyr::mutate(\n",
    "#     delta_exc = (log(VALUE) - log(dplyr::lag(VALUE, 1))) * 100\n",
    "#   ) |>\n",
    "#   dplyr::select(quarter, delta_exc) |>\n",
    "#   tidyr::drop_na()\n",
    "\n",
    "# Process Unemployment (using the rate level)\n",
    "unemp_monthly <- unemp_vec |>\n",
    "  dplyr::select(Date, VALUE) |>\n",
    "  dplyr::mutate(month = lubridate::floor_date(Date, \"month\")) |>\n",
    "  dplyr::filter(month >= start_date) |>\n",
    "  # Using the unemployment rate level directly\n",
    "  dplyr::mutate(\n",
    "    delta_unemp = VALUE\n",
    "  ) |>\n",
    "  dplyr::select(month, delta_unemp) |>\n",
    "  tidyr::drop_na()\n",
    "\n",
    "\n",
    "exc_monthly <- exc_rate |>\n",
    "rename(month = date)|>\n",
    "rename(delta_exc = value)|>\n",
    "dplyr::select(month, delta_exc)|>\n",
    "tidyr::drop_na()\n"
   ]
  },
  {
   "cell_type": "code",
   "execution_count": 9,
   "id": "38cab353",
   "metadata": {
    "vscode": {
     "languageId": "r"
    }
   },
   "outputs": [
    {
     "name": "stdout",
     "output_type": "stream",
     "text": [
      "Rows: 288\n",
      "Columns: 3\n",
      "$ month        \u001b[3m\u001b[90m<date>\u001b[39m\u001b[23m 2001-08-01\u001b[90m, \u001b[39m2001-09-01\u001b[90m, \u001b[39m2001-10-01\u001b[90m, \u001b[39m2001-11-01\u001b[90m, \u001b[39m2001-12-…\n",
      "$ unemployment \u001b[3m\u001b[90m<dbl>\u001b[39m\u001b[23m 7.2\u001b[90m, \u001b[39m7.2\u001b[90m, \u001b[39m7.3\u001b[90m, \u001b[39m7.5\u001b[90m, \u001b[39m8.1\u001b[90m, \u001b[39m8.0\u001b[90m, \u001b[39m7.9\u001b[90m, \u001b[39m7.9\u001b[90m, \u001b[39m7.7\u001b[90m, \u001b[39m7.8\u001b[90m, \u001b[39m7.6\u001b[90m, \u001b[39m7.…\n",
      "$ delta_cpi    \u001b[3m\u001b[90m<dbl>\u001b[39m\u001b[23m 2.8213166\u001b[90m, \u001b[39m2.6014568\u001b[90m, \u001b[39m1.8691589\u001b[90m, \u001b[39m0.6211180\u001b[90m, \u001b[39m0.7238883\u001b[90m, \u001b[39m1.…\n"
     ]
    }
   ],
   "source": [
    "unemp_nairu <- unemp_vec |>\n",
    "  dplyr::select(Date, VALUE) |>\n",
    "  dplyr::mutate(month = lubridate::floor_date(Date, \"month\")) |>\n",
    "  dplyr::filter(month >= start_date) |>\n",
    "  dplyr::mutate(\n",
    "    unemployment = VALUE # Renaming here is clearer\n",
    "  ) |>\n",
    "  dplyr::select(month, unemployment) |>\n",
    "  tidyr::drop_na()\n",
    "\n",
    "# --- THE FIX: Use inner_join() instead of cbind() ---\n",
    "philips_curve <- dplyr::inner_join(unemp_nairu, cpi_monthly, by = \"month\") |>\n",
    "  glimpse()\n",
    "\n"
   ]
  },
  {
   "cell_type": "code",
   "execution_count": 10,
   "id": "75eccac5",
   "metadata": {
    "vscode": {
     "languageId": "r"
    }
   },
   "outputs": [
    {
     "name": "stdout",
     "output_type": "stream",
     "text": [
      "\u001b[90m# A tibble: 300 × 1\u001b[39m\n",
      "   Date      \n",
      "   \u001b[3m\u001b[90m<date>\u001b[39m\u001b[23m    \n",
      "\u001b[90m 1\u001b[39m 2000-08-01\n",
      "\u001b[90m 2\u001b[39m 2000-09-01\n",
      "\u001b[90m 3\u001b[39m 2000-10-01\n",
      "\u001b[90m 4\u001b[39m 2000-11-01\n",
      "\u001b[90m 5\u001b[39m 2000-12-01\n",
      "\u001b[90m 6\u001b[39m 2001-01-01\n",
      "\u001b[90m 7\u001b[39m 2001-02-01\n",
      "\u001b[90m 8\u001b[39m 2001-03-01\n",
      "\u001b[90m 9\u001b[39m 2001-04-01\n",
      "\u001b[90m10\u001b[39m 2001-05-01\n",
      "\u001b[90m11\u001b[39m 2001-06-01\n",
      "\u001b[90m12\u001b[39m 2001-07-01\n",
      "\u001b[90m13\u001b[39m 2001-08-01\n",
      "\u001b[90m14\u001b[39m 2001-09-01\n",
      "\u001b[90m15\u001b[39m 2001-10-01\n",
      "\u001b[90m16\u001b[39m 2001-11-01\n",
      "\u001b[90m17\u001b[39m 2001-12-01\n",
      "\u001b[90m18\u001b[39m 2002-01-01\n",
      "\u001b[90m19\u001b[39m 2002-02-01\n",
      "\u001b[90m20\u001b[39m 2002-03-01\n",
      "\u001b[90m# ℹ 280 more rows\u001b[39m\n"
     ]
    }
   ],
   "source": [
    "cpi_vec %>% dplyr::select(Date) %>% print(n = 20)\n"
   ]
  },
  {
   "cell_type": "code",
   "execution_count": 11,
   "id": "416c3626",
   "metadata": {
    "vscode": {
     "languageId": "r"
    }
   },
   "outputs": [
    {
     "data": {
      "image/png": "[encoded data removed]",
      "text/plain": [
       "plot without title"
      ]
     },
     "metadata": {
      "image/png": {
       "height": 420,
       "width": 420
      }
     },
     "output_type": "display_data"
    }
   ],
   "source": [
    "plot(cpi_monthly$month, cpi_monthly$delta_cpi, \"l\")"
   ]
  },
  {
   "cell_type": "code",
   "execution_count": 12,
   "id": "478313e2",
   "metadata": {
    "vscode": {
     "languageId": "r"
    }
   },
   "outputs": [
    {
     "name": "stdout",
     "output_type": "stream",
     "text": [
      "Rows: 286\n",
      "Columns: 13\n",
      "$ month            \u001b[3m\u001b[90m<date>\u001b[39m\u001b[23m 2001-08-01\u001b[90m, \u001b[39m2001-09-01\u001b[90m, \u001b[39m2001-10-01\u001b[90m, \u001b[39m2001-11-01\u001b[90m, \u001b[39m2001…\n",
      "$ delta_gdp        \u001b[3m\u001b[90m<dbl>\u001b[39m\u001b[23m 0.3338033\u001b[90m, \u001b[39m-0.5386542\u001b[90m, \u001b[39m0.4557593\u001b[90m, \u001b[39m0.6428197\u001b[90m, \u001b[39m-0.10729…\n",
      "$ delta_oil        \u001b[3m\u001b[90m<dbl>\u001b[39m\u001b[23m 3.4947794\u001b[90m, \u001b[39m-4.3688112\u001b[90m, \u001b[39m-16.7019387\u001b[90m, \u001b[39m-12.1171721\u001b[90m, \u001b[39m-1.2…\n",
      "$ delta_cpi        \u001b[3m\u001b[90m<dbl>\u001b[39m\u001b[23m 2.8213166\u001b[90m, \u001b[39m2.6014568\u001b[90m, \u001b[39m1.8691589\u001b[90m, \u001b[39m0.6211180\u001b[90m, \u001b[39m0.7238883…\n",
      "$ delta_exc        \u001b[3m\u001b[90m<dbl>\u001b[39m\u001b[23m 0.009066046\u001b[90m, \u001b[39m0.028082367\u001b[90m, \u001b[39m0.003738384\u001b[90m, \u001b[39m0.020567727\u001b[90m, \u001b[39m-…\n",
      "$ delta_unemp      \u001b[3m\u001b[90m<dbl>\u001b[39m\u001b[23m 7.2\u001b[90m, \u001b[39m7.2\u001b[90m, \u001b[39m7.3\u001b[90m, \u001b[39m7.5\u001b[90m, \u001b[39m8.1\u001b[90m, \u001b[39m8.0\u001b[90m, \u001b[39m7.9\u001b[90m, \u001b[39m7.9\u001b[90m, \u001b[39m7.7\u001b[90m, \u001b[39m7.8\u001b[90m, \u001b[39m7.6…\n",
      "$ delta_bond       \u001b[3m\u001b[90m<dbl>\u001b[39m\u001b[23m -2.231436e+01\u001b[90m, \u001b[39m-2.409755e+00\u001b[90m, \u001b[39m-2.635845e+01\u001b[90m, \u001b[39m2.876821…\n",
      "$ trade_us_canada  \u001b[3m\u001b[90m<dbl>\u001b[39m\u001b[23m -811300000\u001b[90m, \u001b[39m959500000\u001b[90m, \u001b[39m-1005600000\u001b[90m, \u001b[39m1796100000\u001b[90m, \u001b[39m-9733…\n",
      "$ delta_trade_unc  \u001b[3m\u001b[90m<dbl>\u001b[39m\u001b[23m 19.752048\u001b[90m, \u001b[39m90.325515\u001b[90m, \u001b[39m-39.894460\u001b[90m, \u001b[39m6.748555\u001b[90m, \u001b[39m20.723889…\n",
      "$ delta_fcpi       \u001b[3m\u001b[90m<dbl>\u001b[39m\u001b[23m 0.1768973\u001b[90m, \u001b[39m-10.1871069\u001b[90m, \u001b[39m-5.1808413\u001b[90m, \u001b[39m-3.8660277\u001b[90m, \u001b[39m1.488…\n",
      "$ lfs_micro        \u001b[3m\u001b[90m<dbl>\u001b[39m\u001b[23m -6.252036\u001b[90m, \u001b[39m-3.278982\u001b[90m, \u001b[39m0.000000\u001b[90m, \u001b[39m6.453852\u001b[90m, \u001b[39m6.062462\u001b[90m, \u001b[39m-…\n",
      "$ Approximate_Rate \u001b[3m\u001b[90m<dbl>\u001b[39m\u001b[23m 1.491150\u001b[90m, \u001b[39m1.488209\u001b[90m, \u001b[39m1.514474\u001b[90m, \u001b[39m1.487655\u001b[90m, \u001b[39m1.497298\u001b[90m, \u001b[39m1.4…\n",
      "$ policy_rate      \u001b[3m\u001b[90m<dbl>\u001b[39m\u001b[23m -3.85976980\u001b[90m, \u001b[39m-11.83205457\u001b[90m, \u001b[39m-13.61882938\u001b[90m, \u001b[39m-20.67654438…\n"
     ]
    }
   ],
   "source": [
    "combine_processed_dfs <- function(...) {\n",
    "  list_of_dfs <- list(...)\n",
    "  combined_df <- purrr::reduce(list_of_dfs, dplyr::inner_join, by = \"month\")\n",
    "  return(combined_df)\n",
    "}\n",
    "\n",
    "# Example of how to use it:\n",
    "final_monthly_df <- combine_processed_dfs(\n",
    "  gdp_monthly,\n",
    "  oil_monthly,\n",
    "  cpi_monthly,\n",
    "  exc_monthly,\n",
    "  unemp_monthly,\n",
    "  bond_monthly,\n",
    "  trade_commodities_monthly,\n",
    "  trade_unc_monthly,\n",
    "  fcpi_monthly,\n",
    "  lfs_micro_monthly,\n",
    "  tarrif_rate_df,\n",
    "  policy_rate_monthly\n",
    "  # ppc_monthly\n",
    ")|>\n",
    "filter(row_number() <= n() - 1)\n",
    "\n",
    "glimpse(final_monthly_df)"
   ]
  },
  {
   "cell_type": "code",
   "execution_count": 13,
   "id": "93646d15",
   "metadata": {
    "vscode": {
     "languageId": "r"
    }
   },
   "outputs": [
    {
     "name": "stderr",
     "output_type": "stream",
     "text": [
      "Warning message in adf.test(final_monthly_df[[var]], alternative = \"stationary\"):\n",
      "\"p-value smaller than printed p-value\"\n"
     ]
    },
    {
     "name": "stdout",
     "output_type": "stream",
     "text": [
      "--- ADF Test for: delta_gdp ---\n",
      "Dickey-Fuller Statistic: -7.653 \n",
      "P-value: 0.01 \n",
      "Result: The series is Stationary (p < 0.05)\n",
      "\n"
     ]
    },
    {
     "name": "stderr",
     "output_type": "stream",
     "text": [
      "Warning message in adf.test(final_monthly_df[[var]], alternative = \"stationary\"):\n",
      "\"p-value smaller than printed p-value\"\n"
     ]
    },
    {
     "name": "stdout",
     "output_type": "stream",
     "text": [
      "--- ADF Test for: delta_oil ---\n",
      "Dickey-Fuller Statistic: -6.891 \n",
      "P-value: 0.01 \n",
      "Result: The series is Stationary (p < 0.05)\n",
      "\n",
      "--- ADF Test for: delta_cpi ---\n",
      "Dickey-Fuller Statistic: -3.308 \n",
      "P-value: 0.0702 \n",
      "Result: The series is Stationary (p < 0.05)\n",
      "\n"
     ]
    },
    {
     "name": "stderr",
     "output_type": "stream",
     "text": [
      "Warning message in adf.test(final_monthly_df[[var]], alternative = \"stationary\"):\n",
      "\"p-value smaller than printed p-value\"\n"
     ]
    },
    {
     "name": "stdout",
     "output_type": "stream",
     "text": [
      "--- ADF Test for: delta_exc ---\n",
      "Dickey-Fuller Statistic: -6.733 \n",
      "P-value: 0.01 \n",
      "Result: The series is Stationary (p < 0.05)\n",
      "\n",
      "--- ADF Test for: delta_unemp ---\n",
      "Dickey-Fuller Statistic: -3.314 \n",
      "P-value: 0.0692 \n",
      "Result: The series is Stationary (p < 0.05)\n",
      "\n"
     ]
    },
    {
     "name": "stderr",
     "output_type": "stream",
     "text": [
      "Warning message in adf.test(final_monthly_df[[var]], alternative = \"stationary\"):\n",
      "\"p-value smaller than printed p-value\"\n"
     ]
    },
    {
     "name": "stdout",
     "output_type": "stream",
     "text": [
      "--- ADF Test for: delta_bond ---\n",
      "Dickey-Fuller Statistic: -7.542 \n",
      "P-value: 0.01 \n",
      "Result: The series is Stationary (p < 0.05)\n",
      "\n"
     ]
    },
    {
     "name": "stderr",
     "output_type": "stream",
     "text": [
      "Warning message in adf.test(final_monthly_df[[var]], alternative = \"stationary\"):\n",
      "\"p-value smaller than printed p-value\"\n"
     ]
    },
    {
     "name": "stdout",
     "output_type": "stream",
     "text": [
      "--- ADF Test for: trade_us_canada ---\n",
      "Dickey-Fuller Statistic: -8.357 \n",
      "P-value: 0.01 \n",
      "Result: The series is Stationary (p < 0.05)\n",
      "\n"
     ]
    },
    {
     "name": "stderr",
     "output_type": "stream",
     "text": [
      "Warning message in adf.test(final_monthly_df[[var]], alternative = \"stationary\"):\n",
      "\"p-value smaller than printed p-value\"\n"
     ]
    },
    {
     "name": "stdout",
     "output_type": "stream",
     "text": [
      "--- ADF Test for: delta_trade_unc ---\n",
      "Dickey-Fuller Statistic: -6.937 \n",
      "P-value: 0.01 \n",
      "Result: The series is Stationary (p < 0.05)\n",
      "\n"
     ]
    },
    {
     "name": "stderr",
     "output_type": "stream",
     "text": [
      "Warning message in adf.test(final_monthly_df[[var]], alternative = \"stationary\"):\n",
      "\"p-value smaller than printed p-value\"\n"
     ]
    },
    {
     "name": "stdout",
     "output_type": "stream",
     "text": [
      "--- ADF Test for: delta_fcpi ---\n",
      "Dickey-Fuller Statistic: -6.685 \n",
      "P-value: 0.01 \n",
      "Result: The series is Stationary (p < 0.05)\n",
      "\n"
     ]
    },
    {
     "name": "stderr",
     "output_type": "stream",
     "text": [
      "Warning message in adf.test(final_monthly_df[[var]], alternative = \"stationary\"):\n",
      "\"p-value smaller than printed p-value\"\n"
     ]
    },
    {
     "name": "stdout",
     "output_type": "stream",
     "text": [
      "--- ADF Test for: lfs_micro ---\n",
      "Dickey-Fuller Statistic: -6.959 \n",
      "P-value: 0.01 \n",
      "Result: The series is Stationary (p < 0.05)\n",
      "\n",
      "--- ADF Test for: Approximate_Rate ---\n",
      "Dickey-Fuller Statistic: -2.811 \n",
      "P-value: 0.2344 \n",
      "Result: The series is Non-Stationary (p >= 0.05)\n",
      "\n"
     ]
    },
    {
     "name": "stderr",
     "output_type": "stream",
     "text": [
      "Warning message in adf.test(final_monthly_df[[var]], alternative = \"stationary\"):\n",
      "\"p-value smaller than printed p-value\"\n"
     ]
    },
    {
     "name": "stdout",
     "output_type": "stream",
     "text": [
      "--- ADF Test for: policy_rate ---\n",
      "Dickey-Fuller Statistic: -5.071 \n",
      "P-value: 0.01 \n",
      "Result: The series is Stationary (p < 0.05)\n",
      "\n"
     ]
    }
   ],
   "source": [
    "variables_to_test <- setdiff(names(final_monthly_df), \"month\")\n",
    "\n",
    "# Loop through each variable name\n",
    "for (var in variables_to_test) {\n",
    "  \n",
    "  # Run the ADF test on the column\n",
    "  adf_result <- adf.test(final_monthly_df[[var]], alternative = \"stationary\")\n",
    "  \n",
    "  # Print a formatted summary of the results\n",
    "  cat(\"--- ADF Test for:\", var, \"---\\n\")\n",
    "  cat(\"Dickey-Fuller Statistic:\", round(adf_result$statistic, 3), \"\\n\")\n",
    "  cat(\"P-value:\", round(adf_result$p.value, 4), \"\\n\")\n",
    "  \n",
    "  # Interpret the result based on the p-value\n",
    "  if (adf_result$p.value < 0.1) {\n",
    "    cat(\"Result: The series is Stationary (p < 0.05)\\n\\n\")\n",
    "  } else {\n",
    "    cat(\"Result: The series is Non-Stationary (p >= 0.05)\\n\\n\")\n",
    "  }\n",
    "}"
   ]
  },
  {
   "cell_type": "code",
   "execution_count": 14,
   "id": "aa038c89",
   "metadata": {
    "vscode": {
     "languageId": "r"
    }
   },
   "outputs": [],
   "source": [
    "# long_term_mean_unemp <- mean(final_monthly_df$delta_unemp, na.rm = TRUE)\n",
    "\n",
    "# # Optional: Print the mean to see the calculated \"natural rate\"\n",
    "# print(paste(\"Long-Term Mean Unemployment Rate:\", round(long_term_mean_unemp, 2)))\n",
    "\n",
    "# final_monthly_df <- final_monthly_df|>\n",
    "# mutate(market_slack = delta_unemp - long_term_mean_unemp)|>\n",
    "# dplyr::select(!delta_unemp)\n",
    "# # 3. View the result\n",
    "# glimpse(final_monthly_df)"
   ]
  },
  {
   "cell_type": "code",
   "execution_count": 15,
   "id": "5cc8e14a",
   "metadata": {
    "vscode": {
     "languageId": "r"
    }
   },
   "outputs": [
    {
     "name": "stdout",
     "output_type": "stream",
     "text": [
      "AIC(n)  HQ(n)  SC(n) FPE(n) \n",
      "     2      1      1      2 \n",
      "AIC(n)  HQ(n)  SC(n) FPE(n) \n",
      "     2      1      1      2 \n"
     ]
    }
   ],
   "source": [
    "df_for_lags <- final_monthly_df|>\n",
    "dplyr::select(delta_cpi ,delta_exc ,delta_unemp ,delta_bond ,delta_fcpi ,lfs_micro, Approximate_Rate, policy_rate)\n",
    "lag_selection <- VARselect(df_for_lags, lag.max = 16, type = \"const\")\n",
    "\n",
    "print(lag_selection$selection)\n",
    "\n",
    "df_for_lags_gdp <- final_monthly_df|>\n",
    "dplyr::select(delta_cpi ,delta_exc ,delta_gdp ,delta_bond ,delta_fcpi ,lfs_micro, Approximate_Rate, policy_rate)\n",
    "lag_selection <- VARselect(df_for_lags, lag.max = 16, type = \"const\")\n",
    "\n",
    "print(lag_selection$selection)"
   ]
  },
  {
   "cell_type": "code",
   "execution_count": 16,
   "id": "35f6f4c9",
   "metadata": {
    "vscode": {
     "languageId": "r"
    }
   },
   "outputs": [],
   "source": [
    "var_data_cpi <- final_monthly_df |>\n",
    "  dplyr::select(delta_cpi ,delta_exc ,delta_unemp ,delta_bond ,delta_fcpi ,lfs_micro, Approximate_Rate)|>\n",
    " ts(start = c(2001, 1), frequency = 12)\n",
    "\n",
    " var_data_gdp <- final_monthly_df |>\n",
    "  dplyr::select(delta_cpi ,delta_exc ,delta_gdp ,delta_bond ,delta_fcpi ,lfs_micro, Approximate_Rate)|>\n",
    " ts(start = c(2001, 1), frequency = 12)"
   ]
  },
  {
   "cell_type": "code",
   "execution_count": 17,
   "id": "08e9a092",
   "metadata": {
    "vscode": {
     "languageId": "r"
    }
   },
   "outputs": [
    {
     "name": "stderr",
     "output_type": "stream",
     "text": [
      "corrplot 0.95 loaded\n",
      "\n"
     ]
    },
    {
     "ename": "ERROR",
     "evalue": "Error: object 'var_data' not found\n",
     "output_type": "error",
     "traceback": [
      "Error: object 'var_data' not found\nTraceback:\n",
      "1. is.data.frame(x)",
      "2. .handleSimpleError(function (cnd) \n . {\n .     watcher$capture_plot_and_output()\n .     cnd <- sanitize_call(cnd)\n .     watcher$push(cnd)\n .     switch(on_error, continue = invokeRestart(\"eval_continue\"), \n .         stop = invokeRestart(\"eval_stop\"), error = NULL)\n . }, \"object 'var_data' not found\", base::quote(eval(expr, envir)))"
     ]
    }
   ],
   "source": [
    "# Install corrplot if you don't have it\n",
    "# install.packages(\"corrplot\")\n",
    "library(corrplot)\n",
    "\n",
    "# Use the data that goes into your VAR\n",
    "correlation_matrix <- cor(var_data)\n",
    "\n",
    "# Print the matrix (values close to 1 or -1 are problems)\n",
    "print(round(correlation_matrix, 2))\n",
    "\n",
    "# Visualize the matrix to easily spot problem areas\n",
    "corrplot(correlation_matrix, method = \"circle\")"
   ]
  },
  {
   "cell_type": "code",
   "execution_count": null,
   "id": "6113bf15",
   "metadata": {
    "vscode": {
     "languageId": "r"
    }
   },
   "outputs": [
    {
     "data": {
      "image/png": "[encoded data removed]",
      "text/plain": [
       "Plot with title \"\""
      ]
     },
     "metadata": {
      "image/png": {
       "height": 420,
       "width": 420
      }
     },
     "output_type": "display_data"
    }
   ],
   "source": [
    "# Make sure your data is in a dataframe before running the VAR\n",
    "# For example, let's call it 'my_var_data'\n",
    "\n",
    "# Install corrplot if you don't have it\n",
    "# install.packages(\"corrplot\")\n",
    "library(corrplot)\n",
    "\n",
    "# Create a correlation matrix\n",
    "correlation_matrix <- cor(var_data)\n",
    "\n",
    "# Visualize the matrix to easily spot problem areas\n",
    "corrplot(correlation_matrix, method = \"number\")"
   ]
  },
  {
   "cell_type": "code",
   "execution_count": null,
   "id": "d2b4a09a",
   "metadata": {
    "vscode": {
     "languageId": "r"
    }
   },
   "outputs": [
    {
     "data": {
      "image/png": "[encoded data removed]",
      "text/plain": [
       "plot without title"
      ]
     },
     "metadata": {
      "image/png": {
       "height": 420,
       "width": 420
      }
     },
     "output_type": "display_data"
    }
   ],
   "source": [
    "library(ggplot2)\n",
    "library(tidyr)\n",
    "\n",
    "# Use the dataframe that goes into your VAR\n",
    "diagnostic_df <- final_monthly_df |>\n",
    "  dplyr::select(\n",
    "    delta_cpi, delta_exc, delta_unemp, delta_bond,\n",
    "    delta_trade_unc, delta_fcpi, Approximate_Rate \n",
    "  ) |>\n",
    "  tidyr::drop_na()\n",
    "\n",
    "# Pivot to long format for easy plotting with ggplot\n",
    "diagnostic_df_long <- diagnostic_df %>%\n",
    "  mutate(date = 1:n()) %>% # Create a simple time index\n",
    "  pivot_longer(-date, names_to = \"variable\", values_to = \"value\")\n",
    "\n",
    "# Create the plot\n",
    "ggplot(diagnostic_df_long, aes(x = date, y = value)) +\n",
    "  geom_line() +\n",
    "  facet_wrap(~variable, scales = \"free_y\") +\n",
    "  theme_minimal() +\n",
    "  labs(title = \"Time Series Plots of All Variables\", x = \"Observation\", y = \"Value\")"
   ]
  },
  {
   "cell_type": "code",
   "execution_count": null,
   "id": "62af4743",
   "metadata": {
    "vscode": {
     "languageId": "r"
    }
   },
   "outputs": [
    {
     "name": "stdout",
     "output_type": "stream",
     "text": [
      "[1] \"VIF for delta_cpi model:\"\n",
      "       delta_exc      delta_unemp       delta_bond       delta_fcpi \n",
      "        1.343710         1.041758         1.327065         1.622442 \n",
      "       lfs_micro Approximate_Rate  delta_trade_unc \n",
      "        1.012602         1.077212         1.022322 \n",
      "[1] \"VIF values for predictors of delta_cpi:\"\n",
      "       delta_exc      delta_unemp       delta_bond       delta_fcpi \n",
      "        1.343710         1.041758         1.327065         1.622442 \n",
      "       lfs_micro Approximate_Rate  delta_trade_unc \n",
      "        1.012602         1.077212         1.022322 \n"
     ]
    }
   ],
   "source": [
    "library(car)\n",
    "\n",
    "vif_cpi <- vif(lm(delta_cpi ~ ., data = as.data.frame(var_data)))\n",
    "print(\"VIF for delta_cpi model:\")\n",
    "print(vif_cpi)\n",
    "\n",
    "# We can find the VIF for each variable by running a model where it is the dependent variable\n",
    "# However, a more common way is to check the VIF of the predictors in a single model.\n",
    "# Let's check the predictors for the delta_cpi equation:\n",
    "model_for_vif <- lm(delta_cpi ~ ., data = as.data.frame(var_data))\n",
    "print(\"VIF values for predictors of delta_cpi:\")\n",
    "print(vif(model_for_vif))"
   ]
  },
  {
   "cell_type": "code",
   "execution_count": null,
   "id": "d8e06e32",
   "metadata": {
    "vscode": {
     "languageId": "r"
    }
   },
   "outputs": [
    {
     "data": {
      "text/html": [
       "<style>\n",
       ".dl-inline {width: auto; margin:0; padding: 0}\n",
       ".dl-inline>dt, .dl-inline>dd {float: none; width: auto; display: inline-block}\n",
       ".dl-inline>dt::after {content: \":\\0020\"; padding-right: .5ex}\n",
       ".dl-inline>dt:not(:first-of-type) {padding-left: .5ex}\n",
       "</style><dl class=dl-inline><dt>delta_cpi</dt><dd>0.907907745386422</dd><dt>delta_exc</dt><dd>0.0227658183125493</dd><dt>delta_unemp</dt><dd>1.16229031366649</dd><dt>delta_bond</dt><dd>13.6631982320284</dd><dt>delta_fcpi</dt><dd>6.07998498159271</dd><dt>lfs_micro</dt><dd>13.1051632517933</dd><dt>Approximate_Rate</dt><dd>7.2649916584151</dd><dt>delta_trade_unc</dt><dd>74.5655354015306</dd></dl>\n"
      ],
      "text/latex": [
       "\\begin{description*}\n",
       "\\item[delta\\textbackslash{}\\_cpi] 0.907907745386422\n",
       "\\item[delta\\textbackslash{}\\_exc] 0.0227658183125493\n",
       "\\item[delta\\textbackslash{}\\_unemp] 1.16229031366649\n",
       "\\item[delta\\textbackslash{}\\_bond] 13.6631982320284\n",
       "\\item[delta\\textbackslash{}\\_fcpi] 6.07998498159271\n",
       "\\item[lfs\\textbackslash{}\\_micro] 13.1051632517933\n",
       "\\item[Approximate\\textbackslash{}\\_Rate] 7.2649916584151\n",
       "\\item[delta\\textbackslash{}\\_trade\\textbackslash{}\\_unc] 74.5655354015306\n",
       "\\end{description*}\n"
      ],
      "text/markdown": [
       "delta_cpi\n",
       ":   0.907907745386422delta_exc\n",
       ":   0.0227658183125493delta_unemp\n",
       ":   1.16229031366649delta_bond\n",
       ":   13.6631982320284delta_fcpi\n",
       ":   6.07998498159271lfs_micro\n",
       ":   13.1051632517933Approximate_Rate\n",
       ":   7.2649916584151delta_trade_unc\n",
       ":   74.5655354015306\n",
       "\n"
      ],
      "text/plain": [
       "       delta_cpi        delta_exc      delta_unemp       delta_bond \n",
       "      0.90790775       0.02276582       1.16229031      13.66319823 \n",
       "      delta_fcpi        lfs_micro Approximate_Rate  delta_trade_unc \n",
       "      6.07998498      13.10516325       7.26499166      74.56553540 "
      ]
     },
     "metadata": {},
     "output_type": "display_data"
    }
   ],
   "source": [
    "# Calculate the standard deviation for each column in your dataset\n",
    "sapply(as.data.frame(var_data), sd)"
   ]
  },
  {
   "cell_type": "code",
   "execution_count": null,
   "id": "4317ff98",
   "metadata": {
    "vscode": {
     "languageId": "r"
    }
   },
   "outputs": [
    {
     "name": "stdout",
     "output_type": "stream",
     "text": [
      "\n",
      "Call:\n",
      "lm(formula = y ~ -1 + ., data = datamat)\n",
      "\n",
      "Residuals:\n",
      "     Min       1Q   Median       3Q      Max \n",
      "-0.88038 -0.21436 -0.01515  0.20076  1.09019 \n",
      "\n",
      "Coefficients:\n",
      "                       Estimate Std. Error t value Pr(>|t|)    \n",
      "delta_cpi.l1          0.8829812  0.0768447  11.490  < 2e-16 ***\n",
      "delta_exc.l1          2.5991117  1.4233538   1.826 0.069421 .  \n",
      "delta_unemp.l1        0.1288952  0.0963082   1.338 0.182386    \n",
      "delta_bond.l1         0.0039002  0.0024974   1.562 0.120024    \n",
      "delta_fcpi.l1         0.0253098  0.0068865   3.675 0.000309 ***\n",
      "lfs_micro.l1         -0.0004595  0.0020914  -0.220 0.826318    \n",
      "Approximate_Rate.l1  -0.0619126  0.2164792  -0.286 0.775193    \n",
      "delta_cpi.l2         -0.1054589  0.1003839  -1.051 0.294804    \n",
      "delta_exc.l2          0.5458866  1.4906624   0.366 0.714622    \n",
      "delta_unemp.l2       -0.3190669  0.1747694  -1.826 0.069482 .  \n",
      "delta_bond.l2         0.0019523  0.0027734   0.704 0.482335    \n",
      "delta_fcpi.l2         0.0005466  0.0071280   0.077 0.938951    \n",
      "lfs_micro.l2         -0.0008524  0.0021214  -0.402 0.688264    \n",
      "Approximate_Rate.l2   0.1104656  0.2607504   0.424 0.672307    \n",
      "delta_cpi.l3          0.0796514  0.0977051   0.815 0.415971    \n",
      "delta_exc.l3          2.3382708  1.5001375   1.559 0.120739    \n",
      "delta_unemp.l3        0.2511749  0.1890768   1.328 0.185639    \n",
      "delta_bond.l3        -0.0047613  0.0028593  -1.665 0.097528 .  \n",
      "delta_fcpi.l3         0.0175240  0.0070245   2.495 0.013464 *  \n",
      "lfs_micro.l3         -0.0010378  0.0021316  -0.487 0.626930    \n",
      "Approximate_Rate.l3  -0.2383708  0.2624655  -0.908 0.364930    \n",
      "delta_cpi.l4          0.0044497  0.0982653   0.045 0.963930    \n",
      "delta_exc.l4          2.8514817  1.4973131   1.904 0.058377 .  \n",
      "delta_unemp.l4       -0.1894509  0.1861646  -1.018 0.310144    \n",
      "delta_bond.l4        -0.0006973  0.0029192  -0.239 0.811472    \n",
      "delta_fcpi.l4         0.0178017  0.0069622   2.557 0.011346 *  \n",
      "lfs_micro.l4          0.0036527  0.0021039   1.736 0.084168 .  \n",
      "Approximate_Rate.l4   0.3538785  0.2621287   1.350 0.178625    \n",
      "delta_cpi.l5          0.0910466  0.0996899   0.913 0.362249    \n",
      "delta_exc.l5          2.9223040  1.5183951   1.925 0.055781 .  \n",
      "delta_unemp.l5        0.1133894  0.1829956   0.620 0.536248    \n",
      "delta_bond.l5         0.0001552  0.0029125   0.053 0.957550    \n",
      "delta_fcpi.l5         0.0085318  0.0070621   1.208 0.228513    \n",
      "lfs_micro.l5          0.0046363  0.0020980   2.210 0.028311 *  \n",
      "Approximate_Rate.l5  -0.3383393  0.2644576  -1.279 0.202335    \n",
      "delta_cpi.l6         -0.0700200  0.1013913  -0.691 0.490669    \n",
      "delta_exc.l6         -1.1790642  1.5089707  -0.781 0.435563    \n",
      "delta_unemp.l6        0.0388618  0.1798265   0.216 0.829138    \n",
      "delta_bond.l6         0.0017277  0.0029044   0.595 0.552652    \n",
      "delta_fcpi.l6         0.0014749  0.0070975   0.208 0.835607    \n",
      "lfs_micro.l6          0.0039857  0.0021173   1.882 0.061312 .  \n",
      "Approximate_Rate.l6   0.3412779  0.2665852   1.280 0.202050    \n",
      "delta_cpi.l7          0.0296665  0.1029835   0.288 0.773609    \n",
      "delta_exc.l7          1.1810128  1.5003104   0.787 0.432163    \n",
      "delta_unemp.l7       -0.0428568  0.1757631  -0.244 0.807625    \n",
      "delta_bond.l7         0.0043373  0.0028967   1.497 0.135977    \n",
      "delta_fcpi.l7         0.0101023  0.0071326   1.416 0.158317    \n",
      "lfs_micro.l7         -0.0018686  0.0021289  -0.878 0.381185    \n",
      "Approximate_Rate.l7  -0.0992640  0.2662599  -0.373 0.709709    \n",
      "delta_cpi.l8          0.0268340  0.1044462   0.257 0.797523    \n",
      "delta_exc.l8          1.0934454  1.5087785   0.725 0.469519    \n",
      "delta_unemp.l8        0.0448863  0.1713486   0.262 0.793638    \n",
      "delta_bond.l8        -0.0001126  0.0029016  -0.039 0.969083    \n",
      "delta_fcpi.l8         0.0090762  0.0072103   1.259 0.209660    \n",
      "lfs_micro.l8         -0.0023145  0.0020953  -1.105 0.270737    \n",
      "Approximate_Rate.l8   0.0532147  0.2664093   0.200 0.841893    \n",
      "delta_cpi.l9         -0.0700332  0.1024335  -0.684 0.495005    \n",
      "delta_exc.l9         -0.8250664  1.5223352  -0.542 0.588475    \n",
      "delta_unemp.l9       -0.1262338  0.1676419  -0.753 0.452389    \n",
      "delta_bond.l9         0.0010183  0.0028016   0.363 0.716647    \n",
      "delta_fcpi.l9         0.0037755  0.0072039   0.524 0.600833    \n",
      "lfs_micro.l9          0.0001525  0.0021381   0.071 0.943203    \n",
      "Approximate_Rate.l9   0.0932489  0.2661156   0.350 0.726423    \n",
      "delta_cpi.l10         0.1627425  0.1020950   1.594 0.112600    \n",
      "delta_exc.l10         3.9386061  1.4944775   2.635 0.009100 ** \n",
      "delta_unemp.l10       0.3340579  0.1669942   2.000 0.046887 *  \n",
      "delta_bond.l10        0.0014706  0.0027310   0.539 0.590863    \n",
      "delta_fcpi.l10        0.0193394  0.0071750   2.695 0.007665 ** \n",
      "lfs_micro.l10        -0.0007204  0.0021655  -0.333 0.739755    \n",
      "Approximate_Rate.l10 -0.4077655  0.2704597  -1.508 0.133307    \n",
      "delta_cpi.l11        -0.0102637  0.1025255  -0.100 0.920364    \n",
      "delta_exc.l11        -1.0044558  1.4870807  -0.675 0.500212    \n",
      "delta_unemp.l11      -0.4242999  0.1573215  -2.697 0.007629 ** \n",
      "delta_bond.l11       -0.0005927  0.0027207  -0.218 0.827787    \n",
      "delta_fcpi.l11       -0.0021034  0.0069691  -0.302 0.763119    \n",
      "lfs_micro.l11        -0.0001137  0.0021466  -0.053 0.957804    \n",
      "Approximate_Rate.l11  0.2001464  0.2706631   0.739 0.460541    \n",
      "delta_cpi.l12        -0.1047273  0.0702035  -1.492 0.137427    \n",
      "delta_exc.l12         0.5633325  1.4788357   0.381 0.703683    \n",
      "delta_unemp.l12       0.2356647  0.0911559   2.585 0.010483 *  \n",
      "delta_bond.l12        0.0004537  0.0026292   0.173 0.863171    \n",
      "delta_fcpi.l12       -0.0280444  0.0061466  -4.563 9.07e-06 ***\n",
      "lfs_micro.l12         0.0005295  0.0020835   0.254 0.799679    \n",
      "Approximate_Rate.l12  0.0340094  0.2139669   0.159 0.873880    \n",
      "const                -0.2263402  0.3080047  -0.735 0.463336    \n",
      "---\n",
      "Signif. codes:  0 '***' 0.001 '**' 0.01 '*' 0.05 '.' 0.1 ' ' 1\n",
      "\n",
      "Residual standard error: 0.3808 on 189 degrees of freedom\n",
      "Multiple R-squared:  0.9507,\tAdjusted R-squared:  0.9288 \n",
      "F-statistic: 43.42 on 84 and 189 DF,  p-value: < 2.2e-16\n",
      "\n",
      "\n",
      "Call:\n",
      "lm(formula = y ~ -1 + ., data = datamat)\n",
      "\n",
      "Residuals:\n",
      "     Min       1Q   Median       3Q      Max \n",
      "-0.95026 -0.20869  0.00783  0.20407  0.92511 \n",
      "\n",
      "Coefficients:\n",
      "                       Estimate Std. Error t value Pr(>|t|)    \n",
      "delta_cpi.l1          0.8569994  0.0773342  11.082  < 2e-16 ***\n",
      "delta_exc.l1          2.7976932  1.4780470   1.893  0.05991 .  \n",
      "delta_gdp.l1         -0.0336654  0.0407987  -0.825  0.41032    \n",
      "delta_bond.l1         0.0055569  0.0026250   2.117  0.03558 *  \n",
      "delta_fcpi.l1         0.0239314  0.0071697   3.338  0.00102 ** \n",
      "lfs_micro.l1         -0.0007219  0.0021362  -0.338  0.73578    \n",
      "Approximate_Rate.l1  -0.0538380  0.2311217  -0.233  0.81606    \n",
      "delta_cpi.l2         -0.0559390  0.1001013  -0.559  0.57694    \n",
      "delta_exc.l2          0.7158952  1.5431671   0.464  0.64324    \n",
      "delta_gdp.l2          0.0327991  0.0449104   0.730  0.46610    \n",
      "delta_bond.l2         0.0020011  0.0029052   0.689  0.49179    \n",
      "delta_fcpi.l2         0.0017919  0.0073530   0.244  0.80773    \n",
      "lfs_micro.l2         -0.0007710  0.0021742  -0.355  0.72329    \n",
      "Approximate_Rate.l2   0.1400142  0.2812948   0.498  0.61924    \n",
      "delta_cpi.l3          0.0367200  0.0978883   0.375  0.70799    \n",
      "delta_exc.l3          2.0915120  1.5341167   1.363  0.17440    \n",
      "delta_gdp.l3          0.0162602  0.0478246   0.340  0.73424    \n",
      "delta_bond.l3        -0.0035782  0.0029956  -1.195  0.23378    \n",
      "delta_fcpi.l3         0.0184124  0.0072936   2.524  0.01241 *  \n",
      "lfs_micro.l3         -0.0014790  0.0021770  -0.679  0.49771    \n",
      "Approximate_Rate.l3  -0.3266154  0.2833280  -1.153  0.25046    \n",
      "delta_cpi.l4          0.0470899  0.0984602   0.478  0.63302    \n",
      "delta_exc.l4          3.1737867  1.5420395   2.058  0.04095 *  \n",
      "delta_gdp.l4          0.0374535  0.0493627   0.759  0.44895    \n",
      "delta_bond.l4        -0.0011948  0.0029713  -0.402  0.68806    \n",
      "delta_fcpi.l4         0.0168658  0.0072466   2.327  0.02100 *  \n",
      "lfs_micro.l4          0.0034253  0.0021450   1.597  0.11195    \n",
      "Approximate_Rate.l4   0.4492497  0.2830369   1.587  0.11413    \n",
      "delta_cpi.l5          0.0681196  0.0988122   0.689  0.49143    \n",
      "delta_exc.l5          2.3759247  1.5696886   1.514  0.13179    \n",
      "delta_gdp.l5          0.0517671  0.0503474   1.028  0.30517    \n",
      "delta_bond.l5         0.0018313  0.0029653   0.618  0.53760    \n",
      "delta_fcpi.l5         0.0064566  0.0073128   0.883  0.37840    \n",
      "lfs_micro.l5          0.0043281  0.0021452   2.018  0.04505 *  \n",
      "Approximate_Rate.l5  -0.3631140  0.2853075  -1.273  0.20468    \n",
      "delta_cpi.l6         -0.0660539  0.1003424  -0.658  0.51116    \n",
      "delta_exc.l6         -0.7311315  1.5622139  -0.468  0.64032    \n",
      "delta_gdp.l6         -0.0409525  0.0501408  -0.817  0.41510    \n",
      "delta_bond.l6         0.0020193  0.0029845   0.677  0.49950    \n",
      "delta_fcpi.l6         0.0040759  0.0073264   0.556  0.57864    \n",
      "lfs_micro.l6          0.0037981  0.0021607   1.758  0.08040 .  \n",
      "Approximate_Rate.l6   0.2579127  0.2863059   0.901  0.36883    \n",
      "delta_cpi.l7          0.0571310  0.1002253   0.570  0.56934    \n",
      "delta_exc.l7          0.6853590  1.5398597   0.445  0.65677    \n",
      "delta_gdp.l7          0.0545914  0.0489852   1.114  0.26650    \n",
      "delta_bond.l7         0.0055472  0.0029644   1.871  0.06285 .  \n",
      "delta_fcpi.l7         0.0071460  0.0073691   0.970  0.33342    \n",
      "lfs_micro.l7         -0.0021968  0.0021727  -1.011  0.31326    \n",
      "Approximate_Rate.l7   0.0074342  0.2869147   0.026  0.97936    \n",
      "delta_cpi.l8         -0.0337419  0.1000163  -0.337  0.73622    \n",
      "delta_exc.l8          1.1351135  1.5505551   0.732  0.46503    \n",
      "delta_gdp.l8         -0.0081054  0.0481327  -0.168  0.86645    \n",
      "delta_bond.l8        -0.0003203  0.0029839  -0.107  0.91462    \n",
      "delta_fcpi.l8         0.0081165  0.0074620   1.088  0.27811    \n",
      "lfs_micro.l8         -0.0030121  0.0021491  -1.402  0.16268    \n",
      "Approximate_Rate.l8  -0.0298053  0.2893070  -0.103  0.91805    \n",
      "delta_cpi.l9         -0.0090740  0.0979721  -0.093  0.92631    \n",
      "delta_exc.l9         -0.5956946  1.5702237  -0.379  0.70484    \n",
      "delta_gdp.l9          0.0371572  0.0482946   0.769  0.44262    \n",
      "delta_bond.l9         0.0007855  0.0028943   0.271  0.78639    \n",
      "delta_fcpi.l9         0.0052159  0.0074272   0.702  0.48338    \n",
      "lfs_micro.l9         -0.0001039  0.0022049  -0.047  0.96248    \n",
      "Approximate_Rate.l9   0.1433051  0.2936201   0.488  0.62607    \n",
      "delta_cpi.l10         0.1080820  0.0981257   1.101  0.27210    \n",
      "delta_exc.l10         3.0929023  1.5248352   2.028  0.04393 *  \n",
      "delta_gdp.l10        -0.0265407  0.0464474  -0.571  0.56840    \n",
      "delta_bond.l10        0.0014317  0.0028239   0.507  0.61275    \n",
      "delta_fcpi.l10        0.0171209  0.0073878   2.317  0.02155 *  \n",
      "lfs_micro.l10        -0.0007502  0.0022231  -0.337  0.73616    \n",
      "Approximate_Rate.l10 -0.3939464  0.2964594  -1.329  0.18550    \n",
      "delta_cpi.l11         0.0447370  0.0990111   0.452  0.65190    \n",
      "delta_exc.l11        -0.5615995  1.5244747  -0.368  0.71300    \n",
      "delta_gdp.l11         0.0342307  0.0439609   0.779  0.43715    \n",
      "delta_bond.l11       -0.0007753  0.0027840  -0.278  0.78094    \n",
      "delta_fcpi.l11       -0.0018789  0.0073761  -0.255  0.79921    \n",
      "lfs_micro.l11        -0.0005533  0.0021767  -0.254  0.79963    \n",
      "Approximate_Rate.l11  0.0538535  0.2937631   0.183  0.85474    \n",
      "delta_cpi.l12        -0.1510953  0.0692029  -2.183  0.03024 *  \n",
      "delta_exc.l12         0.1706670  1.5202955   0.112  0.91074    \n",
      "delta_gdp.l12         0.0409121  0.0358322   1.142  0.25499    \n",
      "delta_bond.l12        0.0006252  0.0026688   0.234  0.81504    \n",
      "delta_fcpi.l12       -0.0301747  0.0067370  -4.479  1.3e-05 ***\n",
      "lfs_micro.l12         0.0007071  0.0021308   0.332  0.74038    \n",
      "Approximate_Rate.l12  0.1426830  0.2347536   0.608  0.54405    \n",
      "const                 0.1148176  0.1351040   0.850  0.39649    \n",
      "---\n",
      "Signif. codes:  0 '***' 0.001 '**' 0.01 '*' 0.05 '.' 0.1 ' ' 1\n",
      "\n",
      "Residual standard error: 0.3899 on 189 degrees of freedom\n",
      "Multiple R-squared:  0.9483,\tAdjusted R-squared:  0.9254 \n",
      "F-statistic: 41.31 on 84 and 189 DF,  p-value: < 2.2e-16\n",
      "\n"
     ]
    }
   ],
   "source": [
    "\n",
    "var_model_cpi <- VAR(var_data_cpi, p = 12, type = \"const\")\n",
    "\n",
    "summary_cpi <- summary(var_model_cpi)\n",
    "\n",
    "print(summary_cpi$varresult$delta_cpi)\n",
    "\n",
    "\n",
    "\n",
    "var_model_gdp <- VAR(var_data_gdp, p = 12, type = \"const\")\n",
    "\n",
    "summary_gdp <- summary(var_model_gdp)\n",
    "\n",
    "print(summary_gdp$varresult$delta_cpi)"
   ]
  },
  {
   "cell_type": "code",
   "execution_count": null,
   "id": "a7ff8b37",
   "metadata": {
    "vscode": {
     "languageId": "r"
    }
   },
   "outputs": [
    {
     "name": "stdout",
     "output_type": "stream",
     "text": [
      "       delta_cpi        delta_exc      delta_unemp       delta_bond \n",
      "     2.890835298     -0.004565355      6.733848320     -8.302954886 \n",
      "      delta_fcpi        lfs_micro Approximate_Rate \n",
      "     2.009255987     -4.716816285     -8.229431999 \n"
     ]
    }
   ],
   "source": [
    "# 1. Use the predict() function to forecast 1 step (month) ahead\n",
    "# The object var_model_12 already contains all the necessary data.\n",
    "forecast_result <- predict(var_model_12, n.ahead = 1)\n",
    "\n",
    "# 2. Extract the forecast for your specific variable ('delta_cpi')\n",
    "#\n",
    "\n",
    "# 2. Apply a function to each element of the forecast list to extract the 'fcst' column\n",
    "point_forecasts <- sapply(forecast_result$fcst, function(x) x[, \"fcst\"])\n",
    "\n",
    "# 3. Print the result\n",
    "print(point_forecasts)"
   ]
  },
  {
   "cell_type": "code",
   "execution_count": null,
   "id": "87259a8c",
   "metadata": {
    "vscode": {
     "languageId": "r"
    }
   },
   "outputs": [
    {
     "ename": "ERROR",
     "evalue": "Error: object 'final_monthly_df' not found\n",
     "output_type": "error",
     "traceback": [
      "Error: object 'final_monthly_df' not found\nTraceback:\n",
      "1. is.data.frame(data)",
      "2. dplyr::select(final_monthly_df, all_of(svar_order))",
      "3. .handleSimpleError(function (cnd) \n . {\n .     watcher$capture_plot_and_output()\n .     cnd <- sanitize_call(cnd)\n .     watcher$push(cnd)\n .     switch(on_error, continue = invokeRestart(\"eval_continue\"), \n .         stop = invokeRestart(\"eval_stop\"), error = NULL)\n . }, \"object 'final_monthly_df' not found\", base::quote(eval(expr, \n .     envir)))"
     ]
    }
   ],
   "source": [
    "svar_order <- c(\"Approximate_Rate\", # 2. Slow-Moving Real Variables (React with a lag)\n",
    "  \"delta_gdp\",\n",
    "  \"delta_unemp\",\n",
    "  \"lfs_micro\", # Assuming this is another real labor force variable\n",
    "  \n",
    "  # 3. Faster-Moving Price Variables \n",
    "  \"delta_cpi\",\n",
    "  \"delta_fcpi\",\n",
    "  \n",
    "  # 4. Very Fast-Moving Financial Variables (React instantly to news)\n",
    "  \"delta_exc\", # Exchange Rate\n",
    "  \"delta_bond\", # Breakeven Inflation\n",
    "  \n",
    "  # 5. Policy Response (The reaction)\n",
    "  \"policy_rate\" \n",
    ")\n",
    "\n",
    "# 2. Re-order your dataframe and create the time series object\n",
    "svar_data <- final_monthly_df |>\n",
    "  dplyr::select(all_of(svar_order)) |>\n",
    "  ts(start = c(2001, 1), frequency = 12)\n",
    "\n",
    "# 3. Re-estimate the VAR model with the ordered data\n",
    "# The Cholesky decomposition is now implicitly defined by your column order\n",
    "var_model_svar <- VAR(svar_data, p = 12, type = \"const\")"
   ]
  },
  {
   "cell_type": "code",
   "execution_count": null,
   "id": "f4e4d1e7",
   "metadata": {
    "vscode": {
     "languageId": "r"
    }
   },
   "outputs": [
    {
     "data": {
      "image/png": "[encoded data removed]",
      "text/plain": [
       "plot without title"
      ]
     },
     "metadata": {
      "image/png": {
       "height": 420,
       "width": 420
      }
     },
     "output_type": "display_data"
    }
   ],
   "source": [
    "# Generate the IRFs for a shock to the first variable in our order ('delta_trade_unc')\n",
    "svar_irf <- irf(\n",
    "  var_model_svar,\n",
    "  impulse = \"Approximate_Rate\",  # The source of the shock\n",
    "  response = c(\"delta_cpi\", \"delta_gdp\", \"delta_unemp\"), # The variables that respond\n",
    "  n.ahead = 36,                 # How many months ahead to forecast\n",
    "  boot = TRUE,                  # Generate bootstrap confidence intervals\n",
    "  ci = 0.95                     # 95% confidence interval\n",
    ")\n",
    "\n",
    "# Plot the results\n",
    "plot(svar_irf)"
   ]
  },
  {
   "cell_type": "code",
   "execution_count": null,
   "id": "e785769e",
   "metadata": {
    "vscode": {
     "languageId": "r"
    }
   },
   "outputs": [
    {
     "data": {
      "image/png": "[encoded data removed]",
      "text/plain": [
       "plot without title"
      ]
     },
     "metadata": {
      "image/png": {
       "height": 420,
       "width": 420
      }
     },
     "output_type": "display_data"
    }
   ],
   "source": [
    "\n",
    "\n",
    "df_list <- lapply(1:length(svar_irf$response), function(i) {\n",
    "  data.frame(\n",
    "    period      = 0:(nrow(svar_irf$irf$Approximate_Rate) - 1),\n",
    "    response    = svar_irf$response[i],\n",
    "    impulse     = svar_irf$impulse,\n",
    "    irf_value   = svar_irf$irf$Approximate_Rate[, i],\n",
    "    lower_ci    = svar_irf$Lower$Approximate_Rate[, i],\n",
    "    upper_ci    = svar_irf$Upper$Approximate_Rate[, i]\n",
    "  )\n",
    "})\n",
    "\n",
    "# Combine the list into a single, tidy data frame\n",
    "plot_df <- do.call(rbind, df_list)\n",
    "\n",
    "# You can inspect the result\n",
    "# print(head(plot_df))\n",
    "#\n",
    "# It should look something like this:\n",
    "#\n",
    "#   period   response      impulse    irf_value    lower_ci    upper_ci\n",
    "# 1      0 unemp_rate  Approximate_Rate   0.09540000  0.01481000   0.1940000\n",
    "# 2      1 unemp_rate  Approximate_Rate   0.10280000 -0.02502000   0.2500000\n",
    "# 3      2 unemp_rate  Approximate_Rate   0.10510000 -0.02093000   0.2150000\n",
    "# ...\n",
    "\n",
    "\n",
    "#\n",
    "# --- Step 2: Create the plot with ggplot2 ---\n",
    "#\n",
    "# The plot object is assigned to a variable 'p'\n",
    "p <- ggplot(plot_df, aes(x = period)) +\n",
    "\n",
    "  # 1. Add the zero-line for reference\n",
    "  geom_hline(yintercept = 0, linetype = \"dashed\", color = \"grey40\") +\n",
    "\n",
    "  # 2. Add the shaded confidence interval ribbon\n",
    "  geom_ribbon(aes(ymin = lower_ci, ymax = upper_ci),\n",
    "              fill = \"#0072B2\",\n",
    "              alpha = 0.1, # Makes the ribbon transparent\n",
    "              na.rm = TRUE) +\n",
    "\n",
    "  # 3. Plot the main impulse response line\n",
    "  geom_line(aes(y = irf_value), color = \"#0072B2\", size = 0.5, na.rm = TRUE) +\n",
    "\n",
    "  # 4. Create separate plots for each response, stacked vertically\n",
    "  facet_wrap(~response, scales = \"free_y\", ncol = 1) +\n",
    "\n",
    "  # 5. Apply labels, title, and subtitle\n",
    "  labs(\n",
    "    title = \"SVAR Impulse Response to a One S.D. Tariff Rate Shock\",\n",
    "    subtitle = \"Responses with 95% Confidence Interval\",\n",
    "    x = \"Months After Shock\",\n",
    "    y = \"Standard Deviation\",\n",
    "    caption = \"Source: Bank of Canada, StatCan, FRED\"\n",
    "  ) +\n",
    "\n",
    "  # 6. Apply a clean theme and customize it\n",
    "  theme_minimal(base_size = 14) +\n",
    "  theme(\n",
    "    plot.title = element_text(face = \"bold\", size = 18),\n",
    "    plot.subtitle = element_text(size = 12, margin = margin(b = 20)),\n",
    "    plot.caption = element_text(face = \"italic\"),\n",
    "    strip.text = element_text(face = \"bold\", size = 12),\n",
    "    panel.grid.minor = element_blank(),\n",
    "    panel.grid.major.x = element_blank(),\n",
    "    axis.line.x = element_line(color = \"grey80\"),\n",
    "    axis.ticks.x = element_line(color = \"grey80\")\n",
    "  )\n",
    "# You can now print the plot to see the result in your R session\n",
    "print(p)\n"
   ]
  },
  {
   "cell_type": "code",
   "execution_count": null,
   "id": "9697a75a",
   "metadata": {
    "vscode": {
     "languageId": "r"
    }
   },
   "outputs": [],
   "source": [
    "ggsave(\n",
    "  \"irfs_parsimonious.png\", # The filename for the saved plot               # The plot object to save\n",
    "  width = 15,              # Width in inches\n",
    "  height = 10,              # Height in inches\n",
    "  dpi = 300                # Dots per inch (resolution)\n",
    ")"
   ]
  },
  {
   "cell_type": "code",
   "execution_count": null,
   "id": "b92cb945",
   "metadata": {
    "vscode": {
     "languageId": "r"
    }
   },
   "outputs": [
    {
     "data": {
      "image/png": "[encoded data removed]",
      "text/plain": [
       "Plot with title \"Forecast of series Approximate_Rate\""
      ]
     },
     "metadata": {
      "image/png": {
       "height": 420,
       "width": 420
      }
     },
     "output_type": "display_data"
    },
    {
     "data": {
      "image/png": "[encoded data removed]",
      "text/plain": [
       "Plot with title \"Forecast of series Approximate_Rate\""
      ]
     },
     "metadata": {
      "image/png": {
       "height": 420,
       "width": 420
      }
     },
     "output_type": "display_data"
    }
   ],
   "source": [
    "\n",
    "forecast_results_cpi <- predict(var_model_cpi, n.ahead = 18, ci = 0.90)\n",
    "\n",
    "plot(forecast_results_cpi)\n",
    "\n",
    "\n",
    "forecast_results_gdp <- predict(var_model_gdp, n.ahead = 18, ci = 0.90)\n",
    "\n",
    "plot(forecast_results_gdp)"
   ]
  },
  {
   "cell_type": "code",
   "execution_count": null,
   "id": "59947ac3",
   "metadata": {
    "vscode": {
     "languageId": "r"
    }
   },
   "outputs": [],
   "source": [
    "library(ggfortify)\n",
    "library(dplyr)\n",
    "library(ggplot2)\n",
    "library(lubridate)"
   ]
  },
  {
   "cell_type": "code",
   "execution_count": null,
   "id": "8fc19393",
   "metadata": {
    "vscode": {
     "languageId": "r"
    }
   },
   "outputs": [
    {
     "name": "stdout",
     "output_type": "stream",
     "text": [
      "Rows: 304\n",
      "Columns: 36\n",
      "$ Index                  \u001b[3m\u001b[90m<date>\u001b[39m\u001b[23m 2001-01-01\u001b[90m, \u001b[39m2001-02-01\u001b[90m, \u001b[39m2001-03-01\u001b[90m, \u001b[39m2001-04-01…\n",
      "$ delta_cpi              \u001b[3m\u001b[90m<dbl>\u001b[39m\u001b[23m 2.8213166\u001b[90m, \u001b[39m2.6014568\u001b[90m, \u001b[39m1.8691589\u001b[90m, \u001b[39m0.6211180\u001b[90m, \u001b[39m0.7…\n",
      "$ delta_exc              \u001b[3m\u001b[90m<dbl>\u001b[39m\u001b[23m 0.009066046\u001b[90m, \u001b[39m0.028082367\u001b[90m, \u001b[39m0.003738384\u001b[90m, \u001b[39m0.020567…\n",
      "$ delta_unemp            \u001b[3m\u001b[90m<dbl>\u001b[39m\u001b[23m 7.2\u001b[90m, \u001b[39m7.2\u001b[90m, \u001b[39m7.3\u001b[90m, \u001b[39m7.5\u001b[90m, \u001b[39m8.1\u001b[90m, \u001b[39m8.0\u001b[90m, \u001b[39m7.9\u001b[90m, \u001b[39m7.9\u001b[90m, \u001b[39m7.7\u001b[90m, \u001b[39m7.…\n",
      "$ delta_bond             \u001b[3m\u001b[90m<dbl>\u001b[39m\u001b[23m -2.231436e+01\u001b[90m, \u001b[39m-2.409755e+00\u001b[90m, \u001b[39m-2.635845e+01\u001b[90m, \u001b[39m2.…\n",
      "$ delta_fcpi             \u001b[3m\u001b[90m<dbl>\u001b[39m\u001b[23m 0.1768973\u001b[90m, \u001b[39m-10.1871069\u001b[90m, \u001b[39m-5.1808413\u001b[90m, \u001b[39m-3.8660277\u001b[90m,\u001b[39m…\n",
      "$ lfs_micro              \u001b[3m\u001b[90m<dbl>\u001b[39m\u001b[23m -6.252036\u001b[90m, \u001b[39m-3.278982\u001b[90m, \u001b[39m0.000000\u001b[90m, \u001b[39m6.453852\u001b[90m, \u001b[39m6.062…\n",
      "$ Approximate_Rate       \u001b[3m\u001b[90m<dbl>\u001b[39m\u001b[23m 1.491150\u001b[90m, \u001b[39m1.488209\u001b[90m, \u001b[39m1.514474\u001b[90m, \u001b[39m1.487655\u001b[90m, \u001b[39m1.49729…\n",
      "$ delta_cpi.fcst         \u001b[3m\u001b[90m<dbl>\u001b[39m\u001b[23m \u001b[31mNA\u001b[39m\u001b[90m, \u001b[39m\u001b[31mNA\u001b[39m\u001b[90m, \u001b[39m\u001b[31mNA\u001b[39m\u001b[90m, \u001b[39m\u001b[31mNA\u001b[39m\u001b[90m, \u001b[39m\u001b[31mNA\u001b[39m\u001b[90m, \u001b[39m\u001b[31mNA\u001b[39m\u001b[90m, \u001b[39m\u001b[31mNA\u001b[39m\u001b[90m, \u001b[39m\u001b[31mNA\u001b[39m\u001b[90m, \u001b[39m\u001b[31mNA\u001b[39m\u001b[90m, \u001b[39m\u001b[31mNA\u001b[39m\u001b[90m, \u001b[39m\u001b[31mNA\u001b[39m\u001b[90m, \u001b[39m\u001b[31mNA\u001b[39m\u001b[90m,\u001b[39m…\n",
      "$ delta_cpi.lower        \u001b[3m\u001b[90m<dbl>\u001b[39m\u001b[23m \u001b[31mNA\u001b[39m\u001b[90m, \u001b[39m\u001b[31mNA\u001b[39m\u001b[90m, \u001b[39m\u001b[31mNA\u001b[39m\u001b[90m, \u001b[39m\u001b[31mNA\u001b[39m\u001b[90m, \u001b[39m\u001b[31mNA\u001b[39m\u001b[90m, \u001b[39m\u001b[31mNA\u001b[39m\u001b[90m, \u001b[39m\u001b[31mNA\u001b[39m\u001b[90m, \u001b[39m\u001b[31mNA\u001b[39m\u001b[90m, \u001b[39m\u001b[31mNA\u001b[39m\u001b[90m, \u001b[39m\u001b[31mNA\u001b[39m\u001b[90m, \u001b[39m\u001b[31mNA\u001b[39m\u001b[90m, \u001b[39m\u001b[31mNA\u001b[39m\u001b[90m,\u001b[39m…\n",
      "$ delta_cpi.upper        \u001b[3m\u001b[90m<dbl>\u001b[39m\u001b[23m \u001b[31mNA\u001b[39m\u001b[90m, \u001b[39m\u001b[31mNA\u001b[39m\u001b[90m, \u001b[39m\u001b[31mNA\u001b[39m\u001b[90m, \u001b[39m\u001b[31mNA\u001b[39m\u001b[90m, \u001b[39m\u001b[31mNA\u001b[39m\u001b[90m, \u001b[39m\u001b[31mNA\u001b[39m\u001b[90m, \u001b[39m\u001b[31mNA\u001b[39m\u001b[90m, \u001b[39m\u001b[31mNA\u001b[39m\u001b[90m, \u001b[39m\u001b[31mNA\u001b[39m\u001b[90m, \u001b[39m\u001b[31mNA\u001b[39m\u001b[90m, \u001b[39m\u001b[31mNA\u001b[39m\u001b[90m, \u001b[39m\u001b[31mNA\u001b[39m\u001b[90m,\u001b[39m…\n",
      "$ delta_cpi.CI           \u001b[3m\u001b[90m<dbl>\u001b[39m\u001b[23m \u001b[31mNA\u001b[39m\u001b[90m, \u001b[39m\u001b[31mNA\u001b[39m\u001b[90m, \u001b[39m\u001b[31mNA\u001b[39m\u001b[90m, \u001b[39m\u001b[31mNA\u001b[39m\u001b[90m, \u001b[39m\u001b[31mNA\u001b[39m\u001b[90m, \u001b[39m\u001b[31mNA\u001b[39m\u001b[90m, \u001b[39m\u001b[31mNA\u001b[39m\u001b[90m, \u001b[39m\u001b[31mNA\u001b[39m\u001b[90m, \u001b[39m\u001b[31mNA\u001b[39m\u001b[90m, \u001b[39m\u001b[31mNA\u001b[39m\u001b[90m, \u001b[39m\u001b[31mNA\u001b[39m\u001b[90m, \u001b[39m\u001b[31mNA\u001b[39m\u001b[90m,\u001b[39m…\n",
      "$ delta_exc.fcst         \u001b[3m\u001b[90m<dbl>\u001b[39m\u001b[23m \u001b[31mNA\u001b[39m\u001b[90m, \u001b[39m\u001b[31mNA\u001b[39m\u001b[90m, \u001b[39m\u001b[31mNA\u001b[39m\u001b[90m, \u001b[39m\u001b[31mNA\u001b[39m\u001b[90m, \u001b[39m\u001b[31mNA\u001b[39m\u001b[90m, \u001b[39m\u001b[31mNA\u001b[39m\u001b[90m, \u001b[39m\u001b[31mNA\u001b[39m\u001b[90m, \u001b[39m\u001b[31mNA\u001b[39m\u001b[90m, \u001b[39m\u001b[31mNA\u001b[39m\u001b[90m, \u001b[39m\u001b[31mNA\u001b[39m\u001b[90m, \u001b[39m\u001b[31mNA\u001b[39m\u001b[90m, \u001b[39m\u001b[31mNA\u001b[39m\u001b[90m,\u001b[39m…\n",
      "$ delta_exc.lower        \u001b[3m\u001b[90m<dbl>\u001b[39m\u001b[23m \u001b[31mNA\u001b[39m\u001b[90m, \u001b[39m\u001b[31mNA\u001b[39m\u001b[90m, \u001b[39m\u001b[31mNA\u001b[39m\u001b[90m, \u001b[39m\u001b[31mNA\u001b[39m\u001b[90m, \u001b[39m\u001b[31mNA\u001b[39m\u001b[90m, \u001b[39m\u001b[31mNA\u001b[39m\u001b[90m, \u001b[39m\u001b[31mNA\u001b[39m\u001b[90m, \u001b[39m\u001b[31mNA\u001b[39m\u001b[90m, \u001b[39m\u001b[31mNA\u001b[39m\u001b[90m, \u001b[39m\u001b[31mNA\u001b[39m\u001b[90m, \u001b[39m\u001b[31mNA\u001b[39m\u001b[90m, \u001b[39m\u001b[31mNA\u001b[39m\u001b[90m,\u001b[39m…\n",
      "$ delta_exc.upper        \u001b[3m\u001b[90m<dbl>\u001b[39m\u001b[23m \u001b[31mNA\u001b[39m\u001b[90m, \u001b[39m\u001b[31mNA\u001b[39m\u001b[90m, \u001b[39m\u001b[31mNA\u001b[39m\u001b[90m, \u001b[39m\u001b[31mNA\u001b[39m\u001b[90m, \u001b[39m\u001b[31mNA\u001b[39m\u001b[90m, \u001b[39m\u001b[31mNA\u001b[39m\u001b[90m, \u001b[39m\u001b[31mNA\u001b[39m\u001b[90m, \u001b[39m\u001b[31mNA\u001b[39m\u001b[90m, \u001b[39m\u001b[31mNA\u001b[39m\u001b[90m, \u001b[39m\u001b[31mNA\u001b[39m\u001b[90m, \u001b[39m\u001b[31mNA\u001b[39m\u001b[90m, \u001b[39m\u001b[31mNA\u001b[39m\u001b[90m,\u001b[39m…\n",
      "$ delta_exc.CI           \u001b[3m\u001b[90m<dbl>\u001b[39m\u001b[23m \u001b[31mNA\u001b[39m\u001b[90m, \u001b[39m\u001b[31mNA\u001b[39m\u001b[90m, \u001b[39m\u001b[31mNA\u001b[39m\u001b[90m, \u001b[39m\u001b[31mNA\u001b[39m\u001b[90m, \u001b[39m\u001b[31mNA\u001b[39m\u001b[90m, \u001b[39m\u001b[31mNA\u001b[39m\u001b[90m, \u001b[39m\u001b[31mNA\u001b[39m\u001b[90m, \u001b[39m\u001b[31mNA\u001b[39m\u001b[90m, \u001b[39m\u001b[31mNA\u001b[39m\u001b[90m, \u001b[39m\u001b[31mNA\u001b[39m\u001b[90m, \u001b[39m\u001b[31mNA\u001b[39m\u001b[90m, \u001b[39m\u001b[31mNA\u001b[39m\u001b[90m,\u001b[39m…\n",
      "$ delta_unemp.fcst       \u001b[3m\u001b[90m<dbl>\u001b[39m\u001b[23m \u001b[31mNA\u001b[39m\u001b[90m, \u001b[39m\u001b[31mNA\u001b[39m\u001b[90m, \u001b[39m\u001b[31mNA\u001b[39m\u001b[90m, \u001b[39m\u001b[31mNA\u001b[39m\u001b[90m, \u001b[39m\u001b[31mNA\u001b[39m\u001b[90m, \u001b[39m\u001b[31mNA\u001b[39m\u001b[90m, \u001b[39m\u001b[31mNA\u001b[39m\u001b[90m, \u001b[39m\u001b[31mNA\u001b[39m\u001b[90m, \u001b[39m\u001b[31mNA\u001b[39m\u001b[90m, \u001b[39m\u001b[31mNA\u001b[39m\u001b[90m, \u001b[39m\u001b[31mNA\u001b[39m\u001b[90m, \u001b[39m\u001b[31mNA\u001b[39m\u001b[90m,\u001b[39m…\n",
      "$ delta_unemp.lower      \u001b[3m\u001b[90m<dbl>\u001b[39m\u001b[23m \u001b[31mNA\u001b[39m\u001b[90m, \u001b[39m\u001b[31mNA\u001b[39m\u001b[90m, \u001b[39m\u001b[31mNA\u001b[39m\u001b[90m, \u001b[39m\u001b[31mNA\u001b[39m\u001b[90m, \u001b[39m\u001b[31mNA\u001b[39m\u001b[90m, \u001b[39m\u001b[31mNA\u001b[39m\u001b[90m, \u001b[39m\u001b[31mNA\u001b[39m\u001b[90m, \u001b[39m\u001b[31mNA\u001b[39m\u001b[90m, \u001b[39m\u001b[31mNA\u001b[39m\u001b[90m, \u001b[39m\u001b[31mNA\u001b[39m\u001b[90m, \u001b[39m\u001b[31mNA\u001b[39m\u001b[90m, \u001b[39m\u001b[31mNA\u001b[39m\u001b[90m,\u001b[39m…\n",
      "$ delta_unemp.upper      \u001b[3m\u001b[90m<dbl>\u001b[39m\u001b[23m \u001b[31mNA\u001b[39m\u001b[90m, \u001b[39m\u001b[31mNA\u001b[39m\u001b[90m, \u001b[39m\u001b[31mNA\u001b[39m\u001b[90m, \u001b[39m\u001b[31mNA\u001b[39m\u001b[90m, \u001b[39m\u001b[31mNA\u001b[39m\u001b[90m, \u001b[39m\u001b[31mNA\u001b[39m\u001b[90m, \u001b[39m\u001b[31mNA\u001b[39m\u001b[90m, \u001b[39m\u001b[31mNA\u001b[39m\u001b[90m, \u001b[39m\u001b[31mNA\u001b[39m\u001b[90m, \u001b[39m\u001b[31mNA\u001b[39m\u001b[90m, \u001b[39m\u001b[31mNA\u001b[39m\u001b[90m, \u001b[39m\u001b[31mNA\u001b[39m\u001b[90m,\u001b[39m…\n",
      "$ delta_unemp.CI         \u001b[3m\u001b[90m<dbl>\u001b[39m\u001b[23m \u001b[31mNA\u001b[39m\u001b[90m, \u001b[39m\u001b[31mNA\u001b[39m\u001b[90m, \u001b[39m\u001b[31mNA\u001b[39m\u001b[90m, \u001b[39m\u001b[31mNA\u001b[39m\u001b[90m, \u001b[39m\u001b[31mNA\u001b[39m\u001b[90m, \u001b[39m\u001b[31mNA\u001b[39m\u001b[90m, \u001b[39m\u001b[31mNA\u001b[39m\u001b[90m, \u001b[39m\u001b[31mNA\u001b[39m\u001b[90m, \u001b[39m\u001b[31mNA\u001b[39m\u001b[90m, \u001b[39m\u001b[31mNA\u001b[39m\u001b[90m, \u001b[39m\u001b[31mNA\u001b[39m\u001b[90m, \u001b[39m\u001b[31mNA\u001b[39m\u001b[90m,\u001b[39m…\n",
      "$ delta_bond.fcst        \u001b[3m\u001b[90m<dbl>\u001b[39m\u001b[23m \u001b[31mNA\u001b[39m\u001b[90m, \u001b[39m\u001b[31mNA\u001b[39m\u001b[90m, \u001b[39m\u001b[31mNA\u001b[39m\u001b[90m, \u001b[39m\u001b[31mNA\u001b[39m\u001b[90m, \u001b[39m\u001b[31mNA\u001b[39m\u001b[90m, \u001b[39m\u001b[31mNA\u001b[39m\u001b[90m, \u001b[39m\u001b[31mNA\u001b[39m\u001b[90m, \u001b[39m\u001b[31mNA\u001b[39m\u001b[90m, \u001b[39m\u001b[31mNA\u001b[39m\u001b[90m, \u001b[39m\u001b[31mNA\u001b[39m\u001b[90m, \u001b[39m\u001b[31mNA\u001b[39m\u001b[90m, \u001b[39m\u001b[31mNA\u001b[39m\u001b[90m,\u001b[39m…\n",
      "$ delta_bond.lower       \u001b[3m\u001b[90m<dbl>\u001b[39m\u001b[23m \u001b[31mNA\u001b[39m\u001b[90m, \u001b[39m\u001b[31mNA\u001b[39m\u001b[90m, \u001b[39m\u001b[31mNA\u001b[39m\u001b[90m, \u001b[39m\u001b[31mNA\u001b[39m\u001b[90m, \u001b[39m\u001b[31mNA\u001b[39m\u001b[90m, \u001b[39m\u001b[31mNA\u001b[39m\u001b[90m, \u001b[39m\u001b[31mNA\u001b[39m\u001b[90m, \u001b[39m\u001b[31mNA\u001b[39m\u001b[90m, \u001b[39m\u001b[31mNA\u001b[39m\u001b[90m, \u001b[39m\u001b[31mNA\u001b[39m\u001b[90m, \u001b[39m\u001b[31mNA\u001b[39m\u001b[90m, \u001b[39m\u001b[31mNA\u001b[39m\u001b[90m,\u001b[39m…\n",
      "$ delta_bond.upper       \u001b[3m\u001b[90m<dbl>\u001b[39m\u001b[23m \u001b[31mNA\u001b[39m\u001b[90m, \u001b[39m\u001b[31mNA\u001b[39m\u001b[90m, \u001b[39m\u001b[31mNA\u001b[39m\u001b[90m, \u001b[39m\u001b[31mNA\u001b[39m\u001b[90m, \u001b[39m\u001b[31mNA\u001b[39m\u001b[90m, \u001b[39m\u001b[31mNA\u001b[39m\u001b[90m, \u001b[39m\u001b[31mNA\u001b[39m\u001b[90m, \u001b[39m\u001b[31mNA\u001b[39m\u001b[90m, \u001b[39m\u001b[31mNA\u001b[39m\u001b[90m, \u001b[39m\u001b[31mNA\u001b[39m\u001b[90m, \u001b[39m\u001b[31mNA\u001b[39m\u001b[90m, \u001b[39m\u001b[31mNA\u001b[39m\u001b[90m,\u001b[39m…\n",
      "$ delta_bond.CI          \u001b[3m\u001b[90m<dbl>\u001b[39m\u001b[23m \u001b[31mNA\u001b[39m\u001b[90m, \u001b[39m\u001b[31mNA\u001b[39m\u001b[90m, \u001b[39m\u001b[31mNA\u001b[39m\u001b[90m, \u001b[39m\u001b[31mNA\u001b[39m\u001b[90m, \u001b[39m\u001b[31mNA\u001b[39m\u001b[90m, \u001b[39m\u001b[31mNA\u001b[39m\u001b[90m, \u001b[39m\u001b[31mNA\u001b[39m\u001b[90m, \u001b[39m\u001b[31mNA\u001b[39m\u001b[90m, \u001b[39m\u001b[31mNA\u001b[39m\u001b[90m, \u001b[39m\u001b[31mNA\u001b[39m\u001b[90m, \u001b[39m\u001b[31mNA\u001b[39m\u001b[90m, \u001b[39m\u001b[31mNA\u001b[39m\u001b[90m,\u001b[39m…\n",
      "$ delta_fcpi.fcst        \u001b[3m\u001b[90m<dbl>\u001b[39m\u001b[23m \u001b[31mNA\u001b[39m\u001b[90m, \u001b[39m\u001b[31mNA\u001b[39m\u001b[90m, \u001b[39m\u001b[31mNA\u001b[39m\u001b[90m, \u001b[39m\u001b[31mNA\u001b[39m\u001b[90m, \u001b[39m\u001b[31mNA\u001b[39m\u001b[90m, \u001b[39m\u001b[31mNA\u001b[39m\u001b[90m, \u001b[39m\u001b[31mNA\u001b[39m\u001b[90m, \u001b[39m\u001b[31mNA\u001b[39m\u001b[90m, \u001b[39m\u001b[31mNA\u001b[39m\u001b[90m, \u001b[39m\u001b[31mNA\u001b[39m\u001b[90m, \u001b[39m\u001b[31mNA\u001b[39m\u001b[90m, \u001b[39m\u001b[31mNA\u001b[39m\u001b[90m,\u001b[39m…\n",
      "$ delta_fcpi.lower       \u001b[3m\u001b[90m<dbl>\u001b[39m\u001b[23m \u001b[31mNA\u001b[39m\u001b[90m, \u001b[39m\u001b[31mNA\u001b[39m\u001b[90m, \u001b[39m\u001b[31mNA\u001b[39m\u001b[90m, \u001b[39m\u001b[31mNA\u001b[39m\u001b[90m, \u001b[39m\u001b[31mNA\u001b[39m\u001b[90m, \u001b[39m\u001b[31mNA\u001b[39m\u001b[90m, \u001b[39m\u001b[31mNA\u001b[39m\u001b[90m, \u001b[39m\u001b[31mNA\u001b[39m\u001b[90m, \u001b[39m\u001b[31mNA\u001b[39m\u001b[90m, \u001b[39m\u001b[31mNA\u001b[39m\u001b[90m, \u001b[39m\u001b[31mNA\u001b[39m\u001b[90m, \u001b[39m\u001b[31mNA\u001b[39m\u001b[90m,\u001b[39m…\n",
      "$ delta_fcpi.upper       \u001b[3m\u001b[90m<dbl>\u001b[39m\u001b[23m \u001b[31mNA\u001b[39m\u001b[90m, \u001b[39m\u001b[31mNA\u001b[39m\u001b[90m, \u001b[39m\u001b[31mNA\u001b[39m\u001b[90m, \u001b[39m\u001b[31mNA\u001b[39m\u001b[90m, \u001b[39m\u001b[31mNA\u001b[39m\u001b[90m, \u001b[39m\u001b[31mNA\u001b[39m\u001b[90m, \u001b[39m\u001b[31mNA\u001b[39m\u001b[90m, \u001b[39m\u001b[31mNA\u001b[39m\u001b[90m, \u001b[39m\u001b[31mNA\u001b[39m\u001b[90m, \u001b[39m\u001b[31mNA\u001b[39m\u001b[90m, \u001b[39m\u001b[31mNA\u001b[39m\u001b[90m, \u001b[39m\u001b[31mNA\u001b[39m\u001b[90m,\u001b[39m…\n",
      "$ delta_fcpi.CI          \u001b[3m\u001b[90m<dbl>\u001b[39m\u001b[23m \u001b[31mNA\u001b[39m\u001b[90m, \u001b[39m\u001b[31mNA\u001b[39m\u001b[90m, \u001b[39m\u001b[31mNA\u001b[39m\u001b[90m, \u001b[39m\u001b[31mNA\u001b[39m\u001b[90m, \u001b[39m\u001b[31mNA\u001b[39m\u001b[90m, \u001b[39m\u001b[31mNA\u001b[39m\u001b[90m, \u001b[39m\u001b[31mNA\u001b[39m\u001b[90m, \u001b[39m\u001b[31mNA\u001b[39m\u001b[90m, \u001b[39m\u001b[31mNA\u001b[39m\u001b[90m, \u001b[39m\u001b[31mNA\u001b[39m\u001b[90m, \u001b[39m\u001b[31mNA\u001b[39m\u001b[90m, \u001b[39m\u001b[31mNA\u001b[39m\u001b[90m,\u001b[39m…\n",
      "$ lfs_micro.fcst         \u001b[3m\u001b[90m<dbl>\u001b[39m\u001b[23m \u001b[31mNA\u001b[39m\u001b[90m, \u001b[39m\u001b[31mNA\u001b[39m\u001b[90m, \u001b[39m\u001b[31mNA\u001b[39m\u001b[90m, \u001b[39m\u001b[31mNA\u001b[39m\u001b[90m, \u001b[39m\u001b[31mNA\u001b[39m\u001b[90m, \u001b[39m\u001b[31mNA\u001b[39m\u001b[90m, \u001b[39m\u001b[31mNA\u001b[39m\u001b[90m, \u001b[39m\u001b[31mNA\u001b[39m\u001b[90m, \u001b[39m\u001b[31mNA\u001b[39m\u001b[90m, \u001b[39m\u001b[31mNA\u001b[39m\u001b[90m, \u001b[39m\u001b[31mNA\u001b[39m\u001b[90m, \u001b[39m\u001b[31mNA\u001b[39m\u001b[90m,\u001b[39m…\n",
      "$ lfs_micro.lower        \u001b[3m\u001b[90m<dbl>\u001b[39m\u001b[23m \u001b[31mNA\u001b[39m\u001b[90m, \u001b[39m\u001b[31mNA\u001b[39m\u001b[90m, \u001b[39m\u001b[31mNA\u001b[39m\u001b[90m, \u001b[39m\u001b[31mNA\u001b[39m\u001b[90m, \u001b[39m\u001b[31mNA\u001b[39m\u001b[90m, \u001b[39m\u001b[31mNA\u001b[39m\u001b[90m, \u001b[39m\u001b[31mNA\u001b[39m\u001b[90m, \u001b[39m\u001b[31mNA\u001b[39m\u001b[90m, \u001b[39m\u001b[31mNA\u001b[39m\u001b[90m, \u001b[39m\u001b[31mNA\u001b[39m\u001b[90m, \u001b[39m\u001b[31mNA\u001b[39m\u001b[90m, \u001b[39m\u001b[31mNA\u001b[39m\u001b[90m,\u001b[39m…\n",
      "$ lfs_micro.upper        \u001b[3m\u001b[90m<dbl>\u001b[39m\u001b[23m \u001b[31mNA\u001b[39m\u001b[90m, \u001b[39m\u001b[31mNA\u001b[39m\u001b[90m, \u001b[39m\u001b[31mNA\u001b[39m\u001b[90m, \u001b[39m\u001b[31mNA\u001b[39m\u001b[90m, \u001b[39m\u001b[31mNA\u001b[39m\u001b[90m, \u001b[39m\u001b[31mNA\u001b[39m\u001b[90m, \u001b[39m\u001b[31mNA\u001b[39m\u001b[90m, \u001b[39m\u001b[31mNA\u001b[39m\u001b[90m, \u001b[39m\u001b[31mNA\u001b[39m\u001b[90m, \u001b[39m\u001b[31mNA\u001b[39m\u001b[90m, \u001b[39m\u001b[31mNA\u001b[39m\u001b[90m, \u001b[39m\u001b[31mNA\u001b[39m\u001b[90m,\u001b[39m…\n",
      "$ lfs_micro.CI           \u001b[3m\u001b[90m<dbl>\u001b[39m\u001b[23m \u001b[31mNA\u001b[39m\u001b[90m, \u001b[39m\u001b[31mNA\u001b[39m\u001b[90m, \u001b[39m\u001b[31mNA\u001b[39m\u001b[90m, \u001b[39m\u001b[31mNA\u001b[39m\u001b[90m, \u001b[39m\u001b[31mNA\u001b[39m\u001b[90m, \u001b[39m\u001b[31mNA\u001b[39m\u001b[90m, \u001b[39m\u001b[31mNA\u001b[39m\u001b[90m, \u001b[39m\u001b[31mNA\u001b[39m\u001b[90m, \u001b[39m\u001b[31mNA\u001b[39m\u001b[90m, \u001b[39m\u001b[31mNA\u001b[39m\u001b[90m, \u001b[39m\u001b[31mNA\u001b[39m\u001b[90m, \u001b[39m\u001b[31mNA\u001b[39m\u001b[90m,\u001b[39m…\n",
      "$ Approximate_Rate.fcst  \u001b[3m\u001b[90m<dbl>\u001b[39m\u001b[23m \u001b[31mNA\u001b[39m\u001b[90m, \u001b[39m\u001b[31mNA\u001b[39m\u001b[90m, \u001b[39m\u001b[31mNA\u001b[39m\u001b[90m, \u001b[39m\u001b[31mNA\u001b[39m\u001b[90m, \u001b[39m\u001b[31mNA\u001b[39m\u001b[90m, \u001b[39m\u001b[31mNA\u001b[39m\u001b[90m, \u001b[39m\u001b[31mNA\u001b[39m\u001b[90m, \u001b[39m\u001b[31mNA\u001b[39m\u001b[90m, \u001b[39m\u001b[31mNA\u001b[39m\u001b[90m, \u001b[39m\u001b[31mNA\u001b[39m\u001b[90m, \u001b[39m\u001b[31mNA\u001b[39m\u001b[90m, \u001b[39m\u001b[31mNA\u001b[39m\u001b[90m,\u001b[39m…\n",
      "$ Approximate_Rate.lower \u001b[3m\u001b[90m<dbl>\u001b[39m\u001b[23m \u001b[31mNA\u001b[39m\u001b[90m, \u001b[39m\u001b[31mNA\u001b[39m\u001b[90m, \u001b[39m\u001b[31mNA\u001b[39m\u001b[90m, \u001b[39m\u001b[31mNA\u001b[39m\u001b[90m, \u001b[39m\u001b[31mNA\u001b[39m\u001b[90m, \u001b[39m\u001b[31mNA\u001b[39m\u001b[90m, \u001b[39m\u001b[31mNA\u001b[39m\u001b[90m, \u001b[39m\u001b[31mNA\u001b[39m\u001b[90m, \u001b[39m\u001b[31mNA\u001b[39m\u001b[90m, \u001b[39m\u001b[31mNA\u001b[39m\u001b[90m, \u001b[39m\u001b[31mNA\u001b[39m\u001b[90m, \u001b[39m\u001b[31mNA\u001b[39m\u001b[90m,\u001b[39m…\n",
      "$ Approximate_Rate.upper \u001b[3m\u001b[90m<dbl>\u001b[39m\u001b[23m \u001b[31mNA\u001b[39m\u001b[90m, \u001b[39m\u001b[31mNA\u001b[39m\u001b[90m, \u001b[39m\u001b[31mNA\u001b[39m\u001b[90m, \u001b[39m\u001b[31mNA\u001b[39m\u001b[90m, \u001b[39m\u001b[31mNA\u001b[39m\u001b[90m, \u001b[39m\u001b[31mNA\u001b[39m\u001b[90m, \u001b[39m\u001b[31mNA\u001b[39m\u001b[90m, \u001b[39m\u001b[31mNA\u001b[39m\u001b[90m, \u001b[39m\u001b[31mNA\u001b[39m\u001b[90m, \u001b[39m\u001b[31mNA\u001b[39m\u001b[90m, \u001b[39m\u001b[31mNA\u001b[39m\u001b[90m, \u001b[39m\u001b[31mNA\u001b[39m\u001b[90m,\u001b[39m…\n",
      "$ Approximate_Rate.CI    \u001b[3m\u001b[90m<dbl>\u001b[39m\u001b[23m \u001b[31mNA\u001b[39m\u001b[90m, \u001b[39m\u001b[31mNA\u001b[39m\u001b[90m, \u001b[39m\u001b[31mNA\u001b[39m\u001b[90m, \u001b[39m\u001b[31mNA\u001b[39m\u001b[90m, \u001b[39m\u001b[31mNA\u001b[39m\u001b[90m, \u001b[39m\u001b[31mNA\u001b[39m\u001b[90m, \u001b[39m\u001b[31mNA\u001b[39m\u001b[90m, \u001b[39m\u001b[31mNA\u001b[39m\u001b[90m, \u001b[39m\u001b[31mNA\u001b[39m\u001b[90m, \u001b[39m\u001b[31mNA\u001b[39m\u001b[90m, \u001b[39m\u001b[31mNA\u001b[39m\u001b[90m, \u001b[39m\u001b[31mNA\u001b[39m\u001b[90m,\u001b[39m…\n",
      "Rows: 304\n",
      "Columns: 36\n",
      "$ Index                  \u001b[3m\u001b[90m<date>\u001b[39m\u001b[23m 2001-01-01\u001b[90m, \u001b[39m2001-02-01\u001b[90m, \u001b[39m2001-03-01\u001b[90m, \u001b[39m2001-04-01…\n",
      "$ delta_cpi              \u001b[3m\u001b[90m<dbl>\u001b[39m\u001b[23m 2.8213166\u001b[90m, \u001b[39m2.6014568\u001b[90m, \u001b[39m1.8691589\u001b[90m, \u001b[39m0.6211180\u001b[90m, \u001b[39m0.7…\n",
      "$ delta_exc              \u001b[3m\u001b[90m<dbl>\u001b[39m\u001b[23m 0.009066046\u001b[90m, \u001b[39m0.028082367\u001b[90m, \u001b[39m0.003738384\u001b[90m, \u001b[39m0.020567…\n",
      "$ delta_gdp              \u001b[3m\u001b[90m<dbl>\u001b[39m\u001b[23m 0.3338033\u001b[90m, \u001b[39m-0.5386542\u001b[90m, \u001b[39m0.4557593\u001b[90m, \u001b[39m0.6428197\u001b[90m, \u001b[39m-0…\n",
      "$ delta_bond             \u001b[3m\u001b[90m<dbl>\u001b[39m\u001b[23m -2.231436e+01\u001b[90m, \u001b[39m-2.409755e+00\u001b[90m, \u001b[39m-2.635845e+01\u001b[90m, \u001b[39m2.…\n",
      "$ delta_fcpi             \u001b[3m\u001b[90m<dbl>\u001b[39m\u001b[23m 0.1768973\u001b[90m, \u001b[39m-10.1871069\u001b[90m, \u001b[39m-5.1808413\u001b[90m, \u001b[39m-3.8660277\u001b[90m,\u001b[39m…\n",
      "$ lfs_micro              \u001b[3m\u001b[90m<dbl>\u001b[39m\u001b[23m -6.252036\u001b[90m, \u001b[39m-3.278982\u001b[90m, \u001b[39m0.000000\u001b[90m, \u001b[39m6.453852\u001b[90m, \u001b[39m6.062…\n",
      "$ Approximate_Rate       \u001b[3m\u001b[90m<dbl>\u001b[39m\u001b[23m 1.491150\u001b[90m, \u001b[39m1.488209\u001b[90m, \u001b[39m1.514474\u001b[90m, \u001b[39m1.487655\u001b[90m, \u001b[39m1.49729…\n",
      "$ delta_cpi.fcst         \u001b[3m\u001b[90m<dbl>\u001b[39m\u001b[23m \u001b[31mNA\u001b[39m\u001b[90m, \u001b[39m\u001b[31mNA\u001b[39m\u001b[90m, \u001b[39m\u001b[31mNA\u001b[39m\u001b[90m, \u001b[39m\u001b[31mNA\u001b[39m\u001b[90m, \u001b[39m\u001b[31mNA\u001b[39m\u001b[90m, \u001b[39m\u001b[31mNA\u001b[39m\u001b[90m, \u001b[39m\u001b[31mNA\u001b[39m\u001b[90m, \u001b[39m\u001b[31mNA\u001b[39m\u001b[90m, \u001b[39m\u001b[31mNA\u001b[39m\u001b[90m, \u001b[39m\u001b[31mNA\u001b[39m\u001b[90m, \u001b[39m\u001b[31mNA\u001b[39m\u001b[90m, \u001b[39m\u001b[31mNA\u001b[39m\u001b[90m,\u001b[39m…\n",
      "$ delta_cpi.lower        \u001b[3m\u001b[90m<dbl>\u001b[39m\u001b[23m \u001b[31mNA\u001b[39m\u001b[90m, \u001b[39m\u001b[31mNA\u001b[39m\u001b[90m, \u001b[39m\u001b[31mNA\u001b[39m\u001b[90m, \u001b[39m\u001b[31mNA\u001b[39m\u001b[90m, \u001b[39m\u001b[31mNA\u001b[39m\u001b[90m, \u001b[39m\u001b[31mNA\u001b[39m\u001b[90m, \u001b[39m\u001b[31mNA\u001b[39m\u001b[90m, \u001b[39m\u001b[31mNA\u001b[39m\u001b[90m, \u001b[39m\u001b[31mNA\u001b[39m\u001b[90m, \u001b[39m\u001b[31mNA\u001b[39m\u001b[90m, \u001b[39m\u001b[31mNA\u001b[39m\u001b[90m, \u001b[39m\u001b[31mNA\u001b[39m\u001b[90m,\u001b[39m…\n",
      "$ delta_cpi.upper        \u001b[3m\u001b[90m<dbl>\u001b[39m\u001b[23m \u001b[31mNA\u001b[39m\u001b[90m, \u001b[39m\u001b[31mNA\u001b[39m\u001b[90m, \u001b[39m\u001b[31mNA\u001b[39m\u001b[90m, \u001b[39m\u001b[31mNA\u001b[39m\u001b[90m, \u001b[39m\u001b[31mNA\u001b[39m\u001b[90m, \u001b[39m\u001b[31mNA\u001b[39m\u001b[90m, \u001b[39m\u001b[31mNA\u001b[39m\u001b[90m, \u001b[39m\u001b[31mNA\u001b[39m\u001b[90m, \u001b[39m\u001b[31mNA\u001b[39m\u001b[90m, \u001b[39m\u001b[31mNA\u001b[39m\u001b[90m, \u001b[39m\u001b[31mNA\u001b[39m\u001b[90m, \u001b[39m\u001b[31mNA\u001b[39m\u001b[90m,\u001b[39m…\n",
      "$ delta_cpi.CI           \u001b[3m\u001b[90m<dbl>\u001b[39m\u001b[23m \u001b[31mNA\u001b[39m\u001b[90m, \u001b[39m\u001b[31mNA\u001b[39m\u001b[90m, \u001b[39m\u001b[31mNA\u001b[39m\u001b[90m, \u001b[39m\u001b[31mNA\u001b[39m\u001b[90m, \u001b[39m\u001b[31mNA\u001b[39m\u001b[90m, \u001b[39m\u001b[31mNA\u001b[39m\u001b[90m, \u001b[39m\u001b[31mNA\u001b[39m\u001b[90m, \u001b[39m\u001b[31mNA\u001b[39m\u001b[90m, \u001b[39m\u001b[31mNA\u001b[39m\u001b[90m, \u001b[39m\u001b[31mNA\u001b[39m\u001b[90m, \u001b[39m\u001b[31mNA\u001b[39m\u001b[90m, \u001b[39m\u001b[31mNA\u001b[39m\u001b[90m,\u001b[39m…\n",
      "$ delta_exc.fcst         \u001b[3m\u001b[90m<dbl>\u001b[39m\u001b[23m \u001b[31mNA\u001b[39m\u001b[90m, \u001b[39m\u001b[31mNA\u001b[39m\u001b[90m, \u001b[39m\u001b[31mNA\u001b[39m\u001b[90m, \u001b[39m\u001b[31mNA\u001b[39m\u001b[90m, \u001b[39m\u001b[31mNA\u001b[39m\u001b[90m, \u001b[39m\u001b[31mNA\u001b[39m\u001b[90m, \u001b[39m\u001b[31mNA\u001b[39m\u001b[90m, \u001b[39m\u001b[31mNA\u001b[39m\u001b[90m, \u001b[39m\u001b[31mNA\u001b[39m\u001b[90m, \u001b[39m\u001b[31mNA\u001b[39m\u001b[90m, \u001b[39m\u001b[31mNA\u001b[39m\u001b[90m, \u001b[39m\u001b[31mNA\u001b[39m\u001b[90m,\u001b[39m…\n",
      "$ delta_exc.lower        \u001b[3m\u001b[90m<dbl>\u001b[39m\u001b[23m \u001b[31mNA\u001b[39m\u001b[90m, \u001b[39m\u001b[31mNA\u001b[39m\u001b[90m, \u001b[39m\u001b[31mNA\u001b[39m\u001b[90m, \u001b[39m\u001b[31mNA\u001b[39m\u001b[90m, \u001b[39m\u001b[31mNA\u001b[39m\u001b[90m, \u001b[39m\u001b[31mNA\u001b[39m\u001b[90m, \u001b[39m\u001b[31mNA\u001b[39m\u001b[90m, \u001b[39m\u001b[31mNA\u001b[39m\u001b[90m, \u001b[39m\u001b[31mNA\u001b[39m\u001b[90m, \u001b[39m\u001b[31mNA\u001b[39m\u001b[90m, \u001b[39m\u001b[31mNA\u001b[39m\u001b[90m, \u001b[39m\u001b[31mNA\u001b[39m\u001b[90m,\u001b[39m…\n",
      "$ delta_exc.upper        \u001b[3m\u001b[90m<dbl>\u001b[39m\u001b[23m \u001b[31mNA\u001b[39m\u001b[90m, \u001b[39m\u001b[31mNA\u001b[39m\u001b[90m, \u001b[39m\u001b[31mNA\u001b[39m\u001b[90m, \u001b[39m\u001b[31mNA\u001b[39m\u001b[90m, \u001b[39m\u001b[31mNA\u001b[39m\u001b[90m, \u001b[39m\u001b[31mNA\u001b[39m\u001b[90m, \u001b[39m\u001b[31mNA\u001b[39m\u001b[90m, \u001b[39m\u001b[31mNA\u001b[39m\u001b[90m, \u001b[39m\u001b[31mNA\u001b[39m\u001b[90m, \u001b[39m\u001b[31mNA\u001b[39m\u001b[90m, \u001b[39m\u001b[31mNA\u001b[39m\u001b[90m, \u001b[39m\u001b[31mNA\u001b[39m\u001b[90m,\u001b[39m…\n",
      "$ delta_exc.CI           \u001b[3m\u001b[90m<dbl>\u001b[39m\u001b[23m \u001b[31mNA\u001b[39m\u001b[90m, \u001b[39m\u001b[31mNA\u001b[39m\u001b[90m, \u001b[39m\u001b[31mNA\u001b[39m\u001b[90m, \u001b[39m\u001b[31mNA\u001b[39m\u001b[90m, \u001b[39m\u001b[31mNA\u001b[39m\u001b[90m, \u001b[39m\u001b[31mNA\u001b[39m\u001b[90m, \u001b[39m\u001b[31mNA\u001b[39m\u001b[90m, \u001b[39m\u001b[31mNA\u001b[39m\u001b[90m, \u001b[39m\u001b[31mNA\u001b[39m\u001b[90m, \u001b[39m\u001b[31mNA\u001b[39m\u001b[90m, \u001b[39m\u001b[31mNA\u001b[39m\u001b[90m, \u001b[39m\u001b[31mNA\u001b[39m\u001b[90m,\u001b[39m…\n",
      "$ delta_gdp.fcst         \u001b[3m\u001b[90m<dbl>\u001b[39m\u001b[23m \u001b[31mNA\u001b[39m\u001b[90m, \u001b[39m\u001b[31mNA\u001b[39m\u001b[90m, \u001b[39m\u001b[31mNA\u001b[39m\u001b[90m, \u001b[39m\u001b[31mNA\u001b[39m\u001b[90m, \u001b[39m\u001b[31mNA\u001b[39m\u001b[90m, \u001b[39m\u001b[31mNA\u001b[39m\u001b[90m, \u001b[39m\u001b[31mNA\u001b[39m\u001b[90m, \u001b[39m\u001b[31mNA\u001b[39m\u001b[90m, \u001b[39m\u001b[31mNA\u001b[39m\u001b[90m, \u001b[39m\u001b[31mNA\u001b[39m\u001b[90m, \u001b[39m\u001b[31mNA\u001b[39m\u001b[90m, \u001b[39m\u001b[31mNA\u001b[39m\u001b[90m,\u001b[39m…\n",
      "$ delta_gdp.lower        \u001b[3m\u001b[90m<dbl>\u001b[39m\u001b[23m \u001b[31mNA\u001b[39m\u001b[90m, \u001b[39m\u001b[31mNA\u001b[39m\u001b[90m, \u001b[39m\u001b[31mNA\u001b[39m\u001b[90m, \u001b[39m\u001b[31mNA\u001b[39m\u001b[90m, \u001b[39m\u001b[31mNA\u001b[39m\u001b[90m, \u001b[39m\u001b[31mNA\u001b[39m\u001b[90m, \u001b[39m\u001b[31mNA\u001b[39m\u001b[90m, \u001b[39m\u001b[31mNA\u001b[39m\u001b[90m, \u001b[39m\u001b[31mNA\u001b[39m\u001b[90m, \u001b[39m\u001b[31mNA\u001b[39m\u001b[90m, \u001b[39m\u001b[31mNA\u001b[39m\u001b[90m, \u001b[39m\u001b[31mNA\u001b[39m\u001b[90m,\u001b[39m…\n",
      "$ delta_gdp.upper        \u001b[3m\u001b[90m<dbl>\u001b[39m\u001b[23m \u001b[31mNA\u001b[39m\u001b[90m, \u001b[39m\u001b[31mNA\u001b[39m\u001b[90m, \u001b[39m\u001b[31mNA\u001b[39m\u001b[90m, \u001b[39m\u001b[31mNA\u001b[39m\u001b[90m, \u001b[39m\u001b[31mNA\u001b[39m\u001b[90m, \u001b[39m\u001b[31mNA\u001b[39m\u001b[90m, \u001b[39m\u001b[31mNA\u001b[39m\u001b[90m, \u001b[39m\u001b[31mNA\u001b[39m\u001b[90m, \u001b[39m\u001b[31mNA\u001b[39m\u001b[90m, \u001b[39m\u001b[31mNA\u001b[39m\u001b[90m, \u001b[39m\u001b[31mNA\u001b[39m\u001b[90m, \u001b[39m\u001b[31mNA\u001b[39m\u001b[90m,\u001b[39m…\n",
      "$ delta_gdp.CI           \u001b[3m\u001b[90m<dbl>\u001b[39m\u001b[23m \u001b[31mNA\u001b[39m\u001b[90m, \u001b[39m\u001b[31mNA\u001b[39m\u001b[90m, \u001b[39m\u001b[31mNA\u001b[39m\u001b[90m, \u001b[39m\u001b[31mNA\u001b[39m\u001b[90m, \u001b[39m\u001b[31mNA\u001b[39m\u001b[90m, \u001b[39m\u001b[31mNA\u001b[39m\u001b[90m, \u001b[39m\u001b[31mNA\u001b[39m\u001b[90m, \u001b[39m\u001b[31mNA\u001b[39m\u001b[90m, \u001b[39m\u001b[31mNA\u001b[39m\u001b[90m, \u001b[39m\u001b[31mNA\u001b[39m\u001b[90m, \u001b[39m\u001b[31mNA\u001b[39m\u001b[90m, \u001b[39m\u001b[31mNA\u001b[39m\u001b[90m,\u001b[39m…\n",
      "$ delta_bond.fcst        \u001b[3m\u001b[90m<dbl>\u001b[39m\u001b[23m \u001b[31mNA\u001b[39m\u001b[90m, \u001b[39m\u001b[31mNA\u001b[39m\u001b[90m, \u001b[39m\u001b[31mNA\u001b[39m\u001b[90m, \u001b[39m\u001b[31mNA\u001b[39m\u001b[90m, \u001b[39m\u001b[31mNA\u001b[39m\u001b[90m, \u001b[39m\u001b[31mNA\u001b[39m\u001b[90m, \u001b[39m\u001b[31mNA\u001b[39m\u001b[90m, \u001b[39m\u001b[31mNA\u001b[39m\u001b[90m, \u001b[39m\u001b[31mNA\u001b[39m\u001b[90m, \u001b[39m\u001b[31mNA\u001b[39m\u001b[90m, \u001b[39m\u001b[31mNA\u001b[39m\u001b[90m, \u001b[39m\u001b[31mNA\u001b[39m\u001b[90m,\u001b[39m…\n",
      "$ delta_bond.lower       \u001b[3m\u001b[90m<dbl>\u001b[39m\u001b[23m \u001b[31mNA\u001b[39m\u001b[90m, \u001b[39m\u001b[31mNA\u001b[39m\u001b[90m, \u001b[39m\u001b[31mNA\u001b[39m\u001b[90m, \u001b[39m\u001b[31mNA\u001b[39m\u001b[90m, \u001b[39m\u001b[31mNA\u001b[39m\u001b[90m, \u001b[39m\u001b[31mNA\u001b[39m\u001b[90m, \u001b[39m\u001b[31mNA\u001b[39m\u001b[90m, \u001b[39m\u001b[31mNA\u001b[39m\u001b[90m, \u001b[39m\u001b[31mNA\u001b[39m\u001b[90m, \u001b[39m\u001b[31mNA\u001b[39m\u001b[90m, \u001b[39m\u001b[31mNA\u001b[39m\u001b[90m, \u001b[39m\u001b[31mNA\u001b[39m\u001b[90m,\u001b[39m…\n",
      "$ delta_bond.upper       \u001b[3m\u001b[90m<dbl>\u001b[39m\u001b[23m \u001b[31mNA\u001b[39m\u001b[90m, \u001b[39m\u001b[31mNA\u001b[39m\u001b[90m, \u001b[39m\u001b[31mNA\u001b[39m\u001b[90m, \u001b[39m\u001b[31mNA\u001b[39m\u001b[90m, \u001b[39m\u001b[31mNA\u001b[39m\u001b[90m, \u001b[39m\u001b[31mNA\u001b[39m\u001b[90m, \u001b[39m\u001b[31mNA\u001b[39m\u001b[90m, \u001b[39m\u001b[31mNA\u001b[39m\u001b[90m, \u001b[39m\u001b[31mNA\u001b[39m\u001b[90m, \u001b[39m\u001b[31mNA\u001b[39m\u001b[90m, \u001b[39m\u001b[31mNA\u001b[39m\u001b[90m, \u001b[39m\u001b[31mNA\u001b[39m\u001b[90m,\u001b[39m…\n",
      "$ delta_bond.CI          \u001b[3m\u001b[90m<dbl>\u001b[39m\u001b[23m \u001b[31mNA\u001b[39m\u001b[90m, \u001b[39m\u001b[31mNA\u001b[39m\u001b[90m, \u001b[39m\u001b[31mNA\u001b[39m\u001b[90m, \u001b[39m\u001b[31mNA\u001b[39m\u001b[90m, \u001b[39m\u001b[31mNA\u001b[39m\u001b[90m, \u001b[39m\u001b[31mNA\u001b[39m\u001b[90m, \u001b[39m\u001b[31mNA\u001b[39m\u001b[90m, \u001b[39m\u001b[31mNA\u001b[39m\u001b[90m, \u001b[39m\u001b[31mNA\u001b[39m\u001b[90m, \u001b[39m\u001b[31mNA\u001b[39m\u001b[90m, \u001b[39m\u001b[31mNA\u001b[39m\u001b[90m, \u001b[39m\u001b[31mNA\u001b[39m\u001b[90m,\u001b[39m…\n",
      "$ delta_fcpi.fcst        \u001b[3m\u001b[90m<dbl>\u001b[39m\u001b[23m \u001b[31mNA\u001b[39m\u001b[90m, \u001b[39m\u001b[31mNA\u001b[39m\u001b[90m, \u001b[39m\u001b[31mNA\u001b[39m\u001b[90m, \u001b[39m\u001b[31mNA\u001b[39m\u001b[90m, \u001b[39m\u001b[31mNA\u001b[39m\u001b[90m, \u001b[39m\u001b[31mNA\u001b[39m\u001b[90m, \u001b[39m\u001b[31mNA\u001b[39m\u001b[90m, \u001b[39m\u001b[31mNA\u001b[39m\u001b[90m, \u001b[39m\u001b[31mNA\u001b[39m\u001b[90m, \u001b[39m\u001b[31mNA\u001b[39m\u001b[90m, \u001b[39m\u001b[31mNA\u001b[39m\u001b[90m, \u001b[39m\u001b[31mNA\u001b[39m\u001b[90m,\u001b[39m…\n",
      "$ delta_fcpi.lower       \u001b[3m\u001b[90m<dbl>\u001b[39m\u001b[23m \u001b[31mNA\u001b[39m\u001b[90m, \u001b[39m\u001b[31mNA\u001b[39m\u001b[90m, \u001b[39m\u001b[31mNA\u001b[39m\u001b[90m, \u001b[39m\u001b[31mNA\u001b[39m\u001b[90m, \u001b[39m\u001b[31mNA\u001b[39m\u001b[90m, \u001b[39m\u001b[31mNA\u001b[39m\u001b[90m, \u001b[39m\u001b[31mNA\u001b[39m\u001b[90m, \u001b[39m\u001b[31mNA\u001b[39m\u001b[90m, \u001b[39m\u001b[31mNA\u001b[39m\u001b[90m, \u001b[39m\u001b[31mNA\u001b[39m\u001b[90m, \u001b[39m\u001b[31mNA\u001b[39m\u001b[90m, \u001b[39m\u001b[31mNA\u001b[39m\u001b[90m,\u001b[39m…\n",
      "$ delta_fcpi.upper       \u001b[3m\u001b[90m<dbl>\u001b[39m\u001b[23m \u001b[31mNA\u001b[39m\u001b[90m, \u001b[39m\u001b[31mNA\u001b[39m\u001b[90m, \u001b[39m\u001b[31mNA\u001b[39m\u001b[90m, \u001b[39m\u001b[31mNA\u001b[39m\u001b[90m, \u001b[39m\u001b[31mNA\u001b[39m\u001b[90m, \u001b[39m\u001b[31mNA\u001b[39m\u001b[90m, \u001b[39m\u001b[31mNA\u001b[39m\u001b[90m, \u001b[39m\u001b[31mNA\u001b[39m\u001b[90m, \u001b[39m\u001b[31mNA\u001b[39m\u001b[90m, \u001b[39m\u001b[31mNA\u001b[39m\u001b[90m, \u001b[39m\u001b[31mNA\u001b[39m\u001b[90m, \u001b[39m\u001b[31mNA\u001b[39m\u001b[90m,\u001b[39m…\n",
      "$ delta_fcpi.CI          \u001b[3m\u001b[90m<dbl>\u001b[39m\u001b[23m \u001b[31mNA\u001b[39m\u001b[90m, \u001b[39m\u001b[31mNA\u001b[39m\u001b[90m, \u001b[39m\u001b[31mNA\u001b[39m\u001b[90m, \u001b[39m\u001b[31mNA\u001b[39m\u001b[90m, \u001b[39m\u001b[31mNA\u001b[39m\u001b[90m, \u001b[39m\u001b[31mNA\u001b[39m\u001b[90m, \u001b[39m\u001b[31mNA\u001b[39m\u001b[90m, \u001b[39m\u001b[31mNA\u001b[39m\u001b[90m, \u001b[39m\u001b[31mNA\u001b[39m\u001b[90m, \u001b[39m\u001b[31mNA\u001b[39m\u001b[90m, \u001b[39m\u001b[31mNA\u001b[39m\u001b[90m, \u001b[39m\u001b[31mNA\u001b[39m\u001b[90m,\u001b[39m…\n",
      "$ lfs_micro.fcst         \u001b[3m\u001b[90m<dbl>\u001b[39m\u001b[23m \u001b[31mNA\u001b[39m\u001b[90m, \u001b[39m\u001b[31mNA\u001b[39m\u001b[90m, \u001b[39m\u001b[31mNA\u001b[39m\u001b[90m, \u001b[39m\u001b[31mNA\u001b[39m\u001b[90m, \u001b[39m\u001b[31mNA\u001b[39m\u001b[90m, \u001b[39m\u001b[31mNA\u001b[39m\u001b[90m, \u001b[39m\u001b[31mNA\u001b[39m\u001b[90m, \u001b[39m\u001b[31mNA\u001b[39m\u001b[90m, \u001b[39m\u001b[31mNA\u001b[39m\u001b[90m, \u001b[39m\u001b[31mNA\u001b[39m\u001b[90m, \u001b[39m\u001b[31mNA\u001b[39m\u001b[90m, \u001b[39m\u001b[31mNA\u001b[39m\u001b[90m,\u001b[39m…\n",
      "$ lfs_micro.lower        \u001b[3m\u001b[90m<dbl>\u001b[39m\u001b[23m \u001b[31mNA\u001b[39m\u001b[90m, \u001b[39m\u001b[31mNA\u001b[39m\u001b[90m, \u001b[39m\u001b[31mNA\u001b[39m\u001b[90m, \u001b[39m\u001b[31mNA\u001b[39m\u001b[90m, \u001b[39m\u001b[31mNA\u001b[39m\u001b[90m, \u001b[39m\u001b[31mNA\u001b[39m\u001b[90m, \u001b[39m\u001b[31mNA\u001b[39m\u001b[90m, \u001b[39m\u001b[31mNA\u001b[39m\u001b[90m, \u001b[39m\u001b[31mNA\u001b[39m\u001b[90m, \u001b[39m\u001b[31mNA\u001b[39m\u001b[90m, \u001b[39m\u001b[31mNA\u001b[39m\u001b[90m, \u001b[39m\u001b[31mNA\u001b[39m\u001b[90m,\u001b[39m…\n",
      "$ lfs_micro.upper        \u001b[3m\u001b[90m<dbl>\u001b[39m\u001b[23m \u001b[31mNA\u001b[39m\u001b[90m, \u001b[39m\u001b[31mNA\u001b[39m\u001b[90m, \u001b[39m\u001b[31mNA\u001b[39m\u001b[90m, \u001b[39m\u001b[31mNA\u001b[39m\u001b[90m, \u001b[39m\u001b[31mNA\u001b[39m\u001b[90m, \u001b[39m\u001b[31mNA\u001b[39m\u001b[90m, \u001b[39m\u001b[31mNA\u001b[39m\u001b[90m, \u001b[39m\u001b[31mNA\u001b[39m\u001b[90m, \u001b[39m\u001b[31mNA\u001b[39m\u001b[90m, \u001b[39m\u001b[31mNA\u001b[39m\u001b[90m, \u001b[39m\u001b[31mNA\u001b[39m\u001b[90m, \u001b[39m\u001b[31mNA\u001b[39m\u001b[90m,\u001b[39m…\n",
      "$ lfs_micro.CI           \u001b[3m\u001b[90m<dbl>\u001b[39m\u001b[23m \u001b[31mNA\u001b[39m\u001b[90m, \u001b[39m\u001b[31mNA\u001b[39m\u001b[90m, \u001b[39m\u001b[31mNA\u001b[39m\u001b[90m, \u001b[39m\u001b[31mNA\u001b[39m\u001b[90m, \u001b[39m\u001b[31mNA\u001b[39m\u001b[90m, \u001b[39m\u001b[31mNA\u001b[39m\u001b[90m, \u001b[39m\u001b[31mNA\u001b[39m\u001b[90m, \u001b[39m\u001b[31mNA\u001b[39m\u001b[90m, \u001b[39m\u001b[31mNA\u001b[39m\u001b[90m, \u001b[39m\u001b[31mNA\u001b[39m\u001b[90m, \u001b[39m\u001b[31mNA\u001b[39m\u001b[90m, \u001b[39m\u001b[31mNA\u001b[39m\u001b[90m,\u001b[39m…\n",
      "$ Approximate_Rate.fcst  \u001b[3m\u001b[90m<dbl>\u001b[39m\u001b[23m \u001b[31mNA\u001b[39m\u001b[90m, \u001b[39m\u001b[31mNA\u001b[39m\u001b[90m, \u001b[39m\u001b[31mNA\u001b[39m\u001b[90m, \u001b[39m\u001b[31mNA\u001b[39m\u001b[90m, \u001b[39m\u001b[31mNA\u001b[39m\u001b[90m, \u001b[39m\u001b[31mNA\u001b[39m\u001b[90m, \u001b[39m\u001b[31mNA\u001b[39m\u001b[90m, \u001b[39m\u001b[31mNA\u001b[39m\u001b[90m, \u001b[39m\u001b[31mNA\u001b[39m\u001b[90m, \u001b[39m\u001b[31mNA\u001b[39m\u001b[90m, \u001b[39m\u001b[31mNA\u001b[39m\u001b[90m, \u001b[39m\u001b[31mNA\u001b[39m\u001b[90m,\u001b[39m…\n",
      "$ Approximate_Rate.lower \u001b[3m\u001b[90m<dbl>\u001b[39m\u001b[23m \u001b[31mNA\u001b[39m\u001b[90m, \u001b[39m\u001b[31mNA\u001b[39m\u001b[90m, \u001b[39m\u001b[31mNA\u001b[39m\u001b[90m, \u001b[39m\u001b[31mNA\u001b[39m\u001b[90m, \u001b[39m\u001b[31mNA\u001b[39m\u001b[90m, \u001b[39m\u001b[31mNA\u001b[39m\u001b[90m, \u001b[39m\u001b[31mNA\u001b[39m\u001b[90m, \u001b[39m\u001b[31mNA\u001b[39m\u001b[90m, \u001b[39m\u001b[31mNA\u001b[39m\u001b[90m, \u001b[39m\u001b[31mNA\u001b[39m\u001b[90m, \u001b[39m\u001b[31mNA\u001b[39m\u001b[90m, \u001b[39m\u001b[31mNA\u001b[39m\u001b[90m,\u001b[39m…\n",
      "$ Approximate_Rate.upper \u001b[3m\u001b[90m<dbl>\u001b[39m\u001b[23m \u001b[31mNA\u001b[39m\u001b[90m, \u001b[39m\u001b[31mNA\u001b[39m\u001b[90m, \u001b[39m\u001b[31mNA\u001b[39m\u001b[90m, \u001b[39m\u001b[31mNA\u001b[39m\u001b[90m, \u001b[39m\u001b[31mNA\u001b[39m\u001b[90m, \u001b[39m\u001b[31mNA\u001b[39m\u001b[90m, \u001b[39m\u001b[31mNA\u001b[39m\u001b[90m, \u001b[39m\u001b[31mNA\u001b[39m\u001b[90m, \u001b[39m\u001b[31mNA\u001b[39m\u001b[90m, \u001b[39m\u001b[31mNA\u001b[39m\u001b[90m, \u001b[39m\u001b[31mNA\u001b[39m\u001b[90m, \u001b[39m\u001b[31mNA\u001b[39m\u001b[90m,\u001b[39m…\n",
      "$ Approximate_Rate.CI    \u001b[3m\u001b[90m<dbl>\u001b[39m\u001b[23m \u001b[31mNA\u001b[39m\u001b[90m, \u001b[39m\u001b[31mNA\u001b[39m\u001b[90m, \u001b[39m\u001b[31mNA\u001b[39m\u001b[90m, \u001b[39m\u001b[31mNA\u001b[39m\u001b[90m, \u001b[39m\u001b[31mNA\u001b[39m\u001b[90m, \u001b[39m\u001b[31mNA\u001b[39m\u001b[90m, \u001b[39m\u001b[31mNA\u001b[39m\u001b[90m, \u001b[39m\u001b[31mNA\u001b[39m\u001b[90m, \u001b[39m\u001b[31mNA\u001b[39m\u001b[90m, \u001b[39m\u001b[31mNA\u001b[39m\u001b[90m, \u001b[39m\u001b[31mNA\u001b[39m\u001b[90m, \u001b[39m\u001b[31mNA\u001b[39m\u001b[90m,\u001b[39m…\n"
     ]
    }
   ],
   "source": [
    "forecast_df_cpi<- fortify(forecast_results_cpi)\n",
    "\n",
    "# Inspect the new dataframe to see its structure\n",
    "glimpse(forecast_df_cpi)\n",
    "\n",
    "\n",
    "forecast_df_gdp<- fortify(forecast_results_gdp)\n",
    "\n",
    "# Inspect the new dataframe to see its structure\n",
    "glimpse(forecast_df_gdp)\n",
    "\n"
   ]
  },
  {
   "cell_type": "code",
   "execution_count": null,
   "id": "26787403",
   "metadata": {
    "vscode": {
     "languageId": "r"
    }
   },
   "outputs": [],
   "source": [
    "last_obs_index <- max(which(!is.na(forecast_df_cpi$delta_cpi)))\n",
    "\n",
    "# Get the value of that last observation\n",
    "last_obs_value <- forecast_df_cpi$delta_cpi[last_obs_index]\n",
    "\n",
    "# Copy this last known value to the forecast columns FOR THAT SAME ROW\n",
    "# This creates the \"bridge\" that connects the two lines.\n",
    "forecast_df_cpi$delta_cpi.fcst[last_obs_index] <- last_obs_value\n",
    "forecast_df_cpi$delta_cpi.lower[last_obs_index] <- last_obs_value\n",
    "forecast_df_cpi$delta_cpi.upper[last_obs_index] <- last_obs_value"
   ]
  },
  {
   "cell_type": "code",
   "execution_count": null,
   "id": "4df590dc",
   "metadata": {
    "vscode": {
     "languageId": "r"
    }
   },
   "outputs": [
    {
     "data": {
      "image/png": "[encoded data removed]",
      "text/plain": [
       "plot without title"
      ]
     },
     "metadata": {
      "image/png": {
       "height": 420,
       "width": 420
      }
     },
     "output_type": "display_data"
    }
   ],
   "source": [
    "# Find the last date of actual historical data before forecasts begin\n",
    "last_actual_date <- forecast_df_cpi %>%\n",
    "  filter(!is.na(delta_cpi) & is.na(delta_cpi.fcst)) %>%\n",
    "  summarise(max_date = max(Index)) %>%\n",
    "  pull(max_date)\n",
    "\n",
    "# Determine the start date for filtering (5 years before the last actual data point)\n",
    "start_date <- last_actual_date - years(10)\n",
    "\n",
    "# Filter the dataframe to include the last 5 years of actual data plus all forecast data\n",
    "plot_data <- forecast_df_cpi %>%\n",
    "  filter(Index >= start_date)\n",
    "\n",
    "# Find the date where the forecast officially begins\n",
    "forecast_start_date <- plot_data %>%\n",
    "  filter(!is.na(delta_cpi.fcst)) %>%\n",
    "  summarise(min_date = min(Index)) %>%\n",
    "  pull(min_date)\n",
    "\n",
    "# Create the plot\n",
    "ggplot(plot_data, aes(x = Index)) +\n",
    "  # 1. Plot the historical data line (in black)\n",
    "  geom_line(aes(y = delta_cpi), color = \"black\", size = 0.5, na.rm = TRUE) +\n",
    "  \n",
    "  # 2. Plot the forecast line (in blue)\n",
    "  geom_line(aes(y = delta_cpi.fcst), color = \"#0072B2\", size = 0.5, na.rm = TRUE) +\n",
    "  \n",
    "  # 3. Add the shaded confidence interval ribbon\n",
    "  geom_ribbon(aes(ymin = delta_cpi.lower, ymax = delta_cpi.upper), \n",
    "              fill = \"#0072B2\", \n",
    "              alpha = 0.2,    # alpha makes the ribbon transparent\n",
    "              na.rm = TRUE) +\n",
    "  \n",
    "  # 4. Add a vertical dashed line at the start of the forecast period\n",
    "  geom_vline(xintercept = as.numeric(forecast_start_date), \n",
    "             linetype = \"dashed\", \n",
    "             color = \"grey40\") +\n",
    "  \n",
    "  # 5. Apply labels and titles\n",
    "  labs(\n",
    "    title = \"Forecast of CPI (YoY %) Using Unemployment Data\",\n",
    "    subtitle = \"Historical Data and Forecast with 90% Confidence Interval\",\n",
    "    x = \"Year\",\n",
    "    y = \"Year-over-Year % Change\",\n",
    "    caption = \"Source: StatCanada, FRED, Bank of Canada\"\n",
    "  ) +\n",
    "  \n",
    "  # 6. Customize the x-axis date format\n",
    "  scale_x_date(\n",
    "    date_breaks = \"1 year\", \n",
    "    date_labels = \"%Y\"\n",
    "  ) +\n",
    "  \n",
    "  # 7. Apply a clean theme\n",
    "  theme_minimal(base_size = 14) +\n",
    "  theme(\n",
    "    plot.title = element_text(face = \"bold\", size = 18),\n",
    "    plot.subtitle = element_text(size = 12, margin = margin(b = 20)),\n",
    "    panel.grid.minor = element_blank(),\n",
    "    panel.grid.major.x = element_blank(),\n",
    "    axis.line.x = element_line(color=\"grey80\"),\n",
    "    axis.ticks.x = element_line(color=\"grey80\")\n",
    "  )"
   ]
  },
  {
   "cell_type": "code",
   "execution_count": null,
   "id": "3421201e",
   "metadata": {
    "vscode": {
     "languageId": "r"
    }
   },
   "outputs": [],
   "source": [
    "ggsave(\n",
    "  \"cpi_forecast_unemp.png\", # The filename for the saved plot               # The plot object to save\n",
    "  width = 17,              # Width in inches\n",
    "  height = 5,              # Height in inches\n",
    "  dpi = 300                # Dots per inch (resolution)\n",
    ")"
   ]
  },
  {
   "cell_type": "code",
   "execution_count": null,
   "id": "8ddf309b",
   "metadata": {
    "vscode": {
     "languageId": "r"
    }
   },
   "outputs": [],
   "source": [
    "last_obs_index <- max(which(!is.na(forecast_df_gdp$delta_cpi)))\n",
    "\n",
    "# Get the value of that last observation\n",
    "last_obs_value <- forecast_df_gdp$delta_cpi[last_obs_index]\n",
    "\n",
    "# Copy this last known value to the forecast columns FOR THAT SAME ROW\n",
    "# This creates the \"bridge\" that connects the two lines.\n",
    "forecast_df_gdp$delta_cpi.fcst[last_obs_index] <- last_obs_value\n",
    "forecast_df_gdp$delta_cpi.lower[last_obs_index] <- last_obs_value\n",
    "forecast_df_gdp$delta_cpi.upper[last_obs_index] <- last_obs_value"
   ]
  },
  {
   "cell_type": "code",
   "execution_count": null,
   "id": "743c236b",
   "metadata": {
    "vscode": {
     "languageId": "r"
    }
   },
   "outputs": [
    {
     "data": {
      "image/png": "[encoded data removed]",
      "text/plain": [
       "plot without title"
      ]
     },
     "metadata": {
      "image/png": {
       "height": 420,
       "width": 420
      }
     },
     "output_type": "display_data"
    }
   ],
   "source": [
    "last_actual_date <- forecast_df_gdp %>%\n",
    "  filter(!is.na(delta_cpi) & is.na(delta_cpi.fcst)) %>%\n",
    "  summarise(max_date = max(Index)) %>%\n",
    "  pull(max_date)\n",
    "\n",
    "# Determine the start date for filtering (5 years before the last actual data point)\n",
    "start_date <- last_actual_date - years(10)\n",
    "\n",
    "# Filter the dataframe to include the last 5 years of actual data plus all forecast data\n",
    "plot_data <- forecast_df_gdp %>%\n",
    "  filter(Index >= start_date)\n",
    "\n",
    "# Find the date where the forecast officially begins\n",
    "forecast_start_date <- plot_data %>%\n",
    "  filter(!is.na(delta_cpi.fcst)) %>%\n",
    "  summarise(min_date = min(Index)) %>%\n",
    "  pull(min_date)\n",
    "\n",
    "# Create the plot\n",
    "ggplot(plot_data, aes(x = Index)) +\n",
    "  # 1. Plot the historical data line (in black)\n",
    "  geom_line(aes(y = delta_cpi), color = \"black\", size = 0.5, na.rm = TRUE) +\n",
    "  \n",
    "  # 2. Plot the forecast line (in blue)\n",
    "  geom_line(aes(y = delta_cpi.fcst), color = \"#0072B2\", size = 0.5, na.rm = TRUE) +\n",
    "  \n",
    "  # 3. Add the shaded confidence interval ribbon\n",
    "  geom_ribbon(aes(ymin = delta_cpi.lower, ymax = delta_cpi.upper), \n",
    "              fill = \"#0072B2\", \n",
    "              alpha = 0.2,    # alpha makes the ribbon transparent\n",
    "              na.rm = TRUE) +\n",
    "  \n",
    "  # 4. Add a vertical dashed line at the start of the forecast period\n",
    "  geom_vline(xintercept = as.numeric(forecast_start_date), \n",
    "             linetype = \"dashed\", \n",
    "             color = \"grey40\") +\n",
    "  \n",
    "  # 5. Apply labels and titles\n",
    "  labs(\n",
    "    title = \"Forecast of CPI (YoY %) Using GDP Data\",\n",
    "    subtitle = \"Historical Data and Forecast with 90% Confidence Interval\",\n",
    "    x = \"Year\",\n",
    "    y = \"Year-over-Year % Change\",\n",
    "    caption = \"Source: StatCanada, FRED, Bank of Canada\"\n",
    "  ) +\n",
    "  \n",
    "  # 6. Customize the x-axis date format\n",
    "  scale_x_date(\n",
    "    date_breaks = \"1 year\", \n",
    "    date_labels = \"%Y\"\n",
    "  ) +\n",
    "  \n",
    "  # 7. Apply a clean theme\n",
    "  theme_minimal(base_size = 14) +\n",
    "  theme(\n",
    "    plot.title = element_text(face = \"bold\", size = 18),\n",
    "    plot.subtitle = element_text(size = 12, margin = margin(b = 20)),\n",
    "    panel.grid.minor = element_blank(),\n",
    "    panel.grid.major.x = element_blank(),\n",
    "    axis.line.x = element_line(color=\"grey80\"),\n",
    "    axis.ticks.x = element_line(color=\"grey80\")\n",
    "  )"
   ]
  },
  {
   "cell_type": "code",
   "execution_count": null,
   "id": "4eb9e6a7",
   "metadata": {
    "vscode": {
     "languageId": "r"
    }
   },
   "outputs": [],
   "source": [
    "ggsave(\n",
    "  \"cpi_parsimonious_gdp.png\", # The filename for the saved plot               # The plot object to save\n",
    "  width = 10,              # Width in inches\n",
    "  height = 5,              # Height in inches\n",
    "  dpi = 300                # Dots per inch (resolution)\n",
    ")"
   ]
  },
  {
   "cell_type": "code",
   "execution_count": null,
   "id": "170645c4",
   "metadata": {
    "vscode": {
     "languageId": "r"
    }
   },
   "outputs": [
    {
     "name": "stdout",
     "output_type": "stream",
     "text": [
      "\n",
      "\tARCH (multivariate)\n",
      "\n",
      "data:  Residuals of VAR object var_model_12\n",
      "Chi-squared = 4212.2, df = 3920, p-value = 0.0006216\n",
      "\n"
     ]
    },
    {
     "data": {
      "text/plain": [
       "$arch.mul\n",
       "\n",
       "\tARCH (multivariate)\n",
       "\n",
       "data:  Residuals of VAR object var_model_12\n",
       "Chi-squared = 4212.2, df = 3920, p-value = 0.0006216\n",
       "\n"
      ]
     },
     "metadata": {},
     "output_type": "display_data"
    }
   ],
   "source": [
    "arch_test_result <- arch.test(var_model_12, lags.multi = 5)\n",
    "\n",
    "# Print the results\n",
    "print(arch_test_result)"
   ]
  },
  {
   "cell_type": "code",
   "execution_count": null,
   "id": "f57dbabb",
   "metadata": {
    "vscode": {
     "languageId": "r"
    }
   },
   "outputs": [
    {
     "data": {
      "text/html": [
       "<style>\n",
       ".list-inline {list-style: none; margin:0; padding: 0}\n",
       ".list-inline>li {display: inline-block}\n",
       ".list-inline>li:not(:last-child)::after {content: \"\\00b7\"; padding: 0 .5ex}\n",
       "</style>\n",
       "<ol class=list-inline><li>0.958217316081177</li><li>0.958217316081177</li><li>0.953794362081809</li><li>0.953794362081809</li><li>0.951229688142616</li><li>0.951229688142616</li><li>0.949877240959719</li><li>0.949877240959719</li><li>0.949528105825929</li><li>0.949528105825929</li><li>0.948789715455486</li><li>0.948789715455486</li><li>0.948509620062025</li><li>0.948509620062025</li><li>0.942666291399158</li><li>0.942666291399158</li><li>0.941843100732276</li><li>0.933660891395048</li><li>0.933660891395048</li><li>0.923989705632189</li><li>0.923989705632189</li><li>0.921989607717632</li><li>0.921989607717632</li><li>0.919652534121026</li><li>0.919652534121026</li><li>0.918073515319307</li><li>0.918073515319307</li><li>0.913684606041952</li><li>0.913684606041952</li><li>0.901313855116174</li><li>0.901313855116174</li><li>0.901152594102818</li><li>0.901152594102818</li><li>0.900484538222349</li><li>0.900484538222349</li><li>0.886864166422651</li><li>0.885241426103519</li><li>0.885241426103519</li><li>0.88359018363733</li><li>0.88359018363733</li><li>0.881422283714874</li><li>0.881422283714874</li><li>0.878772558260542</li><li>0.878772558260542</li><li>0.878673764760866</li><li>0.878673764760866</li><li>0.878259528947239</li><li>0.878259528947239</li><li>0.874609691269865</li><li>0.874609691269865</li><li>0.873593063693076</li><li>0.873593063693076</li><li>0.87104388043239</li><li>0.87104388043239</li><li>0.867323669589162</li><li>0.867053592906717</li><li>0.867053592906717</li><li>0.866892555098442</li><li>0.866892555098442</li><li>0.862998850522807</li><li>0.862998850522807</li><li>0.861001539486288</li><li>0.861001539486288</li><li>0.857849881269287</li><li>0.857849881269287</li><li>0.824445369286968</li><li>0.821290073861318</li><li>0.821290073861318</li><li>0.815547672181187</li><li>0.815547672181187</li><li>0.813896127488386</li><li>0.813896127488386</li><li>0.81240290021301</li><li>0.808585212283867</li><li>0.808585212283867</li><li>0.801961047749765</li><li>0.801961047749765</li><li>0.786316092277814</li><li>0.786316092277814</li><li>0.752754945982102</li><li>0.752754945982102</li><li>0.434339283799778</li><li>0.434339283799778</li><li>0.0606982984336513</li></ol>\n"
      ],
      "text/latex": [
       "\\begin{enumerate*}\n",
       "\\item 0.958217316081177\n",
       "\\item 0.958217316081177\n",
       "\\item 0.953794362081809\n",
       "\\item 0.953794362081809\n",
       "\\item 0.951229688142616\n",
       "\\item 0.951229688142616\n",
       "\\item 0.949877240959719\n",
       "\\item 0.949877240959719\n",
       "\\item 0.949528105825929\n",
       "\\item 0.949528105825929\n",
       "\\item 0.948789715455486\n",
       "\\item 0.948789715455486\n",
       "\\item 0.948509620062025\n",
       "\\item 0.948509620062025\n",
       "\\item 0.942666291399158\n",
       "\\item 0.942666291399158\n",
       "\\item 0.941843100732276\n",
       "\\item 0.933660891395048\n",
       "\\item 0.933660891395048\n",
       "\\item 0.923989705632189\n",
       "\\item 0.923989705632189\n",
       "\\item 0.921989607717632\n",
       "\\item 0.921989607717632\n",
       "\\item 0.919652534121026\n",
       "\\item 0.919652534121026\n",
       "\\item 0.918073515319307\n",
       "\\item 0.918073515319307\n",
       "\\item 0.913684606041952\n",
       "\\item 0.913684606041952\n",
       "\\item 0.901313855116174\n",
       "\\item 0.901313855116174\n",
       "\\item 0.901152594102818\n",
       "\\item 0.901152594102818\n",
       "\\item 0.900484538222349\n",
       "\\item 0.900484538222349\n",
       "\\item 0.886864166422651\n",
       "\\item 0.885241426103519\n",
       "\\item 0.885241426103519\n",
       "\\item 0.88359018363733\n",
       "\\item 0.88359018363733\n",
       "\\item 0.881422283714874\n",
       "\\item 0.881422283714874\n",
       "\\item 0.878772558260542\n",
       "\\item 0.878772558260542\n",
       "\\item 0.878673764760866\n",
       "\\item 0.878673764760866\n",
       "\\item 0.878259528947239\n",
       "\\item 0.878259528947239\n",
       "\\item 0.874609691269865\n",
       "\\item 0.874609691269865\n",
       "\\item 0.873593063693076\n",
       "\\item 0.873593063693076\n",
       "\\item 0.87104388043239\n",
       "\\item 0.87104388043239\n",
       "\\item 0.867323669589162\n",
       "\\item 0.867053592906717\n",
       "\\item 0.867053592906717\n",
       "\\item 0.866892555098442\n",
       "\\item 0.866892555098442\n",
       "\\item 0.862998850522807\n",
       "\\item 0.862998850522807\n",
       "\\item 0.861001539486288\n",
       "\\item 0.861001539486288\n",
       "\\item 0.857849881269287\n",
       "\\item 0.857849881269287\n",
       "\\item 0.824445369286968\n",
       "\\item 0.821290073861318\n",
       "\\item 0.821290073861318\n",
       "\\item 0.815547672181187\n",
       "\\item 0.815547672181187\n",
       "\\item 0.813896127488386\n",
       "\\item 0.813896127488386\n",
       "\\item 0.81240290021301\n",
       "\\item 0.808585212283867\n",
       "\\item 0.808585212283867\n",
       "\\item 0.801961047749765\n",
       "\\item 0.801961047749765\n",
       "\\item 0.786316092277814\n",
       "\\item 0.786316092277814\n",
       "\\item 0.752754945982102\n",
       "\\item 0.752754945982102\n",
       "\\item 0.434339283799778\n",
       "\\item 0.434339283799778\n",
       "\\item 0.0606982984336513\n",
       "\\end{enumerate*}\n"
      ],
      "text/markdown": [
       "1. 0.958217316081177\n",
       "2. 0.958217316081177\n",
       "3. 0.953794362081809\n",
       "4. 0.953794362081809\n",
       "5. 0.951229688142616\n",
       "6. 0.951229688142616\n",
       "7. 0.949877240959719\n",
       "8. 0.949877240959719\n",
       "9. 0.949528105825929\n",
       "10. 0.949528105825929\n",
       "11. 0.948789715455486\n",
       "12. 0.948789715455486\n",
       "13. 0.948509620062025\n",
       "14. 0.948509620062025\n",
       "15. 0.942666291399158\n",
       "16. 0.942666291399158\n",
       "17. 0.941843100732276\n",
       "18. 0.933660891395048\n",
       "19. 0.933660891395048\n",
       "20. 0.923989705632189\n",
       "21. 0.923989705632189\n",
       "22. 0.921989607717632\n",
       "23. 0.921989607717632\n",
       "24. 0.919652534121026\n",
       "25. 0.919652534121026\n",
       "26. 0.918073515319307\n",
       "27. 0.918073515319307\n",
       "28. 0.913684606041952\n",
       "29. 0.913684606041952\n",
       "30. 0.901313855116174\n",
       "31. 0.901313855116174\n",
       "32. 0.901152594102818\n",
       "33. 0.901152594102818\n",
       "34. 0.900484538222349\n",
       "35. 0.900484538222349\n",
       "36. 0.886864166422651\n",
       "37. 0.885241426103519\n",
       "38. 0.885241426103519\n",
       "39. 0.88359018363733\n",
       "40. 0.88359018363733\n",
       "41. 0.881422283714874\n",
       "42. 0.881422283714874\n",
       "43. 0.878772558260542\n",
       "44. 0.878772558260542\n",
       "45. 0.878673764760866\n",
       "46. 0.878673764760866\n",
       "47. 0.878259528947239\n",
       "48. 0.878259528947239\n",
       "49. 0.874609691269865\n",
       "50. 0.874609691269865\n",
       "51. 0.873593063693076\n",
       "52. 0.873593063693076\n",
       "53. 0.87104388043239\n",
       "54. 0.87104388043239\n",
       "55. 0.867323669589162\n",
       "56. 0.867053592906717\n",
       "57. 0.867053592906717\n",
       "58. 0.866892555098442\n",
       "59. 0.866892555098442\n",
       "60. 0.862998850522807\n",
       "61. 0.862998850522807\n",
       "62. 0.861001539486288\n",
       "63. 0.861001539486288\n",
       "64. 0.857849881269287\n",
       "65. 0.857849881269287\n",
       "66. 0.824445369286968\n",
       "67. 0.821290073861318\n",
       "68. 0.821290073861318\n",
       "69. 0.815547672181187\n",
       "70. 0.815547672181187\n",
       "71. 0.813896127488386\n",
       "72. 0.813896127488386\n",
       "73. 0.81240290021301\n",
       "74. 0.808585212283867\n",
       "75. 0.808585212283867\n",
       "76. 0.801961047749765\n",
       "77. 0.801961047749765\n",
       "78. 0.786316092277814\n",
       "79. 0.786316092277814\n",
       "80. 0.752754945982102\n",
       "81. 0.752754945982102\n",
       "82. 0.434339283799778\n",
       "83. 0.434339283799778\n",
       "84. 0.0606982984336513\n",
       "\n",
       "\n"
      ],
      "text/plain": [
       " [1] 0.9582173 0.9582173 0.9537944 0.9537944 0.9512297 0.9512297 0.9498772\n",
       " [8] 0.9498772 0.9495281 0.9495281 0.9487897 0.9487897 0.9485096 0.9485096\n",
       "[15] 0.9426663 0.9426663 0.9418431 0.9336609 0.9336609 0.9239897 0.9239897\n",
       "[22] 0.9219896 0.9219896 0.9196525 0.9196525 0.9180735 0.9180735 0.9136846\n",
       "[29] 0.9136846 0.9013139 0.9013139 0.9011526 0.9011526 0.9004845 0.9004845\n",
       "[36] 0.8868642 0.8852414 0.8852414 0.8835902 0.8835902 0.8814223 0.8814223\n",
       "[43] 0.8787726 0.8787726 0.8786738 0.8786738 0.8782595 0.8782595 0.8746097\n",
       "[50] 0.8746097 0.8735931 0.8735931 0.8710439 0.8710439 0.8673237 0.8670536\n",
       "[57] 0.8670536 0.8668926 0.8668926 0.8629989 0.8629989 0.8610015 0.8610015\n",
       "[64] 0.8578499 0.8578499 0.8244454 0.8212901 0.8212901 0.8155477 0.8155477\n",
       "[71] 0.8138961 0.8138961 0.8124029 0.8085852 0.8085852 0.8019610 0.8019610\n",
       "[78] 0.7863161 0.7863161 0.7527549 0.7527549 0.4343393 0.4343393 0.0606983"
      ]
     },
     "metadata": {},
     "output_type": "display_data"
    }
   ],
   "source": [
    "\n",
    "# Check the stability of the model\n",
    "# All roots should be < 1\n",
    "roots(var_model_12)"
   ]
  },
  {
   "cell_type": "code",
   "execution_count": null,
   "id": "859263d8",
   "metadata": {
    "vscode": {
     "languageId": "r"
    }
   },
   "outputs": [
    {
     "data": {
      "image/png": "[encoded data removed]",
      "text/plain": [
       "plot without title"
      ]
     },
     "metadata": {
      "image/png": {
       "height": 420,
       "width": 420
      }
     },
     "output_type": "display_data"
    }
   ],
   "source": [
    "irf_increase <- vars::irf(var_model_12,\n",
    "                    impulse = \"delta_cpi\",\n",
    "                    n.ahead = 48,\n",
    "                    boot = TRUE)\n",
    "\n",
    "# Plot the results\n",
    "plot(irf_increase)"
   ]
  }
 ],
 "metadata": {
  "kernelspec": {
   "display_name": "R",
   "language": "R",
   "name": "ir"
  },
  "language_info": {
   "codemirror_mode": "r",
   "file_extension": ".r",
   "mimetype": "text/x-r-source",
   "name": "R",
   "pygments_lexer": "r",
   "version": "4.4.3"
  }
 },
 "nbformat": 4,
 "nbformat_minor": 5
}
